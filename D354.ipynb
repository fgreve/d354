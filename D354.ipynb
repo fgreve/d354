{
 "cells": [
  {
   "cell_type": "markdown",
   "id": "16b465c9-7982-4f88-ade1-62baec8c8c95",
   "metadata": {},
   "source": [
    "# Spot market cleaning Script D354"
   ]
  },
  {
   "cell_type": "code",
   "execution_count": 1,
   "id": "0945492b-5fa5-43d1-8176-d23a53ebaa1c",
   "metadata": {},
   "outputs": [],
   "source": [
    "# RUN EACH DAY AT 1PM\n",
    "FORM = \"D354\"\n",
    "\n",
    "# all_historical_data = True # take all historical submissions and clean it. \n",
    "# all_historical_data = False # take this week submissions and clean it. \n",
    "\n",
    "# create_dictionary = True\n",
    "create_dictionary = False"
   ]
  },
  {
   "cell_type": "markdown",
   "id": "34264a5a-7cdf-47e8-a1bc-fe8ac5d18b2a",
   "metadata": {},
   "source": [
    "# 0. Intro"
   ]
  },
  {
   "cell_type": "markdown",
   "id": "67265e13-6b40-4d9b-bf50-259d60f5a127",
   "metadata": {},
   "source": [
    "## 0.0. Intro"
   ]
  },
  {
   "cell_type": "code",
   "execution_count": 2,
   "id": "d5e34db3-6f37-48e5-9e5b-9c53bf59cdbe",
   "metadata": {},
   "outputs": [],
   "source": [
    "import pyodbc\n",
    "import pandas as pd\n",
    "import numpy as np\n",
    "import os\n",
    "from pathlib import Path\n",
    "from pandas.api.types import is_string_dtype\n",
    "from pandas.api.types import is_numeric_dtype\n",
    "import re\n",
    "from datetime import datetime, timedelta\n",
    "from tqdm import tqdm\n",
    "from python_calamine import CalamineWorkbook # !pip install python-calamine\n",
    "import shutil\n",
    "from rapidfuzz import fuzz, utils # !pip install rapidfuzz\n",
    "import xlwings as xw\n",
    "from jarowinkler import *\n",
    "import json \n",
    "import warnings\n",
    "warnings.filterwarnings('ignore')\n",
    "import time\n",
    "import math"
   ]
  },
  {
   "cell_type": "code",
   "execution_count": 3,
   "id": "3df06147-8fec-43ee-9cb4-066d301c935d",
   "metadata": {},
   "outputs": [],
   "source": [
    "start_time = time.time()"
   ]
  },
  {
   "cell_type": "markdown",
   "id": "f5f4b29e-b509-4a96-8a74-3e443470c16e",
   "metadata": {},
   "source": [
    "### Create folder for today's report"
   ]
  },
  {
   "cell_type": "code",
   "execution_count": 4,
   "id": "e33b2b2a-4212-41de-9db1-584884d0b1ab",
   "metadata": {},
   "outputs": [
    {
     "data": {
      "text/plain": [
       "'P:\\\\ADMIN\\\\PIIRA\\\\CEC_Fernando\\\\D354'"
      ]
     },
     "execution_count": 4,
     "metadata": {},
     "output_type": "execute_result"
    }
   ],
   "source": [
    "path_CEC_Fernando = \"P:\\\\ADMIN\\\\PIIRA\\\\CEC_Fernando\"\n",
    "path_CEC_Fernando_D354 = os.path.join(path_CEC_Fernando, FORM)\n",
    "path_CEC_Fernando_D354"
   ]
  },
  {
   "cell_type": "code",
   "execution_count": 5,
   "id": "afde0d1d-7198-431d-b0d8-22ee5ff83f4e",
   "metadata": {},
   "outputs": [
    {
     "data": {
      "text/plain": [
       "'P:\\\\ADMIN\\\\PIIRA\\\\CEC_Fernando\\\\D354\\\\data\\\\20250117'"
      ]
     },
     "execution_count": 5,
     "metadata": {},
     "output_type": "execute_result"
    }
   ],
   "source": [
    "wd = os.getcwd()\n",
    "data_path = os.path.join(wd, \"data\")\n",
    "\n",
    "# report_date = datetime.today().strftime('%Y%m%d')\n",
    "now = datetime.now()\n",
    "\n",
    "# report_date = str(now.year) + \"{:02d}\".format(now.month) + \"{:02d}\".format(now.day) + \"_\" +\"H\"+ \"{:02d}\".format(now.hour) +\"M\"+ \"{:02d}\".format(now.minute)\n",
    "report_date = str(now.year) + \"{:02d}\".format(now.month) + \"{:02d}\".format(now.day) \n",
    "\n",
    "data_path = os.path.join(wd, \"data\", report_date)\n",
    "Path(data_path).mkdir(parents=True, exist_ok=True)\n",
    "\n",
    "path_CEC_Fernando_D354_data = os.path.join(path_CEC_Fernando_D354, \"data\", report_date)\n",
    "path_CEC_Fernando_D354_data"
   ]
  },
  {
   "cell_type": "code",
   "execution_count": 6,
   "id": "9e877db1-b94b-49b5-8e7f-3f20f934044f",
   "metadata": {},
   "outputs": [],
   "source": [
    "Path(path_CEC_Fernando_D354_data).mkdir(parents=True, exist_ok=True)"
   ]
  },
  {
   "cell_type": "code",
   "execution_count": null,
   "id": "5b575338-144c-43c7-9ea3-4b404d383df9",
   "metadata": {},
   "outputs": [],
   "source": []
  },
  {
   "cell_type": "markdown",
   "id": "e2c0326f-deb6-4bcb-85c0-10551bb3a598",
   "metadata": {},
   "source": [
    "### Get location of Forms in P-Drive"
   ]
  },
  {
   "cell_type": "code",
   "execution_count": 7,
   "id": "f3cbc0b8-d02e-4d04-8f89-65822b918211",
   "metadata": {},
   "outputs": [
    {
     "data": {
      "text/plain": [
       "datetime.datetime(2025, 1, 24, 11, 32, 31, 39815)"
      ]
     },
     "execution_count": 7,
     "metadata": {},
     "output_type": "execute_result"
    }
   ],
   "source": [
    "def get_next_friday():\n",
    "    today = datetime.today()\n",
    "    days_to_friday = 4 - today.weekday()  # 4 represents Friday\n",
    "    if days_to_friday <= 0:\n",
    "        days_to_friday += 7\n",
    "    next_friday = today + timedelta(days=days_to_friday)\n",
    "    return next_friday\n",
    "\n",
    "next_friday = get_next_friday()\n",
    "next_friday"
   ]
  },
  {
   "cell_type": "code",
   "execution_count": 8,
   "id": "37a2a4a0-2719-4de2-8933-ac64dac1301f",
   "metadata": {},
   "outputs": [
    {
     "data": {
      "text/plain": [
       "'P:\\\\ADMIN\\\\PIIRA\\\\CEC_PIIRA Student Assistants\\\\Energy-PIIRA Inbox Email Collections\\\\2025\\\\01_Jan\\\\D354_I Spot Contract\\\\Week_End_250117'"
      ]
     },
     "execution_count": 8,
     "metadata": {},
     "output_type": "execute_result"
    }
   ],
   "source": [
    "# If today is Friday, Then define folder_next_friday as today.\n",
    "# If today is not Friday, Then define as the actual next Friday.\n",
    "\n",
    "# 4 represents Friday (0 is Monday, 1 is Tuesday, etc.)\n",
    "if now.weekday()==4:\n",
    "    folder_next_friday = 'Week_End_' + str(now.year)[2:] + str(now.month).zfill(2) + str(now.day).zfill(2)\n",
    "    folder_year = str(now.year)\n",
    "    folder_month = str(now.month).zfill(2) + \"_\" + now.strftime(\"%B\")[:3]\n",
    "    \n",
    "else:\n",
    "    folder_next_friday = 'Week_End_' + str(next_friday.year)[2:] + str(next_friday.month).zfill(2) + str(next_friday.day).zfill(2)\n",
    "    folder_year = str(next_friday.year)\n",
    "    folder_month = str(next_friday.month).zfill(2) + \"_\" + next_friday.strftime(\"%B\")[:3]\n",
    "\n",
    "# folder_month = '10_Oct'\n",
    "\n",
    "path_spot_contract = \"P:\\\\ADMIN\\\\PIIRA\\\\CEC_PIIRA Student Assistants\\\\Energy-PIIRA Inbox Email Collections\\\\\"+folder_year+\"\\\\\"+folder_month+\"\\\\D354_I Spot Contract\\\\\"\n",
    "\n",
    "path_archive = path_spot_contract + folder_next_friday  \n",
    "path_archive"
   ]
  },
  {
   "cell_type": "code",
   "execution_count": 9,
   "id": "0a06ebbe-0045-4ad6-b9d9-d11ef6108313",
   "metadata": {},
   "outputs": [
    {
     "data": {
      "text/plain": [
       "'P:\\\\ADMIN\\\\PIIRA\\\\CEC_PIIRA Student Assistants\\\\Energy-PIIRA Inbox Email Collections\\\\2025\\\\01_Jan\\\\D354_I Spot Contract\\\\Week_End_250110'"
      ]
     },
     "execution_count": 9,
     "metadata": {},
     "output_type": "execute_result"
    }
   ],
   "source": [
    "# path_archive_lastweek\n",
    "def get_path_archive_lastweek(path_archive):\n",
    "    # '241115'\n",
    "    date_string = \"20\" + path_archive.split('\\\\')[-1].replace('Week_End_', '')\n",
    "    date = datetime.strptime(date_string, '%Y%m%d').date() + timedelta(days=-7)\n",
    "\n",
    "    folder_next_friday = 'Week_End_' + str(date.year)[2:] + str(date.month).zfill(2) + str(date.day).zfill(2)\n",
    "    folder_year = str(date.year)\n",
    "    folder_month = str(date.month).zfill(2) + \"_\" + date.strftime(\"%B\")[:3]\n",
    "    \n",
    "    path_spot_contract = \"P:\\\\ADMIN\\\\PIIRA\\\\CEC_PIIRA Student Assistants\\\\Energy-PIIRA Inbox Email Collections\\\\\"+folder_year+\"\\\\\"+folder_month+\"\\\\D354_I Spot Contract\\\\\"\n",
    "    path_archive = path_spot_contract + folder_next_friday  \n",
    "\n",
    "    return path_archive\n",
    "\n",
    "path_archive_lastweek = get_path_archive_lastweek(path_archive)\n",
    "path_archive_lastweek"
   ]
  },
  {
   "cell_type": "markdown",
   "id": "29480d8c-8e24-449c-86c5-d586934d21c1",
   "metadata": {},
   "source": [
    "## 0.1. Dictionary"
   ]
  },
  {
   "cell_type": "code",
   "execution_count": 10,
   "id": "fa86bf46-10de-44ac-bfba-fca7e976d4d2",
   "metadata": {},
   "outputs": [],
   "source": [
    "if create_dictionary:\n",
    "    # workbook = CalamineWorkbook.from_path(os.path.join(path_CEC_Fernando_D354, \"dictionary.xlsx\"))\n",
    "    workbook = CalamineWorkbook.from_path(\"dictionary.xlsx\")\n",
    "    \n",
    "    vars = workbook.sheet_names\n",
    "    vars.remove(\"KEYS\")\n",
    "    print(vars)\n",
    "    \n",
    "    df_Dictionary = pd.DataFrame()\n",
    "    dict_name = {}\n",
    "    for var in vars:\n",
    "        # print(var)\n",
    "        form_list = workbook.get_sheet_by_name(var).to_python()\n",
    "        \n",
    "        if len(form_list)>0:\n",
    "            df_ = pd.DataFrame(data=form_list[1:], columns=form_list[0])\n",
    "            dict_name[var] = form_list[0]\n",
    "            for col in df_.columns:\n",
    "                df_Dictionary[col] = df_[col].astype(str)\n",
    "                \n",
    "        # if len(form_list)==0:\n",
    "        #     vars.remove(var)\n",
    "    "
   ]
  },
  {
   "cell_type": "code",
   "execution_count": 11,
   "id": "bbe61e81-f329-4064-a499-5ded69fcf22b",
   "metadata": {},
   "outputs": [],
   "source": [
    "if create_dictionary:\n",
    "    dict_Directory = {}\n",
    "    for key, value in dict_name.items():\n",
    "        # print(key + \" -- \" + str(value))\n",
    "        dict_ = {}\n",
    "        for x in df_Dictionary[value[0]].unique():\n",
    "            # print(x)\n",
    "            list_values = list(df_Dictionary[df_Dictionary[value[0]]==x][value[1]].unique())\n",
    "            list_values = [x.replace('n/a', 'nan') for x in list_values]\n",
    "            dict_[x] = list_values\n",
    "        # del dict_['']    \n",
    "        dict_Directory[key] = dict_\n",
    "    \n",
    "    for key, value in dict_Directory.items():\n",
    "        # print(key)\n",
    "        # print(dict_Directory[key].keys())\n",
    "        if 'nan' in list(dict_Directory[key].keys()): del dict_Directory[key]['nan']\n",
    "    \n",
    "    with open(\"dict_Directory.json\", \"w\") as outfile: \n",
    "        json.dump(dict_Directory, outfile)"
   ]
  },
  {
   "cell_type": "code",
   "execution_count": 12,
   "id": "718f50ce-846d-4536-a6ea-6e79c400cfd4",
   "metadata": {},
   "outputs": [],
   "source": [
    "if not create_dictionary: \n",
    "\n",
    "    with open(\"dict_Directory.json\",\"r\") as file:\n",
    "        dict_Directory = json.load(file)\n",
    "    \n",
    "    for k, v in dict_Directory.items():\n",
    "        if 'NaN' in list(dict_Directory[k].keys()): del dict_Directory[k]['NaN']"
   ]
  },
  {
   "cell_type": "code",
   "execution_count": 13,
   "id": "942e3665-76c5-4086-801c-39b7479a8785",
   "metadata": {},
   "outputs": [
    {
     "data": {
      "text/plain": [
       "['Company',\n",
       " 'Position Seq. Num.',\n",
       " 'CPID',\n",
       " 'Counterparty Contact',\n",
       " 'TL',\n",
       " 'Sell_Buy',\n",
       " 'Product Type',\n",
       " 'Product',\n",
       " 'Delivery Method',\n",
       " 'Delivery Location',\n",
       " 'Price Basis Method',\n",
       " 'Reference Product']"
      ]
     },
     "execution_count": 13,
     "metadata": {},
     "output_type": "execute_result"
    }
   ],
   "source": [
    "list(dict_Directory.keys())"
   ]
  },
  {
   "cell_type": "markdown",
   "id": "d94b7690-3d23-4c2b-adcc-f9434b26ab16",
   "metadata": {},
   "source": [
    "## 0.2. Submitted"
   ]
  },
  {
   "cell_type": "code",
   "execution_count": 14,
   "id": "ad2225cb-ccfa-4d12-b184-7370cef98828",
   "metadata": {},
   "outputs": [],
   "source": [
    "list_order_col = [\n",
    "'Report Period',\n",
    "'Company Name',\n",
    "'Company ID Number',\n",
    "'Date Filed',\n",
    "'Date of Contract',\n",
    "'Contract ID Number',\n",
    "'Position Sequence Number',\n",
    "'CPID',\n",
    "'Trading Counterparty Entity',\n",
    "'Trading Counterparty Entity Contact Name',\n",
    "'Spot Market Trading Location',\n",
    "'Seller or Buyer',\n",
    "'Product Type',\n",
    "'Product Name',\n",
    "'Contract Volume',\n",
    "'Contract Delivery Month',\n",
    "'Delivery Method',\n",
    "'Marine Vessel Name',\n",
    "'Marine Vessel IMO Number',\n",
    "'Delivery Location',\n",
    "'Pipeline Delivery Sub-cycle',\n",
    "'Delivery Start Date',\n",
    "'Delivery End Date',\n",
    "'Price Basis Method',\n",
    "'Reference Product',\n",
    "'Reference Month',\n",
    "'Price Differential vs. Reference',\n",
    "\"Pricing Event Type\",\n",
    "\"Pricing Event Date\",\n",
    "'Pricing Start Date',\n",
    "'Pricing End Date',\n",
    "'NYMEX Price',\n",
    "'Cash Price',\n",
    "'Broker Used Entity',\n",
    "'Broker Used Entity Contact Name',\n",
    "'Reported to OPIS',\n",
    "\"File form\",\n",
    "]"
   ]
  },
  {
   "cell_type": "code",
   "execution_count": 15,
   "id": "893ac105-9f41-4ec1-99bf-8d5f7e31e680",
   "metadata": {},
   "outputs": [],
   "source": [
    "def similar_colname(string):\n",
    "\n",
    "    def capitalize_words(text):\n",
    "        return \" \".join(word.capitalize() for word in text.split())\n",
    "    \n",
    "    dict_ = {}\n",
    "    for col in list_order_col: dict_[col] = round(jaro_similarity(capitalize_words(string), col),2)*100\n",
    "    \n",
    "    if max(dict_.values())>=90: \n",
    "        new_string = max(dict_, key= lambda x: dict_[x])\n",
    "        return new_string\n",
    "    else: return string"
   ]
  },
  {
   "cell_type": "code",
   "execution_count": 16,
   "id": "e18e95e1-abe4-4bee-88fe-598b6351b4e9",
   "metadata": {},
   "outputs": [],
   "source": [
    "def get_trading_form(filepath):\n",
    "    workbook = CalamineWorkbook.from_path(filepath)\n",
    "\n",
    "\n",
    "    form_list = workbook.get_sheet_by_name(workbook.sheet_names[0]).to_python()\n",
    "\n",
    "    Report_Period = form_list[4][1]\n",
    "    Company_Name = form_list[7][1]\n",
    "    Company_ID_Number = form_list[8][1]\n",
    "    Company_Address = form_list[9][1]\n",
    "    Company_Email = form_list[10][1]\n",
    "    Company_Phone_Number = form_list[11][1]\n",
    "    Contact_Name = form_list[12][1]\n",
    "    Contact_Phone_Number = form_list[13][1]\n",
    "    Contact_Email = form_list[14][1]\n",
    "    Date_Filed = form_list[15][1]\n",
    "\n",
    "    form_list = workbook.get_sheet_by_name(workbook.sheet_names[1]).to_python()\n",
    "    \n",
    "    df = pd.DataFrame(data=form_list[1:], columns=form_list[0])\n",
    "    if len([col for col in df.columns if col=='']) >= 2: df = pd.DataFrame(data=form_list[2:], columns=form_list[1])\n",
    "\n",
    "\n",
    "    if 'Was This Transaction Reported to OPIS by: You, Counterparty, your Broker, Other Party (specify) or None' in df.columns:\n",
    "        df.columns = df.columns.map(lambda col: 'Was This Transaction Reported to OPIS' if col.lower().find('Was This Transaction Reported to OPIS'.lower())>-1 else col)\n",
    "    \n",
    "    df.columns = [string.split(\"(\")[0] for string in df.columns]\n",
    "    df.columns = [string.split('\\r')[0] for string in df.columns]\n",
    "    df.columns = [string.strip() for string in df.columns]\n",
    "\n",
    "    df = df[np.logical_or(df['Trading Counterparty Entity']!='', df['Contract ID Number']!='')]\n",
    "\n",
    "    df.columns = [similar_colname(string) for string in df.columns]\n",
    "\n",
    "    df[\"Report Period\"] = Report_Period\n",
    "    df[\"Company Name\"] = Company_Name\n",
    "    df[\"Company ID Number\"] = Company_ID_Number\n",
    "    # df[\"Company Address\"] = Company_Address\n",
    "    # df[\"Company Email\"] = Company_Email\n",
    "    # df[\"Company Phone Number\"] = Company_Phone_Number\n",
    "    # df[\"Contact Name\"] = Contact_Name\n",
    "    # df[\"Contact Phone_Number\"] = Contact_Phone_Number\n",
    "    # df[\"Contact Email\"] = Contact_Email\n",
    "    df[\"Date Filed\"] = Date_Filed\n",
    "    df[\"File form\"] = filepath \n",
    "\n",
    "    if 'Was This Transaction Reported to OPIS' in df.columns:\n",
    "        df.rename(columns={'Was This Transaction Reported to OPIS': 'Reported to OPIS'}, inplace=True)\n",
    "    if 'Trading Counterparty Entity Name' in df.columns:\n",
    "        df.rename(columns={'Trading Counterparty Entity Name': 'Trading Counterparty Entity'}, inplace=True)\n",
    "    \n",
    "    df = df.reset_index(drop=True)\n",
    "\n",
    "    if len(df.columns) < len(list_order_col):\n",
    "        for col in list(set(list_order_col) - set(df.columns)):\n",
    "            df[col] = None\n",
    "            \n",
    "    df = df[list_order_col]\n",
    "\n",
    "    return df"
   ]
  },
  {
   "cell_type": "code",
   "execution_count": 17,
   "id": "2d8744f2-77de-4f08-b9f1-cea6172b9e36",
   "metadata": {},
   "outputs": [],
   "source": [
    "def get_files_with_timestamps(directory):\n",
    "    files = {}\n",
    "    for filename in os.listdir(directory):\n",
    "        filepath = os.path.join(directory, filename)\n",
    "        if os.path.isfile(filepath):\n",
    "            stat = os.stat(filepath)\n",
    "            files[filename] = {}\n",
    "            files[filename]['date'] = datetime.fromtimestamp(stat.st_mtime)\n",
    "            files[filename]['path'] = directory\n",
    "    return files"
   ]
  },
  {
   "cell_type": "code",
   "execution_count": 18,
   "id": "77bbcca5-a8ad-4320-8005-b4a06f03ae89",
   "metadata": {},
   "outputs": [
    {
     "data": {
      "text/plain": [
       "'P:\\\\ADMIN\\\\PIIRA\\\\CEC_PIIRA Student Assistants\\\\Energy-PIIRA Inbox Email Collections\\\\2025\\\\01_Jan\\\\D354_I Spot Contract\\\\Week_End_250117\\\\Trade'"
      ]
     },
     "execution_count": 18,
     "metadata": {},
     "output_type": "execute_result"
    }
   ],
   "source": [
    "# if all_historical_data: path_piira = 'P:\\\\FTD\\\\FOSSIL FUELS\\\\PIIRA Reporting\\\\Archive\\\\2024\\\\D354_I Spot Contract\\\\Final Reports'\n",
    "path_piira = os.path.join(path_archive, \"Trade\")\n",
    "path_piira"
   ]
  },
  {
   "cell_type": "code",
   "execution_count": 19,
   "id": "b9c26140-d3a3-4b19-aa8d-80fc865108a0",
   "metadata": {},
   "outputs": [
    {
     "data": {
      "text/plain": [
       "'P:\\\\ADMIN\\\\PIIRA\\\\CEC_PIIRA Student Assistants\\\\Energy-PIIRA Inbox Email Collections\\\\2025\\\\01_Jan\\\\D354_I Spot Contract\\\\Week_End_250110\\\\Trade'"
      ]
     },
     "execution_count": 19,
     "metadata": {},
     "output_type": "execute_result"
    }
   ],
   "source": [
    "path_piira_lastweek = os.path.join(path_archive_lastweek, \"Trade\")\n",
    "path_piira_lastweek"
   ]
  },
  {
   "cell_type": "code",
   "execution_count": 20,
   "id": "a7422b47-a07f-4669-ab1b-871a97921162",
   "metadata": {},
   "outputs": [
    {
     "data": {
      "text/plain": [
       "122"
      ]
     },
     "execution_count": 20,
     "metadata": {},
     "output_type": "execute_result"
    }
   ],
   "source": [
    "files_with_timestamps = get_files_with_timestamps(path_piira) \n",
    "if os.path.exists(path_piira_lastweek):\n",
    "    files_with_timestamps_lastweek = get_files_with_timestamps(path_piira_lastweek) \n",
    "    files_with_timestamps.update(files_with_timestamps_lastweek)\n",
    "len(files_with_timestamps.keys())"
   ]
  },
  {
   "cell_type": "code",
   "execution_count": 21,
   "id": "6806992e-ff4d-40d1-b12d-c355267302c7",
   "metadata": {},
   "outputs": [],
   "source": [
    "list_key = list(files_with_timestamps.keys())\n",
    "for key in list_key:\n",
    "    if key.find('~$') > -1:\n",
    "        del files_with_timestamps[key]"
   ]
  },
  {
   "cell_type": "code",
   "execution_count": 22,
   "id": "1ef92628-d238-44d7-a869-3620d41abb3e",
   "metadata": {
    "scrolled": true
   },
   "outputs": [
    {
     "data": {
      "text/plain": [
       "{'D354_I_240723_HFSinclair_Trade_ID1013332.xlsx': datetime.datetime(2025, 1, 17, 8, 3, 46, 250496),\n",
       " 'D354_I_250101_Boyett_Trade_ID1013297.xlsx': datetime.datetime(2025, 1, 15, 15, 40, 50, 311652),\n",
       " 'D354_I_250106_Mieco_Trade_ID1013272.xlsx': datetime.datetime(2025, 1, 15, 7, 24, 46, 543492),\n",
       " 'D354_I_250106_Sage_Trade_ID1013302.xlsx': datetime.datetime(2025, 1, 16, 6, 53, 14, 520736),\n",
       " 'D354_I_250107_Sage_Trade_ID1013302.xlsx': datetime.datetime(2025, 1, 16, 6, 53, 18, 443018),\n",
       " 'D354_I_250108_Sage_Trade_ID1013302.xlsx': datetime.datetime(2025, 1, 16, 6, 53, 23, 916399),\n",
       " 'D354_I_250109_Sage_Trade_ID1013302.xlsx': datetime.datetime(2025, 1, 16, 6, 53, 29, 990060),\n",
       " 'D354_I_250109_TACenergy_Trade_ID1013160.xlsx': datetime.datetime(2025, 1, 13, 10, 18, 43, 238060),\n",
       " 'D354_I_250110_0916161800_BP_Trade_ID1013142.xlsx': datetime.datetime(2025, 1, 13, 7, 3, 50, 472117),\n",
       " 'D354_I_250110_200003900_PBF_Trade_ID1013145.xlsx': datetime.datetime(2025, 1, 13, 7, 3, 36, 524713),\n",
       " 'D354_I_250110_255000101_P66_Trade_ID1013146.xlsx': datetime.datetime(2025, 1, 13, 7, 14, 49, 415232),\n",
       " 'D354_I_250110_399541646_Quik_Trade_ID1013149.xlsx': datetime.datetime(2025, 1, 13, 8, 25, 18, 347957),\n",
       " 'D354_I_250110_Chevron_Trade_ID1013148.xlsx': datetime.datetime(2025, 1, 13, 7, 52, 19, 549762),\n",
       " 'D354_I_250110_IdemitsuApollo_Trade_ID1013140.xlsx': datetime.datetime(2025, 1, 10, 15, 27, 39, 338583),\n",
       " 'D354_I_250110_Marathon_Trade_ID1013143.xlsx': datetime.datetime(2025, 1, 13, 7, 3, 38, 524189),\n",
       " 'D354_I_250110_Sage_Trade_ID1013302.xlsx': datetime.datetime(2025, 1, 16, 6, 53, 36, 474204),\n",
       " 'D354_I_250110_SBR_Trade_ID1013145.xlsx': datetime.datetime(2025, 1, 13, 7, 3, 41, 3599),\n",
       " 'D354_I_250110_Tartan_Trade_ID1013151.xlsx': datetime.datetime(2025, 1, 13, 8, 25, 47, 459784),\n",
       " 'D354_I_250110_Valero_Trade_ID1013150.xlsx': datetime.datetime(2025, 1, 13, 9, 4, 17, 425458),\n",
       " 'D354_I_250113_0916161800_BP_Trade_ID1013236.xlsx': datetime.datetime(2025, 1, 14, 8, 15, 58, 214135),\n",
       " 'D354_I_250113_100100_Valero_Trade_ID1013246.xlsx': datetime.datetime(2025, 1, 14, 9, 37, 22, 985703),\n",
       " 'D354_I_250113_200003900_PBF_Trade_ID1013231.xlsx': datetime.datetime(2025, 1, 14, 6, 58, 33, 335428),\n",
       " 'D354_I_250113_255000101_P66_Trade_ID1013232.xlsx': datetime.datetime(2025, 1, 14, 7, 26, 19, 37332),\n",
       " 'D354_I_250113_399541646_Quik_Trade_ID1013234.xlsx': datetime.datetime(2025, 1, 14, 8, 16, 44, 441766),\n",
       " 'D354_I_250113_Chevron_Trade_ID1013239.xlsx': datetime.datetime(2025, 1, 14, 9, 21, 54, 314812),\n",
       " 'D354_I_250113_Hartland_Trade_ID1013225.xlsx': datetime.datetime(2025, 1, 13, 14, 42, 43, 561605),\n",
       " 'D354_I_250113_Marathon_Trade_ID1013233.xlsx': datetime.datetime(2025, 1, 14, 7, 26, 13, 837578),\n",
       " 'D354_I_250113_MIECO_Trade_ID1013300.xlsx': datetime.datetime(2025, 1, 16, 6, 53, 29, 864561),\n",
       " 'D354_I_250113_Sage_Trade_ID1013302.xlsx': datetime.datetime(2025, 1, 16, 6, 53, 45, 442551),\n",
       " 'D354_I_250113_SBR_Trade_ID1013231.xlsx': datetime.datetime(2025, 1, 14, 6, 58, 37, 819197),\n",
       " 'D354_I_250113_Tartan_Trade_ID1013256.xlsx': datetime.datetime(2025, 1, 14, 14, 36, 18, 447080),\n",
       " 'D354_I_250113_Vitol_Trade_ID1013245.xlsx': datetime.datetime(2025, 1, 14, 9, 20, 52, 212099),\n",
       " 'D354_I_250114_0916161800_BP_Trade_ID1013275.xlsx': datetime.datetime(2025, 1, 15, 7, 43, 49, 323916),\n",
       " 'D354_I_250114_100100_Valero_Trade_ID1013279.xlsx': datetime.datetime(2025, 1, 15, 8, 37, 8, 233484),\n",
       " 'D354_I_250114_200003900_PBF_Trade_ID1013271.xlsx': datetime.datetime(2025, 1, 15, 7, 10, 51, 340481),\n",
       " 'D354_I_250114_255000101_P66_Trade_ID1013276.xlsx': datetime.datetime(2025, 1, 15, 7, 43, 34, 511771),\n",
       " 'D354_I_250114_399541646_Quik_Trade_ID1013274.xlsx': datetime.datetime(2025, 1, 15, 7, 43, 54, 630921),\n",
       " 'D354_I_250114_Chevron_Trade_ID1013285.xlsx': datetime.datetime(2025, 1, 15, 9, 17, 23, 961819),\n",
       " 'D354_I_250114_Idemitsu_Trade_ID1013292.xlsx': datetime.datetime(2025, 1, 15, 13, 58, 20, 651455),\n",
       " 'D354_I_250114_Sage_Trade_ID1013302.xlsx': datetime.datetime(2025, 1, 16, 6, 53, 55, 552154),\n",
       " 'D354_I_250114_Tartan_Trade_ID1013283.xlsx': datetime.datetime(2025, 1, 15, 8, 41, 57, 195760),\n",
       " 'D354_I_250114_Vitol_Trade_ID1013286.xlsx': datetime.datetime(2025, 1, 15, 9, 17, 27, 524702),\n",
       " 'D354_I_250115_058050800_Shell_Trade_ID1013289.xlsx': datetime.datetime(2025, 1, 15, 10, 25, 56, 274066),\n",
       " 'D354_I_250115_200003900_PBF_Trade_ID1013303.xlsx': datetime.datetime(2025, 1, 16, 6, 53, 14, 801964),\n",
       " 'D354_I_250115_255000101_P66_Trade_ID1013304.xlsx': datetime.datetime(2025, 1, 16, 6, 53, 1, 98690),\n",
       " 'D354_I_250115_98181445_BB_Trade_ID1013298.xlsx': datetime.datetime(2025, 1, 15, 15, 53, 7, 596035),\n",
       " 'D354_I_250115_BP_Trade_ID1013306.xlsx': datetime.datetime(2025, 1, 16, 9, 9, 27, 420996),\n",
       " 'D354_I_250115_Chevron_Trade_ID1013308.xlsx': datetime.datetime(2025, 1, 16, 9, 10, 4, 617967),\n",
       " 'D354_I_250115_Marathon_Trade_ID1013305.xlsx': datetime.datetime(2025, 1, 16, 9, 9, 15, 336627),\n",
       " 'D354_I_250115_Murex_Trade_ID1013310.xlsx': datetime.datetime(2025, 1, 16, 9, 10, 26, 434042),\n",
       " 'D354_I_250115_QuikTrip_Trade_ID1013307.xlsx': datetime.datetime(2025, 1, 16, 9, 9, 46, 706150),\n",
       " 'D354_I_250115_TACenergy_Trade_ID1013312.xlsx': datetime.datetime(2025, 1, 16, 9, 10, 45, 909234),\n",
       " 'D354_I_250115_Tartan_Trade_ID1013321.xlsx': datetime.datetime(2025, 1, 16, 13, 30, 32, 32463),\n",
       " 'D354_I_250115_Valero_Trade_ID1013309.xlsx': datetime.datetime(2025, 1, 16, 9, 43, 52, 739427),\n",
       " 'D354_I_250116_0916161800_BP_Trade_ID1013327.xlsx': datetime.datetime(2025, 1, 17, 8, 2, 14, 813827),\n",
       " 'D354_I_250116_200003900_PBF_Trade_ID1013328.xlsx': datetime.datetime(2025, 1, 17, 8, 2, 24, 15972),\n",
       " 'D354_I_250116_255000101_P66_Trade_ID1013330.xlsx': datetime.datetime(2025, 1, 17, 8, 2, 59, 747262),\n",
       " 'D354_I_250116_Chevron_Trade_ID1013344.xlsx': datetime.datetime(2025, 1, 17, 8, 38, 46, 311356),\n",
       " 'D354_I_250116_Marathon_Trade_ID1013342.xlsx': datetime.datetime(2025, 1, 17, 8, 9, 40, 936670),\n",
       " 'D354_I_250116_MUREX_Trade_ID1013335.xlsx': datetime.datetime(2025, 1, 17, 8, 4, 6, 634923),\n",
       " 'D354_I_250116_NGL_Trade_ID1013341.xlsx': datetime.datetime(2025, 1, 17, 8, 6, 57, 217914),\n",
       " 'D354_I_250116_Shell_Trade_ID1013313.xlsx': datetime.datetime(2025, 1, 16, 9, 11, 10, 205736),\n",
       " 'D354_I_250116_Tartan_Trade_ID1013329.xlsx': datetime.datetime(2025, 1, 17, 8, 2, 41, 969428),\n",
       " 'D354_I_250117_100100_Valero_Trade_ID1013349.xlsx': datetime.datetime(2025, 1, 17, 10, 1, 10, 637519),\n",
       " 'D354_I_250102_NorthAmerican_Trade_ID1013008.xlsx': datetime.datetime(2025, 1, 7, 6, 44, 29, 616),\n",
       " 'D354_I_250103_0916161800_BP_Trade_ID1012971.xlsx': datetime.datetime(2025, 1, 6, 6, 57, 22, 771710),\n",
       " 'D354_I_250103_100100_Valero_Trade_ID1012984.xlsx': datetime.datetime(2025, 1, 6, 10, 21, 25, 436996),\n",
       " 'D354_I_250103_200003900_PBF_Trade_ID1012989.xlsx': datetime.datetime(2025, 1, 6, 11, 49, 24, 951905),\n",
       " 'D354_I_250103_255000101_P66_Trade_ID1012973.xlsx': datetime.datetime(2025, 1, 6, 7, 20, 48, 587562),\n",
       " 'D354_I_250103_98181445_BB_Trade_ID1012982.xlsx': datetime.datetime(2025, 1, 6, 9, 20, 1, 412105),\n",
       " 'D354_I_250103_Murex_Trade_ID1012974.xlsx': datetime.datetime(2025, 1, 6, 7, 23, 48, 227959),\n",
       " 'D354_I_250103_Sage_Trade_ID1013082.xlsx': datetime.datetime(2025, 1, 8, 12, 58, 16, 835432),\n",
       " 'D354_I_250103_Tartan_Trade_ID1012972.xlsx': datetime.datetime(2025, 1, 6, 7, 20, 16, 415487),\n",
       " 'D354_I_250106_058050800_Shell_Trade_ID1012980.xlsx': datetime.datetime(2025, 1, 6, 9, 0, 41, 800547),\n",
       " 'D354_I_250106_255000101_P66_Trade_ID1013011.xlsx': datetime.datetime(2025, 1, 7, 6, 57, 40, 223373),\n",
       " 'D354_I_250106_BP_Trade_ID1013015.xlsx': datetime.datetime(2025, 1, 7, 9, 5, 17, 266329),\n",
       " 'D354_I_250106_Chevron_Trade_ID1013021.xlsx': datetime.datetime(2025, 1, 7, 9, 6, 57, 477515),\n",
       " 'D354_I_250106_Idemitsu_Trade_ID1012995.xlsx': datetime.datetime(2025, 1, 6, 14, 22, 8, 355684),\n",
       " 'D354_I_250106_Marathon_Trade_ID1013045.xlsx': datetime.datetime(2025, 1, 7, 13, 44, 22, 789234),\n",
       " 'D354_I_250106_MIECO_Trade_ID1013038 (2).xlsx': datetime.datetime(2025, 1, 7, 11, 38, 34, 261823),\n",
       " 'D354_I_250106_MIECO_Trade_ID1013038.xlsx': datetime.datetime(2025, 1, 7, 11, 38, 23, 364071),\n",
       " 'D354_I_250106_Murex_Trade_ID1013019.xlsx': datetime.datetime(2025, 1, 7, 9, 6, 33, 78871),\n",
       " 'D354_I_250106_PBFenergy_Trade_ID1013016.xlsx': datetime.datetime(2025, 1, 7, 9, 5, 42, 555764),\n",
       " 'D354_I_250106_PetroDiamond_Trade_ID1013057.xlsx': datetime.datetime(2025, 1, 7, 16, 28, 30, 779801),\n",
       " 'D354_I_250106_Sage_Trade_ID1013082.xlsx': datetime.datetime(2025, 1, 8, 12, 58, 18, 259629),\n",
       " 'D354_I_250106_Tartan_Trade_ID1013020.xlsx': datetime.datetime(2025, 1, 7, 9, 6, 43, 477724),\n",
       " 'D354_I_250107200003900_PBF_Trade_ID1013061.xlsx': datetime.datetime(2025, 1, 8, 7, 13, 6, 193167),\n",
       " 'D354_I_250107_058050800_Shell_Trade_ID1013040.xlsx': datetime.datetime(2025, 1, 7, 12, 20, 26, 776236),\n",
       " 'D354_I_250107_0916161800_BP_Trade_ID1013060.xlsx': datetime.datetime(2025, 1, 8, 6, 52, 6, 949162),\n",
       " 'D354_I_250107_100100_Valero_Trade_ID1013062.xlsx': datetime.datetime(2025, 1, 8, 8, 39, 48, 60648),\n",
       " 'D354_I_250107_255000101_P66_Trade_ID1013064.xlsx': datetime.datetime(2025, 1, 8, 7, 52, 26, 979163),\n",
       " 'D354_I_250107_Chevron_Trade_ID1013067.xlsx': datetime.datetime(2025, 1, 8, 8, 35, 53, 638609),\n",
       " 'D354_I_250107_Idemitsu_Trade_ID1013085.xlsx': datetime.datetime(2025, 1, 8, 14, 52, 49, 381172),\n",
       " 'D354_I_250107_Marathon_Trade_ID1013059.xlsx': datetime.datetime(2025, 1, 8, 6, 52, 7, 521268),\n",
       " 'D354_I_250107_MUREX_Trade_ID1013063.xlsx': datetime.datetime(2025, 1, 8, 7, 52, 16, 279980),\n",
       " 'D354_I_250107_Sage_Trade_ID1013082.xlsx': datetime.datetime(2025, 1, 8, 12, 58, 19, 855896),\n",
       " 'D354_I_250107_Valero_Trade_ID1013017.xlsx': datetime.datetime(2025, 1, 7, 9, 18, 54, 151684),\n",
       " 'D354_I_250107_Vitol_Trade_ID1013072.xlsx': datetime.datetime(2025, 1, 8, 8, 58, 59, 39720),\n",
       " 'D354_I_250108_0916161800_BP_Trade_ID1013093.xlsx': datetime.datetime(2025, 1, 9, 7, 20, 48, 402537),\n",
       " 'D354_I_250108_100100_Valero_Trade_ID1013107.xlsx': datetime.datetime(2025, 1, 10, 8, 44, 59, 222602),\n",
       " 'D354_I_250108_200003900_PBF_Trade_ID1013094.xlsx': datetime.datetime(2025, 1, 9, 7, 20, 42, 781131),\n",
       " 'D354_I_250108_255000101_P66_Trade_ID1013095.xlsx': datetime.datetime(2025, 1, 9, 7, 20, 32, 371495),\n",
       " 'D354_I_250108_399541646_Quik_Trade_ID1013096.xlsx': datetime.datetime(2025, 1, 9, 8, 4, 51, 561412),\n",
       " 'D354_I_250108_98181445_BB_Trade_ID1013092.xlsx': datetime.datetime(2025, 1, 9, 6, 40, 12, 657171),\n",
       " 'D354_I_250108_Chevron_Trade_ID1013102.xlsx': datetime.datetime(2025, 1, 9, 9, 1, 50, 746843),\n",
       " 'D354_I_250108_Marathon_Trade_ID1013090.xlsx': datetime.datetime(2025, 1, 9, 6, 40, 27, 334707),\n",
       " 'D354_I_250108_PetroDiamond_Trade_ID1013110.xlsx': datetime.datetime(2025, 1, 9, 16, 15, 18, 418514),\n",
       " 'D354_I_250108_Shell_Trade_ID1013083.xlsx': datetime.datetime(2025, 1, 8, 14, 25, 50, 363675),\n",
       " 'D354_I_250108_Tartan_Trade_ID1013098.xlsx': datetime.datetime(2025, 1, 9, 8, 4, 33, 264224),\n",
       " 'D354_I_250109_058050800_Shell_Trade_ID1013101.xlsx': datetime.datetime(2025, 1, 9, 9, 1, 40, 497680),\n",
       " 'D354_I_250109_0916161800_BP_Trade_ID1013115.xlsx': datetime.datetime(2025, 1, 10, 8, 3, 18, 299002),\n",
       " 'D354_I_250109_255000101_P66_Trade_ID1013116.xlsx': datetime.datetime(2025, 1, 10, 8, 3, 18, 299002),\n",
       " 'D354_I_250109_98181445_BB_Trade_ID1013120.xlsx': datetime.datetime(2025, 1, 10, 8, 44, 37, 975516),\n",
       " 'D354_I_250109_Chevron_Trade_ID1013119.xlsx': datetime.datetime(2025, 1, 10, 8, 15, 56, 554515),\n",
       " 'D354_I_250109_Hartland_Trade_ID1013125.xlsx': datetime.datetime(2025, 1, 10, 9, 46, 27, 879838),\n",
       " 'D354_I_250109_Marathon_Trade_ID1013113.xlsx': datetime.datetime(2025, 1, 10, 8, 2, 47, 680111),\n",
       " 'D354_I_250109_NorthAmerican_Trade_ID1013112.xlsx': datetime.datetime(2025, 1, 10, 8, 2, 42, 805284),\n",
       " 'D354_I_250109_QuikTrip_Trade_ID1013123.xlsx': datetime.datetime(2025, 1, 10, 9, 1, 5, 297169),\n",
       " 'D354_I_250109_Tartan_Trade_ID1013127.xlsx': datetime.datetime(2025, 1, 10, 10, 46, 53, 831936),\n",
       " 'D354_I_250109_Valero_Trade_ID1013124.xlsx': datetime.datetime(2025, 1, 10, 9, 6, 14, 519576),\n",
       " 'D354_I_250109_Vitol_Trade_ID1013131.xlsx': datetime.datetime(2025, 1, 10, 13, 2, 26, 264894),\n",
       " 'D354_I_250110_058050800_Shell_Trade_ID1013117.xlsx': datetime.datetime(2025, 1, 10, 8, 3, 26, 586267)}"
      ]
     },
     "execution_count": 22,
     "metadata": {},
     "output_type": "execute_result"
    }
   ],
   "source": [
    "dict_files_timestamps = {}\n",
    "for key in files_with_timestamps.keys():\n",
    "    dict_files_timestamps[key] = files_with_timestamps[key]['date']\n",
    "dict_files_timestamps"
   ]
  },
  {
   "cell_type": "code",
   "execution_count": 23,
   "id": "3ec0e70b-1818-42aa-a997-916dcc68bd06",
   "metadata": {},
   "outputs": [
    {
     "data": {
      "text/plain": [
       "122"
      ]
     },
     "execution_count": 23,
     "metadata": {},
     "output_type": "execute_result"
    }
   ],
   "source": [
    "sorted_items = sorted(dict_files_timestamps.items(), key=lambda item: item[1])\n",
    "forms = [item[0] for item in sorted_items]\n",
    "len(forms)"
   ]
  },
  {
   "cell_type": "code",
   "execution_count": 24,
   "id": "2da00656-3a8d-42be-a922-62baa8f70e59",
   "metadata": {},
   "outputs": [],
   "source": [
    "# forms = [f for f in os.listdir(path_piira) if f.find(\".xls\")>0]\n",
    "# forms = [form for form in forms if form.find(\"Trade\")>-1]\n",
    "# forms = [form for form in forms if form.find(\"SageRefined\")==-1]\n",
    "# forms = [form for form in forms if form.find(\"Mieco\")==-1]\n",
    "# len(forms) MIECO"
   ]
  },
  {
   "cell_type": "code",
   "execution_count": 25,
   "id": "9df1c751-2a03-48af-86b5-6b053bbe7288",
   "metadata": {},
   "outputs": [],
   "source": [
    "def get_forms_errors(forms):\n",
    "    forms_errors = [form for form in forms if form.find(\"Trade\")==-1]\n",
    "    forms_errors = forms_errors + [form for form in forms if form.find(\"SageRefined\")>-1]\n",
    "    forms_errors = forms_errors + [form for form in forms if form.find(\"Mieco\")>-1]   \n",
    "    forms_errors = forms_errors + [form for form in forms if form.find(\"MIECO\")>-1]\n",
    "\n",
    "    forms_forms = [form for form in forms if form.find(\"Trade\")>-1]\n",
    "    forms_forms = [form for form in forms_forms if form.find(\"SageRefined\")==-1]\n",
    "    forms_forms = [form for form in forms_forms if form.find(\"Mieco\")==-1]   \n",
    "    forms_forms = [form for form in forms_forms if form.find(\"MIECO\")==-1] \n",
    "\n",
    "    return forms_forms, forms_errors"
   ]
  },
  {
   "cell_type": "code",
   "execution_count": 26,
   "id": "ddbf9667-9a05-4c5b-b2c4-df2c8cf7177a",
   "metadata": {},
   "outputs": [],
   "source": [
    "forms, errors = get_forms_errors(forms)"
   ]
  },
  {
   "cell_type": "code",
   "execution_count": 27,
   "id": "47b3ad1b-c728-46b2-903a-e73a69417924",
   "metadata": {
    "scrolled": true
   },
   "outputs": [
    {
     "name": "stdout",
     "output_type": "stream",
     "text": [
      "D354_I_250103_Tartan_Trade_ID1012972.xlsx\n",
      "D354_I_250103_255000101_P66_Trade_ID1012973.xlsx\n",
      "D354_I_250103_Murex_Trade_ID1012974.xlsx\n",
      "D354_I_250106_058050800_Shell_Trade_ID1012980.xlsx\n",
      "D354_I_250103_98181445_BB_Trade_ID1012982.xlsx\n",
      "D354_I_250103_100100_Valero_Trade_ID1012984.xlsx\n",
      "D354_I_250103_200003900_PBF_Trade_ID1012989.xlsx\n",
      "D354_I_250106_Idemitsu_Trade_ID1012995.xlsx\n",
      "D354_I_250102_NorthAmerican_Trade_ID1013008.xlsx\n",
      "D354_I_250106_255000101_P66_Trade_ID1013011.xlsx\n",
      "D354_I_250106_BP_Trade_ID1013015.xlsx\n",
      "D354_I_250106_PBFenergy_Trade_ID1013016.xlsx\n",
      "D354_I_250106_Murex_Trade_ID1013019.xlsx\n",
      "D354_I_250106_Tartan_Trade_ID1013020.xlsx\n",
      "D354_I_250106_Chevron_Trade_ID1013021.xlsx\n",
      "D354_I_250107_Valero_Trade_ID1013017.xlsx\n",
      "D354_I_250107_058050800_Shell_Trade_ID1013040.xlsx\n",
      "D354_I_250106_Marathon_Trade_ID1013045.xlsx\n",
      "D354_I_250106_PetroDiamond_Trade_ID1013057.xlsx\n",
      "D354_I_250107_0916161800_BP_Trade_ID1013060.xlsx\n",
      "D354_I_250107_Marathon_Trade_ID1013059.xlsx\n",
      "D354_I_250107200003900_PBF_Trade_ID1013061.xlsx\n",
      "D354_I_250107_MUREX_Trade_ID1013063.xlsx\n",
      "D354_I_250107_255000101_P66_Trade_ID1013064.xlsx\n",
      "D354_I_250107_Chevron_Trade_ID1013067.xlsx\n",
      "D354_I_250107_100100_Valero_Trade_ID1013062.xlsx\n",
      "D354_I_250107_Vitol_Trade_ID1013072.xlsx\n",
      "D354_I_250103_Sage_Trade_ID1013082.xlsx\n",
      "D354_I_250106_Sage_Trade_ID1013082.xlsx\n",
      "D354_I_250107_Sage_Trade_ID1013082.xlsx\n",
      "D354_I_250108_Shell_Trade_ID1013083.xlsx\n",
      "D354_I_250107_Idemitsu_Trade_ID1013085.xlsx\n",
      "D354_I_250108_98181445_BB_Trade_ID1013092.xlsx\n",
      "D354_I_250108_Marathon_Trade_ID1013090.xlsx\n",
      "D354_I_250108_255000101_P66_Trade_ID1013095.xlsx\n",
      "D354_I_250108_200003900_PBF_Trade_ID1013094.xlsx\n",
      "D354_I_250108_0916161800_BP_Trade_ID1013093.xlsx\n",
      "D354_I_250108_Tartan_Trade_ID1013098.xlsx\n",
      "D354_I_250108_399541646_Quik_Trade_ID1013096.xlsx\n",
      "D354_I_250109_058050800_Shell_Trade_ID1013101.xlsx\n",
      "D354_I_250108_Chevron_Trade_ID1013102.xlsx\n",
      "D354_I_250108_PetroDiamond_Trade_ID1013110.xlsx\n",
      "D354_I_250109_NorthAmerican_Trade_ID1013112.xlsx\n",
      "D354_I_250109_Marathon_Trade_ID1013113.xlsx\n",
      "D354_I_250109_0916161800_BP_Trade_ID1013115.xlsx\n",
      "D354_I_250109_255000101_P66_Trade_ID1013116.xlsx\n",
      "D354_I_250110_058050800_Shell_Trade_ID1013117.xlsx\n",
      "D354_I_250109_Chevron_Trade_ID1013119.xlsx\n",
      "D354_I_250109_98181445_BB_Trade_ID1013120.xlsx\n",
      "D354_I_250108_100100_Valero_Trade_ID1013107.xlsx\n",
      "D354_I_250109_QuikTrip_Trade_ID1013123.xlsx\n",
      "D354_I_250109_Valero_Trade_ID1013124.xlsx\n",
      "D354_I_250109_Hartland_Trade_ID1013125.xlsx\n",
      "D354_I_250109_Tartan_Trade_ID1013127.xlsx\n",
      "D354_I_250109_Vitol_Trade_ID1013131.xlsx\n",
      "D354_I_250110_IdemitsuApollo_Trade_ID1013140.xlsx\n",
      "D354_I_250110_200003900_PBF_Trade_ID1013145.xlsx\n",
      "D354_I_250110_Marathon_Trade_ID1013143.xlsx\n",
      "D354_I_250110_SBR_Trade_ID1013145.xlsx\n",
      "D354_I_250110_0916161800_BP_Trade_ID1013142.xlsx\n",
      "D354_I_250110_255000101_P66_Trade_ID1013146.xlsx\n",
      "D354_I_250110_Chevron_Trade_ID1013148.xlsx\n",
      "D354_I_250110_399541646_Quik_Trade_ID1013149.xlsx\n",
      "D354_I_250110_Tartan_Trade_ID1013151.xlsx\n",
      "D354_I_250110_Valero_Trade_ID1013150.xlsx\n",
      "D354_I_250109_TACenergy_Trade_ID1013160.xlsx\n",
      "D354_I_250113_Hartland_Trade_ID1013225.xlsx\n",
      "D354_I_250113_200003900_PBF_Trade_ID1013231.xlsx\n",
      "D354_I_250113_SBR_Trade_ID1013231.xlsx\n",
      "D354_I_250113_Marathon_Trade_ID1013233.xlsx\n",
      "D354_I_250113_255000101_P66_Trade_ID1013232.xlsx\n",
      "D354_I_250113_0916161800_BP_Trade_ID1013236.xlsx\n",
      "D354_I_250113_399541646_Quik_Trade_ID1013234.xlsx\n",
      "D354_I_250113_Vitol_Trade_ID1013245.xlsx\n",
      "D354_I_250113_Chevron_Trade_ID1013239.xlsx\n",
      "D354_I_250113_100100_Valero_Trade_ID1013246.xlsx\n",
      "D354_I_250113_Tartan_Trade_ID1013256.xlsx\n",
      "D354_I_250114_200003900_PBF_Trade_ID1013271.xlsx\n",
      "D354_I_250114_255000101_P66_Trade_ID1013276.xlsx\n",
      "D354_I_250114_0916161800_BP_Trade_ID1013275.xlsx\n",
      "D354_I_250114_399541646_Quik_Trade_ID1013274.xlsx\n",
      "D354_I_250114_100100_Valero_Trade_ID1013279.xlsx\n",
      "D354_I_250114_Tartan_Trade_ID1013283.xlsx\n",
      "D354_I_250114_Chevron_Trade_ID1013285.xlsx\n",
      "D354_I_250114_Vitol_Trade_ID1013286.xlsx\n",
      "D354_I_250115_058050800_Shell_Trade_ID1013289.xlsx\n",
      "D354_I_250114_Idemitsu_Trade_ID1013292.xlsx\n",
      "D354_I_250101_Boyett_Trade_ID1013297.xlsx\n",
      "D354_I_250115_98181445_BB_Trade_ID1013298.xlsx\n",
      "D354_I_250115_255000101_P66_Trade_ID1013304.xlsx\n",
      "D354_I_250106_Sage_Trade_ID1013302.xlsx\n",
      "D354_I_250115_200003900_PBF_Trade_ID1013303.xlsx\n",
      "D354_I_250107_Sage_Trade_ID1013302.xlsx\n",
      "D354_I_250108_Sage_Trade_ID1013302.xlsx\n",
      "D354_I_250109_Sage_Trade_ID1013302.xlsx\n",
      "D354_I_250110_Sage_Trade_ID1013302.xlsx\n",
      "D354_I_250113_Sage_Trade_ID1013302.xlsx\n",
      "D354_I_250114_Sage_Trade_ID1013302.xlsx\n",
      "D354_I_250115_Marathon_Trade_ID1013305.xlsx\n",
      "D354_I_250115_BP_Trade_ID1013306.xlsx\n",
      "D354_I_250115_QuikTrip_Trade_ID1013307.xlsx\n",
      "D354_I_250115_Chevron_Trade_ID1013308.xlsx\n",
      "D354_I_250115_Murex_Trade_ID1013310.xlsx\n",
      "D354_I_250115_TACenergy_Trade_ID1013312.xlsx\n",
      "D354_I_250116_Shell_Trade_ID1013313.xlsx\n",
      "D354_I_250115_Valero_Trade_ID1013309.xlsx\n",
      "D354_I_250115_Tartan_Trade_ID1013321.xlsx\n",
      "D354_I_250116_0916161800_BP_Trade_ID1013327.xlsx\n",
      "D354_I_250116_200003900_PBF_Trade_ID1013328.xlsx\n",
      "D354_I_250116_Tartan_Trade_ID1013329.xlsx\n",
      "D354_I_250116_255000101_P66_Trade_ID1013330.xlsx\n",
      "D354_I_240723_HFSinclair_Trade_ID1013332.xlsx\n",
      "D354_I_250116_MUREX_Trade_ID1013335.xlsx\n",
      "D354_I_250116_NGL_Trade_ID1013341.xlsx\n",
      "D354_I_250116_Marathon_Trade_ID1013342.xlsx\n",
      "D354_I_250116_Chevron_Trade_ID1013344.xlsx\n",
      "D354_I_250117_100100_Valero_Trade_ID1013349.xlsx\n"
     ]
    }
   ],
   "source": [
    "filepath = os.path.join(files_with_timestamps[forms[0]]['path'], forms[0])\n",
    "df = get_trading_form(filepath)\n",
    "\n",
    "# errors = []\n",
    "for f in forms[1:]:\n",
    "    print(f)\n",
    "    try:\n",
    "        # filepath = os.path.join(path_piira, f)\n",
    "        filepath = os.path.join(files_with_timestamps[f]['path'], f)\n",
    "        df_ = get_trading_form(filepath) \n",
    "        df = pd.concat([df, df_], axis='rows')    \n",
    "    except:\n",
    "        errors.append(f)"
   ]
  },
  {
   "cell_type": "code",
   "execution_count": 28,
   "id": "02c5d92e-6d65-4da1-8a21-09253c49ecec",
   "metadata": {},
   "outputs": [
    {
     "data": {
      "text/plain": [
       "['D354_I_250106_Mieco_Trade_ID1013272.xlsx',\n",
       " 'D354_I_250106_MIECO_Trade_ID1013038.xlsx',\n",
       " 'D354_I_250106_MIECO_Trade_ID1013038 (2).xlsx',\n",
       " 'D354_I_250113_MIECO_Trade_ID1013300.xlsx',\n",
       " 'D354_I_250103_Murex_Trade_ID1012974.xlsx',\n",
       " 'D354_I_250106_Murex_Trade_ID1013019.xlsx',\n",
       " 'D354_I_250107_MUREX_Trade_ID1013063.xlsx',\n",
       " 'D354_I_250109_Valero_Trade_ID1013124.xlsx',\n",
       " 'D354_I_250115_Murex_Trade_ID1013310.xlsx',\n",
       " 'D354_I_250116_MUREX_Trade_ID1013335.xlsx']"
      ]
     },
     "execution_count": 28,
     "metadata": {},
     "output_type": "execute_result"
    }
   ],
   "source": [
    "errors"
   ]
  },
  {
   "cell_type": "code",
   "execution_count": 29,
   "id": "21e99d4f-3c12-4871-b238-278c6a10f503",
   "metadata": {},
   "outputs": [],
   "source": [
    "# add a new column with the timestamps\n",
    "df['filename'] = df['File form'].map(lambda string: string.split('\\\\')[-1])\n",
    "\n",
    "# add new column with vaues from dict_files_timestamps \n",
    "df['timestamps'] = df['filename'].map(dict_files_timestamps)\n",
    "\n",
    "# delete filename column\n",
    "df.drop('filename', axis=1, inplace=True)\n",
    "\n",
    "# put the column timestamps at the beginning\n",
    "df = df[['timestamps'] + [col for col in df.columns if col != 'timestamps']]\n",
    "\n",
    "# give format to column timestamps\n",
    "df['timestamps'] = df['timestamps'].map(lambda x: x.strftime(\"%Y-%m-%d %H:%M:%S\"))"
   ]
  },
  {
   "cell_type": "code",
   "execution_count": 30,
   "id": "8622616c-f4e0-4029-8c7b-b92d7cd902b3",
   "metadata": {},
   "outputs": [],
   "source": [
    "# Sunit is going to work on a logic for identifying duplicates\n",
    "# Identify duplicated\n",
    "# 7 columns"
   ]
  },
  {
   "cell_type": "code",
   "execution_count": 31,
   "id": "523520be-0e08-481b-a3ef-c21eaa203121",
   "metadata": {},
   "outputs": [],
   "source": [
    "filename = \"Trading_Submitted.csv\"\n",
    "\n",
    "df.to_csv(filename)\n",
    "df.to_csv(os.path.join(data_path, filename))\n",
    "\n",
    "# df.to_csv(os.path.join(path_CEC_Fernando_D354, filename))\n",
    "df.to_csv(os.path.join(path_CEC_Fernando_D354_data, filename))"
   ]
  },
  {
   "cell_type": "code",
   "execution_count": 32,
   "id": "8c5306f9-92d1-43d2-8b30-a0226fcb0206",
   "metadata": {},
   "outputs": [],
   "source": [
    "df_Submitted = df.copy()"
   ]
  },
  {
   "cell_type": "code",
   "execution_count": 33,
   "id": "06055a4b-50fa-4a66-8a4a-a0261341fc14",
   "metadata": {
    "scrolled": true
   },
   "outputs": [],
   "source": [
    "df_files = pd.DataFrame(data=forms, columns=['File'])\n",
    "# df_files['path_piira'] = path_piira\n",
    "df_files['path_piira'] = df_files[\"File\"].map(lambda string: files_with_timestamps[string]['path'])\n",
    "df_files['Added'] = np.where(~df_files['File'].isin(errors), df_files['File'], None)\n",
    "df_files['Error'] = np.where(df_files['File'].isin(errors), df_files['File'], None)\n",
    "df_files['N'] = df_files.index\n",
    "df_files['N'] = df_files['N'] + 1\n",
    "df_files = df_files[['N', 'File', 'Added', 'Error', 'path_piira']]"
   ]
  },
  {
   "cell_type": "code",
   "execution_count": 34,
   "id": "2ba371ba-4809-449f-8232-d62b0666fcd0",
   "metadata": {},
   "outputs": [],
   "source": [
    "# df_Submitted['File'] = df_Submitted[\"File form\"].map(lambda string: string.split('\\\\')[-1])\n",
    "# df_S = df_Submitted[['File', 'Company Name']].copy()"
   ]
  },
  {
   "cell_type": "code",
   "execution_count": 35,
   "id": "86860bbc-a632-46c5-ace0-7cef466c26a8",
   "metadata": {},
   "outputs": [],
   "source": [
    "filename = \"Trading_Files.csv\"\n",
    "\n",
    "df_files.to_csv(filename)\n",
    "df_files.to_csv(os.path.join(data_path, filename))\n",
    "\n",
    "# df_files.to_csv(os.path.join(path_CEC_Fernando_D354, filename))\n",
    "df_files.to_csv(os.path.join(path_CEC_Fernando_D354_data, filename))"
   ]
  },
  {
   "cell_type": "code",
   "execution_count": 36,
   "id": "0342861e-3f29-4168-a30a-9090e5707f71",
   "metadata": {},
   "outputs": [],
   "source": [
    "# if not all_historical_data: filename = \"Trading_errors.txt\"\n",
    "# if all_historical_data: filename = \"Trading_errors_all.txt\""
   ]
  },
  {
   "cell_type": "code",
   "execution_count": 37,
   "id": "01196f8a-7748-4ba2-825d-03c4776bdbdf",
   "metadata": {},
   "outputs": [],
   "source": [
    "# with open(filename, \"w\", encoding=\"utf-8\") as output:\n",
    "#     for item in errors:\n",
    "#         output.write(str(item) + \"\\n\")\n",
    "\n",
    "# with open(os.path.join(path_CEC_Fernando_D354, filename), \"w\", encoding=\"utf-8\") as output:\n",
    "#     for item in errors:\n",
    "#         output.write(str(item) + \"\\n\")"
   ]
  },
  {
   "cell_type": "code",
   "execution_count": 38,
   "id": "557adf14-d4aa-4088-95cd-12aef1bb3e54",
   "metadata": {},
   "outputs": [],
   "source": [
    "# with open(os.path.join(data_path, filename), \"w\", encoding=\"utf-8\") as output:\n",
    "#     for item in errors:\n",
    "#         output.write(str(item) + \"\\n\")\n",
    "\n",
    "# with open(os.path.join(path_CEC_Fernando_D354_data, filename), \"w\", encoding=\"utf-8\") as output:\n",
    "#     for item in errors:\n",
    "#         output.write(str(item) + \"\\n\")"
   ]
  },
  {
   "attachments": {},
   "cell_type": "markdown",
   "id": "86ae0520-cf41-4309-b49d-90549a33a9a7",
   "metadata": {},
   "source": [
    "# 1. Cleaning"
   ]
  },
  {
   "cell_type": "markdown",
   "id": "3ba76ee9-3b44-40e1-99da-4563cee1d34a",
   "metadata": {},
   "source": [
    "## 1.1. Trading"
   ]
  },
  {
   "cell_type": "markdown",
   "id": "ca2ad8c5-98d4-40e2-af83-a786263c8612",
   "metadata": {},
   "source": [
    "### Intro"
   ]
  },
  {
   "cell_type": "code",
   "execution_count": 39,
   "id": "727c269d-6393-4b3a-8fb0-76d976504a44",
   "metadata": {},
   "outputs": [],
   "source": [
    "def str_to_date(string):\n",
    "\n",
    "    string = string.strip()\n",
    "    string = string.replace(\"  \", \" \")\n",
    "    string = string.replace(\"   \", \" \")\n",
    "\n",
    "    if string=='nan': return pd.NaT\n",
    "    if string=='': return pd.NaT\n",
    "    if string=='(Empty)': return pd.NaT\n",
    "    if string=='NaT': return pd.NaT\n",
    "    \n",
    "    regex = '^\\d{1,2}(/|//)\\d{1,2}(/|//)\\d{4}$'\n",
    "    match = re.search(regex, string)\n",
    "    if match: \n",
    "        string_ = string.replace(\"//\", \"/\")\n",
    "        month, day, year = string_.split(\"/\")\n",
    "        # print(regex)\n",
    "        \n",
    "    regex = '^\\d{4}(-)\\d{1,2}(-)\\d{1,2}$'\n",
    "    match = re.search(regex, string)\n",
    "    if match: \n",
    "        year, month, day = string.split(\"-\")\n",
    "        # print(regex)\n",
    "\n",
    "    regex = '^\\d{4}(-)\\d{1,2}(-)\\d{1,2}( )\\d{1,2}(:)\\d{1,2}(:)\\d{1,2}$'\n",
    "    match = re.search(regex, string)\n",
    "    if match: \n",
    "        year, month, day = string.split(\" \")[0].split(\"-\")\n",
    "        # print(regex)\n",
    "        \n",
    "    # string = '10.17.24'\n",
    "    # string = '10.17.2024'\n",
    "    regex = '^\\d{1,2}(\\.)\\d{1,2}(\\.)\\d{2,4}$'\n",
    "    match = re.search(regex, string)\n",
    "    if match: \n",
    "        month, day, year = string.split(\".\")\n",
    "        if len(year)==2: year = '20' + year\n",
    "        # print(regex)\n",
    "    \n",
    "    regex = '^\\d{1,2}(-)\\d{1,2}(-)\\d{4}$'\n",
    "    match = re.search(regex, string)\n",
    "    if match: \n",
    "        month, day, year = string.split(\"-\")\n",
    "        # print(regex)\n",
    "        \n",
    "    # string = \"10/4/24 - 10/6/24\"\n",
    "    regex = '^\\d{1,2}(/)\\d{1,2}(/)\\d{2}( - )\\d{1,2}(/)\\d{1,2}(/)\\d{2}$'\n",
    "    match = re.search(regex, string)\n",
    "    if match: \n",
    "        month, day, year = string.split(\" - \")[1].split(\"/\")\n",
    "        year = \"20\" + year\n",
    "        # print(regex)\n",
    "    \n",
    "    # string = \"10/4-6/2024\"\n",
    "    regex = '^\\d{1,2}(/)\\d{1,2}(-)\\d{1,2}(/)\\d{4}$'\n",
    "    match = re.search(regex, string)\n",
    "    if match: \n",
    "        month = string.split(\"/\")[0]\n",
    "        year = string.split(\"/\")[2]\n",
    "        day = string.split(\"-\")[1].split(\"/\")[0]\n",
    "        # print(regex)\n",
    "        \n",
    "    # string = \"10-04-2024 - 10-06-2024\"\n",
    "    regex = '^\\d{1,2}(-)\\d{1,2}(-)\\d{4}( - )\\d{1,2}(-)\\d{1,2}(-)\\d{4}$'\n",
    "    match = re.search(regex, string)\n",
    "    if match: \n",
    "        month, day, year = string.split(\" - \")[1].split(\"-\")\n",
    "        # print(regex)\n",
    "        \n",
    "    # string = '3/22-3/24/2024'\n",
    "    # string = \"10/4 - 10/6/2024\"\n",
    "    regex = '^\\d{1,2}(/)\\d{1,2}(-| - )\\d{1,2}(/)\\d{1,2}(/)\\d{4}$'\n",
    "    match = re.search(regex, string)\n",
    "    if match:\n",
    "        string_ = string.replace(\" - \", \"-\")\n",
    "        month, day, year = string_.split(\"-\")[1].split(\"/\")\n",
    "        # print(regex)\n",
    "    \n",
    "    # string = \"9/2024 & 10/2024\"\n",
    "    regex = '^\\d{1,2}(/)\\d{4}( & )\\d{1,2}(/)\\d{4}$'\n",
    "    match = re.search(regex, string)\n",
    "    if match: \n",
    "        month, year = string.split(\" & \")[1].split(\"/\")\n",
    "        day = \"0\"\n",
    "        # print(regex)\n",
    "\n",
    "    # string = \"10/4/2024 - 10/6/2024\"\n",
    "    # string = '10/11/24 - 10/13/24 - Revised'\n",
    "    regex = '^\\d{1,2}(/)\\d{1,2}(/)\\d{2,4}( - )\\d{1,2}(/)\\d{1,2}(/)\\d{2,4}'\n",
    "    match = re.search(regex, string)\n",
    "    if match: \n",
    "        month, day, year = string.split(\" - \")[1].split(\"/\")\n",
    "        if len(year)==2: year = '20' + year\n",
    "        # print(regex)\n",
    "        \n",
    "    # string = \"2024-10-07 06:45:03.306000\"\n",
    "    regex = '^\\d{4}(-)\\d{1,2}(-)\\d{1,2}( )\\d{1,2}(:)\\d{1,2}(:)\\d{1,2}(\\.)\\d{6}$'\n",
    "    match = re.search(regex, string)\n",
    "    if match: \n",
    "        year, month, day = string.split(\" \")[0].split(\"-\")\n",
    "        # print(regex)\n",
    "        \n",
    "    # string = '3/1/2024-3/3/2024'\n",
    "    # string = '3/1/2024 to 3/3/2024'\n",
    "    # string = '3/1/2024 - 3/3/2024'\n",
    "    # string = '7.2.2024-7.3.2024'\n",
    "    # string = '8/2/2024- 8/4/2024'\n",
    "    regex = '^\\d{1,2}(/|\\.)\\d{1,2}(/|\\.)\\d{4}( to |-| - |- )\\d{1,2}(/|\\.)\\d{1,2}(/|\\.)\\d{4}$'\n",
    "    match = re.search(regex, string)\n",
    "    if match: \n",
    "        string_ = string.replace(\" \",\"\").replace(\"to\",\"-\").replace(\".\",\"/\")\n",
    "        month, day, year = string_.split(\"-\")[1].split(\"/\")\n",
    "\n",
    "    # string = '010/14/2024'\n",
    "    regex = '^\\d{3}(/)\\d{1,2}(/)\\d{4}$'\n",
    "    match = re.search(regex, string)\n",
    "    if match: \n",
    "        month, day, year = string.split(\"/\")\n",
    "\n",
    "    # string = '05-26-2024 - 05-27-2024'\n",
    "    regex = '^\\d{1,2}(-)\\d{1,2}(-)\\d{4}(-| - )\\d{1,2}(-)\\d{1,2}(-)\\d{4}$'\n",
    "    match = re.search(regex, string)\n",
    "    if match: \n",
    "        string_ = string.replace(\" - \",\"-\")\n",
    "        _, _, _, month, day, year = string_.split(\"-\")\n",
    "\n",
    "    # if year=='1900' and month=='1' and day=='1': \n",
    "    #     return pd.NaT\n",
    "\n",
    "    try:\n",
    "        # convert to int then to str: 01 ------> 1 also 016 --------> 16\n",
    "        year = str(int(year))\n",
    "        month = str(int(month))\n",
    "        day = str(int(day))\n",
    "        \n",
    "        date_object = datetime.strptime(year +\"-\"+ month +\"-\"+ day, '%Y-%m-%d').date()\n",
    "        return date_object\n",
    "    except UnboundLocalError:\n",
    "        return pd.NaT\n",
    "    except IndexError:\n",
    "        return pd.NaT\n",
    "    except ValueError:\n",
    "        return pd.NaT\n",
    "    # except Exception as e:\n",
    "    # except (ValueError, UnboundLocalError, IndexError) as e:"
   ]
  },
  {
   "cell_type": "code",
   "execution_count": 40,
   "id": "3596fa6e-4dc3-445e-9c2e-0ab2196b4bc1",
   "metadata": {},
   "outputs": [
    {
     "data": {
      "text/plain": [
       "NaT"
      ]
     },
     "execution_count": 40,
     "metadata": {},
     "output_type": "execute_result"
    }
   ],
   "source": [
    "# ValueError: time data \n",
    "string = '2024-10-0'\n",
    "str_to_date(string)"
   ]
  },
  {
   "cell_type": "code",
   "execution_count": 41,
   "id": "48b0847a-94cb-4e92-96c1-4e80f3caeba5",
   "metadata": {},
   "outputs": [],
   "source": [
    "def month_first_letters_to_number(string):\n",
    "    months_dict = {'Jan': 1, 'Feb': 2, 'Mar': 3, 'Apr': 4, 'May': 5, 'Jun': 6, 'Jul': 7, 'Aug': 8, 'Sep': 9, 'Oct': 10, 'Nov': 11, 'Dec': 12}\n",
    "    \n",
    "    if string in months_dict.keys(): return months_dict[string] \n",
    "    else: return None "
   ]
  },
  {
   "cell_type": "code",
   "execution_count": 42,
   "id": "7d318dfc-c3da-4147-aa03-804081441f92",
   "metadata": {},
   "outputs": [],
   "source": [
    "def month_fullname_to_number(string):\n",
    "    months_dict = {'January': 1, \n",
    "                   'February': 2, \n",
    "                   'March': 3, \n",
    "                   'April': 4, \n",
    "                   'May': 5, \n",
    "                   'June': 6, \n",
    "                   'July': 7, \n",
    "                   'August': 8, \n",
    "                   'September': 9, \n",
    "                   'October': 10, \n",
    "                   'November': 11, \n",
    "                   'December': 12}\n",
    "    \n",
    "    if string in months_dict.keys(): return months_dict[string] \n",
    "    else: return None "
   ]
  },
  {
   "cell_type": "code",
   "execution_count": 43,
   "id": "1c88c186-c5e5-4143-8fb0-635e6049e146",
   "metadata": {},
   "outputs": [],
   "source": [
    "def find_full_month_name_to_number(string):\n",
    "    list_month_fullname = ['January', 'February', 'March', 'April','May','June','July','August','September','October','November', 'December']\n",
    "    for month in list_month_fullname:\n",
    "        # print(str(string.find(month)))\n",
    "        if string.find(month)>-1: return month_fullname_to_number(month)    \n",
    "    return None"
   ]
  },
  {
   "cell_type": "code",
   "execution_count": 44,
   "id": "a590ce49-6da4-4403-a353-171f5af41eeb",
   "metadata": {},
   "outputs": [],
   "source": [
    "def str_to_month(string):\n",
    "\n",
    "    if string is None: return None\n",
    "        \n",
    "    string = string.strip()\n",
    "    string = string.replace(\"  \", \" \")\n",
    "    string = string.replace(\"   \", \" \")\n",
    "\n",
    "    if string=='': return None\n",
    "    if string=='-': return None\n",
    "    if string=='(Empty)': return None\n",
    "    if string=='(blank)': return None\n",
    "    if string=='NOT APPLICABLE': return None\n",
    "    if string=='#Err': return None\n",
    "        \n",
    "    # string = 'Nov'\n",
    "    regex = '^[a-zA-Z]{3}$'\n",
    "    match = re.search(regex, string)\n",
    "    if match: \n",
    "        month = str(month_first_letters_to_number(string[0].upper() + string[1:].lower()))\n",
    "        year = str(now.year)\n",
    "        day = str(now.day)\n",
    "    \n",
    "    # string = \"2024-10-01\"\n",
    "    regex = '^\\d{4}(-)\\d{1,2}(-)\\d{1,2}$'\n",
    "    match = re.search(regex, string)\n",
    "    if match: \n",
    "        year, month, day = string.split(\"-\")\n",
    "\n",
    "    # string = '2024-10-17 05:00:00'\n",
    "    regex = '^\\d{4}(-)\\d{1,2}(-)\\d{1,2}( )\\d{1,2}(:)\\d{1,2}(:)\\d{1,2}$'\n",
    "    match = re.search(regex, string)\n",
    "    if match: \n",
    "        year, month, day = string.split(\" \")[0].split(\"-\")\n",
    "\n",
    "    # string = '10/09/2024'\n",
    "    regex = '^\\d{1,2}(/)\\d{1,2}(/)\\d{4}$'\n",
    "    match = re.search(regex, string)\n",
    "    if match: \n",
    "        month, day, year = string.split(\"/\")\n",
    "\n",
    "    # string = 'Nov 2024'\n",
    "    regex = '^[a-zA-Z]{3}( )\\d{4}$'\n",
    "    match = re.search(regex, string)\n",
    "    if match: \n",
    "        month, year = string.split(\" \")\n",
    "        month = str(month_first_letters_to_number(month))\n",
    "        day = str(now.day)\n",
    "        \n",
    "    # string = 'November-2024'\n",
    "    if find_full_month_name_to_number(string) is not None and string.find(str(now.year))>-1: \n",
    "        month = str(find_full_month_name_to_number(string))\n",
    "        year = str(now.year)\n",
    "        day = str(now.day)\n",
    "\n",
    "    # string = 'NOV-24'\n",
    "    regex = '^[a-zA-Z]{3}(-)\\d{2}$'\n",
    "    match = re.search(regex, string)\n",
    "    if match and month_first_letters_to_number(string.split(\"-\")[0][0].upper() + string.split(\"-\")[0][1:].lower()) is not None: \n",
    "        month = str(month_first_letters_to_number(string.split(\"-\")[0][0].upper() + string.split(\"-\")[0][1:].lower()))\n",
    "        year = '20' + string.split(\"-\")[1]\n",
    "        day = str(now.day)\n",
    "\n",
    "    # string = 'November'\n",
    "    if string in ['January', 'February', 'March', 'April','May','June','July','August','September','October','November', 'December']:\n",
    "        month = str(month_fullname_to_number(string))\n",
    "        year = str(now.year) \n",
    "        day = str(now.day)\n",
    "\n",
    "    # string = 'AUGUST'\n",
    "    string_ = string[0].upper() + string[1:].lower()\n",
    "    if string_ in ['January', 'February', 'March', 'April','May','June','July','August','September','October','November', 'December']:\n",
    "        month = str(month_fullname_to_number(string_))\n",
    "        year = str(now.year) \n",
    "        day = str(now.day)\n",
    "\n",
    "    # string = 'Dec-2024'\n",
    "    regex = '^[a-zA-Z]{3}(-)\\d{4}$'\n",
    "    match = re.search(regex, string)\n",
    "    if match and month_first_letters_to_number(string.split(\"-\")[0][0].upper() + string.split(\"-\")[0][1:].lower()) is not None: \n",
    "        month = str(month_first_letters_to_number(string.split(\"-\")[0][0].upper() + string.split(\"-\")[0][1:].lower()))\n",
    "        year = string.split(\"-\")[1]\n",
    "        day = str(now.day)  \n",
    "\n",
    "    # string = 'Sept'\n",
    "    regex = '^[a-zA-Z]{4}$'\n",
    "    match = re.search(regex, string)\n",
    "    if match and type(month_first_letters_to_number(string[0].upper() + string[1:3].lower()))==int: \n",
    "        month = str(month_first_letters_to_number(string[0].upper() + string[1:3].lower()))\n",
    "        year = str(now.year)\n",
    "        day = str(now.day)\n",
    "  \n",
    "    try:\n",
    "        date_object = datetime.strptime(year +\"-\"+ month +\"-\"+ day, '%Y-%m-%d').date().strftime(\"%b-%Y\")\n",
    "        return date_object\n",
    "    except UnboundLocalError:\n",
    "        return None\n",
    "    except ValueError:\n",
    "        return None"
   ]
  },
  {
   "cell_type": "code",
   "execution_count": 45,
   "id": "ddef23a9-3b60-40a0-829f-54aae478efab",
   "metadata": {},
   "outputs": [],
   "source": [
    "def str_to_float(string):\n",
    "    try:\n",
    "        return float(string)\n",
    "    except ValueError as e:\n",
    "        return np.nan\n",
    "    except TypeError as e:\n",
    "        return np.nan"
   ]
  },
  {
   "cell_type": "code",
   "execution_count": 46,
   "id": "6872d078-def3-4ca3-b4c8-2630f5b5389a",
   "metadata": {},
   "outputs": [],
   "source": [
    "def match_dictio(string, dictio, case_sensitive=True):\n",
    "\n",
    "    try:\n",
    "        string = string.strip()\n",
    "    except AttributeError:\n",
    "        return None\n",
    "    \n",
    "    if string=='': return None\n",
    "    if string=='-': return None\n",
    "    if string=='(Empty)': return None\n",
    "    if string=='(blank)': return None\n",
    "    if string=='NOT APPLICABLE': return None\n",
    "    if string=='#Err': return None\n",
    "\n",
    "    if case_sensitive:\n",
    "        for key, values in dictio.items():\n",
    "            if string==key: return key\n",
    "            if string in values: return key\n",
    "    \n",
    "    if not case_sensitive: \n",
    "        string = string.lower()\n",
    "        dictio_ = {}\n",
    "        for key, value in dictio.items():\n",
    "            dictio_[str(key).lower()] = [str(v).lower() for v in value]  \n",
    "        dict_key_to_Key = {str(k).lower(): str(k) for k in dictio.keys()}\n",
    "        for key, values in dictio_.items():\n",
    "            if string==key: return dict_key_to_Key[key]\n",
    "            if string in values: return dict_key_to_Key[key]\n",
    "    return None\n"
   ]
  },
  {
   "cell_type": "code",
   "execution_count": 47,
   "id": "9c865e22-918d-4aac-aaff-c1b4710eb4bf",
   "metadata": {},
   "outputs": [],
   "source": [
    "def clean_string(string):\n",
    "    if string=='': return None\n",
    "    if string=='-': return None\n",
    "    if string=='(Empty)': return None\n",
    "    if string=='(blank)': return None\n",
    "    if string=='NOT APPLICABLE': return None\n",
    "    if string=='#Err': return None\n",
    "    if string=='None': return None\n",
    "    if string=='nan': return None\n",
    "    if string=='N/A': return None\n",
    "    if string=='n/a': return None\n",
    "    if string=='NA': return None\n",
    "    if string=='na': return None\n",
    "    if string==' ': return None\n",
    "    if string=='  ': return None\n",
    "    if string=='none': return None\n",
    "    return string"
   ]
  },
  {
   "cell_type": "code",
   "execution_count": 48,
   "id": "5de34507-38b4-469b-a36f-0d9016da4735",
   "metadata": {},
   "outputs": [],
   "source": [
    "def extract_numbers(string):\n",
    "    if string=='nan': return np.nan\n",
    "    if string=='': return np.nan\n",
    "\n",
    "    try:\n",
    "        return re.findall(r\"[-+]?\\d*\\.\\d+|\\d+\", string)[0]\n",
    "    except TypeError:\n",
    "        return None\n",
    "    except IndexError:\n",
    "        return None"
   ]
  },
  {
   "cell_type": "markdown",
   "id": "11d62953-4919-4b8e-a22d-17a4cad61e47",
   "metadata": {},
   "source": [
    "### Variables"
   ]
  },
  {
   "cell_type": "markdown",
   "id": "90c78215-3b74-4952-80ee-db7499718359",
   "metadata": {
    "jp-MarkdownHeadingCollapsed": true
   },
   "source": [
    "#### Report_Period"
   ]
  },
  {
   "cell_type": "code",
   "execution_count": 49,
   "id": "4cf47e7b-d3bf-450c-9e62-c74c6f78ebb1",
   "metadata": {},
   "outputs": [],
   "source": [
    "df['Report Period'] = df[\"Report Period\"].astype(str)"
   ]
  },
  {
   "cell_type": "code",
   "execution_count": 50,
   "id": "5689edf0-1f84-44ca-ac25-b27ab0649000",
   "metadata": {
    "scrolled": true
   },
   "outputs": [
    {
     "data": {
      "text/plain": [
       "array(['2025-01-03', '1/3 - 1/5/2025', '2025-01-06',\n",
       "       '1/3/2025 - 1/5/2025', '2025-01-02', '2025-01-07', '01.06.2025',\n",
       "       '01.07.2025', '01/07/2025', '2025-01-08', '01.08.2025',\n",
       "       '01-08-2025', '2025-01-09', '01.09.2025', '2025-01-10',\n",
       "       '01-09-2025', '01/09/2025', '1/10/2025 - 1/12/2025', '01.10.2025',\n",
       "       '1/10-12/2025', '01-10-2025 - 01-12-2025', '1/10 - 1-12/2025',\n",
       "       '2025-01-13', '01.13.2025', '01-13-2025', '01/13/2025',\n",
       "       '2025-01-14', '01-14-2025', '01/14/2025', '2025-01-15',\n",
       "       '2025-01-01', '01.14.2025 - 01.15.2025', '01-15-2025',\n",
       "       '2025-01-16', '2024-07-23', '01.16.2025', '2025-01-17'],\n",
       "      dtype=object)"
      ]
     },
     "execution_count": 50,
     "metadata": {},
     "output_type": "execute_result"
    }
   ],
   "source": [
    "df['Report Period'].unique()"
   ]
  },
  {
   "cell_type": "code",
   "execution_count": 51,
   "id": "37041365-005b-49cd-927c-f077faefc215",
   "metadata": {},
   "outputs": [],
   "source": [
    "df['Report Period'] = df[\"Report Period\"].map(lambda x: str_to_date(x))"
   ]
  },
  {
   "cell_type": "code",
   "execution_count": 52,
   "id": "caba9c03-5773-4db2-9de9-749e316c086f",
   "metadata": {
    "scrolled": true
   },
   "outputs": [
    {
     "data": {
      "text/plain": [
       "array([datetime.date(2025, 1, 3), datetime.date(2025, 1, 5),\n",
       "       datetime.date(2025, 1, 6), datetime.date(2025, 1, 2),\n",
       "       datetime.date(2025, 1, 7), datetime.date(2025, 1, 8),\n",
       "       datetime.date(2025, 1, 9), datetime.date(2025, 1, 10),\n",
       "       datetime.date(2025, 1, 12), NaT, datetime.date(2025, 1, 13),\n",
       "       datetime.date(2025, 1, 14), datetime.date(2025, 1, 15),\n",
       "       datetime.date(2025, 1, 1), datetime.date(2025, 1, 16),\n",
       "       datetime.date(2024, 7, 23), datetime.date(2025, 1, 17)],\n",
       "      dtype=object)"
      ]
     },
     "execution_count": 52,
     "metadata": {},
     "output_type": "execute_result"
    }
   ],
   "source": [
    "df['Report Period'].unique()"
   ]
  },
  {
   "cell_type": "markdown",
   "id": "1fcc8082-11d1-4708-8b4c-7b2a9d57fb8b",
   "metadata": {
    "jp-MarkdownHeadingCollapsed": true
   },
   "source": [
    "#### Company_Name"
   ]
  },
  {
   "cell_type": "code",
   "execution_count": 53,
   "id": "ad6a7bcd-9a95-472a-bb3a-43a971285aff",
   "metadata": {
    "scrolled": true
   },
   "outputs": [
    {
     "data": {
      "text/plain": [
       "array(['bp Products North America Inc.', 'Tartan Oil LLC',\n",
       "       'Phillips 66 Company', 'Shell Trading US Company',\n",
       "       'BB Energy USA LLC',\n",
       "       'Ultramar, Inc. / Valero Refining Co. - California', 'PBF Energy',\n",
       "       'Idemitsu Apollo Corporation', 'North American Fuel Corporation',\n",
       "       'Chevron Products Company, a division of Chevron U.S.A. Inc.',\n",
       "       'Marathon Petroleum', 'Petro-Diamond Incorporated ',\n",
       "       'VITOL AVIATION COMPANY', 'Sage Refined Products, Ltd.',\n",
       "       'QuikTrip Corporation', 'Hartland Fuels LLC DBA HTP Energy',\n",
       "       'SBR Marketing', 'TACenergy, LLC', 'STAN BOYETT & SON, INC',\n",
       "       'HF SINCLAIR CORPORATION', 'NGL CRUDE LOGISTICS, LLC'],\n",
       "      dtype=object)"
      ]
     },
     "execution_count": 53,
     "metadata": {},
     "output_type": "execute_result"
    }
   ],
   "source": [
    "df['Company Name'].unique()"
   ]
  },
  {
   "cell_type": "code",
   "execution_count": 54,
   "id": "143378eb-2bb5-4931-8a5a-b9010155ecbf",
   "metadata": {
    "scrolled": true
   },
   "outputs": [
    {
     "data": {
      "text/plain": [
       "{'US Venture': ['  U.S. Venture, Inc',\n",
       "  'U.S Venture',\n",
       "  'US Venture',\n",
       "  'US VENTURE INC',\n",
       "  'US VENTURE INC-PRD'],\n",
       " 'Alaska Airlines': ['Alaska Airlines, Inc'],\n",
       " 'Allegiant Air': ['Allegiant Air, LLC'],\n",
       " 'Altair': ['Altair Paramount, LLC'],\n",
       " 'Ampol': ['Ampol US Trading LLC', 'AMPOL US TRADING LLC-PRD', 'Ampol USA'],\n",
       " 'Aramco': ['Aramco Trading ',\n",
       "  'Aramco Trading Americas LLC',\n",
       "  'ARAMCO TRADING AMERICAS LLC-PRD'],\n",
       " 'Archer-Daniels': ['Archer-Daniels-Midland Company'],\n",
       " 'Avfuel': ['Avfuel Corporation', 'Avfuel Corporation '],\n",
       " 'BB': ['BB Energy',\n",
       "  'BB Energy USA LLC',\n",
       "  'BB ENERGY USA LLC-PRD',\n",
       "  'BB Energy USA LLC-SDP'],\n",
       " 'Biosphere': ['Biosphere Fuels, LLC'],\n",
       " 'Boyett': ['BOYETT', 'Boyett Petroleum', 'STAN BOYETT & SON, INC'],\n",
       " 'BP': ['BP',\n",
       "  'BP NA Petroleum',\n",
       "  'BP North America',\n",
       "  'BP North America Pet',\n",
       "  'BP North America Petroleum',\n",
       "  'BP NORTH AMERICA PETROLEUM INC.',\n",
       "  'BP NORTH AMERICA PETROLEUM, A DIVISION OF BP PRODUCTS NORTH AMERICA INC.',\n",
       "  'BP NORTH AMERICA PETROLEUM, A DIVISION OF BPPNA',\n",
       "  'BP North America Petroleum, A Division of BPProdu',\n",
       "  'BP North America Petroleum, A Division of BPProducts North America, Inc',\n",
       "  'BP North America Petroleum, Inc.',\n",
       "  'BP Products North America',\n",
       "  'BP PRODUCTS NORTH AMERICA INC',\n",
       "  'bp Products North America Inc.',\n",
       "  'BP Products North America Inc-SDP',\n",
       "  'BP PRODUCTS NORTH AMERICA-PRD',\n",
       "  'BPNA',\n",
       "  'BPNAP'],\n",
       " 'Castleton': ['Castleton Comm Merch',\n",
       "  'CASTLETON COMM MERCHANT-PRD',\n",
       "  'Castleton Commodities',\n",
       "  'Castleton Commodities Merchant Tr',\n",
       "  'Castleton Commodities Merchant Trading L.P.',\n",
       "  'CASTLETON COMMODITIES MERCHANT TRADING L.P.',\n",
       "  'Castleton Commodities Merchant Trading LP-SDP',\n",
       "  'CASTLETON MER'],\n",
       " 'CCMT': ['CCMT'],\n",
       " 'Chase Inc': ['Chase, Inc.'],\n",
       " 'Chevron': ['Chevron',\n",
       "  'Chevron Marine Prod',\n",
       "  'CHEVRON MARINE PRODUCTS LLC',\n",
       "  'Chevron Prod Co',\n",
       "  'Chevron Products',\n",
       "  'CHEVRON PRODUCTS CO',\n",
       "  'CHEVRON PRODUCTS COA DIV OF CHEVRON USA INC',\n",
       "  'Chevron Products Company',\n",
       "  'CHEVRON PRODUCTS COMPANY, A DIV OF CHEVRON USA INC',\n",
       "  'Chevron Products Company, a division of Chevron U.S.A. Inc.',\n",
       "  'CHEVRON PRODUCTS COMPANY, A DIVISION OF CHEVRON U.S.A. INC.',\n",
       "  'CHEVRON PRODUCTS COMPANYDIVISION OF CHEVRON USA',\n",
       "  'CHEVRON PRODUCTS COMPANY-PRD',\n",
       "  'Chevron Products Co-SDP',\n",
       "  'Chevron U.S.A. Inc.',\n",
       "  'CHEVRON USA INC. (SINGAPORE BRANCH)'],\n",
       " 'Clean2050': ['Clean2050, LLC'],\n",
       " 'CMA CGM': ['CMA CGM THE FRENCH LINE'],\n",
       " 'Cockett': ['COCKETT MARINE OIL US INC'],\n",
       " 'Crimson': ['Crimson Renewable', 'Crimson Renewable Energy, LLC'],\n",
       " 'DAN Bunkering': ['DAN BUNKERING AMERICA INC'],\n",
       " 'Diamond Green': ['Diamond Green Diesel LLC'],\n",
       " 'Eastern Aviation': ['Eastern Aviation'],\n",
       " 'Elbow River': ['Elbow River Marketing USA Ltd.'],\n",
       " 'ENEOS': ['ENEOS Americas Inc.'],\n",
       " 'Enpramex': ['ENPRAMEX COMPANY USA LLC'],\n",
       " 'Epsilon': ['Epsilon Trading', 'Epsilon Trading LLC', 'Epsilon Trading, LLC'],\n",
       " 'Equilon': ['Equilon Enterprises LLC'],\n",
       " 'Flyers': ['FLYERS ENERGY'],\n",
       " 'FSM': ['FSM Group, LLC'],\n",
       " 'General Pet.': ['General Petroleum dba PTL Marine'],\n",
       " 'Glander Int.': ['GLANDER INTERNATIONAL BUNKERING INC'],\n",
       " 'Glencore': ['GLENCORE LTD', 'Glencore Ltd.'],\n",
       " 'GreenAmerica': ['GREEN AMERICA', 'GreenAmerica Biofuels LLC'],\n",
       " 'Gresham': ['Gresham Petroleum'],\n",
       " 'Gunvor': ['Gunvor SA'],\n",
       " 'Hartland': ['HARTLAND FUEL',\n",
       "  'Hartland Fuel Prod dba HTP Energy',\n",
       "  'Hartland Fuel Products, L.L.C.'],\n",
       " 'Herbst': ['Herbst Supply Co., Inc.'],\n",
       " 'HF Sinclair': ['HF Sinclair',\n",
       "  'HF SINCLAIR CORPORATION',\n",
       "  'HF Sinclair Refining & Marketing LLC',\n",
       "  'HF SINCLAIR REFINING-PRD',\n",
       "  'HF SINCLAIR RENEWABLES MARKETING LLC'],\n",
       " 'HTP': ['HTP Energy'],\n",
       " 'Idemitsu': ['IDEMITSU',\n",
       "  'Idemitsu Apollo',\n",
       "  'IDEMITSU APOLLO CO',\n",
       "  'Idemitsu Apollo Corp',\n",
       "  'Idemitsu Apollo Corp.',\n",
       "  'Idemitsu Apollo Corporation',\n",
       "  'IDEMITSU APOLLO CORPORATION-PRD',\n",
       "  'Idemitsu Apollo Corp-SDP',\n",
       "  'Idemitsu Apollo Renewable Corporation',\n",
       "  'Idemitsu Apollow'],\n",
       " 'JACO': ['JACO OIL COMPANY'],\n",
       " 'Jaco Oil': ['JACO OIL COMPANY'],\n",
       " 'Kern': ['Kern Oil & Refining Co'],\n",
       " 'Keyera': ['Keyera Energy Inc.'],\n",
       " 'Kinder Morgan': ['Kinder Morgan Transmix',\n",
       "  'Kinder Morgan Transmix Company,',\n",
       "  'KM Phoenix Holdings LLC',\n",
       "  'KM Transmix Co',\n",
       "  'SFPP, L.P./KINDER MORGAN ENERGY PARTNERS, L.P.'],\n",
       " 'KPI': ['KPI OCEANCONNECT INC'],\n",
       " 'Lincoln Oil': ['LINCOLN OIL CO INC', 'LINCOLN OIL CO INC D'],\n",
       " 'Mansfield': ['Mansfield',\n",
       "  'MANSFIELD OIL CO',\n",
       "  'Mansfield Oil Company of Gainesville, Inc.',\n",
       "  'Mansfield Oil Gaines'],\n",
       " 'Marathon': ['MARATHON',\n",
       "  'Marathon Co LP-Bulk',\n",
       "  'MARATHON PETROLEUM',\n",
       "  'MARATHON PETROLEUM CO LP',\n",
       "  'Marathon Petroleum Company',\n",
       "  'Marathon Petroleum Company LP',\n",
       "  'MARATHON PETROLEUM CO-PRD',\n",
       "  'MARATHON PETROLEUM SUPPLY AND TRADING LLC',\n",
       "  'Marathon Petroluem Company'],\n",
       " 'Martinez Renewables': ['Martinez Renewables LLC'],\n",
       " 'Maverik': ['MAVERIK, INC'],\n",
       " 'McCall': ['McCall Oil '],\n",
       " 'Mieco': ['Mieco', 'MIECO LLC', 'MIECO LLC-PRD'],\n",
       " 'Monjasa': ['MONJASA INC'],\n",
       " 'Murex': ['Murex', 'Murex LLC'],\n",
       " 'Musket': ['Musket',\n",
       "  'MUSKET CO',\n",
       "  'MUSKET CORP',\n",
       "  'Musket Corp.',\n",
       "  'Musket Corporation',\n",
       "  'MUSKET CORPORATION-PRD',\n",
       "  'Musket Corp-SDP'],\n",
       " 'n/a': ['nan'],\n",
       " 'NAFCO': ['NAFCO'],\n",
       " 'Neste': ['Neste',\n",
       "  'Neste US Inc',\n",
       "  'NESTE US INC',\n",
       "  'NESTE US INC-PRD',\n",
       "  'Neste US Inc-SDP',\n",
       "  'Neste US, Inc.'],\n",
       " 'NGL': ['NGL Crude',\n",
       "  'NGL CRUDE LOGISTICS',\n",
       "  'NGL Crude Logistics, LLC',\n",
       "  'NGL Energy Partners LLC'],\n",
       " 'N.A.Fuels': ['NORTH AMERICAN FUEL',\n",
       "  'NORTH AMERICAN FUEL CORP',\n",
       "  'North American Fuel Corporation',\n",
       "  'NORTH AMERICAN FUEL CORPORATION',\n",
       "  'North American Fuel Corp-SDP',\n",
       "  'North American FuelCorporation'],\n",
       " 'Offen': ['Offen', 'Offen Petroleum LLC', 'Offen Petroleum, LLC'],\n",
       " 'P66': ['P66',\n",
       "  'Phillips 66',\n",
       "  'PHILLIPS 66 CO',\n",
       "  'Phillips 66 Company',\n",
       "  'PHILLIPS 66 COMPANY-PRD',\n",
       "  'Phillips 66 Co-SDP',\n",
       "  'Phillips66 USA'],\n",
       " 'Parkland': ['Parkland',\n",
       "  'Parkland (U.S.) Supply Corp',\n",
       "  'Parkland (U.S.) Supply Corp.',\n",
       "  'Parkland (U.S.) Supply Corp-SDP',\n",
       "  'PARKLAND (US) SUPPLY CORP',\n",
       "  'PARKLAND US SUPPLY CORP',\n",
       "  'Parkland US Supply Corp.'],\n",
       " 'PBF': ['PBF',\n",
       "  'PBF Energy',\n",
       "  'PBF ENERGY COMPANY LLC',\n",
       "  'PBF Energy Holding Company',\n",
       "  'PBF HOLDING',\n",
       "  'PBF HOLDING CO LLC',\n",
       "  'PBF Holding Co LLC-SDP',\n",
       "  'PBF Holding Co, LLC',\n",
       "  'PBF Holding Company',\n",
       "  'PBF Holding Company LLC',\n",
       "  'PBF HOLDING COMPANY LLC',\n",
       "  'PBF HOLDING COMPANY-PRD',\n",
       "  'PBF Trading'],\n",
       " 'Petro Diamond': ['PETRO DIAMOND INC',\n",
       "  'PETRO-DIAMOND',\n",
       "  'Petro-Diamond Inc',\n",
       "  'Petro-Diamond Incorporated '],\n",
       " 'Petro Star': ['Petro Star'],\n",
       " 'Petrochina': ['Petrochina Intl America Inc-SDP'],\n",
       " 'Petrocom': ['PETROCOM ENERGY', 'Petrocom Energy Grou'],\n",
       " 'Pilot Travel': ['PILOT TRAVEL CENTERS LLC'],\n",
       " 'QuickTrip': ['QT FUELS',\n",
       "  'QT FUELS INC',\n",
       "  'QT Fuels Incorp',\n",
       "  'QT Fuels Incorporated',\n",
       "  'QT FUELS INCORPORATED-PRD',\n",
       "  'Quick Trip',\n",
       "  'QuikTrip Corporation'],\n",
       " 'QT Fuels': ['QT Fuels Incorporated-SDP'],\n",
       " 'Rebel Oil': ['REBEL OIL COMPANY INC'],\n",
       " 'REG Mktg.': ['REG MARKETING & LOGI', 'REG MARKETING & LOGISTICS GROUP LLC'],\n",
       " 'RIL USA': ['RIL USA INC-PRD'],\n",
       " 'River City': ['RIVER CITY PETROLEUM', 'River City Petroleum, Inc.'],\n",
       " 'Rubis': ['RUBIS EASTERN CARIBBEAN SRL-PRD'],\n",
       " 'SBR Mktg.': ['SBR Marketing', 'SBR Marketing LLC'],\n",
       " 'Seaboard': ['SEABOARD ENERGY MARKETING INC',\n",
       "  'Seaboard Energy Marketing, Inc'],\n",
       " 'SEI Fuel': ['SEI FUEL SERVICES',\n",
       "  'SEI Fuel Services Inc',\n",
       "  'SEI Fuel Services, Inc.',\n",
       "  'SEI Fuel Svices, Inc.',\n",
       "  'SEI Fuels'],\n",
       " 'Shell': ['Shell Oil Products (SOPUS)',\n",
       "  'Shell Oil Products US',\n",
       "  'Shell Prod Bulk',\n",
       "  'Shell Trading',\n",
       "  'SHELL TRADING (US)',\n",
       "  'Shell Trading (US) Company',\n",
       "  'Shell Trading (US) Company-SDP',\n",
       "  'Shell Trading Co',\n",
       "  'Shell Trading Co ',\n",
       "  'Shell Trading Company US',\n",
       "  'SHELL TRADING US CO',\n",
       "  'Shell Trading US Company'],\n",
       " 'Shiralian': ['Shiralian Enterprises Inc.', 'Shiralian Enterprises, Inc.'],\n",
       " 'Sietco': ['SIETCO-PRD'],\n",
       " 'Southern Counties': ['Southern Counties Oil Co.'],\n",
       " 'Southwest': ['Southwest Jet Fuel',\n",
       "  'Southwest Jet Fuel Co',\n",
       "  'SOUTHWEST JET FUEL CO.',\n",
       "  'Southwest Jet Fuel Company',\n",
       "  'SOUTHWEST JET FUEL CO-PRD'],\n",
       " 'Space Age': ['Space Age', 'Space Age Fuel, Inc.'],\n",
       " 'Spirit Airlines': ['Spirit Airlines, Inc.'],\n",
       " 'Stan Boyett': ['Stan Boyett & Son Inc-SDP'],\n",
       " 'STR': ['STR-PRD'],\n",
       " 'STUSCO': ['STUSCO', 'STUSCO - Shell'],\n",
       " 'Sun Valley': ['Sun Valley Energy LLC',\n",
       "  'Sun Valley Energy, Inc.',\n",
       "  'SUN VALLEY ENERGY,INC'],\n",
       " 'Sunoco': ['Sunoco', 'Sunoco, LLC'],\n",
       " 'Supreme': ['Supreme Oil'],\n",
       " 'TAC': ['TAC', 'TACenergy', 'TACenergy LLC', 'TACenergy, LLC'],\n",
       " 'Targray': ['TARGRAY INDUSTRIES INC',\n",
       "  'Targray Industries, Inc',\n",
       "  'TARGRAY INDUSTRIES, INC.'],\n",
       " 'Tartan': ['Tartan',\n",
       "  'Tartan ',\n",
       "  'Tartan Oil',\n",
       "  'Tartan Oil ',\n",
       "  'Tartan Oil LLC',\n",
       "  'Tartan Oil LLC ',\n",
       "  'Tartan Oil LLC. ',\n",
       "  'TARTAN OIL LLC-PRD',\n",
       "  'Tartan Oil LLC-SDP'],\n",
       " 'Tauber': ['Tauber',\n",
       "  'Tauber Oil',\n",
       "  'TAUBER OIL CO',\n",
       "  'Tauber Oil Company',\n",
       "  'Tauber Oil Co-SDP'],\n",
       " 'TFG': ['TFG MARINE INC'],\n",
       " 'Jankovich': ['The Jankovich Company, LLC'],\n",
       " 'Trafigura': ['Trafigura Trading LLC',\n",
       "  'Trafigura Trading LLC. ',\n",
       "  'TRAFIGURA TRADING LLC-PRD'],\n",
       " 'Transmontaigne': ['Transmontaigne'],\n",
       " 'US Energy': ['U S Energy - A Division of U S Venture Inc',\n",
       "  'U.S. Energy a Division of U.S. Venture Inc.-S',\n",
       "  'U.S. Energy, a Division of U.S. Venture, Inc.',\n",
       "  'US ENERGY',\n",
       "  'US Energy a division of US Venture Inc'],\n",
       " 'US Oil': ['U.S. Oil & Refining Co.', 'US Oil', 'US OIL AND REFINING CO-PRD'],\n",
       " 'Ultrabulk': ['ULTRABULK A S'],\n",
       " 'Valero': ['Ultramar, Inc. / Valero Refining Co. - California',\n",
       "  'Valero',\n",
       "  'Valero Energy',\n",
       "  'Valero Energy Inc.',\n",
       "  'Valero M&S',\n",
       "  'Valero Marketing & Supply',\n",
       "  'Valero Marketing & Supply Co',\n",
       "  'Valero Marketing & Supply Company',\n",
       "  'Valero Marketing & Supply Co-SDP',\n",
       "  'VALERO MARKETING & SUPPLYCOMPANY',\n",
       "  'Valero Marketing and',\n",
       "  'Valero Marketing and Supply',\n",
       "  'Valero Marketing and Supply Compa',\n",
       "  'Valero Marketing and Supply Company',\n",
       "  'VALERO MARKETING AND SUPPLY COMPANY',\n",
       "  'Valero Marketing and Supply Company ',\n",
       "  'VALERO MKT AND SUPPLY-PRD'],\n",
       " 'Unipec': ['Unipec America, Inc.'],\n",
       " 'United Aviation': ['United Aviation Fuel'],\n",
       " 'UPRR': ['UPRR'],\n",
       " 'Valley Pacific': ['Valley Pacific Petroleum Service'],\n",
       " 'Vane Line': ['VANE LINE BUNKERING INC-PRD'],\n",
       " 'Vitol': ['Vitol',\n",
       "  'Vitol Aviation',\n",
       "  'VITOL AVIATION CO',\n",
       "  'Vitol Aviation Co.',\n",
       "  'VITOL AVIATION COMPANY',\n",
       "  'Vitol Aviation Company',\n",
       "  'Vitol Aviation Company ',\n",
       "  'Vitol Aviation Co-SDP',\n",
       "  'VITOL INC',\n",
       "  'VITOL INC.',\n",
       "  'Vitol Inc.',\n",
       "  'VITOL INC-PRD'],\n",
       " 'World Fuel': ['World Fuel Serv Inc', 'WORLD FUEL SERVICES INC']}"
      ]
     },
     "execution_count": 54,
     "metadata": {},
     "output_type": "execute_result"
    }
   ],
   "source": [
    "dict_Directory['Company']"
   ]
  },
  {
   "cell_type": "code",
   "execution_count": 55,
   "id": "58602d36-05af-40f6-9878-37f873d6eb16",
   "metadata": {},
   "outputs": [],
   "source": [
    "for key, values in dict_Directory['Company'].items():\n",
    "    df['Company Name'] = df['Company Name'].replace(values, key)"
   ]
  },
  {
   "cell_type": "code",
   "execution_count": 56,
   "id": "70e6de2a-dc54-4b3b-8eaf-70b67210d2d3",
   "metadata": {},
   "outputs": [
    {
     "data": {
      "text/plain": [
       "False"
      ]
     },
     "execution_count": 56,
     "metadata": {},
     "output_type": "execute_result"
    }
   ],
   "source": [
    "set(df['Company Name'].unique()) <= set(dict_Directory['Company'].keys())"
   ]
  },
  {
   "cell_type": "code",
   "execution_count": 57,
   "id": "60001154-0d87-44b9-b35c-c68e4402cf0d",
   "metadata": {},
   "outputs": [
    {
     "data": {
      "text/plain": [
       "['Hartland Fuels LLC DBA HTP Energy',\n",
       " 'Sage Refined Products, Ltd.',\n",
       " 'NGL CRUDE LOGISTICS, LLC',\n",
       " 'Marathon Petroleum']"
      ]
     },
     "execution_count": 57,
     "metadata": {},
     "output_type": "execute_result"
    }
   ],
   "source": [
    "# Nombres de company que no estan en keys\n",
    "nokey_list = list(set(df['Company Name'].unique()) - set(dict_Directory['Company'].keys()))\n",
    "nokey_list = [str(nokey) for nokey in nokey_list]\n",
    "\n",
    "if \"nan\" in nokey_list:\n",
    "    nokey_list.remove(\"nan\")\n",
    "\n",
    "nokey_list"
   ]
  },
  {
   "cell_type": "code",
   "execution_count": 58,
   "id": "79e514f1-2d01-43f8-8449-c7c38237476d",
   "metadata": {
    "scrolled": true
   },
   "outputs": [
    {
     "data": {
      "text/plain": [
       "['US Venture',\n",
       " 'Alaska Airlines',\n",
       " 'Allegiant Air',\n",
       " 'Altair',\n",
       " 'Ampol',\n",
       " 'Aramco',\n",
       " 'Archer-Daniels',\n",
       " 'Avfuel',\n",
       " 'BB',\n",
       " 'Biosphere',\n",
       " 'Boyett',\n",
       " 'BP',\n",
       " 'Castleton',\n",
       " 'CCMT',\n",
       " 'Chase Inc',\n",
       " 'Chevron',\n",
       " 'Clean2050',\n",
       " 'CMA CGM',\n",
       " 'Cockett',\n",
       " 'Crimson',\n",
       " 'DAN Bunkering',\n",
       " 'Diamond Green',\n",
       " 'Eastern Aviation',\n",
       " 'Elbow River',\n",
       " 'ENEOS',\n",
       " 'Enpramex',\n",
       " 'Epsilon',\n",
       " 'Equilon',\n",
       " 'Flyers',\n",
       " 'FSM',\n",
       " 'General Pet.',\n",
       " 'Glander Int.',\n",
       " 'Glencore',\n",
       " 'GreenAmerica',\n",
       " 'Gresham',\n",
       " 'Gunvor',\n",
       " 'Hartland',\n",
       " 'Herbst',\n",
       " 'HF Sinclair',\n",
       " 'HTP',\n",
       " 'Idemitsu',\n",
       " 'JACO',\n",
       " 'Jaco Oil',\n",
       " 'Kern',\n",
       " 'Keyera',\n",
       " 'Kinder Morgan',\n",
       " 'KPI',\n",
       " 'Lincoln Oil',\n",
       " 'Mansfield',\n",
       " 'Marathon',\n",
       " 'Martinez Renewables',\n",
       " 'Maverik',\n",
       " 'McCall',\n",
       " 'Mieco',\n",
       " 'Monjasa',\n",
       " 'Murex',\n",
       " 'Musket',\n",
       " 'n/a',\n",
       " 'NAFCO',\n",
       " 'Neste',\n",
       " 'NGL',\n",
       " 'N.A.Fuels',\n",
       " 'Offen',\n",
       " 'P66',\n",
       " 'Parkland',\n",
       " 'PBF',\n",
       " 'Petro Diamond',\n",
       " 'Petro Star',\n",
       " 'Petrochina',\n",
       " 'Petrocom',\n",
       " 'Pilot Travel',\n",
       " 'QuickTrip',\n",
       " 'QT Fuels',\n",
       " 'Rebel Oil',\n",
       " 'REG Mktg.',\n",
       " 'RIL USA',\n",
       " 'River City',\n",
       " 'Rubis',\n",
       " 'SBR Mktg.',\n",
       " 'Seaboard',\n",
       " 'SEI Fuel',\n",
       " 'Shell',\n",
       " 'Shiralian',\n",
       " 'Sietco',\n",
       " 'Southern Counties',\n",
       " 'Southwest',\n",
       " 'Space Age',\n",
       " 'Spirit Airlines',\n",
       " 'Stan Boyett',\n",
       " 'STR',\n",
       " 'STUSCO',\n",
       " 'Sun Valley',\n",
       " 'Sunoco',\n",
       " 'Supreme',\n",
       " 'TAC',\n",
       " 'Targray',\n",
       " 'Tartan',\n",
       " 'Tauber',\n",
       " 'TFG',\n",
       " 'Jankovich',\n",
       " 'Trafigura',\n",
       " 'Transmontaigne',\n",
       " 'US Energy',\n",
       " 'US Oil',\n",
       " 'Ultrabulk',\n",
       " 'Valero',\n",
       " 'Unipec',\n",
       " 'United Aviation',\n",
       " 'UPRR',\n",
       " 'Valley Pacific',\n",
       " 'Vane Line',\n",
       " 'Vitol',\n",
       " 'World Fuel']"
      ]
     },
     "execution_count": 58,
     "metadata": {},
     "output_type": "execute_result"
    }
   ],
   "source": [
    "key_list = list(dict_Directory['Company'].keys())\n",
    "key_list"
   ]
  },
  {
   "cell_type": "code",
   "execution_count": 59,
   "id": "750ca7a9-66d4-4eff-9a5a-c93293ea43fb",
   "metadata": {},
   "outputs": [
    {
     "name": "stdout",
     "output_type": "stream",
     "text": [
      "Hartland Fuels LLC DBA HTP Energy\n",
      "HTP\n",
      "Sage Refined Products, Ltd.\n",
      "Shell\n",
      "NGL CRUDE LOGISTICS, LLC\n",
      "NGL\n",
      "Marathon Petroleum\n",
      "Marathon\n"
     ]
    },
    {
     "data": {
      "text/plain": [
       "{'Hartland Fuels LLC DBA HTP Energy': 'HTP',\n",
       " 'Sage Refined Products, Ltd.': 'Shell',\n",
       " 'NGL CRUDE LOGISTICS, LLC': 'NGL',\n",
       " 'Marathon Petroleum': 'Marathon'}"
      ]
     },
     "execution_count": 59,
     "metadata": {},
     "output_type": "execute_result"
    }
   ],
   "source": [
    "dictio_ = {}\n",
    "for nokey in nokey_list:\n",
    "    print(nokey)\n",
    "    dict_ = {}\n",
    "    for key in key_list:\n",
    "        value_list = list(dict_Directory['Company'][key])\n",
    "        dict_[key] = np.max(np.array([round(fuzz.token_set_ratio(value.upper(), nokey.upper()),2) for value in value_list]))\n",
    "            \n",
    "    key_max = max(dict_, key= lambda x: dict_[x])\n",
    "    print(key_max)\n",
    "    dictio_[nokey] = key_max\n",
    "\n",
    "dictio_"
   ]
  },
  {
   "cell_type": "code",
   "execution_count": 60,
   "id": "8089f412-9301-4605-8469-b51191d7a833",
   "metadata": {},
   "outputs": [
    {
     "data": {
      "text/plain": [
       "[]"
      ]
     },
     "execution_count": 60,
     "metadata": {},
     "output_type": "execute_result"
    }
   ],
   "source": [
    "df[\"Company Name\"] = df[\"Company Name\"].replace(dictio_)\n",
    "\n",
    "# Nombres de company que no estan en keys\n",
    "nokey_list = list(set(df[\"Company Name\"].unique()) - set(dict_Directory['Company'].keys()))\n",
    "nokey_list"
   ]
  },
  {
   "cell_type": "markdown",
   "id": "5b0c4f89-e19b-469e-954b-628daf6c5e07",
   "metadata": {
    "jp-MarkdownHeadingCollapsed": true
   },
   "source": [
    "#### Company_ID_Number"
   ]
  },
  {
   "cell_type": "code",
   "execution_count": 61,
   "id": "b7c386c4-13e8-40a9-bfcc-455bd14c87fe",
   "metadata": {},
   "outputs": [
    {
     "data": {
      "text/plain": [
       "array(['BPN-0916161800', '', 255000101.0, '76-058050800', 98181445.0,\n",
       "       100100.0, 200003900.0, 'Unknown', 399541646.0, 'XXXXXXXXXXXX',\n",
       "       710891110.0], dtype=object)"
      ]
     },
     "execution_count": 61,
     "metadata": {},
     "output_type": "execute_result"
    }
   ],
   "source": [
    "df['Company ID Number'].unique()"
   ]
  },
  {
   "cell_type": "code",
   "execution_count": 62,
   "id": "c009711a-5fdb-4304-9414-26ec5cd4f588",
   "metadata": {},
   "outputs": [
    {
     "data": {
      "text/plain": [
       "dict_keys(['Company', 'Position Seq. Num.', 'CPID', 'Counterparty Contact', 'TL', 'Sell_Buy', 'Product Type', 'Product', 'Delivery Method', 'Delivery Location', 'Price Basis Method', 'Reference Product'])"
      ]
     },
     "execution_count": 62,
     "metadata": {},
     "output_type": "execute_result"
    }
   ],
   "source": [
    "# dict_Directory['Company']\n",
    "dict_Directory.keys()"
   ]
  },
  {
   "cell_type": "markdown",
   "id": "21a42c89-9a78-47c7-b182-a16188774a9c",
   "metadata": {
    "jp-MarkdownHeadingCollapsed": true
   },
   "source": [
    "#### Date_Filed"
   ]
  },
  {
   "cell_type": "code",
   "execution_count": 63,
   "id": "c021b6a4-040d-48f3-b29d-7359e98d179a",
   "metadata": {},
   "outputs": [],
   "source": [
    "df['Date Filed'] = df['Date Filed'].astype(str)"
   ]
  },
  {
   "cell_type": "code",
   "execution_count": 64,
   "id": "ea0db18d-632a-40a5-bf77-cdcc87335108",
   "metadata": {},
   "outputs": [
    {
     "data": {
      "text/plain": [
       "array(['2025-01-06', '2025-01-06 08:44:46.980000', '2025-01-02',\n",
       "       '2025-01-07 08:07:59.190000', '2025-01-07', '', '2025-01-08',\n",
       "       '2025-01-08 08:25:42.430000', '01/08/2025', '2025-01-04',\n",
       "       '2025-01-09 08:42:16.610000', '2025-01-09', '2025-01-10',\n",
       "       '2025-01-10 08:36:14.560000', '01/10/2025', '2025-01-13',\n",
       "       '2025-01-13 08:47:09.020000', '2025-01-14',\n",
       "       '2025-01-14 08:32:03.750000', '01/14/2025', '2025-01-15',\n",
       "       '2025-01-15 08:24:31.860000', '01/15/2025',\n",
       "       '2025-01-16 08:22:53.110000', '2025-01-16', '2025-01-11',\n",
       "       '2025-01-17', '2025-01-17 08:49:15.690000'], dtype=object)"
      ]
     },
     "execution_count": 64,
     "metadata": {},
     "output_type": "execute_result"
    }
   ],
   "source": [
    "df['Date Filed'].unique()"
   ]
  },
  {
   "cell_type": "code",
   "execution_count": 65,
   "id": "29e8e886-dde5-47e8-bdef-9f474e03ee3b",
   "metadata": {},
   "outputs": [],
   "source": [
    "# i = 0\n",
    "# for row in df['Date_Filed']:\n",
    "#     print(str(i), row)\n",
    "#     print(str_to_date(row))\n",
    "#     i=i+1"
   ]
  },
  {
   "cell_type": "code",
   "execution_count": 66,
   "id": "28b262bc-65ff-49a7-8cef-ac145c01f88c",
   "metadata": {},
   "outputs": [],
   "source": [
    "df['Date Filed'] = df[\"Date Filed\"].map(lambda x: str_to_date(x))"
   ]
  },
  {
   "cell_type": "code",
   "execution_count": 67,
   "id": "5cc2d5dd-da1e-4c1e-97ea-46b06f52490b",
   "metadata": {},
   "outputs": [
    {
     "data": {
      "text/plain": [
       "array([datetime.date(2025, 1, 6), datetime.date(2025, 1, 2),\n",
       "       datetime.date(2025, 1, 7), NaT, datetime.date(2025, 1, 8),\n",
       "       datetime.date(2025, 1, 4), datetime.date(2025, 1, 9),\n",
       "       datetime.date(2025, 1, 10), datetime.date(2025, 1, 13),\n",
       "       datetime.date(2025, 1, 14), datetime.date(2025, 1, 15),\n",
       "       datetime.date(2025, 1, 16), datetime.date(2025, 1, 11),\n",
       "       datetime.date(2025, 1, 17)], dtype=object)"
      ]
     },
     "execution_count": 67,
     "metadata": {},
     "output_type": "execute_result"
    }
   ],
   "source": [
    "df['Date Filed'].unique()"
   ]
  },
  {
   "cell_type": "markdown",
   "id": "73dcc224-884d-4b47-a8a0-eb9965dee325",
   "metadata": {
    "jp-MarkdownHeadingCollapsed": true
   },
   "source": [
    "#### Date of Contract"
   ]
  },
  {
   "cell_type": "code",
   "execution_count": 68,
   "id": "ad460c11-dce5-4031-b33d-06ee2b7b7b12",
   "metadata": {},
   "outputs": [],
   "source": [
    "df['Date of Contract'] = df[\"Date of Contract\"].astype(str)"
   ]
  },
  {
   "cell_type": "code",
   "execution_count": 69,
   "id": "50e13d04-0669-4b75-8dbc-4e48ce85a708",
   "metadata": {},
   "outputs": [],
   "source": [
    "df['Date of Contract'] = df[\"Date of Contract\"].map(lambda x: str_to_date(x))"
   ]
  },
  {
   "cell_type": "code",
   "execution_count": 70,
   "id": "d1d541d4-7409-4ba6-ad56-9ae2324db002",
   "metadata": {
    "scrolled": true
   },
   "outputs": [
    {
     "data": {
      "text/plain": [
       "array([datetime.date(2024, 12, 17), datetime.date(2025, 1, 3),\n",
       "       datetime.date(2025, 1, 2), datetime.date(2025, 1, 6),\n",
       "       datetime.date(2025, 1, 7), datetime.date(2025, 1, 8),\n",
       "       datetime.date(2025, 1, 9), datetime.date(2025, 1, 10),\n",
       "       datetime.date(2025, 12, 31), datetime.date(2025, 12, 23),\n",
       "       datetime.date(2024, 12, 19), datetime.date(2025, 1, 13),\n",
       "       datetime.date(2025, 1, 14), datetime.date(2025, 1, 15),\n",
       "       datetime.date(2025, 1, 1), NaT, datetime.date(2025, 12, 17),\n",
       "       datetime.date(2024, 1, 15), datetime.date(2025, 1, 16),\n",
       "       datetime.date(2024, 7, 22), datetime.date(2024, 7, 11),\n",
       "       datetime.date(2024, 8, 1), datetime.date(2024, 8, 16),\n",
       "       datetime.date(2024, 9, 26), datetime.date(2024, 10, 18),\n",
       "       datetime.date(2024, 11, 6), datetime.date(2024, 11, 19),\n",
       "       datetime.date(2024, 12, 18), datetime.date(2025, 1, 17)],\n",
       "      dtype=object)"
      ]
     },
     "execution_count": 70,
     "metadata": {},
     "output_type": "execute_result"
    }
   ],
   "source": [
    "df['Date of Contract'].unique()"
   ]
  },
  {
   "cell_type": "code",
   "execution_count": 71,
   "id": "a1fdc580-9cd8-42c1-b999-03ef3414dca0",
   "metadata": {},
   "outputs": [
    {
     "data": {
      "text/plain": [
       "dtype('O')"
      ]
     },
     "execution_count": 71,
     "metadata": {},
     "output_type": "execute_result"
    }
   ],
   "source": [
    "df['Date of Contract'].dtype"
   ]
  },
  {
   "cell_type": "markdown",
   "id": "a7a42e49-382f-47a7-b480-0ecb7393450c",
   "metadata": {
    "jp-MarkdownHeadingCollapsed": true
   },
   "source": [
    "#### Contract ID Number"
   ]
  },
  {
   "cell_type": "code",
   "execution_count": 72,
   "id": "f01c852b-2d6f-4c8c-adfe-e40defb07f10",
   "metadata": {},
   "outputs": [
    {
     "data": {
      "text/plain": [
       "array(['U240060424', 'U250000527', 'U250000530', 'BPN25TP0008',\n",
       "       'VAL25PE0003', 'PEL24TS90051-3', 'PVP24TP90102-2',\n",
       "       'PVP24TP90102-3', 'USA25TS90003-1', 'CHV02444PP', 'USV25PE0001',\n",
       "       '8308551-1', '8309220-1', '8309304-1', '8309430-1',\n",
       "       'GJX25TS998689', 250100.0, 250101.0, 250102.0, 196674.0,\n",
       "       'BPP25TP90005-1', 'MAB25TS90004-1', 'VAL25TP90003-1',\n",
       "       'VAL25TP90004-1', 'BPP25TS90006-1', 'IDF25TS90002-1', 'U250000693',\n",
       "       'U250000694', 'U250000910', 'U250000946', 'TARTA25PE998755',\n",
       "       'TARTA25TS998752', 'MAR25TP0005', 'PBF25PE0001', 'PBF25TP0003',\n",
       "       'CHE25PE0003', 'PEK25PE0001', 'BBENC25PE0002', 'MIECA25PE0001',\n",
       "       'SHLTR25PE0001', 'TARTA25PE0003', 'VALMS25TP0025', '8311181-1',\n",
       "       '8312047-1', '8312723-1', '8313204-1', '8313206-1', '8313994-1',\n",
       "       '8314155-1', '8314163-1', '8314196-1', '8314227-1', '8314255-1',\n",
       "       '8314266-1', '8315017-1', '8315053-1', '8315058-1', '8315605-1',\n",
       "       'CHV02446PP', 'PETEU25TS0001', 'PHILP25TP0023', 'VALMS25TP0058',\n",
       "       'PS25000108', 'U250001295', 'PETEU25TP0001', 'SHLTR25TS0009',\n",
       "       'VITON25TS0001', 'VITON25TS0002', 'CVM25TS998822',\n",
       "       'BPP25TS90008-1', 'MAB25TS90007-1', 'VALMS25TS0029', '8316366-1',\n",
       "       '8319787-1', 8571959.0, 8572055.0, '202510361', '202510599',\n",
       "       '202510615', '202510619', '202510620', '202510883', '202510885',\n",
       "       'ASH03302PP', 'VMX04615PS', 250103.0, 250104.0, 250105.0,\n",
       "       'PHI25PE0001', 'TARTA25TS0011', 'TARTA25TS0009', 'PBFHC25TP0010',\n",
       "       'TARTA25TS0010', 'MUSKT25TS0008', 'TARTA25TS0008', 'PBFHC25TP0009',\n",
       "       'VALMS25TP0061', 'BPP25TS90010-1', 'BPP25TS90014-1',\n",
       "       'BPP25TS90015-1', 'BPP25TS90016-1', 'CCS25TS90003-1',\n",
       "       'CCS25TS90004-1', 'CCS25TS90005-1', 'EYE25TP90001-1',\n",
       "       'TRT25TP90001-1', 'TRT25TS90002-1', 'VAL25TB90007-1',\n",
       "       'VAL25TB90007-2', 'SHL25PE998934', 'MARDQ25PE998933',\n",
       "       'MARDQ25PE998929', 'THEJA25TS999003', 'CVG25TP999000',\n",
       "       'CVG25TP998999', 'U250001382', 'U250001611', 'U250001591',\n",
       "       'U250001589', 'U250001588', 'U250001587', 'U250001481',\n",
       "       'CHE25TP0003', 'MAR25PE0002', 'MAR25PE0003', 'MAR25TP0007',\n",
       "       'MAR25TP0008', 'MAR25TP0009', 'PHI25PE0002', 'CHE25TB0003',\n",
       "       'CHE25TB0004', 'CHE25TP0004', 'CHEVA25PE0005', 'PETRF25PE0001',\n",
       "       'PBH02156PP', 'BPNOR25PE0006', 'BPNOR25PE0007', 'OFFEN25TS0005',\n",
       "       'PARKD25TS0001', 'PBFEN25TS0018', 'PBFEN25TS0019', 'PHILL25PE0009',\n",
       "       'PHILL25PE0010', 'PHILL25PE0011', 'PHILL25PE0012', 'QTFUE25PE0005',\n",
       "       'TARTA25TB0003', 'TARTA25TB0004', 'TARTA25TS0003', 'TARTA25TS0004',\n",
       "       'PS25000128', 197184.0, 'MUSKT25TS0010', 'BPPNA25TS0017',\n",
       "       'TARTA25TS0012', 'U250001694', 'U250001777', 'U250001801',\n",
       "       'U250001855', 'U250001867', 'U250001869', 'U250001889',\n",
       "       'CCS25TP90003-1', 'GNR24TS90004-4', 'PEG25TS90001-1',\n",
       "       'TRT25TS90003-1', 'VAL25TP90008-1', 'ASH03304PB', 'BBENC25PE0003',\n",
       "       'BPNOR25PE0008', 'BPNOR25PE0009', 'IDEMI25PE0001', 'MUSKE25TS0011',\n",
       "       'SHLTR25PE0002', 'TACEN25TS0001', 'TARTA25PE0004', 'TARTA25TS0005',\n",
       "       'TARTA25TS0006', 'TARTA25TS0007', 'VITOC25PE0002', 'CHV25PE0003',\n",
       "       'BPN25TP0004', '8321022-1', '8321029-1', '8321818-1', '8322169-1',\n",
       "       '8322172-1', '8321826-1', 'TARTA25TP0003', 'TARTA25TP0004',\n",
       "       'PC1107203', 'PC1107204', 'MAR25TP0010', 'CHE25TP0005',\n",
       "       'CHE25TP0006', 'QTF25TS0004', 'QTF25TS0005', 'CHE25TP0007',\n",
       "       'PHI25TP0009', 'BPN25PE0003', 'BPN25PE0004', 'IDE25PE0001',\n",
       "       'IDE25TP0001', 'CHE25PE0004', 8580060.0, '241231 / SUS25TP0002',\n",
       "       '241232 / SUS25TP0003', '241236 / OFF25TP0001',\n",
       "       '241237 / VAL25TS0001', '241238 / BBE25TP0001', 250106.0, 250107.0,\n",
       "       250108.0, 250109.0, 250110.0, 250111.0, 250112.0, 250113.0,\n",
       "       250114.0, 'IJE25TS997349', 'TARTA25TS0013', 'MUSKT25TS0013',\n",
       "       'VALMS25TP0062', 'REGML25TS001523', 'U250002097', 'QTF25TS90006-1',\n",
       "       'HTPEN25TS0001', 'PHILL25TP0014', 'IDA25TP0001', 'IDE25TS0003',\n",
       "       'MAR25TP0011', '8329651-1', '8329831-1', 'PHYS671', 'PC1107230',\n",
       "       'PKW25PE999262', 'BPN25PE999247', 'MUS25TP999274', 'CVG25TP999289',\n",
       "       'TARTN25TB001525', 'CHVTX25TP0023', 'QTFUE25TP0008',\n",
       "       'VALMS25TP0063', 'BPP25TP90027-1', 'IDF25TS90004-1',\n",
       "       'PVP25TP90002-1', 'VAL25TP90012-1', 'VAL25TS90007-1', 'U250002387',\n",
       "       'U250002389', 'U250002436', 'MARAA25PE0003', 'PHILL25TP0016',\n",
       "       8591154.0, 'HTPEN25TS0002', 'MARAT25TS0004', 'MUSKE25PE0002',\n",
       "       'MUSKE25TS0012', 'PBFEN25TS0020', 'TAUBE25TS0001', 'TAUBE25TS0002',\n",
       "       'VITOC25PE0003', '8334658-1', '8334875-1', '8335745-1',\n",
       "       '8336155-1', '8334653-1', '8335749-1', 'SCL25TB0001',\n",
       "       'VAL25TB0006', 'EPS25TP999499', 'ZHN25PE999498', 'CVG25PE999443',\n",
       "       'MIECO25PE999386', 'CVG25PE999385', 'CVG25PE999380',\n",
       "       'BPN25PE999364', 'BBENE25PE999362', 'PKW25PE999359',\n",
       "       'CVM25TS999361', 'BPP25TP90028-1', 'BPP25TP90029-1',\n",
       "       'BPP25TS90027-1', 'CCS25TP90005-1', 'PAQ25TS90001-1',\n",
       "       'PVP25TS90002-1', 'SHB25TS90005-1', 'TRT25TS90007-1',\n",
       "       'VAL25TS90010-1', 'CCS25TP90006-1', 'USA25TS90007-1', 'U250002570',\n",
       "       'U250002571', 'U250002572', 'U250002586', 'U250002588',\n",
       "       'U250002616', 'U250002767', 'CHEVA25PE0006', 'VALEA25PE0007',\n",
       "       '8339138-1', '8339742-1', '8339082-1', 'PHI25TP0010',\n",
       "       'GRN25TS0001', 'MIE25PE0001', 'BBENC25PE0004', 'BPNOR25TB0001',\n",
       "       'BPNOR25TP0012', 'IDEMI25PE0002', 'MUSKE25TS0013', 'MUSKE25TS0014',\n",
       "       'PARKD25PE0001', 'PARKD25PE0002', 'PBFEN25PE0011', 'PBFEN25PE0012',\n",
       "       'PBFEN25PE0013', 'PHILL25TS0012', 'PHILL25TS0013', 'QTFUE25PE0006',\n",
       "       'SHLTR25PE0004', 'SHLTR25TP0010', 8597794.0, 8597798.0,\n",
       "       'CHV02451PS', 'FYR04243PP', 'USO00165PS', 250115.0, 250116.0,\n",
       "       250117.0, 'STANY25TS0002', 8262350.0, 8262351.0, 'RXU25TS996583',\n",
       "       'STANY25TS0001', 'MAR25TP0001', 'VAL25TS0004', 'BPP25TP90035-1',\n",
       "       'CCS25TP90007-1', 'MAB25TS90019-1', 'VAL25TP90014-1',\n",
       "       'VAL25TB999511', 'MARDQ25PE999588', 'CVG25PE999509',\n",
       "       'CVG25PE999508', 'CVG25PE999507', 'CVG25PE999592', 'BPN25PE999573',\n",
       "       'VAL25PE999512', 'BPN25PE999510', 'MUS25TS999522', '202511116',\n",
       "       '202511117', '202511118', '202511119', '202511122', '202511123',\n",
       "       '202511130', '202511399', '202511400', '202511403', '202511405',\n",
       "       '202511407', '202511408', '202511409', '202511410', '202511592',\n",
       "       '202511839', '202511840', '202511841', '202511864', '202511865',\n",
       "       '202511872', '202512046', '202512049', '202512051', '202512052',\n",
       "       '202512080', '202512081', '202512082', '202512083', '202512086',\n",
       "       '202512092', '202512095', '202512148', '202512151',\n",
       "       'CHVTX25TP0024', 'PBFHC25TS0007', 'CHVTX25TS0019', 'TARTA25TS0016',\n",
       "       'PHILP25TP0041', 'U250002977', 'U250002978', 'U250003109',\n",
       "       'U250003129', 'U250003140', 'VALEA25TB0013', 'BPNOR25TS0010',\n",
       "       'MARAT25PE0008', 'MARAT25TS0005', 'MUSKE25PE0003', 'MUSKE25TS0016',\n",
       "       'PBFEN25PE0014', 'PBFEN25PE0015', 'PBFEN25PE0016', 'PBFEN25PE0017',\n",
       "       'PHILL25TS0014', 'TACEN25TS0002', 'TARTA25PE0005', 'PHYS673',\n",
       "       'PBH02159PP', '8341913-1', '8341927-1', '8341932-1', '8341936-1',\n",
       "       '8341938-1', '8342024-1', '8342046-1', '8342099-1', '8342113-1',\n",
       "       '8343216-1', '8341919-1', '8341952-1', '8345229-1', 'GRN25TS0002',\n",
       "       'MAR25TP0014', 'USO25TB0003', 'CHE25PE0005', 'CHE25TP0008',\n",
       "       'QTF25TS0006', 'QTF25TS0007', 'U250003336', 'U250003342',\n",
       "       'U250003345', 'CVG25PE999656', 'VAL25PE999643', 'NGA25TS0002',\n",
       "       'HOC25TS0003', 'SHE25PE0002', 'IDE25TS0004', 'BPP25TS90032-1',\n",
       "       'BPP25TS90033-1', 'ENX25TS90001-1', 'QTF25TS90012-1',\n",
       "       'QTF25TS90013-1', 'VAL25TS90012-1', 134239.0, 134129.0, 134130.0,\n",
       "       134437.0, 134641.0, 135249.0, 135606.0, 135938.0, 136102.0,\n",
       "       136611.0, 137134.0, 337606.0, 'VALMS25TS0017', 'BBENC25TP0001',\n",
       "       'IDEMI25PE0003', 'IDEMI25TB0001', 'MUSKE25PE0004', 'PBFEN25PE0018',\n",
       "       'VALMS25TS0033', '8346271-1', '8346276-1', '8346287-1',\n",
       "       '8346288-1', '8346294-1', '8346295-1', '8346311-1', '8346476-1',\n",
       "       '8346477-1', '8348662-1', '8346351-1', '8346473-1', '8346482-1',\n",
       "       '8347606-1', '8347612-1'], dtype=object)"
      ]
     },
     "execution_count": 72,
     "metadata": {},
     "output_type": "execute_result"
    }
   ],
   "source": [
    "df['Contract ID Number'].unique()"
   ]
  },
  {
   "cell_type": "code",
   "execution_count": 73,
   "id": "a1e35e6c-8ca3-4c87-913d-6a6110d5fe28",
   "metadata": {},
   "outputs": [],
   "source": [
    "df['Contract ID Number'] = df['Contract ID Number'].astype(str)"
   ]
  },
  {
   "cell_type": "code",
   "execution_count": 74,
   "id": "329807aa-54b2-4778-bd9f-8b621fceee0c",
   "metadata": {},
   "outputs": [
    {
     "data": {
      "text/plain": [
       "array(['U240060424', 'U250000527', 'U250000530', 'BPN25TP0008',\n",
       "       'VAL25PE0003', 'PEL24TS90051-3', 'PVP24TP90102-2',\n",
       "       'PVP24TP90102-3', 'USA25TS90003-1', 'CHV02444PP', 'USV25PE0001',\n",
       "       '8308551-1', '8309220-1', '8309304-1', '8309430-1',\n",
       "       'GJX25TS998689', '250100.0', '250101.0', '250102.0', '196674.0',\n",
       "       'BPP25TP90005-1', 'MAB25TS90004-1', 'VAL25TP90003-1',\n",
       "       'VAL25TP90004-1', 'BPP25TS90006-1', 'IDF25TS90002-1', 'U250000693',\n",
       "       'U250000694', 'U250000910', 'U250000946', 'TARTA25PE998755',\n",
       "       'TARTA25TS998752', 'MAR25TP0005', 'PBF25PE0001', 'PBF25TP0003',\n",
       "       'CHE25PE0003', 'PEK25PE0001', 'BBENC25PE0002', 'MIECA25PE0001',\n",
       "       'SHLTR25PE0001', 'TARTA25PE0003', 'VALMS25TP0025', '8311181-1',\n",
       "       '8312047-1', '8312723-1', '8313204-1', '8313206-1', '8313994-1',\n",
       "       '8314155-1', '8314163-1', '8314196-1', '8314227-1', '8314255-1',\n",
       "       '8314266-1', '8315017-1', '8315053-1', '8315058-1', '8315605-1',\n",
       "       'CHV02446PP', 'PETEU25TS0001', 'PHILP25TP0023', 'VALMS25TP0058',\n",
       "       'PS25000108', 'U250001295', 'PETEU25TP0001', 'SHLTR25TS0009',\n",
       "       'VITON25TS0001', 'VITON25TS0002', 'CVM25TS998822',\n",
       "       'BPP25TS90008-1', 'MAB25TS90007-1', 'VALMS25TS0029', '8316366-1',\n",
       "       '8319787-1', '8571959.0', '8572055.0', '202510361', '202510599',\n",
       "       '202510615', '202510619', '202510620', '202510883', '202510885',\n",
       "       'ASH03302PP', 'VMX04615PS', '250103.0', '250104.0', '250105.0',\n",
       "       'PHI25PE0001', 'TARTA25TS0011', 'TARTA25TS0009', 'PBFHC25TP0010',\n",
       "       'TARTA25TS0010', 'MUSKT25TS0008', 'TARTA25TS0008', 'PBFHC25TP0009',\n",
       "       'VALMS25TP0061', 'BPP25TS90010-1', 'BPP25TS90014-1',\n",
       "       'BPP25TS90015-1', 'BPP25TS90016-1', 'CCS25TS90003-1',\n",
       "       'CCS25TS90004-1', 'CCS25TS90005-1', 'EYE25TP90001-1',\n",
       "       'TRT25TP90001-1', 'TRT25TS90002-1', 'VAL25TB90007-1',\n",
       "       'VAL25TB90007-2', 'SHL25PE998934', 'MARDQ25PE998933',\n",
       "       'MARDQ25PE998929', 'THEJA25TS999003', 'CVG25TP999000',\n",
       "       'CVG25TP998999', 'U250001382', 'U250001611', 'U250001591',\n",
       "       'U250001589', 'U250001588', 'U250001587', 'U250001481',\n",
       "       'CHE25TP0003', 'MAR25PE0002', 'MAR25PE0003', 'MAR25TP0007',\n",
       "       'MAR25TP0008', 'MAR25TP0009', 'PHI25PE0002', 'CHE25TB0003',\n",
       "       'CHE25TB0004', 'CHE25TP0004', 'CHEVA25PE0005', 'PETRF25PE0001',\n",
       "       'PBH02156PP', 'BPNOR25PE0006', 'BPNOR25PE0007', 'OFFEN25TS0005',\n",
       "       'PARKD25TS0001', 'PBFEN25TS0018', 'PBFEN25TS0019', 'PHILL25PE0009',\n",
       "       'PHILL25PE0010', 'PHILL25PE0011', 'PHILL25PE0012', 'QTFUE25PE0005',\n",
       "       'TARTA25TB0003', 'TARTA25TB0004', 'TARTA25TS0003', 'TARTA25TS0004',\n",
       "       'PS25000128', '197184.0', 'MUSKT25TS0010', 'BPPNA25TS0017',\n",
       "       'TARTA25TS0012', 'U250001694', 'U250001777', 'U250001801',\n",
       "       'U250001855', 'U250001867', 'U250001869', 'U250001889',\n",
       "       'CCS25TP90003-1', 'GNR24TS90004-4', 'PEG25TS90001-1',\n",
       "       'TRT25TS90003-1', 'VAL25TP90008-1', 'ASH03304PB', 'BBENC25PE0003',\n",
       "       'BPNOR25PE0008', 'BPNOR25PE0009', 'IDEMI25PE0001', 'MUSKE25TS0011',\n",
       "       'SHLTR25PE0002', 'TACEN25TS0001', 'TARTA25PE0004', 'TARTA25TS0005',\n",
       "       'TARTA25TS0006', 'TARTA25TS0007', 'VITOC25PE0002', 'CHV25PE0003',\n",
       "       'BPN25TP0004', '8321022-1', '8321029-1', '8321818-1', '8322169-1',\n",
       "       '8322172-1', '8321826-1', 'TARTA25TP0003', 'TARTA25TP0004',\n",
       "       'PC1107203', 'PC1107204', 'MAR25TP0010', 'CHE25TP0005',\n",
       "       'CHE25TP0006', 'QTF25TS0004', 'QTF25TS0005', 'CHE25TP0007',\n",
       "       'PHI25TP0009', 'BPN25PE0003', 'BPN25PE0004', 'IDE25PE0001',\n",
       "       'IDE25TP0001', 'CHE25PE0004', '8580060.0', '241231 / SUS25TP0002',\n",
       "       '241232 / SUS25TP0003', '241236 / OFF25TP0001',\n",
       "       '241237 / VAL25TS0001', '241238 / BBE25TP0001', '250106.0',\n",
       "       '250107.0', '250108.0', '250109.0', '250110.0', '250111.0',\n",
       "       '250112.0', '250113.0', '250114.0', 'IJE25TS997349',\n",
       "       'TARTA25TS0013', 'MUSKT25TS0013', 'VALMS25TP0062',\n",
       "       'REGML25TS001523', 'U250002097', 'QTF25TS90006-1', 'HTPEN25TS0001',\n",
       "       'PHILL25TP0014', 'IDA25TP0001', 'IDE25TS0003', 'MAR25TP0011',\n",
       "       '8329651-1', '8329831-1', 'PHYS671', 'PC1107230', 'PKW25PE999262',\n",
       "       'BPN25PE999247', 'MUS25TP999274', 'CVG25TP999289',\n",
       "       'TARTN25TB001525', 'CHVTX25TP0023', 'QTFUE25TP0008',\n",
       "       'VALMS25TP0063', 'BPP25TP90027-1', 'IDF25TS90004-1',\n",
       "       'PVP25TP90002-1', 'VAL25TP90012-1', 'VAL25TS90007-1', 'U250002387',\n",
       "       'U250002389', 'U250002436', 'MARAA25PE0003', 'PHILL25TP0016',\n",
       "       '8591154.0', 'HTPEN25TS0002', 'MARAT25TS0004', 'MUSKE25PE0002',\n",
       "       'MUSKE25TS0012', 'PBFEN25TS0020', 'TAUBE25TS0001', 'TAUBE25TS0002',\n",
       "       'VITOC25PE0003', '8334658-1', '8334875-1', '8335745-1',\n",
       "       '8336155-1', '8334653-1', '8335749-1', 'SCL25TB0001',\n",
       "       'VAL25TB0006', 'EPS25TP999499', 'ZHN25PE999498', 'CVG25PE999443',\n",
       "       'MIECO25PE999386', 'CVG25PE999385', 'CVG25PE999380',\n",
       "       'BPN25PE999364', 'BBENE25PE999362', 'PKW25PE999359',\n",
       "       'CVM25TS999361', 'BPP25TP90028-1', 'BPP25TP90029-1',\n",
       "       'BPP25TS90027-1', 'CCS25TP90005-1', 'PAQ25TS90001-1',\n",
       "       'PVP25TS90002-1', 'SHB25TS90005-1', 'TRT25TS90007-1',\n",
       "       'VAL25TS90010-1', 'CCS25TP90006-1', 'USA25TS90007-1', 'U250002570',\n",
       "       'U250002571', 'U250002572', 'U250002586', 'U250002588',\n",
       "       'U250002616', 'U250002767', 'CHEVA25PE0006', 'VALEA25PE0007',\n",
       "       '8339138-1', '8339742-1', '8339082-1', 'PHI25TP0010',\n",
       "       'GRN25TS0001', 'MIE25PE0001', 'BBENC25PE0004', 'BPNOR25TB0001',\n",
       "       'BPNOR25TP0012', 'IDEMI25PE0002', 'MUSKE25TS0013', 'MUSKE25TS0014',\n",
       "       'PARKD25PE0001', 'PARKD25PE0002', 'PBFEN25PE0011', 'PBFEN25PE0012',\n",
       "       'PBFEN25PE0013', 'PHILL25TS0012', 'PHILL25TS0013', 'QTFUE25PE0006',\n",
       "       'SHLTR25PE0004', 'SHLTR25TP0010', '8597794.0', '8597798.0',\n",
       "       'CHV02451PS', 'FYR04243PP', 'USO00165PS', '250115.0', '250116.0',\n",
       "       '250117.0', 'STANY25TS0002', '8262350.0', '8262351.0',\n",
       "       'RXU25TS996583', 'STANY25TS0001', 'MAR25TP0001', 'VAL25TS0004',\n",
       "       'BPP25TP90035-1', 'CCS25TP90007-1', 'MAB25TS90019-1',\n",
       "       'VAL25TP90014-1', 'VAL25TB999511', 'MARDQ25PE999588',\n",
       "       'CVG25PE999509', 'CVG25PE999508', 'CVG25PE999507', 'CVG25PE999592',\n",
       "       'BPN25PE999573', 'VAL25PE999512', 'BPN25PE999510', 'MUS25TS999522',\n",
       "       '202511116', '202511117', '202511118', '202511119', '202511122',\n",
       "       '202511123', '202511130', '202511399', '202511400', '202511403',\n",
       "       '202511405', '202511407', '202511408', '202511409', '202511410',\n",
       "       '202511592', '202511839', '202511840', '202511841', '202511864',\n",
       "       '202511865', '202511872', '202512046', '202512049', '202512051',\n",
       "       '202512052', '202512080', '202512081', '202512082', '202512083',\n",
       "       '202512086', '202512092', '202512095', '202512148', '202512151',\n",
       "       'CHVTX25TP0024', 'PBFHC25TS0007', 'CHVTX25TS0019', 'TARTA25TS0016',\n",
       "       'PHILP25TP0041', 'U250002977', 'U250002978', 'U250003109',\n",
       "       'U250003129', 'U250003140', 'VALEA25TB0013', 'BPNOR25TS0010',\n",
       "       'MARAT25PE0008', 'MARAT25TS0005', 'MUSKE25PE0003', 'MUSKE25TS0016',\n",
       "       'PBFEN25PE0014', 'PBFEN25PE0015', 'PBFEN25PE0016', 'PBFEN25PE0017',\n",
       "       'PHILL25TS0014', 'TACEN25TS0002', 'TARTA25PE0005', 'PHYS673',\n",
       "       'PBH02159PP', '8341913-1', '8341927-1', '8341932-1', '8341936-1',\n",
       "       '8341938-1', '8342024-1', '8342046-1', '8342099-1', '8342113-1',\n",
       "       '8343216-1', '8341919-1', '8341952-1', '8345229-1', 'GRN25TS0002',\n",
       "       'MAR25TP0014', 'USO25TB0003', 'CHE25PE0005', 'CHE25TP0008',\n",
       "       'QTF25TS0006', 'QTF25TS0007', 'U250003336', 'U250003342',\n",
       "       'U250003345', 'CVG25PE999656', 'VAL25PE999643', 'NGA25TS0002',\n",
       "       'HOC25TS0003', 'SHE25PE0002', 'IDE25TS0004', 'BPP25TS90032-1',\n",
       "       'BPP25TS90033-1', 'ENX25TS90001-1', 'QTF25TS90012-1',\n",
       "       'QTF25TS90013-1', 'VAL25TS90012-1', '134239.0', '134129.0',\n",
       "       '134130.0', '134437.0', '134641.0', '135249.0', '135606.0',\n",
       "       '135938.0', '136102.0', '136611.0', '137134.0', '337606.0',\n",
       "       'VALMS25TS0017', 'BBENC25TP0001', 'IDEMI25PE0003', 'IDEMI25TB0001',\n",
       "       'MUSKE25PE0004', 'PBFEN25PE0018', 'VALMS25TS0033', '8346271-1',\n",
       "       '8346276-1', '8346287-1', '8346288-1', '8346294-1', '8346295-1',\n",
       "       '8346311-1', '8346476-1', '8346477-1', '8348662-1', '8346351-1',\n",
       "       '8346473-1', '8346482-1', '8347606-1', '8347612-1'], dtype=object)"
      ]
     },
     "execution_count": 74,
     "metadata": {},
     "output_type": "execute_result"
    }
   ],
   "source": [
    "df['Contract ID Number'].unique()"
   ]
  },
  {
   "cell_type": "code",
   "execution_count": 75,
   "id": "6f39cc7f-77b9-4991-b1f1-b21aa519f4f0",
   "metadata": {},
   "outputs": [],
   "source": [
    "def drop_decimal(string):\n",
    "    regex = '(\\.)(0)$'\n",
    "    match = re.search(regex, string)\n",
    "    if match: \n",
    "        return string.replace('.0','')\n",
    "    else: return string"
   ]
  },
  {
   "cell_type": "code",
   "execution_count": 76,
   "id": "3b053906-8343-413d-a533-280f336463fd",
   "metadata": {},
   "outputs": [
    {
     "data": {
      "text/plain": [
       "'BBE24PE0020'"
      ]
     },
     "execution_count": 76,
     "metadata": {},
     "output_type": "execute_result"
    }
   ],
   "source": [
    "string = 'BBE24PE0020'\n",
    "drop_decimal(string)"
   ]
  },
  {
   "cell_type": "code",
   "execution_count": 77,
   "id": "dfb4b41f-74ea-4fa6-b811-02f98d446179",
   "metadata": {},
   "outputs": [],
   "source": [
    "df['Contract ID Number'] = df[\"Contract ID Number\"].map(lambda string: drop_decimal(string))"
   ]
  },
  {
   "cell_type": "code",
   "execution_count": 78,
   "id": "c431786f-0c90-4370-a94f-5b8ed173939e",
   "metadata": {},
   "outputs": [
    {
     "data": {
      "text/plain": [
       "array(['U240060424', 'U250000527', 'U250000530', 'BPN25TP0008',\n",
       "       'VAL25PE0003', 'PEL24TS90051-3', 'PVP24TP90102-2',\n",
       "       'PVP24TP90102-3', 'USA25TS90003-1', 'CHV02444PP', 'USV25PE0001',\n",
       "       '8308551-1', '8309220-1', '8309304-1', '8309430-1',\n",
       "       'GJX25TS998689', '250100', '250101', '250102', '196674',\n",
       "       'BPP25TP90005-1', 'MAB25TS90004-1', 'VAL25TP90003-1',\n",
       "       'VAL25TP90004-1', 'BPP25TS90006-1', 'IDF25TS90002-1', 'U250000693',\n",
       "       'U250000694', 'U250000910', 'U250000946', 'TARTA25PE998755',\n",
       "       'TARTA25TS998752', 'MAR25TP0005', 'PBF25PE0001', 'PBF25TP0003',\n",
       "       'CHE25PE0003', 'PEK25PE0001', 'BBENC25PE0002', 'MIECA25PE0001',\n",
       "       'SHLTR25PE0001', 'TARTA25PE0003', 'VALMS25TP0025', '8311181-1',\n",
       "       '8312047-1', '8312723-1', '8313204-1', '8313206-1', '8313994-1',\n",
       "       '8314155-1', '8314163-1', '8314196-1', '8314227-1', '8314255-1',\n",
       "       '8314266-1', '8315017-1', '8315053-1', '8315058-1', '8315605-1',\n",
       "       'CHV02446PP', 'PETEU25TS0001', 'PHILP25TP0023', 'VALMS25TP0058',\n",
       "       'PS25000108', 'U250001295', 'PETEU25TP0001', 'SHLTR25TS0009',\n",
       "       'VITON25TS0001', 'VITON25TS0002', 'CVM25TS998822',\n",
       "       'BPP25TS90008-1', 'MAB25TS90007-1', 'VALMS25TS0029', '8316366-1',\n",
       "       '8319787-1', '8571959', '8572055', '202510361', '202510599',\n",
       "       '202510615', '202510619', '202510620', '202510883', '202510885',\n",
       "       'ASH03302PP', 'VMX04615PS', '250103', '250104', '250105',\n",
       "       'PHI25PE0001', 'TARTA25TS0011', 'TARTA25TS0009', 'PBFHC25TP0010',\n",
       "       'TARTA25TS0010', 'MUSKT25TS0008', 'TARTA25TS0008', 'PBFHC25TP0009',\n",
       "       'VALMS25TP0061', 'BPP25TS90010-1', 'BPP25TS90014-1',\n",
       "       'BPP25TS90015-1', 'BPP25TS90016-1', 'CCS25TS90003-1',\n",
       "       'CCS25TS90004-1', 'CCS25TS90005-1', 'EYE25TP90001-1',\n",
       "       'TRT25TP90001-1', 'TRT25TS90002-1', 'VAL25TB90007-1',\n",
       "       'VAL25TB90007-2', 'SHL25PE998934', 'MARDQ25PE998933',\n",
       "       'MARDQ25PE998929', 'THEJA25TS999003', 'CVG25TP999000',\n",
       "       'CVG25TP998999', 'U250001382', 'U250001611', 'U250001591',\n",
       "       'U250001589', 'U250001588', 'U250001587', 'U250001481',\n",
       "       'CHE25TP0003', 'MAR25PE0002', 'MAR25PE0003', 'MAR25TP0007',\n",
       "       'MAR25TP0008', 'MAR25TP0009', 'PHI25PE0002', 'CHE25TB0003',\n",
       "       'CHE25TB0004', 'CHE25TP0004', 'CHEVA25PE0005', 'PETRF25PE0001',\n",
       "       'PBH02156PP', 'BPNOR25PE0006', 'BPNOR25PE0007', 'OFFEN25TS0005',\n",
       "       'PARKD25TS0001', 'PBFEN25TS0018', 'PBFEN25TS0019', 'PHILL25PE0009',\n",
       "       'PHILL25PE0010', 'PHILL25PE0011', 'PHILL25PE0012', 'QTFUE25PE0005',\n",
       "       'TARTA25TB0003', 'TARTA25TB0004', 'TARTA25TS0003', 'TARTA25TS0004',\n",
       "       'PS25000128', '197184', 'MUSKT25TS0010', 'BPPNA25TS0017',\n",
       "       'TARTA25TS0012', 'U250001694', 'U250001777', 'U250001801',\n",
       "       'U250001855', 'U250001867', 'U250001869', 'U250001889',\n",
       "       'CCS25TP90003-1', 'GNR24TS90004-4', 'PEG25TS90001-1',\n",
       "       'TRT25TS90003-1', 'VAL25TP90008-1', 'ASH03304PB', 'BBENC25PE0003',\n",
       "       'BPNOR25PE0008', 'BPNOR25PE0009', 'IDEMI25PE0001', 'MUSKE25TS0011',\n",
       "       'SHLTR25PE0002', 'TACEN25TS0001', 'TARTA25PE0004', 'TARTA25TS0005',\n",
       "       'TARTA25TS0006', 'TARTA25TS0007', 'VITOC25PE0002', 'CHV25PE0003',\n",
       "       'BPN25TP0004', '8321022-1', '8321029-1', '8321818-1', '8322169-1',\n",
       "       '8322172-1', '8321826-1', 'TARTA25TP0003', 'TARTA25TP0004',\n",
       "       'PC1107203', 'PC1107204', 'MAR25TP0010', 'CHE25TP0005',\n",
       "       'CHE25TP0006', 'QTF25TS0004', 'QTF25TS0005', 'CHE25TP0007',\n",
       "       'PHI25TP0009', 'BPN25PE0003', 'BPN25PE0004', 'IDE25PE0001',\n",
       "       'IDE25TP0001', 'CHE25PE0004', '8580060', '241231 / SUS25TP0002',\n",
       "       '241232 / SUS25TP0003', '241236 / OFF25TP0001',\n",
       "       '241237 / VAL25TS0001', '241238 / BBE25TP0001', '250106', '250107',\n",
       "       '250108', '250109', '250110', '250111', '250112', '250113',\n",
       "       '250114', 'IJE25TS997349', 'TARTA25TS0013', 'MUSKT25TS0013',\n",
       "       'VALMS25TP0062', 'REGML25TS001523', 'U250002097', 'QTF25TS90006-1',\n",
       "       'HTPEN25TS0001', 'PHILL25TP0014', 'IDA25TP0001', 'IDE25TS0003',\n",
       "       'MAR25TP0011', '8329651-1', '8329831-1', 'PHYS671', 'PC1107230',\n",
       "       'PKW25PE999262', 'BPN25PE999247', 'MUS25TP999274', 'CVG25TP999289',\n",
       "       'TARTN25TB001525', 'CHVTX25TP0023', 'QTFUE25TP0008',\n",
       "       'VALMS25TP0063', 'BPP25TP90027-1', 'IDF25TS90004-1',\n",
       "       'PVP25TP90002-1', 'VAL25TP90012-1', 'VAL25TS90007-1', 'U250002387',\n",
       "       'U250002389', 'U250002436', 'MARAA25PE0003', 'PHILL25TP0016',\n",
       "       '8591154', 'HTPEN25TS0002', 'MARAT25TS0004', 'MUSKE25PE0002',\n",
       "       'MUSKE25TS0012', 'PBFEN25TS0020', 'TAUBE25TS0001', 'TAUBE25TS0002',\n",
       "       'VITOC25PE0003', '8334658-1', '8334875-1', '8335745-1',\n",
       "       '8336155-1', '8334653-1', '8335749-1', 'SCL25TB0001',\n",
       "       'VAL25TB0006', 'EPS25TP999499', 'ZHN25PE999498', 'CVG25PE999443',\n",
       "       'MIECO25PE999386', 'CVG25PE999385', 'CVG25PE999380',\n",
       "       'BPN25PE999364', 'BBENE25PE999362', 'PKW25PE999359',\n",
       "       'CVM25TS999361', 'BPP25TP90028-1', 'BPP25TP90029-1',\n",
       "       'BPP25TS90027-1', 'CCS25TP90005-1', 'PAQ25TS90001-1',\n",
       "       'PVP25TS90002-1', 'SHB25TS90005-1', 'TRT25TS90007-1',\n",
       "       'VAL25TS90010-1', 'CCS25TP90006-1', 'USA25TS90007-1', 'U250002570',\n",
       "       'U250002571', 'U250002572', 'U250002586', 'U250002588',\n",
       "       'U250002616', 'U250002767', 'CHEVA25PE0006', 'VALEA25PE0007',\n",
       "       '8339138-1', '8339742-1', '8339082-1', 'PHI25TP0010',\n",
       "       'GRN25TS0001', 'MIE25PE0001', 'BBENC25PE0004', 'BPNOR25TB0001',\n",
       "       'BPNOR25TP0012', 'IDEMI25PE0002', 'MUSKE25TS0013', 'MUSKE25TS0014',\n",
       "       'PARKD25PE0001', 'PARKD25PE0002', 'PBFEN25PE0011', 'PBFEN25PE0012',\n",
       "       'PBFEN25PE0013', 'PHILL25TS0012', 'PHILL25TS0013', 'QTFUE25PE0006',\n",
       "       'SHLTR25PE0004', 'SHLTR25TP0010', '8597794', '8597798',\n",
       "       'CHV02451PS', 'FYR04243PP', 'USO00165PS', '250115', '250116',\n",
       "       '250117', 'STANY25TS0002', '8262350', '8262351', 'RXU25TS996583',\n",
       "       'STANY25TS0001', 'MAR25TP0001', 'VAL25TS0004', 'BPP25TP90035-1',\n",
       "       'CCS25TP90007-1', 'MAB25TS90019-1', 'VAL25TP90014-1',\n",
       "       'VAL25TB999511', 'MARDQ25PE999588', 'CVG25PE999509',\n",
       "       'CVG25PE999508', 'CVG25PE999507', 'CVG25PE999592', 'BPN25PE999573',\n",
       "       'VAL25PE999512', 'BPN25PE999510', 'MUS25TS999522', '202511116',\n",
       "       '202511117', '202511118', '202511119', '202511122', '202511123',\n",
       "       '202511130', '202511399', '202511400', '202511403', '202511405',\n",
       "       '202511407', '202511408', '202511409', '202511410', '202511592',\n",
       "       '202511839', '202511840', '202511841', '202511864', '202511865',\n",
       "       '202511872', '202512046', '202512049', '202512051', '202512052',\n",
       "       '202512080', '202512081', '202512082', '202512083', '202512086',\n",
       "       '202512092', '202512095', '202512148', '202512151',\n",
       "       'CHVTX25TP0024', 'PBFHC25TS0007', 'CHVTX25TS0019', 'TARTA25TS0016',\n",
       "       'PHILP25TP0041', 'U250002977', 'U250002978', 'U250003109',\n",
       "       'U250003129', 'U250003140', 'VALEA25TB0013', 'BPNOR25TS0010',\n",
       "       'MARAT25PE0008', 'MARAT25TS0005', 'MUSKE25PE0003', 'MUSKE25TS0016',\n",
       "       'PBFEN25PE0014', 'PBFEN25PE0015', 'PBFEN25PE0016', 'PBFEN25PE0017',\n",
       "       'PHILL25TS0014', 'TACEN25TS0002', 'TARTA25PE0005', 'PHYS673',\n",
       "       'PBH02159PP', '8341913-1', '8341927-1', '8341932-1', '8341936-1',\n",
       "       '8341938-1', '8342024-1', '8342046-1', '8342099-1', '8342113-1',\n",
       "       '8343216-1', '8341919-1', '8341952-1', '8345229-1', 'GRN25TS0002',\n",
       "       'MAR25TP0014', 'USO25TB0003', 'CHE25PE0005', 'CHE25TP0008',\n",
       "       'QTF25TS0006', 'QTF25TS0007', 'U250003336', 'U250003342',\n",
       "       'U250003345', 'CVG25PE999656', 'VAL25PE999643', 'NGA25TS0002',\n",
       "       'HOC25TS0003', 'SHE25PE0002', 'IDE25TS0004', 'BPP25TS90032-1',\n",
       "       'BPP25TS90033-1', 'ENX25TS90001-1', 'QTF25TS90012-1',\n",
       "       'QTF25TS90013-1', 'VAL25TS90012-1', '134239', '134129', '134130',\n",
       "       '134437', '134641', '135249', '135606', '135938', '136102',\n",
       "       '136611', '137134', '337606', 'VALMS25TS0017', 'BBENC25TP0001',\n",
       "       'IDEMI25PE0003', 'IDEMI25TB0001', 'MUSKE25PE0004', 'PBFEN25PE0018',\n",
       "       'VALMS25TS0033', '8346271-1', '8346276-1', '8346287-1',\n",
       "       '8346288-1', '8346294-1', '8346295-1', '8346311-1', '8346476-1',\n",
       "       '8346477-1', '8348662-1', '8346351-1', '8346473-1', '8346482-1',\n",
       "       '8347606-1', '8347612-1'], dtype=object)"
      ]
     },
     "execution_count": 78,
     "metadata": {},
     "output_type": "execute_result"
    }
   ],
   "source": [
    "df['Contract ID Number'].unique()"
   ]
  },
  {
   "cell_type": "code",
   "execution_count": 79,
   "id": "52833577-efb8-4e59-9e56-b8a36a56bc08",
   "metadata": {},
   "outputs": [],
   "source": [
    "def assign_none(string):\n",
    "    if string is None: return None\n",
    "    if len(string)>=6: return string\n",
    "    else: return None"
   ]
  },
  {
   "cell_type": "code",
   "execution_count": 80,
   "id": "e0abc1ba-220c-43d9-9b5b-dd1e751ffedd",
   "metadata": {},
   "outputs": [],
   "source": [
    "df['Contract ID Number'] = df[\"Contract ID Number\"].map(lambda string: assign_none(string))"
   ]
  },
  {
   "cell_type": "code",
   "execution_count": 81,
   "id": "081266cc-eb22-4014-8b19-018022e1b702",
   "metadata": {},
   "outputs": [
    {
     "data": {
      "text/plain": [
       "array(['U240060424', 'U250000527', 'U250000530', 'BPN25TP0008',\n",
       "       'VAL25PE0003', 'PEL24TS90051-3', 'PVP24TP90102-2',\n",
       "       'PVP24TP90102-3', 'USA25TS90003-1', 'CHV02444PP', 'USV25PE0001',\n",
       "       '8308551-1', '8309220-1', '8309304-1', '8309430-1',\n",
       "       'GJX25TS998689', '250100', '250101', '250102', '196674',\n",
       "       'BPP25TP90005-1', 'MAB25TS90004-1', 'VAL25TP90003-1',\n",
       "       'VAL25TP90004-1', 'BPP25TS90006-1', 'IDF25TS90002-1', 'U250000693',\n",
       "       'U250000694', 'U250000910', 'U250000946', 'TARTA25PE998755',\n",
       "       'TARTA25TS998752', 'MAR25TP0005', 'PBF25PE0001', 'PBF25TP0003',\n",
       "       'CHE25PE0003', 'PEK25PE0001', 'BBENC25PE0002', 'MIECA25PE0001',\n",
       "       'SHLTR25PE0001', 'TARTA25PE0003', 'VALMS25TP0025', '8311181-1',\n",
       "       '8312047-1', '8312723-1', '8313204-1', '8313206-1', '8313994-1',\n",
       "       '8314155-1', '8314163-1', '8314196-1', '8314227-1', '8314255-1',\n",
       "       '8314266-1', '8315017-1', '8315053-1', '8315058-1', '8315605-1',\n",
       "       'CHV02446PP', 'PETEU25TS0001', 'PHILP25TP0023', 'VALMS25TP0058',\n",
       "       'PS25000108', 'U250001295', 'PETEU25TP0001', 'SHLTR25TS0009',\n",
       "       'VITON25TS0001', 'VITON25TS0002', 'CVM25TS998822',\n",
       "       'BPP25TS90008-1', 'MAB25TS90007-1', 'VALMS25TS0029', '8316366-1',\n",
       "       '8319787-1', '8571959', '8572055', '202510361', '202510599',\n",
       "       '202510615', '202510619', '202510620', '202510883', '202510885',\n",
       "       'ASH03302PP', 'VMX04615PS', '250103', '250104', '250105',\n",
       "       'PHI25PE0001', 'TARTA25TS0011', 'TARTA25TS0009', 'PBFHC25TP0010',\n",
       "       'TARTA25TS0010', 'MUSKT25TS0008', 'TARTA25TS0008', 'PBFHC25TP0009',\n",
       "       'VALMS25TP0061', 'BPP25TS90010-1', 'BPP25TS90014-1',\n",
       "       'BPP25TS90015-1', 'BPP25TS90016-1', 'CCS25TS90003-1',\n",
       "       'CCS25TS90004-1', 'CCS25TS90005-1', 'EYE25TP90001-1',\n",
       "       'TRT25TP90001-1', 'TRT25TS90002-1', 'VAL25TB90007-1',\n",
       "       'VAL25TB90007-2', 'SHL25PE998934', 'MARDQ25PE998933',\n",
       "       'MARDQ25PE998929', 'THEJA25TS999003', 'CVG25TP999000',\n",
       "       'CVG25TP998999', 'U250001382', 'U250001611', 'U250001591',\n",
       "       'U250001589', 'U250001588', 'U250001587', 'U250001481',\n",
       "       'CHE25TP0003', 'MAR25PE0002', 'MAR25PE0003', 'MAR25TP0007',\n",
       "       'MAR25TP0008', 'MAR25TP0009', 'PHI25PE0002', 'CHE25TB0003',\n",
       "       'CHE25TB0004', 'CHE25TP0004', 'CHEVA25PE0005', 'PETRF25PE0001',\n",
       "       'PBH02156PP', 'BPNOR25PE0006', 'BPNOR25PE0007', 'OFFEN25TS0005',\n",
       "       'PARKD25TS0001', 'PBFEN25TS0018', 'PBFEN25TS0019', 'PHILL25PE0009',\n",
       "       'PHILL25PE0010', 'PHILL25PE0011', 'PHILL25PE0012', 'QTFUE25PE0005',\n",
       "       'TARTA25TB0003', 'TARTA25TB0004', 'TARTA25TS0003', 'TARTA25TS0004',\n",
       "       'PS25000128', '197184', 'MUSKT25TS0010', 'BPPNA25TS0017',\n",
       "       'TARTA25TS0012', 'U250001694', 'U250001777', 'U250001801',\n",
       "       'U250001855', 'U250001867', 'U250001869', 'U250001889',\n",
       "       'CCS25TP90003-1', 'GNR24TS90004-4', 'PEG25TS90001-1',\n",
       "       'TRT25TS90003-1', 'VAL25TP90008-1', 'ASH03304PB', 'BBENC25PE0003',\n",
       "       'BPNOR25PE0008', 'BPNOR25PE0009', 'IDEMI25PE0001', 'MUSKE25TS0011',\n",
       "       'SHLTR25PE0002', 'TACEN25TS0001', 'TARTA25PE0004', 'TARTA25TS0005',\n",
       "       'TARTA25TS0006', 'TARTA25TS0007', 'VITOC25PE0002', 'CHV25PE0003',\n",
       "       'BPN25TP0004', '8321022-1', '8321029-1', '8321818-1', '8322169-1',\n",
       "       '8322172-1', '8321826-1', 'TARTA25TP0003', 'TARTA25TP0004',\n",
       "       'PC1107203', 'PC1107204', 'MAR25TP0010', 'CHE25TP0005',\n",
       "       'CHE25TP0006', 'QTF25TS0004', 'QTF25TS0005', 'CHE25TP0007',\n",
       "       'PHI25TP0009', 'BPN25PE0003', 'BPN25PE0004', 'IDE25PE0001',\n",
       "       'IDE25TP0001', 'CHE25PE0004', '8580060', '241231 / SUS25TP0002',\n",
       "       '241232 / SUS25TP0003', '241236 / OFF25TP0001',\n",
       "       '241237 / VAL25TS0001', '241238 / BBE25TP0001', '250106', '250107',\n",
       "       '250108', '250109', '250110', '250111', '250112', '250113',\n",
       "       '250114', 'IJE25TS997349', 'TARTA25TS0013', 'MUSKT25TS0013',\n",
       "       'VALMS25TP0062', 'REGML25TS001523', 'U250002097', 'QTF25TS90006-1',\n",
       "       'HTPEN25TS0001', 'PHILL25TP0014', 'IDA25TP0001', 'IDE25TS0003',\n",
       "       'MAR25TP0011', '8329651-1', '8329831-1', 'PHYS671', 'PC1107230',\n",
       "       'PKW25PE999262', 'BPN25PE999247', 'MUS25TP999274', 'CVG25TP999289',\n",
       "       'TARTN25TB001525', 'CHVTX25TP0023', 'QTFUE25TP0008',\n",
       "       'VALMS25TP0063', 'BPP25TP90027-1', 'IDF25TS90004-1',\n",
       "       'PVP25TP90002-1', 'VAL25TP90012-1', 'VAL25TS90007-1', 'U250002387',\n",
       "       'U250002389', 'U250002436', 'MARAA25PE0003', 'PHILL25TP0016',\n",
       "       '8591154', 'HTPEN25TS0002', 'MARAT25TS0004', 'MUSKE25PE0002',\n",
       "       'MUSKE25TS0012', 'PBFEN25TS0020', 'TAUBE25TS0001', 'TAUBE25TS0002',\n",
       "       'VITOC25PE0003', '8334658-1', '8334875-1', '8335745-1',\n",
       "       '8336155-1', '8334653-1', '8335749-1', 'SCL25TB0001',\n",
       "       'VAL25TB0006', 'EPS25TP999499', 'ZHN25PE999498', 'CVG25PE999443',\n",
       "       'MIECO25PE999386', 'CVG25PE999385', 'CVG25PE999380',\n",
       "       'BPN25PE999364', 'BBENE25PE999362', 'PKW25PE999359',\n",
       "       'CVM25TS999361', 'BPP25TP90028-1', 'BPP25TP90029-1',\n",
       "       'BPP25TS90027-1', 'CCS25TP90005-1', 'PAQ25TS90001-1',\n",
       "       'PVP25TS90002-1', 'SHB25TS90005-1', 'TRT25TS90007-1',\n",
       "       'VAL25TS90010-1', 'CCS25TP90006-1', 'USA25TS90007-1', 'U250002570',\n",
       "       'U250002571', 'U250002572', 'U250002586', 'U250002588',\n",
       "       'U250002616', 'U250002767', 'CHEVA25PE0006', 'VALEA25PE0007',\n",
       "       '8339138-1', '8339742-1', '8339082-1', 'PHI25TP0010',\n",
       "       'GRN25TS0001', 'MIE25PE0001', 'BBENC25PE0004', 'BPNOR25TB0001',\n",
       "       'BPNOR25TP0012', 'IDEMI25PE0002', 'MUSKE25TS0013', 'MUSKE25TS0014',\n",
       "       'PARKD25PE0001', 'PARKD25PE0002', 'PBFEN25PE0011', 'PBFEN25PE0012',\n",
       "       'PBFEN25PE0013', 'PHILL25TS0012', 'PHILL25TS0013', 'QTFUE25PE0006',\n",
       "       'SHLTR25PE0004', 'SHLTR25TP0010', '8597794', '8597798',\n",
       "       'CHV02451PS', 'FYR04243PP', 'USO00165PS', '250115', '250116',\n",
       "       '250117', 'STANY25TS0002', '8262350', '8262351', 'RXU25TS996583',\n",
       "       'STANY25TS0001', 'MAR25TP0001', 'VAL25TS0004', 'BPP25TP90035-1',\n",
       "       'CCS25TP90007-1', 'MAB25TS90019-1', 'VAL25TP90014-1',\n",
       "       'VAL25TB999511', 'MARDQ25PE999588', 'CVG25PE999509',\n",
       "       'CVG25PE999508', 'CVG25PE999507', 'CVG25PE999592', 'BPN25PE999573',\n",
       "       'VAL25PE999512', 'BPN25PE999510', 'MUS25TS999522', '202511116',\n",
       "       '202511117', '202511118', '202511119', '202511122', '202511123',\n",
       "       '202511130', '202511399', '202511400', '202511403', '202511405',\n",
       "       '202511407', '202511408', '202511409', '202511410', '202511592',\n",
       "       '202511839', '202511840', '202511841', '202511864', '202511865',\n",
       "       '202511872', '202512046', '202512049', '202512051', '202512052',\n",
       "       '202512080', '202512081', '202512082', '202512083', '202512086',\n",
       "       '202512092', '202512095', '202512148', '202512151',\n",
       "       'CHVTX25TP0024', 'PBFHC25TS0007', 'CHVTX25TS0019', 'TARTA25TS0016',\n",
       "       'PHILP25TP0041', 'U250002977', 'U250002978', 'U250003109',\n",
       "       'U250003129', 'U250003140', 'VALEA25TB0013', 'BPNOR25TS0010',\n",
       "       'MARAT25PE0008', 'MARAT25TS0005', 'MUSKE25PE0003', 'MUSKE25TS0016',\n",
       "       'PBFEN25PE0014', 'PBFEN25PE0015', 'PBFEN25PE0016', 'PBFEN25PE0017',\n",
       "       'PHILL25TS0014', 'TACEN25TS0002', 'TARTA25PE0005', 'PHYS673',\n",
       "       'PBH02159PP', '8341913-1', '8341927-1', '8341932-1', '8341936-1',\n",
       "       '8341938-1', '8342024-1', '8342046-1', '8342099-1', '8342113-1',\n",
       "       '8343216-1', '8341919-1', '8341952-1', '8345229-1', 'GRN25TS0002',\n",
       "       'MAR25TP0014', 'USO25TB0003', 'CHE25PE0005', 'CHE25TP0008',\n",
       "       'QTF25TS0006', 'QTF25TS0007', 'U250003336', 'U250003342',\n",
       "       'U250003345', 'CVG25PE999656', 'VAL25PE999643', 'NGA25TS0002',\n",
       "       'HOC25TS0003', 'SHE25PE0002', 'IDE25TS0004', 'BPP25TS90032-1',\n",
       "       'BPP25TS90033-1', 'ENX25TS90001-1', 'QTF25TS90012-1',\n",
       "       'QTF25TS90013-1', 'VAL25TS90012-1', '134239', '134129', '134130',\n",
       "       '134437', '134641', '135249', '135606', '135938', '136102',\n",
       "       '136611', '137134', '337606', 'VALMS25TS0017', 'BBENC25TP0001',\n",
       "       'IDEMI25PE0003', 'IDEMI25TB0001', 'MUSKE25PE0004', 'PBFEN25PE0018',\n",
       "       'VALMS25TS0033', '8346271-1', '8346276-1', '8346287-1',\n",
       "       '8346288-1', '8346294-1', '8346295-1', '8346311-1', '8346476-1',\n",
       "       '8346477-1', '8348662-1', '8346351-1', '8346473-1', '8346482-1',\n",
       "       '8347606-1', '8347612-1'], dtype=object)"
      ]
     },
     "execution_count": 81,
     "metadata": {},
     "output_type": "execute_result"
    }
   ],
   "source": [
    "df['Contract ID Number'].unique()"
   ]
  },
  {
   "cell_type": "markdown",
   "id": "86a1dbb5-b47c-4cba-ab4b-c6f4450e5717",
   "metadata": {
    "jp-MarkdownHeadingCollapsed": true
   },
   "source": [
    "#### Position Sequence Number"
   ]
  },
  {
   "cell_type": "code",
   "execution_count": 82,
   "id": "1d52cc55-e6cb-4a4b-9be3-799622074309",
   "metadata": {},
   "outputs": [
    {
     "data": {
      "text/plain": [
       "array([2.0, 1.0, 'n/a', '', 'unavailable', '(Empty)', 'N/A', 3.0, 'NA',\n",
       "       4.0, 'NOT APPLICABLE'], dtype=object)"
      ]
     },
     "execution_count": 82,
     "metadata": {},
     "output_type": "execute_result"
    }
   ],
   "source": [
    "df['Position Sequence Number'].unique()"
   ]
  },
  {
   "cell_type": "code",
   "execution_count": 83,
   "id": "7806a2ed-0e04-4a6a-84e1-6c7dee2b4cf7",
   "metadata": {},
   "outputs": [],
   "source": [
    "df['Position Sequence Number'] = df['Position Sequence Number'].astype(str)\n",
    "df[\"Position Sequence Number\"] = df[\"Position Sequence Number\"].map(lambda x: x.replace('.0', ''))"
   ]
  },
  {
   "cell_type": "code",
   "execution_count": 84,
   "id": "e36ba862-1381-4308-a705-97fc16a00877",
   "metadata": {},
   "outputs": [
    {
     "data": {
      "text/plain": [
       "{'No Info.': ['(Empty)', 'nan', 'unavailable']}"
      ]
     },
     "execution_count": 84,
     "metadata": {},
     "output_type": "execute_result"
    }
   ],
   "source": [
    "dict_Directory['Position Seq. Num.']"
   ]
  },
  {
   "cell_type": "code",
   "execution_count": 85,
   "id": "20bf827c-8439-4707-b2fe-e1002bd1596c",
   "metadata": {},
   "outputs": [
    {
     "data": {
      "text/plain": [
       "dict_keys(['Company', 'Position Seq. Num.', 'CPID', 'Counterparty Contact', 'TL', 'Sell_Buy', 'Product Type', 'Product', 'Delivery Method', 'Delivery Location', 'Price Basis Method', 'Reference Product'])"
      ]
     },
     "execution_count": 85,
     "metadata": {},
     "output_type": "execute_result"
    }
   ],
   "source": [
    "dict_Directory.keys()"
   ]
  },
  {
   "cell_type": "code",
   "execution_count": 86,
   "id": "c59c367e-8e81-472a-882a-16829251ae3a",
   "metadata": {},
   "outputs": [
    {
     "data": {
      "text/plain": [
       "'No Info.'"
      ]
     },
     "execution_count": 86,
     "metadata": {},
     "output_type": "execute_result"
    }
   ],
   "source": [
    "key = list(dict_Directory['Position Seq. Num.'].keys())[0]\n",
    "key"
   ]
  },
  {
   "cell_type": "code",
   "execution_count": 87,
   "id": "c5df2bd1-9e55-4188-8d9d-3319be209c2c",
   "metadata": {},
   "outputs": [
    {
     "data": {
      "text/plain": [
       "['(Empty)', 'nan', 'unavailable']"
      ]
     },
     "execution_count": 87,
     "metadata": {},
     "output_type": "execute_result"
    }
   ],
   "source": [
    "values = list(dict_Directory['Position Seq. Num.'].values())[0]\n",
    "values"
   ]
  },
  {
   "cell_type": "code",
   "execution_count": 88,
   "id": "381f7878-254b-464a-814a-2b4cce7af08a",
   "metadata": {},
   "outputs": [
    {
     "data": {
      "text/plain": [
       "array(['2', '1', 'n/a', '', 'No Info.', 'N/A', '3', 'NA', '4',\n",
       "       'NOT APPLICABLE'], dtype=object)"
      ]
     },
     "execution_count": 88,
     "metadata": {},
     "output_type": "execute_result"
    }
   ],
   "source": [
    "df[\"Position Sequence Number\"] = df[\"Position Sequence Number\"].replace(values, key)\n",
    "df['Position Sequence Number'].unique()"
   ]
  },
  {
   "cell_type": "code",
   "execution_count": 89,
   "id": "2f8c4c57-9bd9-43b0-9a0c-3d5b9a4934ce",
   "metadata": {},
   "outputs": [],
   "source": [
    "def get_pos_seq_number(string):\n",
    "    try: \n",
    "        if str(int(string)).isnumeric(): return string\n",
    "    except: return 'No Info.'   "
   ]
  },
  {
   "cell_type": "code",
   "execution_count": 90,
   "id": "858029fd-54fc-4803-baf6-1fd26ebbd9d5",
   "metadata": {},
   "outputs": [
    {
     "data": {
      "text/plain": [
       "'1'"
      ]
     },
     "execution_count": 90,
     "metadata": {},
     "output_type": "execute_result"
    }
   ],
   "source": [
    "string = '1'\n",
    "get_pos_seq_number(string)"
   ]
  },
  {
   "cell_type": "code",
   "execution_count": 91,
   "id": "e44f14a2-246c-407d-9d05-0a45b446cea8",
   "metadata": {},
   "outputs": [
    {
     "data": {
      "text/plain": [
       "'No Info.'"
      ]
     },
     "execution_count": 91,
     "metadata": {},
     "output_type": "execute_result"
    }
   ],
   "source": [
    "string = 'N/A'\n",
    "get_pos_seq_number(string)"
   ]
  },
  {
   "cell_type": "code",
   "execution_count": 92,
   "id": "6e174052-a62a-4124-ae2d-de1bdc0ef671",
   "metadata": {},
   "outputs": [],
   "source": [
    "df[\"Position Sequence Number\"] = df[\"Position Sequence Number\"].map(lambda string: get_pos_seq_number(string))"
   ]
  },
  {
   "cell_type": "code",
   "execution_count": 93,
   "id": "9db4c19f-2a5c-4418-bb96-b1812f43aeb0",
   "metadata": {},
   "outputs": [
    {
     "data": {
      "text/plain": [
       "array(['2', '1', 'No Info.', '3', '4'], dtype=object)"
      ]
     },
     "execution_count": 93,
     "metadata": {},
     "output_type": "execute_result"
    }
   ],
   "source": [
    "df['Position Sequence Number'].unique()"
   ]
  },
  {
   "cell_type": "markdown",
   "id": "c0fcaf86-59e2-4da2-968e-1ce277e2339f",
   "metadata": {
    "jp-MarkdownHeadingCollapsed": true
   },
   "source": [
    "#### CPID"
   ]
  },
  {
   "cell_type": "code",
   "execution_count": 94,
   "id": "fe5c6a22-cde5-4bea-a072-550eafd9be85",
   "metadata": {},
   "outputs": [],
   "source": [
    "df['CPID'] = df[\"CPID\"].astype(str)"
   ]
  },
  {
   "cell_type": "code",
   "execution_count": 95,
   "id": "920d9ca2-31e6-4230-a735-2595dfb560bf",
   "metadata": {},
   "outputs": [
    {
     "data": {
      "text/plain": [
       "array(['U240060424-2', 'U250000527-1', 'U250000530-1', '', 'n/a',\n",
       "       '30968860.0', 'NA', 'unavailable', '(Empty)', 'N/A',\n",
       "       'U250000693-1', 'U250000694-1', 'U250000910-1', 'U250000910-2',\n",
       "       'U250000946-1', '1.0', '30989700.0', 'U250001295-1', '8571959.1',\n",
       "       '8572055.1', '30995248.0', '30996647.0', '30996144.0',\n",
       "       'U250001382-1', 'U250001611-1', 'U250001591-1', 'U250001589-1',\n",
       "       'U250001588-1', 'U250001587-1', 'U250001481-1', 'U250001382-2',\n",
       "       '31001382.0', '2.0', 'U250001694-1', 'U250001777-1',\n",
       "       'U250001801-1', 'U250001855-1', 'U250001867-1', 'U250001869-1',\n",
       "       'U250001889-1', '31015249.0', '31015250.0', 'PC1107203',\n",
       "       'PC1107204', '8580060.1', 'U250002097-1', 'PC1107230',\n",
       "       'U250002387-1', 'U250002389-1', 'U250002436-1', '8591154.1', '3.0',\n",
       "       'U250002570-1', 'U250002571-1', 'U250002572-1', 'U250002586-1',\n",
       "       'U250002586-2', 'U250002588-1', 'U250002616-1', 'U250002767-1',\n",
       "       'U250002767-2', 'U250002767-3', 'U250002767-4', '8597794.1',\n",
       "       '8597798.1', '31099807.0', '31099798.0', '31101690.0',\n",
       "       'U250002977-1', 'U250002978-1', 'U250003109-1', 'U250003129-1',\n",
       "       'U250003140-1', '31105999.0', '31106000.0', '31106001.0',\n",
       "       '31106002.0', '31106003.0', '31106004.0', 'U250003336-1',\n",
       "       'U250003342-1', 'U250003345-1', '4.0'], dtype=object)"
      ]
     },
     "execution_count": 95,
     "metadata": {},
     "output_type": "execute_result"
    }
   ],
   "source": [
    "df[\"CPID\"].unique()"
   ]
  },
  {
   "cell_type": "code",
   "execution_count": 96,
   "id": "02d6a377-1373-4428-8969-8c729103260d",
   "metadata": {},
   "outputs": [
    {
     "data": {
      "text/plain": [
       "{'No Info.': ['(Empty)', 'nan', 'unavailable']}"
      ]
     },
     "execution_count": 96,
     "metadata": {},
     "output_type": "execute_result"
    }
   ],
   "source": [
    "dict_Directory['CPID']"
   ]
  },
  {
   "cell_type": "code",
   "execution_count": 97,
   "id": "56386648-20f3-4078-8ccd-a6807144afe4",
   "metadata": {},
   "outputs": [],
   "source": [
    "df['CPID'] = df['CPID'].astype(str)\n",
    "df[\"CPID\"] = df[\"CPID\"].map(lambda x: x.replace('.0', ''))"
   ]
  },
  {
   "cell_type": "code",
   "execution_count": 98,
   "id": "9b47fd30-d207-44b6-9a61-55dc47ce47b5",
   "metadata": {},
   "outputs": [
    {
     "data": {
      "text/plain": [
       "'No Info.'"
      ]
     },
     "execution_count": 98,
     "metadata": {},
     "output_type": "execute_result"
    }
   ],
   "source": [
    "key = list(dict_Directory['CPID'].keys())[0]\n",
    "key"
   ]
  },
  {
   "cell_type": "code",
   "execution_count": 99,
   "id": "035bc0cc-f99d-404c-98f6-853a7d144190",
   "metadata": {},
   "outputs": [
    {
     "data": {
      "text/plain": [
       "['(Empty)', 'nan', 'unavailable']"
      ]
     },
     "execution_count": 99,
     "metadata": {},
     "output_type": "execute_result"
    }
   ],
   "source": [
    "values = list(dict_Directory['CPID'].values())[0]\n",
    "values"
   ]
  },
  {
   "cell_type": "code",
   "execution_count": 100,
   "id": "89fb6a16-5f5d-4f0b-a561-48e821f878c0",
   "metadata": {},
   "outputs": [
    {
     "data": {
      "text/plain": [
       "array(['U240060424-2', 'U250000527-1', 'U250000530-1', '', 'n/a',\n",
       "       '30968860', 'NA', 'No Info.', 'N/A', 'U250000693-1',\n",
       "       'U250000694-1', 'U250000910-1', 'U250000910-2', 'U250000946-1',\n",
       "       '1', '30989700', 'U250001295-1', '8571959.1', '8572055.1',\n",
       "       '30995248', '30996647', '30996144', 'U250001382-1', 'U250001611-1',\n",
       "       'U250001591-1', 'U250001589-1', 'U250001588-1', 'U250001587-1',\n",
       "       'U250001481-1', 'U250001382-2', '31001382', '2', 'U250001694-1',\n",
       "       'U250001777-1', 'U250001801-1', 'U250001855-1', 'U250001867-1',\n",
       "       'U250001869-1', 'U250001889-1', '31015249', '31015250',\n",
       "       'PC1107203', 'PC1107204', '8580060.1', 'U250002097-1', 'PC1107230',\n",
       "       'U250002387-1', 'U250002389-1', 'U250002436-1', '8591154.1', '3',\n",
       "       'U250002570-1', 'U250002571-1', 'U250002572-1', 'U250002586-1',\n",
       "       'U250002586-2', 'U250002588-1', 'U250002616-1', 'U250002767-1',\n",
       "       'U250002767-2', 'U250002767-3', 'U250002767-4', '8597794.1',\n",
       "       '8597798.1', '31099807', '31099798', '31101690', 'U250002977-1',\n",
       "       'U250002978-1', 'U250003109-1', 'U250003129-1', 'U250003140-1',\n",
       "       '31105999', '31106000', '31106001', '31106002', '31106003',\n",
       "       '31106004', 'U250003336-1', 'U250003342-1', 'U250003345-1', '4'],\n",
       "      dtype=object)"
      ]
     },
     "execution_count": 100,
     "metadata": {},
     "output_type": "execute_result"
    }
   ],
   "source": [
    "df[\"CPID\"] = df[\"CPID\"].replace(values, key)\n",
    "df['CPID'].unique()"
   ]
  },
  {
   "cell_type": "markdown",
   "id": "7117e3b9-86e0-4553-b420-55f021c9cf8f",
   "metadata": {
    "jp-MarkdownHeadingCollapsed": true
   },
   "source": [
    "#### Trading Counterparty Entity"
   ]
  },
  {
   "cell_type": "code",
   "execution_count": 101,
   "id": "be0d218a-7b11-4c04-abf8-cd031e506dc2",
   "metadata": {},
   "outputs": [],
   "source": [
    "def find_key_with_value(input_dict, value):\n",
    "    for key, val in input_dict.items():\n",
    "        if val == value: return key\n",
    "    return \"None\"\n",
    "\n",
    "def find_key_in_list(nokey, key_list):\n",
    "        \n",
    "    dict_ = {}\n",
    "    for key in key_list:\n",
    "        # check if key.upper() is inside nokey.upper()\n",
    "        dict_[key] = round(fuzz.token_set_ratio(key.upper(), nokey.upper()),2)\n",
    "\n",
    "    return find_key_with_value(dict_, 100)"
   ]
  },
  {
   "cell_type": "code",
   "execution_count": 102,
   "id": "06a2f182-0dea-40bc-b869-b1fd949d46e7",
   "metadata": {},
   "outputs": [],
   "source": [
    "for key, values in dict_Directory['Company'].items():\n",
    "    df[\"Trading Counterparty Entity\"] = df[\"Trading Counterparty Entity\"].replace(values, key)"
   ]
  },
  {
   "cell_type": "code",
   "execution_count": 103,
   "id": "3832f698-88d3-4a96-aeb9-c3f52bb134a1",
   "metadata": {},
   "outputs": [
    {
     "data": {
      "text/plain": [
       "False"
      ]
     },
     "execution_count": 103,
     "metadata": {},
     "output_type": "execute_result"
    }
   ],
   "source": [
    "set(df[\"Trading Counterparty Entity\"].unique()) <= set(dict_Directory['Company'].keys())"
   ]
  },
  {
   "cell_type": "code",
   "execution_count": 104,
   "id": "d4c44f3e-3ba4-4dcd-b9ec-40c29a750791",
   "metadata": {},
   "outputs": [
    {
     "data": {
      "text/plain": [
       "['TARTAN OIL LLC',\n",
       " 'Shell Oil',\n",
       " 'Offen Petroleum',\n",
       " 'Marathon Petroleum',\n",
       " 'Mieco LLC',\n",
       " 'US VENTURE',\n",
       " 'US OIL AND REFINING CO-LE',\n",
       " 'BP North America Petrol., a div.of BPPNA',\n",
       " 'Petro-Diamond Incorporated-SDP',\n",
       " 'CHEVRON PRODUCTS COMPANY-LE',\n",
       " 'PETROCOM ENERGY GROUP LLC',\n",
       " 'OFFEN PETROLEUM, LLC',\n",
       " 'REG Marketing & Logistics Group, LLC',\n",
       " 'IDEMITSU APOLLO CORPORATION',\n",
       " 'PETRO-DIAMOND INCORPORATED',\n",
       " 'VALERO MKT AND SUPPLY-LE',\n",
       " 'PHILLIPS 66 COMPANY-LE',\n",
       " 'BP NA PETROLEUM',\n",
       " 'SBR MARKETING LLC',\n",
       " 'QT FUELS INCORPORATED',\n",
       " 'GRESHAM PETROLEUM COMPANY',\n",
       " 'Parkland (U.S.) Supply Corporation',\n",
       " 'Chevron Prod. Co, A Div.of Chev. USA, Inc.',\n",
       " 'PHILLIPS 66 COMPANY',\n",
       " 'SHELL TRADING (US) COMPANY',\n",
       " 'CHEVRON PRODUCTS COMPANY',\n",
       " 'PBF HOLDING COMPANY LLC-LE',\n",
       " 'GENERAL PETROLEUM LLCDBA PTL MARINE',\n",
       " 'IDEMITSU APOLLO CORP',\n",
       " 'Mieco LLC.',\n",
       " 'MARATHON PETROLEUM CO-LE',\n",
       " 'NGL CRUDE LOGISTICS, LLC',\n",
       " 'Brad Hall',\n",
       " 'HF SINCLAIR REFINING & MARKETING LLC',\n",
       " 'MARATHON PETROLEUM COMPANY LP',\n",
       " 'IDEMITSU APOLLO RENEWABLE CORPORATION',\n",
       " 'Petro-Diamond Inc.',\n",
       " 'CHEVRON',\n",
       " 'BB ENERGY USA LLC']"
      ]
     },
     "execution_count": 104,
     "metadata": {},
     "output_type": "execute_result"
    }
   ],
   "source": [
    "# Nombres de company que no estan en keys\n",
    "nokey_list = list(set(df[\"Trading Counterparty Entity\"].unique()) - set(dict_Directory['Company'].keys()))\n",
    "nokey_list"
   ]
  },
  {
   "cell_type": "code",
   "execution_count": 105,
   "id": "e2acbb26-fafa-4123-ac8f-30d70fe24c80",
   "metadata": {
    "scrolled": true
   },
   "outputs": [
    {
     "data": {
      "text/plain": [
       "['US Venture',\n",
       " 'Alaska Airlines',\n",
       " 'Allegiant Air',\n",
       " 'Altair',\n",
       " 'Ampol',\n",
       " 'Aramco',\n",
       " 'Archer-Daniels',\n",
       " 'Avfuel',\n",
       " 'BB',\n",
       " 'Biosphere',\n",
       " 'Boyett',\n",
       " 'BP',\n",
       " 'Castleton',\n",
       " 'CCMT',\n",
       " 'Chase Inc',\n",
       " 'Chevron',\n",
       " 'Clean2050',\n",
       " 'CMA CGM',\n",
       " 'Cockett',\n",
       " 'Crimson',\n",
       " 'DAN Bunkering',\n",
       " 'Diamond Green',\n",
       " 'Eastern Aviation',\n",
       " 'Elbow River',\n",
       " 'ENEOS',\n",
       " 'Enpramex',\n",
       " 'Epsilon',\n",
       " 'Equilon',\n",
       " 'Flyers',\n",
       " 'FSM',\n",
       " 'General Pet.',\n",
       " 'Glander Int.',\n",
       " 'Glencore',\n",
       " 'GreenAmerica',\n",
       " 'Gresham',\n",
       " 'Gunvor',\n",
       " 'Hartland',\n",
       " 'Herbst',\n",
       " 'HF Sinclair',\n",
       " 'HTP',\n",
       " 'Idemitsu',\n",
       " 'JACO',\n",
       " 'Jaco Oil',\n",
       " 'Kern',\n",
       " 'Keyera',\n",
       " 'Kinder Morgan',\n",
       " 'KPI',\n",
       " 'Lincoln Oil',\n",
       " 'Mansfield',\n",
       " 'Marathon',\n",
       " 'Martinez Renewables',\n",
       " 'Maverik',\n",
       " 'McCall',\n",
       " 'Mieco',\n",
       " 'Monjasa',\n",
       " 'Murex',\n",
       " 'Musket',\n",
       " 'n/a',\n",
       " 'NAFCO',\n",
       " 'Neste',\n",
       " 'NGL',\n",
       " 'N.A.Fuels',\n",
       " 'Offen',\n",
       " 'P66',\n",
       " 'Parkland',\n",
       " 'PBF',\n",
       " 'Petro Diamond',\n",
       " 'Petro Star',\n",
       " 'Petrochina',\n",
       " 'Petrocom',\n",
       " 'Pilot Travel',\n",
       " 'QuickTrip',\n",
       " 'QT Fuels',\n",
       " 'Rebel Oil',\n",
       " 'REG Mktg.',\n",
       " 'RIL USA',\n",
       " 'River City',\n",
       " 'Rubis',\n",
       " 'SBR Mktg.',\n",
       " 'Seaboard',\n",
       " 'SEI Fuel',\n",
       " 'Shell',\n",
       " 'Shiralian',\n",
       " 'Sietco',\n",
       " 'Southern Counties',\n",
       " 'Southwest',\n",
       " 'Space Age',\n",
       " 'Spirit Airlines',\n",
       " 'Stan Boyett',\n",
       " 'STR',\n",
       " 'STUSCO',\n",
       " 'Sun Valley',\n",
       " 'Sunoco',\n",
       " 'Supreme',\n",
       " 'TAC',\n",
       " 'Targray',\n",
       " 'Tartan',\n",
       " 'Tauber',\n",
       " 'TFG',\n",
       " 'Jankovich',\n",
       " 'Trafigura',\n",
       " 'Transmontaigne',\n",
       " 'US Energy',\n",
       " 'US Oil',\n",
       " 'Ultrabulk',\n",
       " 'Valero',\n",
       " 'Unipec',\n",
       " 'United Aviation',\n",
       " 'UPRR',\n",
       " 'Valley Pacific',\n",
       " 'Vane Line',\n",
       " 'Vitol',\n",
       " 'World Fuel']"
      ]
     },
     "execution_count": 105,
     "metadata": {},
     "output_type": "execute_result"
    }
   ],
   "source": [
    "# Key values\n",
    "key_list = list(dict_Directory['Company'].keys())\n",
    "key_list"
   ]
  },
  {
   "cell_type": "code",
   "execution_count": 106,
   "id": "b938a00d-e27b-40a3-b38f-4402ad79acde",
   "metadata": {
    "scrolled": true
   },
   "outputs": [
    {
     "name": "stdout",
     "output_type": "stream",
     "text": [
      "TARTAN OIL LLC\n",
      "Tartan\n",
      "Shell Oil\n",
      "Shell\n",
      "Offen Petroleum\n",
      "Offen\n",
      "Marathon Petroleum\n",
      "Marathon\n",
      "Mieco LLC\n",
      "Mieco\n",
      "US VENTURE\n",
      "US Venture\n",
      "US OIL AND REFINING CO-LE\n",
      "US Oil\n",
      "BP North America Petrol., a div.of BPPNA\n",
      "BP\n",
      "Petro-Diamond Incorporated-SDP\n",
      "Petro Diamond\n",
      "CHEVRON PRODUCTS COMPANY-LE\n",
      "Chevron\n",
      "PETROCOM ENERGY GROUP LLC\n",
      "Petrocom\n",
      "OFFEN PETROLEUM, LLC\n",
      "Offen\n",
      "REG Marketing & Logistics Group, LLC\n",
      "REG Mktg.\n",
      "IDEMITSU APOLLO CORPORATION\n",
      "Idemitsu\n",
      "PETRO-DIAMOND INCORPORATED\n",
      "Petro Diamond\n",
      "VALERO MKT AND SUPPLY-LE\n",
      "Valero\n",
      "PHILLIPS 66 COMPANY-LE\n",
      "P66\n",
      "BP NA PETROLEUM\n",
      "BP\n",
      "SBR MARKETING LLC\n",
      "SBR Mktg.\n",
      "QT FUELS INCORPORATED\n",
      "QuickTrip\n",
      "GRESHAM PETROLEUM COMPANY\n",
      "Gresham\n",
      "Parkland (U.S.) Supply Corporation\n",
      "Parkland\n",
      "Chevron Prod. Co, A Div.of Chev. USA, Inc.\n",
      "Chevron\n",
      "PHILLIPS 66 COMPANY\n",
      "P66\n",
      "SHELL TRADING (US) COMPANY\n",
      "Shell\n",
      "CHEVRON PRODUCTS COMPANY\n",
      "Chevron\n",
      "PBF HOLDING COMPANY LLC-LE\n",
      "PBF\n",
      "GENERAL PETROLEUM LLCDBA PTL MARINE\n",
      "General Pet.\n",
      "IDEMITSU APOLLO CORP\n",
      "Idemitsu\n",
      "Mieco LLC.\n",
      "Mieco\n",
      "MARATHON PETROLEUM CO-LE\n",
      "Marathon\n",
      "NGL CRUDE LOGISTICS, LLC\n",
      "NGL\n",
      "Brad Hall\n",
      "Shell\n",
      "HF SINCLAIR REFINING & MARKETING LLC\n",
      "HF Sinclair\n",
      "MARATHON PETROLEUM COMPANY LP\n",
      "Marathon\n",
      "IDEMITSU APOLLO RENEWABLE CORPORATION\n",
      "Idemitsu\n",
      "Petro-Diamond Inc.\n",
      "Petro Diamond\n",
      "CHEVRON\n",
      "Chevron\n",
      "BB ENERGY USA LLC\n",
      "BB\n"
     ]
    }
   ],
   "source": [
    "# Fuzzy match \n",
    "dictio_ = {}\n",
    "for nokey in nokey_list:\n",
    "    print(nokey)\n",
    "    dict_ = {}\n",
    "    for key in key_list:\n",
    "        value_list = list(dict_Directory['Company'][key])\n",
    "        dict_[key] = np.max(np.array([round(fuzz.token_set_ratio(value.upper(), nokey.upper()),2) for value in value_list]))\n",
    "            \n",
    "    key_max = max(dict_, key= lambda x: dict_[x])\n",
    "    print(key_max)\n",
    "    dictio_[nokey] = key_max"
   ]
  },
  {
   "cell_type": "code",
   "execution_count": 107,
   "id": "0b809e9e-2f58-43f7-abd1-5e8879ff9489",
   "metadata": {},
   "outputs": [
    {
     "data": {
      "text/plain": [
       "{'TARTAN OIL LLC': 'Tartan',\n",
       " 'Shell Oil': 'Shell',\n",
       " 'Offen Petroleum': 'Offen',\n",
       " 'Marathon Petroleum': 'Marathon',\n",
       " 'Mieco LLC': 'Mieco',\n",
       " 'US VENTURE': 'US Venture',\n",
       " 'US OIL AND REFINING CO-LE': 'US Oil',\n",
       " 'BP North America Petrol., a div.of BPPNA': 'BP',\n",
       " 'Petro-Diamond Incorporated-SDP': 'Petro Diamond',\n",
       " 'CHEVRON PRODUCTS COMPANY-LE': 'Chevron',\n",
       " 'PETROCOM ENERGY GROUP LLC': 'Petrocom',\n",
       " 'OFFEN PETROLEUM, LLC': 'Offen',\n",
       " 'REG Marketing & Logistics Group, LLC': 'REG Mktg.',\n",
       " 'IDEMITSU APOLLO CORPORATION': 'Idemitsu',\n",
       " 'PETRO-DIAMOND INCORPORATED': 'Petro Diamond',\n",
       " 'VALERO MKT AND SUPPLY-LE': 'Valero',\n",
       " 'PHILLIPS 66 COMPANY-LE': 'P66',\n",
       " 'BP NA PETROLEUM': 'BP',\n",
       " 'SBR MARKETING LLC': 'SBR Mktg.',\n",
       " 'QT FUELS INCORPORATED': 'QuickTrip',\n",
       " 'GRESHAM PETROLEUM COMPANY': 'Gresham',\n",
       " 'Parkland (U.S.) Supply Corporation': 'Parkland',\n",
       " 'Chevron Prod. Co, A Div.of Chev. USA, Inc.': 'Chevron',\n",
       " 'PHILLIPS 66 COMPANY': 'P66',\n",
       " 'SHELL TRADING (US) COMPANY': 'Shell',\n",
       " 'CHEVRON PRODUCTS COMPANY': 'Chevron',\n",
       " 'PBF HOLDING COMPANY LLC-LE': 'PBF',\n",
       " 'GENERAL PETROLEUM LLCDBA PTL MARINE': 'General Pet.',\n",
       " 'IDEMITSU APOLLO CORP': 'Idemitsu',\n",
       " 'Mieco LLC.': 'Mieco',\n",
       " 'MARATHON PETROLEUM CO-LE': 'Marathon',\n",
       " 'NGL CRUDE LOGISTICS, LLC': 'NGL',\n",
       " 'Brad Hall': 'Shell',\n",
       " 'HF SINCLAIR REFINING & MARKETING LLC': 'HF Sinclair',\n",
       " 'MARATHON PETROLEUM COMPANY LP': 'Marathon',\n",
       " 'IDEMITSU APOLLO RENEWABLE CORPORATION': 'Idemitsu',\n",
       " 'Petro-Diamond Inc.': 'Petro Diamond',\n",
       " 'CHEVRON': 'Chevron',\n",
       " 'BB ENERGY USA LLC': 'BB'}"
      ]
     },
     "execution_count": 107,
     "metadata": {},
     "output_type": "execute_result"
    }
   ],
   "source": [
    "dictio_"
   ]
  },
  {
   "cell_type": "code",
   "execution_count": 108,
   "id": "626ffea5-234b-4a5f-81bb-2a3dfe240e18",
   "metadata": {},
   "outputs": [],
   "source": [
    "df[\"Trading Counterparty Entity\"] = df[\"Trading Counterparty Entity\"].replace(dictio_)"
   ]
  },
  {
   "cell_type": "code",
   "execution_count": 109,
   "id": "2cbe2525-1589-4330-82ae-8e12f88cc475",
   "metadata": {},
   "outputs": [
    {
     "data": {
      "text/plain": [
       "[]"
      ]
     },
     "execution_count": 109,
     "metadata": {},
     "output_type": "execute_result"
    }
   ],
   "source": [
    "# Nombres de company que no estan en keys\n",
    "nokey_list = list(set(df[\"Trading Counterparty Entity\"].unique()) - set(dict_Directory['Company'].keys()))\n",
    "nokey_list"
   ]
  },
  {
   "cell_type": "code",
   "execution_count": 110,
   "id": "3b3e0e71-1194-4133-be49-85b73ae0c9ef",
   "metadata": {},
   "outputs": [
    {
     "data": {
      "text/plain": [
       "array(['Trafigura', 'Sun Valley', 'BP', 'Valero', 'Petro Diamond', 'PBF',\n",
       "       'US Venture', 'Chevron', 'Marathon', 'Tartan', 'Glencore', 'P66',\n",
       "       'Idemitsu', 'BB', 'Mieco', 'Shell', 'Flyers', 'Offen', 'Vitol',\n",
       "       'Musket', 'Jankovich', 'Parkland', 'QuickTrip', 'General Pet.',\n",
       "       'Petrocom', 'TAC', 'HF Sinclair', 'McCall', 'REG Mktg.', 'HTP',\n",
       "       'Hartland', 'QT Fuels', 'Tauber', 'SBR Mktg.', 'Epsilon',\n",
       "       'US Energy', 'Gresham', 'US Oil', 'Rebel Oil', 'NGL', 'Enpramex',\n",
       "       'Boyett'], dtype=object)"
      ]
     },
     "execution_count": 110,
     "metadata": {},
     "output_type": "execute_result"
    }
   ],
   "source": [
    "df[\"Trading Counterparty Entity\"].unique()"
   ]
  },
  {
   "cell_type": "markdown",
   "id": "ac40b270-be2e-4140-bade-e1b6a95374e9",
   "metadata": {
    "jp-MarkdownHeadingCollapsed": true
   },
   "source": [
    "#### Trading Counterparty Entity Contact Name"
   ]
  },
  {
   "cell_type": "code",
   "execution_count": 111,
   "id": "b06860c3-5869-4117-b3fb-30fe640a9263",
   "metadata": {},
   "outputs": [
    {
     "data": {
      "text/plain": [
       "array(['Danny Wilson', 'Allen Nivens', 'Michael Kinninger',\n",
       "       'Travis Harper', 'n/a', '-', 'Ron Dunner', 'unavailable',\n",
       "       'Bryant, Dennis', 'Aaron Ebers', 'Mike Kinniger', 'Jessica Terry',\n",
       "       'Lou Forman', 'Alex Lerullo', 'Nguyen, Nemo', 'Matthew Stachel',\n",
       "       'Justin Ladanza', 'Stuart Wilson', 'Ed McMonigle', 'Chris Lee',\n",
       "       'Rick Anchetta', 'Michael Golen', 'Arturo Rendon',\n",
       "       'Matthew Priesmeyer', 'Pascu, Chelsea', 'Ebbers, Aaron',\n",
       "       'Harper, Travis', 'Alex Ierullo', 'McMonigle, Ed', 'Marino, Jeff',\n",
       "       'Mohtashami, Steve', 'Frost, Nolan', 'Jeff Rogers', '',\n",
       "       'Claudia Armstrong', 'Rick Ancheta', 'Nick Kerkhoff',\n",
       "       'Vincent Dusina', 'Keith Leek', 'Allison Robinson',\n",
       "       'Audrey Nelson', 'Rendon, Arturo', 'Wickman, Casey',\n",
       "       'Spomer, Rick', 'Garrity, Matt', 'Gobee, Peter', 'Hill, Greg',\n",
       "       'Greg', 'Matthew Garrity', 'Matt Garrity', 'Nolan Frost',\n",
       "       'Wilson, Stuart', 'Kim Kuchenbecker', 'Blake Hale', 'Mark Resnick',\n",
       "       'Casey Wickman', 'Bari  Hatheway', 'Brian Bocklund',\n",
       "       'Arturo Romero', 'Andrew Rodriguez', 'Bari Hatheway',\n",
       "       'Kuchenbecker, Kim', 'Rodriguez, Andy', 'Contracts', 'Greg Hill',\n",
       "       'Lou Foreman', 'Nichole Johnston', 'Tanea Evers', 'Ken Biase',\n",
       "       'Steve Mohtashami', 'Mike Kinninger', 'Romero, Arturo',\n",
       "       'Louis Forman', 'Jeff Marino', 'Chris Sutton', 'Lawson George',\n",
       "       'Forman, Louis', 'Burns, Dan', 'Shannon Uenten', 'Josh Hillis',\n",
       "       'Ebers, Aaron', 'R Simpson', 'Brian Coulson', 'AUDREY NELSEON',\n",
       "       'Kinninger, Mike', 'Kerkhoff, Nick', 'Nelson, Audrey',\n",
       "       'Bocklund, Brian', 'Terry, Jessica', 'Hatheway, Bari',\n",
       "       'Rick Spomer', 'Garrity, Matthew', 'Justin Iadanza',\n",
       "       'David Tauber Jr', 'MARK MASON', 'Hacker, Dan', 'Ancheta, Rick',\n",
       "       'Lee, Chris', 'John Mccon', 'Lucas Cox', 'Michael Brownstein',\n",
       "       'Steve Kornman', 'Leek, Keith', 'Gregory Hill', 'Andy Rodriguez',\n",
       "       'Dan Hacker', 'Iadanza, Justin', 'Grant Vangilder', 'Chase Hannah',\n",
       "       'ARTURO ROMERO', 'CASEY WICKMAN', 'JUSTIN IADANZA',\n",
       "       'Randy Simpson'], dtype=object)"
      ]
     },
     "execution_count": 111,
     "metadata": {},
     "output_type": "execute_result"
    }
   ],
   "source": [
    "df[\"Trading Counterparty Entity Contact Name\"].unique()"
   ]
  },
  {
   "cell_type": "markdown",
   "id": "01faf36d-cde9-4ff1-a3cb-704456a7f6b0",
   "metadata": {
    "jp-MarkdownHeadingCollapsed": true
   },
   "source": [
    "#### Spot Market Trading Location"
   ]
  },
  {
   "cell_type": "code",
   "execution_count": 112,
   "id": "8f281262-89a4-451a-bdac-da7308491747",
   "metadata": {
    "scrolled": true
   },
   "outputs": [
    {
     "data": {
      "text/plain": [
       "{'LA': ['#E101 (LOS ANGELES AREA) DEFAULT',\n",
       "  'Bradshaw',\n",
       "  'BTB Los Angeles CA Kinder Morgan',\n",
       "  'Carson CA KM Watson Station',\n",
       "  'CARSON, CA - KINDER MORGAN',\n",
       "  'CARSON, CA - SOPUS',\n",
       "  'Colton',\n",
       "  'DOLORES-TESORO',\n",
       "  'El Centro, CA',\n",
       "  'GEORGETOWN, CAYMAN ISLANDS',\n",
       "  'HARPERTOWN-KERN OIL',\n",
       "  'Imperial',\n",
       "  'LA',\n",
       "  'LA,CA',\n",
       "  'Las Vegas',\n",
       "  'Los Angeles',\n",
       "  'Los Angeles CA Kinder Morgan',\n",
       "  'Los Angeles CA LAX Airport Terminal',\n",
       "  'Mobile',\n",
       "  'N/A',\n",
       "  'Olympus',\n",
       "  'Phoenix',\n",
       "  'San Diego CA KM Mission Valley Terminal',\n",
       "  'UNK',\n",
       "  'Unmapped',\n",
       "  'WILMINGTON-TESORO',\n",
       "  'Zenith',\n",
       "  ''],\n",
       " 'SF': ['BAY',\n",
       "  'Bay Area',\n",
       "  'Concord CA KM PL Station',\n",
       "  'CONCORD, CA - KM PUMPSTATION',\n",
       "  'Martinez CA Avon Wharf',\n",
       "  'MARTINEZ, CA - TRANSMONTAIGNE',\n",
       "  'Mission Valley',\n",
       "  'OAKLAND INTL. AIRPORT OAK, CA',\n",
       "  'Reno',\n",
       "  'RICHMOND, CA - CHEVRON',\n",
       "  'RICHMOND, CA - IMTT',\n",
       "  'RICHMOND-CHEVRON',\n",
       "  'SACRAMENTO, CA - KINDER MORGAN',\n",
       "  'San Francisco',\n",
       "  'SAN FRANCISCO AIRPORT SFO, CA',\n",
       "  'San Francisco CA Kinder Morgan',\n",
       "  'San Francisco CA KinderMorga',\n",
       "  'San Francisco Kinder Morgan',\n",
       "  'San Jose',\n",
       "  'SAN JOSE, CA - KINDER MORGAN',\n",
       "  'SF',\n",
       "  'SF Bay',\n",
       "  'WATSON, CA - KINDER MORGAN'],\n",
       " 'NW': ['Cherry Point WA',\n",
       "  'Pasco',\n",
       "  'Pasco, WA',\n",
       "  'Portland',\n",
       "  'Portland - KM',\n",
       "  'Portland - KMW',\n",
       "  'Portland-McCall',\n",
       "  'Tacoma',\n",
       "  'Tacoma-Seaport',\n",
       "  'Umatilla']}"
      ]
     },
     "execution_count": 112,
     "metadata": {},
     "output_type": "execute_result"
    }
   ],
   "source": [
    "dict_Directory['TL']"
   ]
  },
  {
   "cell_type": "code",
   "execution_count": 113,
   "id": "a84cc014-3370-4344-a6c4-29867e9bf70e",
   "metadata": {
    "scrolled": true
   },
   "outputs": [
    {
     "data": {
      "text/plain": [
       "array(['SF', 'LA', None, 'BAY', 'Portland - KM', 'Los Angeles',\n",
       "       'West Coast', 'LOS ANGELES, CA', '', 'Portland - KMW', 'Imperial',\n",
       "       'Phoenix', 'Conventional Regular', 'Conventional Premium',\n",
       "       'ULSD #2', 'Portland-McCall', 'Las Vegas', 'LOS ANGELES',\n",
       "       'Los Angeles, CA'], dtype=object)"
      ]
     },
     "execution_count": 113,
     "metadata": {},
     "output_type": "execute_result"
    }
   ],
   "source": [
    "df['Spot Market Trading Location'].unique()"
   ]
  },
  {
   "cell_type": "code",
   "execution_count": 114,
   "id": "a1f8f387-41df-4dce-819e-afdbbda48fba",
   "metadata": {},
   "outputs": [],
   "source": [
    "for key, values in dict_Directory['TL'].items():\n",
    "    df['Spot Market Trading Location'] = df['Spot Market Trading Location'].replace(values, key)"
   ]
  },
  {
   "cell_type": "code",
   "execution_count": 115,
   "id": "1a8dc1a5-e8e2-4cf9-b4e3-aa1849b3a3ec",
   "metadata": {},
   "outputs": [
    {
     "data": {
      "text/plain": [
       "False"
      ]
     },
     "execution_count": 115,
     "metadata": {},
     "output_type": "execute_result"
    }
   ],
   "source": [
    "set(df['Spot Market Trading Location'].unique()) <= set(dict_Directory['TL'].keys())"
   ]
  },
  {
   "cell_type": "code",
   "execution_count": 116,
   "id": "c11e75b0-3e06-4982-8da9-ec5b1249180a",
   "metadata": {},
   "outputs": [
    {
     "data": {
      "text/plain": [
       "['None',\n",
       " 'Conventional Premium',\n",
       " 'LOS ANGELES, CA',\n",
       " 'Los Angeles, CA',\n",
       " 'ULSD #2',\n",
       " 'Conventional Regular',\n",
       " 'West Coast',\n",
       " 'LOS ANGELES']"
      ]
     },
     "execution_count": 116,
     "metadata": {},
     "output_type": "execute_result"
    }
   ],
   "source": [
    "#if not set(df[\"Trading Counterparty Entity\"].unique()) <= set(dict_Directory['Company'].keys()):\n",
    "# Nombres de company que no estan en keys\n",
    "nokey_list = list(set(df['Spot Market Trading Location'].unique()) - set(dict_Directory['TL'].keys()))\n",
    "nokey_list = [str(nokey) for nokey in nokey_list]\n",
    "\n",
    "if \"nan\" in nokey_list:\n",
    "    nokey_list.remove(\"nan\")\n",
    "\n",
    "nokey_list"
   ]
  },
  {
   "cell_type": "code",
   "execution_count": 117,
   "id": "445e834a-66e3-4ac4-8455-59c73cf034d7",
   "metadata": {},
   "outputs": [
    {
     "data": {
      "text/plain": [
       "['LA', 'SF', 'NW']"
      ]
     },
     "execution_count": 117,
     "metadata": {},
     "output_type": "execute_result"
    }
   ],
   "source": [
    "key_list = list(dict_Directory['TL'].keys())\n",
    "key_list"
   ]
  },
  {
   "cell_type": "code",
   "execution_count": 118,
   "id": "282755de-e8e6-4739-beeb-af06cff75815",
   "metadata": {
    "scrolled": true
   },
   "outputs": [
    {
     "name": "stdout",
     "output_type": "stream",
     "text": [
      "nokey None\n",
      "key LA\n",
      "value_list ['#E101 (LOS ANGELES AREA) DEFAULT', 'Bradshaw', 'BTB Los Angeles CA Kinder Morgan', 'Carson CA KM Watson Station', 'CARSON, CA - KINDER MORGAN', 'CARSON, CA - SOPUS', 'Colton', 'DOLORES-TESORO', 'El Centro, CA', 'GEORGETOWN, CAYMAN ISLANDS', 'HARPERTOWN-KERN OIL', 'Imperial', 'LA', 'LA,CA', 'Las Vegas', 'Los Angeles', 'Los Angeles CA Kinder Morgan', 'Los Angeles CA LAX Airport Terminal', 'Mobile', 'N/A', 'Olympus', 'Phoenix', 'San Diego CA KM Mission Valley Terminal', 'UNK', 'Unmapped', 'WILMINGTON-TESORO', 'Zenith', '']\n",
      "key SF\n",
      "value_list ['BAY', 'Bay Area', 'Concord CA KM PL Station', 'CONCORD, CA - KM PUMPSTATION', 'Martinez CA Avon Wharf', 'MARTINEZ, CA - TRANSMONTAIGNE', 'Mission Valley', 'OAKLAND INTL. AIRPORT OAK, CA', 'Reno', 'RICHMOND, CA - CHEVRON', 'RICHMOND, CA - IMTT', 'RICHMOND-CHEVRON', 'SACRAMENTO, CA - KINDER MORGAN', 'San Francisco', 'SAN FRANCISCO AIRPORT SFO, CA', 'San Francisco CA Kinder Morgan', 'San Francisco CA KinderMorga', 'San Francisco Kinder Morgan', 'San Jose', 'SAN JOSE, CA - KINDER MORGAN', 'SF', 'SF Bay', 'WATSON, CA - KINDER MORGAN']\n",
      "key NW\n",
      "value_list ['Cherry Point WA', 'Pasco', 'Pasco, WA', 'Portland', 'Portland - KM', 'Portland - KMW', 'Portland-McCall', 'Tacoma', 'Tacoma-Seaport', 'Umatilla']\n",
      "SF\n",
      "nokey Conventional Premium\n",
      "key LA\n",
      "value_list ['#E101 (LOS ANGELES AREA) DEFAULT', 'Bradshaw', 'BTB Los Angeles CA Kinder Morgan', 'Carson CA KM Watson Station', 'CARSON, CA - KINDER MORGAN', 'CARSON, CA - SOPUS', 'Colton', 'DOLORES-TESORO', 'El Centro, CA', 'GEORGETOWN, CAYMAN ISLANDS', 'HARPERTOWN-KERN OIL', 'Imperial', 'LA', 'LA,CA', 'Las Vegas', 'Los Angeles', 'Los Angeles CA Kinder Morgan', 'Los Angeles CA LAX Airport Terminal', 'Mobile', 'N/A', 'Olympus', 'Phoenix', 'San Diego CA KM Mission Valley Terminal', 'UNK', 'Unmapped', 'WILMINGTON-TESORO', 'Zenith', '']\n",
      "key SF\n",
      "value_list ['BAY', 'Bay Area', 'Concord CA KM PL Station', 'CONCORD, CA - KM PUMPSTATION', 'Martinez CA Avon Wharf', 'MARTINEZ, CA - TRANSMONTAIGNE', 'Mission Valley', 'OAKLAND INTL. AIRPORT OAK, CA', 'Reno', 'RICHMOND, CA - CHEVRON', 'RICHMOND, CA - IMTT', 'RICHMOND-CHEVRON', 'SACRAMENTO, CA - KINDER MORGAN', 'San Francisco', 'SAN FRANCISCO AIRPORT SFO, CA', 'San Francisco CA Kinder Morgan', 'San Francisco CA KinderMorga', 'San Francisco Kinder Morgan', 'San Jose', 'SAN JOSE, CA - KINDER MORGAN', 'SF', 'SF Bay', 'WATSON, CA - KINDER MORGAN']\n",
      "key NW\n",
      "value_list ['Cherry Point WA', 'Pasco', 'Pasco, WA', 'Portland', 'Portland - KM', 'Portland - KMW', 'Portland-McCall', 'Tacoma', 'Tacoma-Seaport', 'Umatilla']\n",
      "LA\n",
      "nokey LOS ANGELES, CA\n",
      "key LA\n",
      "value_list ['#E101 (LOS ANGELES AREA) DEFAULT', 'Bradshaw', 'BTB Los Angeles CA Kinder Morgan', 'Carson CA KM Watson Station', 'CARSON, CA - KINDER MORGAN', 'CARSON, CA - SOPUS', 'Colton', 'DOLORES-TESORO', 'El Centro, CA', 'GEORGETOWN, CAYMAN ISLANDS', 'HARPERTOWN-KERN OIL', 'Imperial', 'LA', 'LA,CA', 'Las Vegas', 'Los Angeles', 'Los Angeles CA Kinder Morgan', 'Los Angeles CA LAX Airport Terminal', 'Mobile', 'N/A', 'Olympus', 'Phoenix', 'San Diego CA KM Mission Valley Terminal', 'UNK', 'Unmapped', 'WILMINGTON-TESORO', 'Zenith', '']\n",
      "key SF\n",
      "value_list ['BAY', 'Bay Area', 'Concord CA KM PL Station', 'CONCORD, CA - KM PUMPSTATION', 'Martinez CA Avon Wharf', 'MARTINEZ, CA - TRANSMONTAIGNE', 'Mission Valley', 'OAKLAND INTL. AIRPORT OAK, CA', 'Reno', 'RICHMOND, CA - CHEVRON', 'RICHMOND, CA - IMTT', 'RICHMOND-CHEVRON', 'SACRAMENTO, CA - KINDER MORGAN', 'San Francisco', 'SAN FRANCISCO AIRPORT SFO, CA', 'San Francisco CA Kinder Morgan', 'San Francisco CA KinderMorga', 'San Francisco Kinder Morgan', 'San Jose', 'SAN JOSE, CA - KINDER MORGAN', 'SF', 'SF Bay', 'WATSON, CA - KINDER MORGAN']\n",
      "key NW\n",
      "value_list ['Cherry Point WA', 'Pasco', 'Pasco, WA', 'Portland', 'Portland - KM', 'Portland - KMW', 'Portland-McCall', 'Tacoma', 'Tacoma-Seaport', 'Umatilla']\n",
      "LA\n",
      "nokey Los Angeles, CA\n",
      "key LA\n",
      "value_list ['#E101 (LOS ANGELES AREA) DEFAULT', 'Bradshaw', 'BTB Los Angeles CA Kinder Morgan', 'Carson CA KM Watson Station', 'CARSON, CA - KINDER MORGAN', 'CARSON, CA - SOPUS', 'Colton', 'DOLORES-TESORO', 'El Centro, CA', 'GEORGETOWN, CAYMAN ISLANDS', 'HARPERTOWN-KERN OIL', 'Imperial', 'LA', 'LA,CA', 'Las Vegas', 'Los Angeles', 'Los Angeles CA Kinder Morgan', 'Los Angeles CA LAX Airport Terminal', 'Mobile', 'N/A', 'Olympus', 'Phoenix', 'San Diego CA KM Mission Valley Terminal', 'UNK', 'Unmapped', 'WILMINGTON-TESORO', 'Zenith', '']\n",
      "key SF\n",
      "value_list ['BAY', 'Bay Area', 'Concord CA KM PL Station', 'CONCORD, CA - KM PUMPSTATION', 'Martinez CA Avon Wharf', 'MARTINEZ, CA - TRANSMONTAIGNE', 'Mission Valley', 'OAKLAND INTL. AIRPORT OAK, CA', 'Reno', 'RICHMOND, CA - CHEVRON', 'RICHMOND, CA - IMTT', 'RICHMOND-CHEVRON', 'SACRAMENTO, CA - KINDER MORGAN', 'San Francisco', 'SAN FRANCISCO AIRPORT SFO, CA', 'San Francisco CA Kinder Morgan', 'San Francisco CA KinderMorga', 'San Francisco Kinder Morgan', 'San Jose', 'SAN JOSE, CA - KINDER MORGAN', 'SF', 'SF Bay', 'WATSON, CA - KINDER MORGAN']\n",
      "key NW\n",
      "value_list ['Cherry Point WA', 'Pasco', 'Pasco, WA', 'Portland', 'Portland - KM', 'Portland - KMW', 'Portland-McCall', 'Tacoma', 'Tacoma-Seaport', 'Umatilla']\n",
      "LA\n",
      "nokey ULSD #2\n",
      "key LA\n",
      "value_list ['#E101 (LOS ANGELES AREA) DEFAULT', 'Bradshaw', 'BTB Los Angeles CA Kinder Morgan', 'Carson CA KM Watson Station', 'CARSON, CA - KINDER MORGAN', 'CARSON, CA - SOPUS', 'Colton', 'DOLORES-TESORO', 'El Centro, CA', 'GEORGETOWN, CAYMAN ISLANDS', 'HARPERTOWN-KERN OIL', 'Imperial', 'LA', 'LA,CA', 'Las Vegas', 'Los Angeles', 'Los Angeles CA Kinder Morgan', 'Los Angeles CA LAX Airport Terminal', 'Mobile', 'N/A', 'Olympus', 'Phoenix', 'San Diego CA KM Mission Valley Terminal', 'UNK', 'Unmapped', 'WILMINGTON-TESORO', 'Zenith', '']\n",
      "key SF\n",
      "value_list ['BAY', 'Bay Area', 'Concord CA KM PL Station', 'CONCORD, CA - KM PUMPSTATION', 'Martinez CA Avon Wharf', 'MARTINEZ, CA - TRANSMONTAIGNE', 'Mission Valley', 'OAKLAND INTL. AIRPORT OAK, CA', 'Reno', 'RICHMOND, CA - CHEVRON', 'RICHMOND, CA - IMTT', 'RICHMOND-CHEVRON', 'SACRAMENTO, CA - KINDER MORGAN', 'San Francisco', 'SAN FRANCISCO AIRPORT SFO, CA', 'San Francisco CA Kinder Morgan', 'San Francisco CA KinderMorga', 'San Francisco Kinder Morgan', 'San Jose', 'SAN JOSE, CA - KINDER MORGAN', 'SF', 'SF Bay', 'WATSON, CA - KINDER MORGAN']\n",
      "key NW\n",
      "value_list ['Cherry Point WA', 'Pasco', 'Pasco, WA', 'Portland', 'Portland - KM', 'Portland - KMW', 'Portland-McCall', 'Tacoma', 'Tacoma-Seaport', 'Umatilla']\n",
      "LA\n",
      "nokey Conventional Regular\n",
      "key LA\n",
      "value_list ['#E101 (LOS ANGELES AREA) DEFAULT', 'Bradshaw', 'BTB Los Angeles CA Kinder Morgan', 'Carson CA KM Watson Station', 'CARSON, CA - KINDER MORGAN', 'CARSON, CA - SOPUS', 'Colton', 'DOLORES-TESORO', 'El Centro, CA', 'GEORGETOWN, CAYMAN ISLANDS', 'HARPERTOWN-KERN OIL', 'Imperial', 'LA', 'LA,CA', 'Las Vegas', 'Los Angeles', 'Los Angeles CA Kinder Morgan', 'Los Angeles CA LAX Airport Terminal', 'Mobile', 'N/A', 'Olympus', 'Phoenix', 'San Diego CA KM Mission Valley Terminal', 'UNK', 'Unmapped', 'WILMINGTON-TESORO', 'Zenith', '']\n",
      "key SF\n",
      "value_list ['BAY', 'Bay Area', 'Concord CA KM PL Station', 'CONCORD, CA - KM PUMPSTATION', 'Martinez CA Avon Wharf', 'MARTINEZ, CA - TRANSMONTAIGNE', 'Mission Valley', 'OAKLAND INTL. AIRPORT OAK, CA', 'Reno', 'RICHMOND, CA - CHEVRON', 'RICHMOND, CA - IMTT', 'RICHMOND-CHEVRON', 'SACRAMENTO, CA - KINDER MORGAN', 'San Francisco', 'SAN FRANCISCO AIRPORT SFO, CA', 'San Francisco CA Kinder Morgan', 'San Francisco CA KinderMorga', 'San Francisco Kinder Morgan', 'San Jose', 'SAN JOSE, CA - KINDER MORGAN', 'SF', 'SF Bay', 'WATSON, CA - KINDER MORGAN']\n",
      "key NW\n",
      "value_list ['Cherry Point WA', 'Pasco', 'Pasco, WA', 'Portland', 'Portland - KM', 'Portland - KMW', 'Portland-McCall', 'Tacoma', 'Tacoma-Seaport', 'Umatilla']\n",
      "LA\n",
      "nokey West Coast\n",
      "key LA\n",
      "value_list ['#E101 (LOS ANGELES AREA) DEFAULT', 'Bradshaw', 'BTB Los Angeles CA Kinder Morgan', 'Carson CA KM Watson Station', 'CARSON, CA - KINDER MORGAN', 'CARSON, CA - SOPUS', 'Colton', 'DOLORES-TESORO', 'El Centro, CA', 'GEORGETOWN, CAYMAN ISLANDS', 'HARPERTOWN-KERN OIL', 'Imperial', 'LA', 'LA,CA', 'Las Vegas', 'Los Angeles', 'Los Angeles CA Kinder Morgan', 'Los Angeles CA LAX Airport Terminal', 'Mobile', 'N/A', 'Olympus', 'Phoenix', 'San Diego CA KM Mission Valley Terminal', 'UNK', 'Unmapped', 'WILMINGTON-TESORO', 'Zenith', '']\n",
      "key SF\n",
      "value_list ['BAY', 'Bay Area', 'Concord CA KM PL Station', 'CONCORD, CA - KM PUMPSTATION', 'Martinez CA Avon Wharf', 'MARTINEZ, CA - TRANSMONTAIGNE', 'Mission Valley', 'OAKLAND INTL. AIRPORT OAK, CA', 'Reno', 'RICHMOND, CA - CHEVRON', 'RICHMOND, CA - IMTT', 'RICHMOND-CHEVRON', 'SACRAMENTO, CA - KINDER MORGAN', 'San Francisco', 'SAN FRANCISCO AIRPORT SFO, CA', 'San Francisco CA Kinder Morgan', 'San Francisco CA KinderMorga', 'San Francisco Kinder Morgan', 'San Jose', 'SAN JOSE, CA - KINDER MORGAN', 'SF', 'SF Bay', 'WATSON, CA - KINDER MORGAN']\n",
      "key NW\n",
      "value_list ['Cherry Point WA', 'Pasco', 'Pasco, WA', 'Portland', 'Portland - KM', 'Portland - KMW', 'Portland-McCall', 'Tacoma', 'Tacoma-Seaport', 'Umatilla']\n",
      "LA\n",
      "nokey LOS ANGELES\n",
      "key LA\n",
      "value_list ['#E101 (LOS ANGELES AREA) DEFAULT', 'Bradshaw', 'BTB Los Angeles CA Kinder Morgan', 'Carson CA KM Watson Station', 'CARSON, CA - KINDER MORGAN', 'CARSON, CA - SOPUS', 'Colton', 'DOLORES-TESORO', 'El Centro, CA', 'GEORGETOWN, CAYMAN ISLANDS', 'HARPERTOWN-KERN OIL', 'Imperial', 'LA', 'LA,CA', 'Las Vegas', 'Los Angeles', 'Los Angeles CA Kinder Morgan', 'Los Angeles CA LAX Airport Terminal', 'Mobile', 'N/A', 'Olympus', 'Phoenix', 'San Diego CA KM Mission Valley Terminal', 'UNK', 'Unmapped', 'WILMINGTON-TESORO', 'Zenith', '']\n",
      "key SF\n",
      "value_list ['BAY', 'Bay Area', 'Concord CA KM PL Station', 'CONCORD, CA - KM PUMPSTATION', 'Martinez CA Avon Wharf', 'MARTINEZ, CA - TRANSMONTAIGNE', 'Mission Valley', 'OAKLAND INTL. AIRPORT OAK, CA', 'Reno', 'RICHMOND, CA - CHEVRON', 'RICHMOND, CA - IMTT', 'RICHMOND-CHEVRON', 'SACRAMENTO, CA - KINDER MORGAN', 'San Francisco', 'SAN FRANCISCO AIRPORT SFO, CA', 'San Francisco CA Kinder Morgan', 'San Francisco CA KinderMorga', 'San Francisco Kinder Morgan', 'San Jose', 'SAN JOSE, CA - KINDER MORGAN', 'SF', 'SF Bay', 'WATSON, CA - KINDER MORGAN']\n",
      "key NW\n",
      "value_list ['Cherry Point WA', 'Pasco', 'Pasco, WA', 'Portland', 'Portland - KM', 'Portland - KMW', 'Portland-McCall', 'Tacoma', 'Tacoma-Seaport', 'Umatilla']\n",
      "LA\n"
     ]
    },
    {
     "data": {
      "text/plain": [
       "{'None': 'SF',\n",
       " 'Conventional Premium': 'LA',\n",
       " 'LOS ANGELES, CA': 'LA',\n",
       " 'Los Angeles, CA': 'LA',\n",
       " 'ULSD #2': 'LA',\n",
       " 'Conventional Regular': 'LA',\n",
       " 'West Coast': 'LA',\n",
       " 'LOS ANGELES': 'LA'}"
      ]
     },
     "execution_count": 118,
     "metadata": {},
     "output_type": "execute_result"
    }
   ],
   "source": [
    "dictio_ = {}\n",
    "for nokey in nokey_list:\n",
    "    print('nokey', nokey)\n",
    "    dict_ = {}\n",
    "    for key in key_list:\n",
    "        print('key', key)\n",
    "        value_list = list(dict_Directory['TL'][key])\n",
    "        if len(value_list)==0: break\n",
    "        print('value_list', value_list)\n",
    "        dict_[key] = np.max(np.array([round(fuzz.token_set_ratio(value.upper(), nokey.upper()),2) for value in value_list]))\n",
    "            \n",
    "    key_max = max(dict_, key= lambda x: dict_[x])\n",
    "    print(key_max)\n",
    "    dictio_[nokey] = key_max\n",
    "\n",
    "dictio_"
   ]
  },
  {
   "cell_type": "code",
   "execution_count": 119,
   "id": "00c64c5b-71f8-43c1-8bed-30d785ea4e6b",
   "metadata": {},
   "outputs": [
    {
     "name": "stdout",
     "output_type": "stream",
     "text": [
      "[None]\n"
     ]
    }
   ],
   "source": [
    "df[\"Spot Market Trading Location\"] = df[\"Spot Market Trading Location\"].replace(dictio_)\n",
    "\n",
    "# Nombres de company que no estan en keys\n",
    "nokey_list = list(set(df[\"Spot Market Trading Location\"].unique()) - set(dict_Directory['TL'].keys()))\n",
    "print(nokey_list)"
   ]
  },
  {
   "cell_type": "code",
   "execution_count": 120,
   "id": "864a00f2-2402-4513-9f54-edb0018764f1",
   "metadata": {},
   "outputs": [
    {
     "data": {
      "text/plain": [
       "array(['SF', 'LA', None, 'NW'], dtype=object)"
      ]
     },
     "execution_count": 120,
     "metadata": {},
     "output_type": "execute_result"
    }
   ],
   "source": [
    "df['Spot Market Trading Location'].unique()"
   ]
  },
  {
   "cell_type": "code",
   "execution_count": 121,
   "id": "310e2c8f-7189-4385-b163-902d276493b0",
   "metadata": {},
   "outputs": [],
   "source": [
    "key_list = list(dict_Directory['TL'].keys())"
   ]
  },
  {
   "cell_type": "code",
   "execution_count": 122,
   "id": "002b6b0a-f261-4d6e-9eb3-043c06c29159",
   "metadata": {},
   "outputs": [],
   "source": [
    "def assign_none(string):\n",
    "    if string is None: return None\n",
    "    if string in key_list: return string\n",
    "    else: return None"
   ]
  },
  {
   "cell_type": "code",
   "execution_count": 123,
   "id": "cde7e2e6-d2eb-4c7c-836f-8cefaf6fb520",
   "metadata": {},
   "outputs": [],
   "source": [
    "# df['Spot Market Trading Location'] = df['Spot Market Trading Location'].astype(str)\n",
    "df[\"Spot Market Trading Location\"] = df[\"Spot Market Trading Location\"].map(lambda string: assign_none(string))"
   ]
  },
  {
   "cell_type": "code",
   "execution_count": 124,
   "id": "288cd10d-a1e4-4de7-96e5-6ce2329921a1",
   "metadata": {},
   "outputs": [
    {
     "data": {
      "text/plain": [
       "array(['SF', 'LA', None, 'NW'], dtype=object)"
      ]
     },
     "execution_count": 124,
     "metadata": {},
     "output_type": "execute_result"
    }
   ],
   "source": [
    "df['Spot Market Trading Location'].unique()"
   ]
  },
  {
   "cell_type": "markdown",
   "id": "fc48bd5f-b900-4b0d-8a06-35ef81dcd213",
   "metadata": {
    "jp-MarkdownHeadingCollapsed": true
   },
   "source": [
    "#### Seller or Buyer"
   ]
  },
  {
   "cell_type": "code",
   "execution_count": 125,
   "id": "9d18ed3a-0936-4adf-87ec-1ec1693fe561",
   "metadata": {},
   "outputs": [],
   "source": [
    "df['Seller or Buyer'] = df['Seller or Buyer'].astype(str)"
   ]
  },
  {
   "cell_type": "code",
   "execution_count": 126,
   "id": "b1979efa-4b14-4b08-ae5c-1dc86dd63209",
   "metadata": {},
   "outputs": [
    {
     "data": {
      "text/plain": [
       "dict_keys(['Company', 'Position Seq. Num.', 'CPID', 'Counterparty Contact', 'TL', 'Sell_Buy', 'Product Type', 'Product', 'Delivery Method', 'Delivery Location', 'Price Basis Method', 'Reference Product'])"
      ]
     },
     "execution_count": 126,
     "metadata": {},
     "output_type": "execute_result"
    }
   ],
   "source": [
    "dict_Directory.keys()"
   ]
  },
  {
   "cell_type": "code",
   "execution_count": 127,
   "id": "5517f24f-c4b4-4770-a57d-ddd7da5eab45",
   "metadata": {},
   "outputs": [
    {
     "data": {
      "text/plain": [
       "{'Buy': ['B', 'Buy', 'Buyer'],\n",
       " 'In-Tank Transfer': ['Buyer/Seller', 'Seller/Buyer'],\n",
       " 'Sell': ['S', 'Sell', 'Seller']}"
      ]
     },
     "execution_count": 127,
     "metadata": {},
     "output_type": "execute_result"
    }
   ],
   "source": [
    "dict_Directory['Sell_Buy']"
   ]
  },
  {
   "cell_type": "code",
   "execution_count": 128,
   "id": "46916aa4-5a41-4732-80a1-765186382972",
   "metadata": {},
   "outputs": [
    {
     "data": {
      "text/plain": [
       "array(['Seller', 'Buyer', 'SELL', 'BUY', 'Buy', 'Sale', 'Purchase',\n",
       "       'Sell', 'BUYER'], dtype=object)"
      ]
     },
     "execution_count": 128,
     "metadata": {},
     "output_type": "execute_result"
    }
   ],
   "source": [
    "df['Seller or Buyer'].unique()"
   ]
  },
  {
   "cell_type": "code",
   "execution_count": 129,
   "id": "7453c19b-8a32-46c3-88e0-5f8c2ef40863",
   "metadata": {},
   "outputs": [
    {
     "data": {
      "text/plain": [
       "False"
      ]
     },
     "execution_count": 129,
     "metadata": {},
     "output_type": "execute_result"
    }
   ],
   "source": [
    "for key, values in dict_Directory['Sell_Buy'].items():\n",
    "    df['Seller or Buyer'] = df['Seller or Buyer'].replace(values, key)\n",
    "\n",
    "set(df['Seller or Buyer'].unique()) <= set(dict_Directory['Sell_Buy'].keys())"
   ]
  },
  {
   "cell_type": "code",
   "execution_count": 130,
   "id": "e3b1c720-1219-4590-8b24-1778fab19c44",
   "metadata": {},
   "outputs": [
    {
     "data": {
      "text/plain": [
       "['Sale', 'Purchase', 'BUY', 'SELL', 'BUYER']"
      ]
     },
     "execution_count": 130,
     "metadata": {},
     "output_type": "execute_result"
    }
   ],
   "source": [
    "#if not set(df[\"Trading Counterparty Entity\"].unique()) <= set(dict_Directory['Company'].keys()):\n",
    "# Nombres de company que no estan en keys\n",
    "nokey_list = list(set(df['Seller or Buyer'].unique()) - set(dict_Directory['Sell_Buy'].keys()))\n",
    "nokey_list = [str(nokey) for nokey in nokey_list]\n",
    "nokey_list"
   ]
  },
  {
   "cell_type": "code",
   "execution_count": 131,
   "id": "b3693cf1-cb79-4a56-bc5f-efd4b0328c28",
   "metadata": {},
   "outputs": [
    {
     "data": {
      "text/plain": [
       "['Buy', 'In-Tank Transfer', 'Sell']"
      ]
     },
     "execution_count": 131,
     "metadata": {},
     "output_type": "execute_result"
    }
   ],
   "source": [
    "key_list = list(dict_Directory['Sell_Buy'].keys())\n",
    "key_list = list(map(str, key_list))\n",
    "key_list = [clean_string(string) for string in key_list]\n",
    "key_list = [clean_string(string) for string in key_list if string is not None]\n",
    "key_list"
   ]
  },
  {
   "cell_type": "code",
   "execution_count": 132,
   "id": "b6f6018e-eebe-4d3b-93da-308ec333ad4b",
   "metadata": {},
   "outputs": [
    {
     "name": "stdout",
     "output_type": "stream",
     "text": [
      "nokey Sale\n",
      "key Buy\n",
      "value_list ['B', 'Buy', 'Buyer']\n",
      "key In-Tank Transfer\n",
      "value_list ['Buyer/Seller', 'Seller/Buyer']\n",
      "key Sell\n",
      "value_list ['S', 'Sell', 'Seller']\n",
      "Sell\n",
      "nokey Purchase\n",
      "key Buy\n",
      "value_list ['B', 'Buy', 'Buyer']\n",
      "key In-Tank Transfer\n",
      "value_list ['Buyer/Seller', 'Seller/Buyer']\n",
      "key Sell\n",
      "value_list ['S', 'Sell', 'Seller']\n",
      "In-Tank Transfer\n",
      "nokey BUY\n",
      "key Buy\n",
      "value_list ['B', 'Buy', 'Buyer']\n",
      "key In-Tank Transfer\n",
      "value_list ['Buyer/Seller', 'Seller/Buyer']\n",
      "key Sell\n",
      "value_list ['S', 'Sell', 'Seller']\n",
      "Buy\n",
      "nokey SELL\n",
      "key Buy\n",
      "value_list ['B', 'Buy', 'Buyer']\n",
      "key In-Tank Transfer\n",
      "value_list ['Buyer/Seller', 'Seller/Buyer']\n",
      "key Sell\n",
      "value_list ['S', 'Sell', 'Seller']\n",
      "Sell\n",
      "nokey BUYER\n",
      "key Buy\n",
      "value_list ['B', 'Buy', 'Buyer']\n",
      "key In-Tank Transfer\n",
      "value_list ['Buyer/Seller', 'Seller/Buyer']\n",
      "key Sell\n",
      "value_list ['S', 'Sell', 'Seller']\n",
      "Buy\n"
     ]
    },
    {
     "data": {
      "text/plain": [
       "{'Sale': 'Sell',\n",
       " 'Purchase': 'In-Tank Transfer',\n",
       " 'BUY': 'Buy',\n",
       " 'SELL': 'Sell',\n",
       " 'BUYER': 'Buy'}"
      ]
     },
     "execution_count": 132,
     "metadata": {},
     "output_type": "execute_result"
    }
   ],
   "source": [
    "dictio_ = {}\n",
    "for nokey in nokey_list:\n",
    "    print('nokey', nokey)\n",
    "    dict_ = {}\n",
    "    for key in key_list:\n",
    "        print('key', key)\n",
    "        value_list = list(dict_Directory['Sell_Buy'][key])\n",
    "        print('value_list', value_list)\n",
    "        dict_[key] = np.max(np.array([round(fuzz.token_set_ratio(value.upper(), nokey.upper()),2) for value in value_list]))\n",
    "            \n",
    "    key_max = max(dict_, key= lambda x: dict_[x])\n",
    "    print(key_max)\n",
    "    dictio_[nokey] = key_max\n",
    "\n",
    "dictio_"
   ]
  },
  {
   "cell_type": "code",
   "execution_count": 133,
   "id": "1a88688a-7daf-40c8-9944-bfafc4d771bb",
   "metadata": {},
   "outputs": [
    {
     "data": {
      "text/plain": [
       "[]"
      ]
     },
     "execution_count": 133,
     "metadata": {},
     "output_type": "execute_result"
    }
   ],
   "source": [
    "df['Seller or Buyer'] = df['Seller or Buyer'].replace(dictio_)\n",
    "\n",
    "# Nombres de company que no estan en keys\n",
    "nokey_list = list(set(df['Seller or Buyer'].unique()) - set(dict_Directory['Sell_Buy'].keys()))\n",
    "nokey_list"
   ]
  },
  {
   "cell_type": "code",
   "execution_count": 134,
   "id": "a03aedb3-2a8e-4d61-b679-ed1f73e56d52",
   "metadata": {},
   "outputs": [
    {
     "data": {
      "text/plain": [
       "array(['Sell', 'Buy', 'In-Tank Transfer'], dtype=object)"
      ]
     },
     "execution_count": 134,
     "metadata": {},
     "output_type": "execute_result"
    }
   ],
   "source": [
    "df['Seller or Buyer'].unique()"
   ]
  },
  {
   "cell_type": "markdown",
   "id": "86034cae-6985-426e-a3a8-852c95f8692d",
   "metadata": {
    "jp-MarkdownHeadingCollapsed": true
   },
   "source": [
    "#### Product Type"
   ]
  },
  {
   "cell_type": "code",
   "execution_count": 135,
   "id": "de7b471f-db3f-4c16-9559-ce5e610b0d47",
   "metadata": {},
   "outputs": [],
   "source": [
    "# Product type\n",
    "# taking renewal diesel\n",
    "# it should be diesel\n",
    "# \"Diesel\""
   ]
  },
  {
   "cell_type": "code",
   "execution_count": 136,
   "id": "47ca68d6-dbd4-4996-af19-161e045203ce",
   "metadata": {},
   "outputs": [],
   "source": [
    "df['Product Type'] = df[\"Product Type\"].astype(str)"
   ]
  },
  {
   "cell_type": "code",
   "execution_count": 137,
   "id": "d4c92c4d-8fc2-4afe-86c3-ca3d5c21ca8a",
   "metadata": {},
   "outputs": [
    {
     "data": {
      "text/plain": [
       "array(['Gasoline', 'Renewable Fuel', 'Renewable Fuels', 'Gasolines',\n",
       "       'Diesel', 'Jet Fuel', 'Aviation Fuel', 'Diesel Fuel',\n",
       "       'Diesel Fuels', 'Aviation fuel', 'Jet', 'ULSD', 'DIESEL',\n",
       "       'Blending Components', 'GASOLINE', 'EPA Diesel'], dtype=object)"
      ]
     },
     "execution_count": 137,
     "metadata": {},
     "output_type": "execute_result"
    }
   ],
   "source": [
    "df['Product Type'].unique()"
   ]
  },
  {
   "cell_type": "code",
   "execution_count": 138,
   "id": "6feab2b4-0395-4762-8639-35a32f9e66d8",
   "metadata": {},
   "outputs": [
    {
     "data": {
      "text/plain": [
       "{'Aviation Fuel',\n",
       " 'Blending Components',\n",
       " 'DIESEL',\n",
       " 'Diesel Fuel',\n",
       " 'Diesel Fuels',\n",
       " 'EPA Diesel',\n",
       " 'GASOLINE',\n",
       " 'Gasolines',\n",
       " 'Jet',\n",
       " 'Jet Fuel',\n",
       " 'Renewable Fuels',\n",
       " 'ULSD'}"
      ]
     },
     "execution_count": 138,
     "metadata": {},
     "output_type": "execute_result"
    }
   ],
   "source": [
    "set(df['Product Type'].unique()) - set(dict_Directory['Product Type'].keys())"
   ]
  },
  {
   "cell_type": "code",
   "execution_count": 139,
   "id": "532290b0-51f6-494e-b6f7-6e294a9ad604",
   "metadata": {},
   "outputs": [
    {
     "data": {
      "text/plain": [
       "dict_keys(['Gasoline', 'Aviation fuel', 'Renewable Fuel', 'Blending Component', 'Diesel', 'Butane', 'Naphtha'])"
      ]
     },
     "execution_count": 139,
     "metadata": {},
     "output_type": "execute_result"
    }
   ],
   "source": [
    "dict_Directory['Product Type'].keys()"
   ]
  },
  {
   "cell_type": "code",
   "execution_count": 140,
   "id": "8ec66611-732f-45dd-bf99-1a896dca518e",
   "metadata": {},
   "outputs": [
    {
     "data": {
      "text/plain": [
       "['Aviation fuel', 'Jet', 'Jet Fuel']"
      ]
     },
     "execution_count": 140,
     "metadata": {},
     "output_type": "execute_result"
    }
   ],
   "source": [
    "dict_Directory['Product Type']['Aviation fuel']"
   ]
  },
  {
   "cell_type": "code",
   "execution_count": 141,
   "id": "0d7bf37c-6565-4491-a56a-1229da3fb6dd",
   "metadata": {},
   "outputs": [],
   "source": [
    "def replace_string_dictio(string, dictio, str_old, str_new):\n",
    "    string_ = str(string).lower().replace(str_old, str_new)\n",
    "    dictio_ = {}\n",
    "    for key, value in dictio.items(): \n",
    "        dictio_[key] = [str(v).lower().replace(str_old, str_new) for v in value] \n",
    "    return string_, dictio_"
   ]
  },
  {
   "cell_type": "code",
   "execution_count": 142,
   "id": "6d8ba48c-983c-4f9d-b931-1bc1055d2cf2",
   "metadata": {},
   "outputs": [
    {
     "data": {
      "text/plain": [
       "array(['Gasoline', 'Renewable Fuel', 'Renewable Fuels', 'Gasolines',\n",
       "       'Diesel', 'Jet Fuel', 'Aviation Fuel', 'Diesel Fuel',\n",
       "       'Diesel Fuels', 'Aviation fuel', 'Jet', 'ULSD', 'DIESEL',\n",
       "       'Blending Components', 'GASOLINE', 'EPA Diesel'], dtype=object)"
      ]
     },
     "execution_count": 142,
     "metadata": {},
     "output_type": "execute_result"
    }
   ],
   "source": [
    "df['Product Type'].unique()"
   ]
  },
  {
   "cell_type": "code",
   "execution_count": 143,
   "id": "16ecdec6-6e7d-4800-a375-d3729271b659",
   "metadata": {},
   "outputs": [],
   "source": [
    "def aux_match(string):\n",
    "    dictio = dict_Directory['Product Type'].copy()\n",
    "    string_, dictio_ = replace_string_dictio(string, dictio, 'fuels', 'fuel')\n",
    "    return match_dictio(string_, dictio_, case_sensitive=True)"
   ]
  },
  {
   "cell_type": "code",
   "execution_count": 144,
   "id": "8a5eff3b-cdf4-49d9-9c08-59391a283214",
   "metadata": {},
   "outputs": [],
   "source": [
    "df['Product Type'] = df[\"Product Type\"].map(lambda x: aux_match(x))"
   ]
  },
  {
   "cell_type": "code",
   "execution_count": 145,
   "id": "13f9b501-e277-4b57-bd9e-37b103caee04",
   "metadata": {},
   "outputs": [
    {
     "data": {
      "text/plain": [
       "array(['Gasoline', 'Renewable Fuel', 'Diesel', 'Aviation fuel',\n",
       "       'Blending Component', None], dtype=object)"
      ]
     },
     "execution_count": 145,
     "metadata": {},
     "output_type": "execute_result"
    }
   ],
   "source": [
    "df['Product Type'].unique()"
   ]
  },
  {
   "cell_type": "code",
   "execution_count": 146,
   "id": "ae22f92d-d9f9-4d23-a017-8b0960de8fd9",
   "metadata": {},
   "outputs": [
    {
     "data": {
      "text/plain": [
       "False"
      ]
     },
     "execution_count": 146,
     "metadata": {},
     "output_type": "execute_result"
    }
   ],
   "source": [
    "set(df['Product Type'].unique()) <= set(dict_Directory['Product Type'].keys())"
   ]
  },
  {
   "cell_type": "code",
   "execution_count": 147,
   "id": "7f345435-5317-46cf-9491-2998b131d54d",
   "metadata": {},
   "outputs": [
    {
     "data": {
      "text/plain": [
       "[]"
      ]
     },
     "execution_count": 147,
     "metadata": {},
     "output_type": "execute_result"
    }
   ],
   "source": [
    "#if not set(df[\"Trading Counterparty Entity\"].unique()) <= set(dict_Directory['Company'].keys()):\n",
    "# Nombres de company que no estan en keys\n",
    "nokey_list = list(set(df['Product Type'].unique()) - set(dict_Directory['Product Type'].keys()))\n",
    "# nokey_list = [str(nokey) for nokey in nokey_list]\n",
    "nokey_list = [clean_string(string) for string in nokey_list if string is not None]\n",
    "nokey_list"
   ]
  },
  {
   "cell_type": "code",
   "execution_count": 148,
   "id": "464bf251-2202-4db0-b191-28ee56a331c1",
   "metadata": {},
   "outputs": [
    {
     "data": {
      "text/plain": [
       "['Buy', 'In-Tank Transfer', 'Sell']"
      ]
     },
     "execution_count": 148,
     "metadata": {},
     "output_type": "execute_result"
    }
   ],
   "source": [
    "key_list = list(map(str, key_list))\n",
    "key_list = [clean_string(string) for string in key_list]\n",
    "key_list = [clean_string(string) for string in key_list if string is not None]\n",
    "key_list"
   ]
  },
  {
   "cell_type": "code",
   "execution_count": 149,
   "id": "206e24f0-008c-4d32-a2ca-52839603270f",
   "metadata": {},
   "outputs": [
    {
     "data": {
      "text/plain": [
       "['Gasoline',\n",
       " 'Aviation fuel',\n",
       " 'Renewable Fuel',\n",
       " 'Blending Component',\n",
       " 'Diesel',\n",
       " 'Butane',\n",
       " 'Naphtha']"
      ]
     },
     "execution_count": 149,
     "metadata": {},
     "output_type": "execute_result"
    }
   ],
   "source": [
    "key_list = list(dict_Directory['Product Type'].keys())\n",
    "key_list"
   ]
  },
  {
   "cell_type": "code",
   "execution_count": 150,
   "id": "0f415ca5-2343-4ffb-9c55-488b7b708113",
   "metadata": {},
   "outputs": [
    {
     "data": {
      "text/plain": [
       "['Gasoline',\n",
       " 'Aviation fuel',\n",
       " 'Renewable Fuel',\n",
       " 'Blending Component',\n",
       " 'Diesel',\n",
       " 'Butane',\n",
       " 'Naphtha']"
      ]
     },
     "execution_count": 150,
     "metadata": {},
     "output_type": "execute_result"
    }
   ],
   "source": [
    "key_list = list(map(str, key_list))\n",
    "key_list = [clean_string(string) for string in key_list]\n",
    "key_list = [clean_string(string) for string in key_list if string is not None]\n",
    "key_list"
   ]
  },
  {
   "cell_type": "code",
   "execution_count": 151,
   "id": "f38cbb9d-7edc-42b9-ae02-749bf8125157",
   "metadata": {},
   "outputs": [
    {
     "data": {
      "text/plain": [
       "{}"
      ]
     },
     "execution_count": 151,
     "metadata": {},
     "output_type": "execute_result"
    }
   ],
   "source": [
    "dictio_ = {}\n",
    "for nokey in nokey_list:\n",
    "    print(nokey)\n",
    "    dict_ = {}\n",
    "    for key in key_list:\n",
    "        value_list = list(dict_Directory['Product Type'][key])\n",
    "        dict_[key] = np.max(np.array([round(fuzz.token_set_ratio(value.upper(), nokey.upper()),2) for value in value_list]))\n",
    "            \n",
    "    key_max = max(dict_, key= lambda x: dict_[x])\n",
    "    print(key_max)\n",
    "    dictio_[nokey] = key_max\n",
    "\n",
    "dictio_"
   ]
  },
  {
   "cell_type": "code",
   "execution_count": 152,
   "id": "d2126b32-4bbf-4b8f-9ad7-fa0973da1874",
   "metadata": {},
   "outputs": [
    {
     "data": {
      "text/plain": [
       "[None]"
      ]
     },
     "execution_count": 152,
     "metadata": {},
     "output_type": "execute_result"
    }
   ],
   "source": [
    "df['Product Type'] = df['Product Type'].replace(dictio_)\n",
    "\n",
    "# Nombres de company que no estan en keys\n",
    "nokey_list = list(set(df['Product Type'].unique()) - set(dict_Directory['Product Type'].keys()))\n",
    "nokey_list"
   ]
  },
  {
   "cell_type": "code",
   "execution_count": 153,
   "id": "c45278ca-3ed7-4bb6-bf5f-3be5fe479317",
   "metadata": {},
   "outputs": [
    {
     "data": {
      "text/plain": [
       "array(['Gasoline', 'Renewable Fuel', 'Diesel', 'Aviation fuel',\n",
       "       'Blending Component', None], dtype=object)"
      ]
     },
     "execution_count": 153,
     "metadata": {},
     "output_type": "execute_result"
    }
   ],
   "source": [
    "df['Product Type'].unique()"
   ]
  },
  {
   "cell_type": "markdown",
   "id": "3a7dabd2-6965-4ffd-ae50-42f1d1fb3ac8",
   "metadata": {
    "jp-MarkdownHeadingCollapsed": true
   },
   "source": [
    "#### Product Name"
   ]
  },
  {
   "cell_type": "code",
   "execution_count": 154,
   "id": "14aa7bbb-81cb-42e6-bbfb-dde5efe403da",
   "metadata": {},
   "outputs": [],
   "source": [
    "df['Product Name_'] = df[\"Product Name\"].copy()"
   ]
  },
  {
   "cell_type": "code",
   "execution_count": 155,
   "id": "d92c7250-99b5-440d-a4fd-065846d3e319",
   "metadata": {},
   "outputs": [
    {
     "data": {
      "text/plain": [
       "array(['CBOB-R', 'CARBOB-R', 'Conventional', 'RD99', 'CARBOB REG 84',\n",
       "       'AZBOB', 'R99', 'CARBOBUNL', 'ECA Marine Diesel', 'CARBOB Regular',\n",
       "       'Conventional Regular', 'Jet A', 'JET A', 'EPA ULSD',\n",
       "       'No 2 CARB ULSD 15', 'CARB ULSD', 'CARBOB', 'Renewable Diesel',\n",
       "       'CARBULSD', 'CBOBUNL', 'ULSD', '84 Reg CARBOB', '89 Pre CARBOB',\n",
       "       'LA CARBOB', '84 Reg SubCBG AZ', 'Jet Fuel', 'SF Bay Carbob',\n",
       "       'LA EPA DSL', 'LA JET', 'CBOB', '#2 ULSD', 'Blendgrade 9-15#',\n",
       "       'CBOB REG 84 H RVP FBW ETH 10%', 'CARBOB Reg 12.5#', 'CARBOB-P',\n",
       "       'AZBOB-R', 'ULSD 2 CARB', 'ULSD 2', '#2DSL ULS 15',\n",
       "       'RD99 HIGH FLASH MARINE D UNB', 'CBG AZ REG 87 L 7.0 RVP',\n",
       "       'CARBOB PRE 88.5', 'Renewable Diesel ', 'CARBOBPRE', 'CBOBPRE',\n",
       "       'LA EPA', 'Conventional Premium', 'ULSD #2', 'CARBOB Reg 5.99#',\n",
       "       'CBOB PRE 88.5 H RVP FBW ETH 10%', 'SF EPA ULSD', 'CBOB Prm 13.5#',\n",
       "       'No 2 ULSD 15', 'CARBOB Reg 14.0#', 'RBOB AZ REG 84', 'AZRBOBUNL',\n",
       "       'Alkylate', 'Sub-Oct Reg Gasoline', 'CARB-R', 'CBOB-P',\n",
       "       'CARBOB Prm 14.0#', 'CARBOB Prm 12.5#', 'LA CARBDSL', 'LINESPACE',\n",
       "       'AZBOB-P', 'RD99 D', 'RBOB AZ PRE 91', 'AZRBOB PREMIUM',\n",
       "       'CONVENTIONAL', 'PREMIUM', 'Ultra Low Sulphur Diesel'],\n",
       "      dtype=object)"
      ]
     },
     "execution_count": 155,
     "metadata": {},
     "output_type": "execute_result"
    }
   ],
   "source": [
    "df['Product Name'] = df[\"Product Name\"].astype(str)\n",
    "df['Product Name'].unique()"
   ]
  },
  {
   "cell_type": "code",
   "execution_count": 156,
   "id": "b571922d-e429-4d94-b915-a59ee5510663",
   "metadata": {},
   "outputs": [
    {
     "data": {
      "text/plain": [
       "array(['CBOB-R', 'CARBOB-R', 'Conventional', 'RD99', 'CARBOB REG 84',\n",
       "       'AZBOB', 'R99', 'CARBOBUNL', 'ECA Marine Diesel', 'CARBOB Regular',\n",
       "       'Conventional Regular', 'Jet A', 'JET A', 'EPA ULSD',\n",
       "       'No 2 CARB ULSD 15', 'CARB ULSD', 'CARBOB', 'Renewable Diesel',\n",
       "       'CARBULSD', 'CBOBUNL', 'ULSD', '84 Reg CARBOB', '89 Pre CARBOB',\n",
       "       'LA CARBOB', '84 Reg SubCBG AZ', 'Jet Fuel', 'SF Bay Carbob',\n",
       "       'LA EPA DSL', 'LA JET', 'CBOB', '#2 ULSD', 'Blendgrade 9-15#',\n",
       "       'CBOB REG 84 H RVP FBW ETH 10%', 'CARBOB Reg 12.5#', 'CARBOB-P',\n",
       "       'AZBOB-R', 'ULSD 2 CARB', 'ULSD 2', '#2DSL ULS 15',\n",
       "       'RD99 HIGH FLASH MARINE D UNB', 'CBG AZ REG 87 L 7.0 RVP',\n",
       "       'CARBOB PRE 88.5', 'Renewable Diesel ', 'CARBOBPRE', 'CBOBPRE',\n",
       "       'LA EPA', 'Conventional Premium', 'ULSD #2', 'CARBOB Reg 5.99#',\n",
       "       'CBOB PRE 88.5 H RVP FBW ETH 10%', 'SF EPA ULSD', 'CBOB Prm 13.5#',\n",
       "       'No 2 ULSD 15', 'CARBOB Reg 14.0#', 'RBOB AZ REG 84', 'AZRBOBUNL',\n",
       "       'Alkylate', 'Sub-Oct Reg Gasoline', 'CARB-R', 'CBOB-P',\n",
       "       'CARBOB Prm 14.0#', 'CARBOB Prm 12.5#', 'LA CARBDSL', 'LINESPACE',\n",
       "       'AZBOB-P', 'RD99 D', 'RBOB AZ PRE 91', 'AZRBOB PREMIUM',\n",
       "       'CONVENTIONAL', 'PREMIUM', 'Ultra Low Sulphur Diesel'],\n",
       "      dtype=object)"
      ]
     },
     "execution_count": 156,
     "metadata": {},
     "output_type": "execute_result"
    }
   ],
   "source": [
    "df['Product Name'] = df[\"Product Name\"].map(lambda string: clean_string(string))\n",
    "df['Product Name'].unique()"
   ]
  },
  {
   "cell_type": "code",
   "execution_count": 157,
   "id": "f381a089-f92b-43f0-ba00-7abc9c405861",
   "metadata": {},
   "outputs": [
    {
     "data": {
      "text/plain": [
       "dict_keys(['CARBOB-R', 'ULSD No2', 'Jet-A', 'AZRBOB-R', 'AZRBOB-P', 'CBOB-R', 'Alkylate', 'Isomerate', 'REFORMATE', 'CARB No2', 'Renewable Diesel'])"
      ]
     },
     "execution_count": 157,
     "metadata": {},
     "output_type": "execute_result"
    }
   ],
   "source": [
    "dict_Directory['Product'].keys()"
   ]
  },
  {
   "cell_type": "code",
   "execution_count": 158,
   "id": "a5c2c9e8-36d1-4926-94d0-33f9ded17b0e",
   "metadata": {
    "scrolled": true
   },
   "outputs": [
    {
     "data": {
      "text/html": [
       "<div>\n",
       "<style scoped>\n",
       "    .dataframe tbody tr th:only-of-type {\n",
       "        vertical-align: middle;\n",
       "    }\n",
       "\n",
       "    .dataframe tbody tr th {\n",
       "        vertical-align: top;\n",
       "    }\n",
       "\n",
       "    .dataframe thead th {\n",
       "        text-align: right;\n",
       "    }\n",
       "</style>\n",
       "<table border=\"1\" class=\"dataframe\">\n",
       "  <thead>\n",
       "    <tr style=\"text-align: right;\">\n",
       "      <th></th>\n",
       "      <th>Product Name</th>\n",
       "      <th>KEY CS=True</th>\n",
       "      <th>KEY CS=False</th>\n",
       "    </tr>\n",
       "  </thead>\n",
       "  <tbody>\n",
       "    <tr>\n",
       "      <th>0</th>\n",
       "      <td>CBOB-R</td>\n",
       "      <td>CBOB-R</td>\n",
       "      <td>CBOB-R</td>\n",
       "    </tr>\n",
       "    <tr>\n",
       "      <th>1</th>\n",
       "      <td>CARBOB-R</td>\n",
       "      <td>CARBOB-R</td>\n",
       "      <td>CARBOB-R</td>\n",
       "    </tr>\n",
       "    <tr>\n",
       "      <th>2</th>\n",
       "      <td>Conventional</td>\n",
       "      <td>None</td>\n",
       "      <td>None</td>\n",
       "    </tr>\n",
       "    <tr>\n",
       "      <th>3</th>\n",
       "      <td>RD99</td>\n",
       "      <td>None</td>\n",
       "      <td>None</td>\n",
       "    </tr>\n",
       "    <tr>\n",
       "      <th>4</th>\n",
       "      <td>CARBOB REG 84</td>\n",
       "      <td>None</td>\n",
       "      <td>None</td>\n",
       "    </tr>\n",
       "    <tr>\n",
       "      <th>...</th>\n",
       "      <td>...</td>\n",
       "      <td>...</td>\n",
       "      <td>...</td>\n",
       "    </tr>\n",
       "    <tr>\n",
       "      <th>66</th>\n",
       "      <td>RBOB AZ PRE 91</td>\n",
       "      <td>None</td>\n",
       "      <td>None</td>\n",
       "    </tr>\n",
       "    <tr>\n",
       "      <th>67</th>\n",
       "      <td>AZRBOB PREMIUM</td>\n",
       "      <td>None</td>\n",
       "      <td>None</td>\n",
       "    </tr>\n",
       "    <tr>\n",
       "      <th>68</th>\n",
       "      <td>CONVENTIONAL</td>\n",
       "      <td>None</td>\n",
       "      <td>None</td>\n",
       "    </tr>\n",
       "    <tr>\n",
       "      <th>69</th>\n",
       "      <td>PREMIUM</td>\n",
       "      <td>None</td>\n",
       "      <td>None</td>\n",
       "    </tr>\n",
       "    <tr>\n",
       "      <th>70</th>\n",
       "      <td>Ultra Low Sulphur Diesel</td>\n",
       "      <td>None</td>\n",
       "      <td>None</td>\n",
       "    </tr>\n",
       "  </tbody>\n",
       "</table>\n",
       "<p>71 rows × 3 columns</p>\n",
       "</div>"
      ],
      "text/plain": [
       "                Product Name KEY CS=True KEY CS=False\n",
       "0                     CBOB-R      CBOB-R       CBOB-R\n",
       "1                   CARBOB-R    CARBOB-R     CARBOB-R\n",
       "2               Conventional        None         None\n",
       "3                       RD99        None         None\n",
       "4              CARBOB REG 84        None         None\n",
       "..                       ...         ...          ...\n",
       "66            RBOB AZ PRE 91        None         None\n",
       "67            AZRBOB PREMIUM        None         None\n",
       "68              CONVENTIONAL        None         None\n",
       "69                   PREMIUM        None         None\n",
       "70  Ultra Low Sulphur Diesel        None         None\n",
       "\n",
       "[71 rows x 3 columns]"
      ]
     },
     "execution_count": 158,
     "metadata": {},
     "output_type": "execute_result"
    }
   ],
   "source": [
    "dictio = dict_Directory['Product']\n",
    "df_ = pd.DataFrame(df['Product Name'].unique())\n",
    "df_.columns = ['Product Name']\n",
    "df_ = df_[~df_['Product Name'].isna()]\n",
    "df_['KEY CS=True'] = df_[\"Product Name\"].map(lambda string: match_dictio(string, dictio, case_sensitive=True))\n",
    "df_['KEY CS=False'] = df_[\"Product Name\"].map(lambda string: match_dictio(string, dictio, case_sensitive=False))\n",
    "df_"
   ]
  },
  {
   "cell_type": "code",
   "execution_count": 159,
   "id": "b9aeebc2-dfcb-4894-a234-ddc26046469a",
   "metadata": {},
   "outputs": [],
   "source": [
    "dictio_ = {}\n",
    "# dictio_max = {}\n",
    "for nokey in df_['Product Name']:\n",
    "    # print(nokey)\n",
    "    dict_ = {}\n",
    "    for key in list(dict_Directory['Product'].keys()):\n",
    "        value_list = list(dict_Directory['Product'][key]) + [key]\n",
    "        value_list = [str(value).strip() for value in value_list]\n",
    "        # dict_[key] = np.max(np.array([round(fuzz.token_set_ratio(value.upper(), nokey.upper()),2) for value in value_list]))\n",
    "        # dict_[key] = np.max(np.array([round(fuzz.ratio(value.upper(), nokey.upper()),2) for value in value_list]))\n",
    "        # dict_[key] = np.max(np.array([round(fuzz.partial_ratio(value.upper(), nokey.upper()),2) for value in value_list]))\n",
    "        dict_[key] = np.max(np.array([round(jaro_similarity(value.upper(), nokey.upper()),2) for value in value_list]))*100\n",
    "        \n",
    "    # key_max = max(dict_, key= lambda x: dict_[x])\n",
    "    # dictio_[nokey] = key_max\n",
    "    # dictio_max[nokey] = max(dict_.values())\n",
    "    if max(dict_.values())>=70:\n",
    "        dictio_[nokey] = [max(dict_, key= lambda x: dict_[x]), max(dict_.values())]"
   ]
  },
  {
   "cell_type": "code",
   "execution_count": 160,
   "id": "9bd7e89d-271b-451b-89df-8fb7d81fa645",
   "metadata": {},
   "outputs": [
    {
     "data": {
      "text/html": [
       "<div>\n",
       "<style scoped>\n",
       "    .dataframe tbody tr th:only-of-type {\n",
       "        vertical-align: middle;\n",
       "    }\n",
       "\n",
       "    .dataframe tbody tr th {\n",
       "        vertical-align: top;\n",
       "    }\n",
       "\n",
       "    .dataframe thead th {\n",
       "        text-align: right;\n",
       "    }\n",
       "</style>\n",
       "<table border=\"1\" class=\"dataframe\">\n",
       "  <thead>\n",
       "    <tr style=\"text-align: right;\">\n",
       "      <th></th>\n",
       "      <th>Product Name</th>\n",
       "      <th>KEY CS=True</th>\n",
       "      <th>KEY CS=False</th>\n",
       "      <th>KEY Fuzzy</th>\n",
       "    </tr>\n",
       "  </thead>\n",
       "  <tbody>\n",
       "    <tr>\n",
       "      <th>0</th>\n",
       "      <td>CBOB-R</td>\n",
       "      <td>CBOB-R</td>\n",
       "      <td>CBOB-R</td>\n",
       "      <td>CBOB-R</td>\n",
       "    </tr>\n",
       "    <tr>\n",
       "      <th>1</th>\n",
       "      <td>CARBOB-R</td>\n",
       "      <td>CARBOB-R</td>\n",
       "      <td>CARBOB-R</td>\n",
       "      <td>CARBOB-R</td>\n",
       "    </tr>\n",
       "    <tr>\n",
       "      <th>2</th>\n",
       "      <td>Conventional</td>\n",
       "      <td>None</td>\n",
       "      <td>None</td>\n",
       "      <td>None</td>\n",
       "    </tr>\n",
       "    <tr>\n",
       "      <th>3</th>\n",
       "      <td>RD99</td>\n",
       "      <td>None</td>\n",
       "      <td>None</td>\n",
       "      <td>None</td>\n",
       "    </tr>\n",
       "    <tr>\n",
       "      <th>4</th>\n",
       "      <td>CARBOB REG 84</td>\n",
       "      <td>None</td>\n",
       "      <td>None</td>\n",
       "      <td>CARBOB-R</td>\n",
       "    </tr>\n",
       "    <tr>\n",
       "      <th>...</th>\n",
       "      <td>...</td>\n",
       "      <td>...</td>\n",
       "      <td>...</td>\n",
       "      <td>...</td>\n",
       "    </tr>\n",
       "    <tr>\n",
       "      <th>66</th>\n",
       "      <td>RBOB AZ PRE 91</td>\n",
       "      <td>None</td>\n",
       "      <td>None</td>\n",
       "      <td>AZRBOB-R</td>\n",
       "    </tr>\n",
       "    <tr>\n",
       "      <th>67</th>\n",
       "      <td>AZRBOB PREMIUM</td>\n",
       "      <td>None</td>\n",
       "      <td>None</td>\n",
       "      <td>AZRBOB-R</td>\n",
       "    </tr>\n",
       "    <tr>\n",
       "      <th>68</th>\n",
       "      <td>CONVENTIONAL</td>\n",
       "      <td>None</td>\n",
       "      <td>None</td>\n",
       "      <td>None</td>\n",
       "    </tr>\n",
       "    <tr>\n",
       "      <th>69</th>\n",
       "      <td>PREMIUM</td>\n",
       "      <td>None</td>\n",
       "      <td>None</td>\n",
       "      <td>None</td>\n",
       "    </tr>\n",
       "    <tr>\n",
       "      <th>70</th>\n",
       "      <td>Ultra Low Sulphur Diesel</td>\n",
       "      <td>None</td>\n",
       "      <td>None</td>\n",
       "      <td>None</td>\n",
       "    </tr>\n",
       "  </tbody>\n",
       "</table>\n",
       "<p>71 rows × 4 columns</p>\n",
       "</div>"
      ],
      "text/plain": [
       "                Product Name KEY CS=True KEY CS=False KEY Fuzzy\n",
       "0                     CBOB-R      CBOB-R       CBOB-R    CBOB-R\n",
       "1                   CARBOB-R    CARBOB-R     CARBOB-R  CARBOB-R\n",
       "2               Conventional        None         None      None\n",
       "3                       RD99        None         None      None\n",
       "4              CARBOB REG 84        None         None  CARBOB-R\n",
       "..                       ...         ...          ...       ...\n",
       "66            RBOB AZ PRE 91        None         None  AZRBOB-R\n",
       "67            AZRBOB PREMIUM        None         None  AZRBOB-R\n",
       "68              CONVENTIONAL        None         None      None\n",
       "69                   PREMIUM        None         None      None\n",
       "70  Ultra Low Sulphur Diesel        None         None      None\n",
       "\n",
       "[71 rows x 4 columns]"
      ]
     },
     "execution_count": 160,
     "metadata": {},
     "output_type": "execute_result"
    }
   ],
   "source": [
    "dict_ = {}\n",
    "for key, value in dictio_.items():\n",
    "    dict_[key] = value[0]\n",
    "\n",
    "df_['KEY Fuzzy'] = df_['Product Name'].map(dict_).fillna(\"\")\n",
    "df_['KEY Fuzzy'] = df_[\"KEY Fuzzy\"].map(lambda string: clean_string(string))\n",
    "df_"
   ]
  },
  {
   "cell_type": "code",
   "execution_count": 161,
   "id": "7e1fb304-8e90-4d7e-a75c-3521f7a8d5e5",
   "metadata": {
    "scrolled": true
   },
   "outputs": [],
   "source": [
    "dictio_true = dict(zip(df_['Product Name'], df_['KEY CS=True']))\n",
    "dictio_true = {k: v for k, v in dictio_true.items() if v is not None}"
   ]
  },
  {
   "cell_type": "code",
   "execution_count": 162,
   "id": "0995cbed-2e06-4ec1-801e-d806bc87ecdd",
   "metadata": {},
   "outputs": [],
   "source": [
    "dictio_false = dict(zip(df_['Product Name'], df_['KEY CS=False']))\n",
    "dictio_false = {k: v for k, v in dictio_false.items() if v is not None}"
   ]
  },
  {
   "cell_type": "code",
   "execution_count": 163,
   "id": "4d86cec9-d256-4e8e-8ba4-4148a7cb3e22",
   "metadata": {},
   "outputs": [],
   "source": [
    "dictio_Fuzzy = dict(zip(df_['Product Name'], df_['KEY Fuzzy']))\n",
    "dictio_Fuzzy = {k: v for k, v in dictio_Fuzzy.items() if v is not None}"
   ]
  },
  {
   "cell_type": "code",
   "execution_count": 164,
   "id": "56462843-8c92-496b-bf09-a825651263b5",
   "metadata": {},
   "outputs": [],
   "source": [
    "dictio = dict(dictio_Fuzzy)\n",
    "\n",
    "for k, v in dictio.items():\n",
    "    if k in list(dictio_false.keys()):\n",
    "        dictio[k] = dictio_false[k]\n",
    "    if k in list(dictio_true.keys()):\n",
    "        dictio[k] = dictio_true[k]    "
   ]
  },
  {
   "cell_type": "code",
   "execution_count": 165,
   "id": "d431616a-b47a-44a6-85e6-d26b24c000d7",
   "metadata": {},
   "outputs": [],
   "source": [
    "df['Product Name'] = df['Product Name'].replace(dictio)"
   ]
  },
  {
   "cell_type": "code",
   "execution_count": 166,
   "id": "b67e8248-37a2-4302-82c8-2632b09e9d9e",
   "metadata": {},
   "outputs": [
    {
     "data": {
      "text/plain": [
       "False"
      ]
     },
     "execution_count": 166,
     "metadata": {},
     "output_type": "execute_result"
    }
   ],
   "source": [
    "(set(df['Product Name'].unique()) - {None}) <= set(dict_Directory['Product'].keys())"
   ]
  },
  {
   "cell_type": "code",
   "execution_count": 167,
   "id": "cfb5bedc-0aaa-40e4-b459-792d2ebff22d",
   "metadata": {},
   "outputs": [
    {
     "data": {
      "text/plain": [
       "26"
      ]
     },
     "execution_count": 167,
     "metadata": {},
     "output_type": "execute_result"
    }
   ],
   "source": [
    "len((set(df['Product Name'].unique()) - {None}) - set(dict_Directory['Product'].keys()))"
   ]
  },
  {
   "cell_type": "markdown",
   "id": "26fcdb9b-16f0-46d4-b2e8-2dd885697aa9",
   "metadata": {
    "jp-MarkdownHeadingCollapsed": true
   },
   "source": [
    "#### Contract Volume (Barrels)"
   ]
  },
  {
   "cell_type": "code",
   "execution_count": 168,
   "id": "4554e4b4-c7a4-42ac-9fb4-d3e443de58f5",
   "metadata": {
    "scrolled": true
   },
   "outputs": [
    {
     "data": {
      "text/plain": [
       "array([5742.0, 5000.0, 5.0, 25.0, -150.0, 10.0, 15.0, -25.0, 50.0, 0.029,\n",
       "       30.0, 25000.0, 100.0, 100000.0, 5500.0, 22.5, 1.0, 6.0, 6.8, 5.5,\n",
       "       24999.9999999999, 1167.0, 27000.0, 12.0, -30.0, 200.0, 0.5, 14.0,\n",
       "       10000.0, 2500.0, 125000.0, 62500.0, 50000.0, 17.6, 660.0, 450.0,\n",
       "       6500.0, 40000.0, 31.25, 35.0, 62.5, 450000.0, 660000.0, 15000.0,\n",
       "       -9.0, -10.0, 40.0, 4000.0, 2000.0, 3000.0, 1200.0, -5.0, 70.0,\n",
       "       63.0, 42.0, 74.0, -15.0, -6.0, 42.5, 75.0, -100.0, -7.0,\n",
       "       49999.9999999999, 8000.0, 6000.0, 11000.0, 30000.0, 20000.0,\n",
       "       70000.0, 12000.0, 7.0, 4.0, 80.0, 300.0, 2.0, 3.5, 300000.0, 62.0,\n",
       "       411.0, 43.0, 32.0, 13500.0, 11500.0, 14.5, -7.5, -35.0, -200.0,\n",
       "       -20.0, 15075.0, 23000.0, 7000.0, 21000.0, 18000.0, 12500.0,\n",
       "       16166.0, 17000.0, 16900.0, 16500.0, 13000.0, 16100.0, 14000.0,\n",
       "       10500.0, 14500.0, 7.5, 20.0, 13.0], dtype=object)"
      ]
     },
     "execution_count": 168,
     "metadata": {},
     "output_type": "execute_result"
    }
   ],
   "source": [
    "df['Contract Volume'].unique()"
   ]
  },
  {
   "cell_type": "code",
   "execution_count": 169,
   "id": "d81930e1-f1ad-4b0c-83a2-ac610330c4ed",
   "metadata": {},
   "outputs": [],
   "source": [
    "df['Contract Volume'] = df[\"Contract Volume\"].astype(str)"
   ]
  },
  {
   "cell_type": "code",
   "execution_count": 170,
   "id": "f1cb5a66-e6cd-425e-8865-226e989258d2",
   "metadata": {
    "scrolled": true
   },
   "outputs": [
    {
     "data": {
      "text/plain": [
       "array(['5742.0', '5000.0', '5.0', '25.0', '-150.0', '10.0', '15.0',\n",
       "       '-25.0', '50.0', '0.029', '30.0', '25000.0', '100.0', '100000.0',\n",
       "       '5500.0', '22.5', '1.0', '6.0', '6.8', '5.5', '24999.9999999999',\n",
       "       '1167.0', '27000.0', '12.0', '-30.0', '200.0', '0.5', '14.0',\n",
       "       '10000.0', '2500.0', '125000.0', '62500.0', '50000.0', '17.6',\n",
       "       '660.0', '450.0', '6500.0', '40000.0', '31.25', '35.0', '62.5',\n",
       "       '450000.0', '660000.0', '15000.0', '-9.0', '-10.0', '40.0',\n",
       "       '4000.0', '2000.0', '3000.0', '1200.0', '-5.0', '70.0', '63.0',\n",
       "       '42.0', '74.0', '-15.0', '-6.0', '42.5', '75.0', '-100.0', '-7.0',\n",
       "       '49999.9999999999', '8000.0', '6000.0', '11000.0', '30000.0',\n",
       "       '20000.0', '70000.0', '12000.0', '7.0', '4.0', '80.0', '300.0',\n",
       "       '2.0', '3.5', '300000.0', '62.0', '411.0', '43.0', '32.0',\n",
       "       '13500.0', '11500.0', '14.5', '-7.5', '-35.0', '-200.0', '-20.0',\n",
       "       '15075.0', '23000.0', '7000.0', '21000.0', '18000.0', '12500.0',\n",
       "       '16166.0', '17000.0', '16900.0', '16500.0', '13000.0', '16100.0',\n",
       "       '14000.0', '10500.0', '14500.0', '7.5', '20.0', '13.0'],\n",
       "      dtype=object)"
      ]
     },
     "execution_count": 170,
     "metadata": {},
     "output_type": "execute_result"
    }
   ],
   "source": [
    "df[\"Contract Volume\"].unique()"
   ]
  },
  {
   "cell_type": "code",
   "execution_count": 171,
   "id": "ea4f0249-2330-4602-a561-7d998a303a25",
   "metadata": {},
   "outputs": [],
   "source": [
    "df['Contract Volume'] = df[\"Contract Volume\"].map(lambda x: extract_numbers(x))"
   ]
  },
  {
   "cell_type": "code",
   "execution_count": 172,
   "id": "8192d47a-7406-44ac-b0a8-95fd51ffa6a4",
   "metadata": {
    "scrolled": true
   },
   "outputs": [
    {
     "data": {
      "text/plain": [
       "array(['5742.0', '5000.0', '5.0', '25.0', '-150.0', '10.0', '15.0',\n",
       "       '-25.0', '50.0', '0.029', '30.0', '25000.0', '100.0', '100000.0',\n",
       "       '5500.0', '22.5', '1.0', '6.0', '6.8', '5.5', '24999.9999999999',\n",
       "       '1167.0', '27000.0', '12.0', '-30.0', '200.0', '0.5', '14.0',\n",
       "       '10000.0', '2500.0', '125000.0', '62500.0', '50000.0', '17.6',\n",
       "       '660.0', '450.0', '6500.0', '40000.0', '31.25', '35.0', '62.5',\n",
       "       '450000.0', '660000.0', '15000.0', '-9.0', '-10.0', '40.0',\n",
       "       '4000.0', '2000.0', '3000.0', '1200.0', '-5.0', '70.0', '63.0',\n",
       "       '42.0', '74.0', '-15.0', '-6.0', '42.5', '75.0', '-100.0', '-7.0',\n",
       "       '49999.9999999999', '8000.0', '6000.0', '11000.0', '30000.0',\n",
       "       '20000.0', '70000.0', '12000.0', '7.0', '4.0', '80.0', '300.0',\n",
       "       '2.0', '3.5', '300000.0', '62.0', '411.0', '43.0', '32.0',\n",
       "       '13500.0', '11500.0', '14.5', '-7.5', '-35.0', '-200.0', '-20.0',\n",
       "       '15075.0', '23000.0', '7000.0', '21000.0', '18000.0', '12500.0',\n",
       "       '16166.0', '17000.0', '16900.0', '16500.0', '13000.0', '16100.0',\n",
       "       '14000.0', '10500.0', '14500.0', '7.5', '20.0', '13.0'],\n",
       "      dtype=object)"
      ]
     },
     "execution_count": 172,
     "metadata": {},
     "output_type": "execute_result"
    }
   ],
   "source": [
    "df['Contract Volume'].unique()"
   ]
  },
  {
   "cell_type": "code",
   "execution_count": 173,
   "id": "96e3855c-9d10-48ee-aa8a-04ee8afd872f",
   "metadata": {},
   "outputs": [],
   "source": [
    "df['Contract Volume'] = df['Contract Volume'].astype(float)"
   ]
  },
  {
   "cell_type": "code",
   "execution_count": 174,
   "id": "38aa6675-34d8-43d3-9fa6-4ef342d6efc4",
   "metadata": {},
   "outputs": [
    {
     "data": {
      "text/plain": [
       "array([  5742.   ,   5000.   ,      5.   ,     25.   ,   -150.   ,\n",
       "           10.   ,     15.   ,    -25.   ,     50.   ,      0.029,\n",
       "           30.   ,  25000.   ,    100.   , 100000.   ,   5500.   ,\n",
       "           22.5  ,      1.   ,      6.   ,      6.8  ,      5.5  ,\n",
       "        25000.   ,   1167.   ,  27000.   ,     12.   ,    -30.   ,\n",
       "          200.   ,      0.5  ,     14.   ,  10000.   ,   2500.   ,\n",
       "       125000.   ,  62500.   ,  50000.   ,     17.6  ,    660.   ,\n",
       "          450.   ,   6500.   ,  40000.   ,     31.25 ,     35.   ,\n",
       "           62.5  , 450000.   , 660000.   ,  15000.   ,     -9.   ,\n",
       "          -10.   ,     40.   ,   4000.   ,   2000.   ,   3000.   ,\n",
       "         1200.   ,     -5.   ,     70.   ,     63.   ,     42.   ,\n",
       "           74.   ,    -15.   ,     -6.   ,     42.5  ,     75.   ,\n",
       "         -100.   ,     -7.   ,  50000.   ,   8000.   ,   6000.   ,\n",
       "        11000.   ,  30000.   ,  20000.   ,  70000.   ,  12000.   ,\n",
       "            7.   ,      4.   ,     80.   ,    300.   ,      2.   ,\n",
       "            3.5  , 300000.   ,     62.   ,    411.   ,     43.   ,\n",
       "           32.   ,  13500.   ,  11500.   ,     14.5  ,     -7.5  ,\n",
       "          -35.   ,   -200.   ,    -20.   ,  15075.   ,  23000.   ,\n",
       "         7000.   ,  21000.   ,  18000.   ,  12500.   ,  16166.   ,\n",
       "        17000.   ,  16900.   ,  16500.   ,  13000.   ,  16100.   ,\n",
       "        14000.   ,  10500.   ,  14500.   ,      7.5  ,     20.   ,\n",
       "           13.   ])"
      ]
     },
     "execution_count": 174,
     "metadata": {},
     "output_type": "execute_result"
    }
   ],
   "source": [
    "np.set_printoptions(suppress=True)\n",
    "df['Contract Volume'].unique()"
   ]
  },
  {
   "cell_type": "code",
   "execution_count": 175,
   "id": "0a44912b-f3f0-482a-a41f-79d1fd8e95e2",
   "metadata": {},
   "outputs": [
    {
     "data": {
      "text/plain": [
       "['Gasoline',\n",
       " 'Aviation fuel',\n",
       " 'Renewable Fuel',\n",
       " 'Blending Component',\n",
       " 'Diesel',\n",
       " 'Butane',\n",
       " 'Naphtha']"
      ]
     },
     "execution_count": 175,
     "metadata": {},
     "output_type": "execute_result"
    }
   ],
   "source": [
    "# Product Type\n",
    "['Gasoline', 'Aviation fuel', 'Renewable Fuel', 'Blending Component', 'Diesel', 'Butane', 'Naphtha']"
   ]
  },
  {
   "cell_type": "code",
   "execution_count": 176,
   "id": "f4d85397-5bed-4fd3-99a7-365a96d0a193",
   "metadata": {},
   "outputs": [
    {
     "data": {
      "text/plain": [
       "array(['Gasoline', 'Renewable Fuel', 'Diesel', 'Aviation fuel',\n",
       "       'Blending Component', None], dtype=object)"
      ]
     },
     "execution_count": 176,
     "metadata": {},
     "output_type": "execute_result"
    }
   ],
   "source": [
    "df['Product Type'].unique()"
   ]
  },
  {
   "cell_type": "code",
   "execution_count": 177,
   "id": "21fb0564-664d-42dc-8e92-55585d1df667",
   "metadata": {},
   "outputs": [
    {
     "data": {
      "text/plain": [
       "dict_keys(['Gasoline', 'Aviation fuel', 'Renewable Fuel', 'Blending Component', 'Diesel', 'Butane', 'Naphtha'])"
      ]
     },
     "execution_count": 177,
     "metadata": {},
     "output_type": "execute_result"
    }
   ],
   "source": [
    "dict_Directory['Product Type'].keys()"
   ]
  },
  {
   "cell_type": "code",
   "execution_count": 178,
   "id": "cce708ed-5ee2-410c-bcf1-9b27d9b8c928",
   "metadata": {},
   "outputs": [],
   "source": [
    "# df['B'] = np.where( If , Then , Else )\n",
    "df['Contract Volume'] = np.where(np.logical_and(df['Product Type']!='Blending Component', np.abs(df['Contract Volume'])>300), \n",
    "                                           df['Contract Volume']/1000, \n",
    "                                           df['Contract Volume'])"
   ]
  },
  {
   "cell_type": "code",
   "execution_count": 179,
   "id": "ea74e582-0e1e-409e-93ed-f99df7a9570e",
   "metadata": {},
   "outputs": [
    {
     "data": {
      "text/plain": [
       "array([   5.742,    5.   ,   25.   , -150.   ,   10.   ,   15.   ,\n",
       "        -25.   ,   50.   ,    0.029,   30.   ,  100.   ,    5.5  ,\n",
       "         22.5  ,    1.   ,    6.   ,    6.8  ,   25.   ,    1.167,\n",
       "         27.   ,   12.   ,  -30.   ,  200.   ,    0.5  ,   14.   ,\n",
       "          2.5  ,  125.   ,   62.5  ,   17.6  ,    0.66 ,    0.45 ,\n",
       "          6.5  ,   40.   ,   31.25 ,   35.   ,  450.   ,  660.   ,\n",
       "         -9.   ,  -10.   ,    4.   ,    2.   ,    3.   ,    1.2  ,\n",
       "         -5.   ,   70.   ,   63.   ,   42.   ,   74.   ,  -15.   ,\n",
       "         -6.   ,   42.5  ,   75.   , -100.   ,   -7.   ,   50.   ,\n",
       "          8.   ,   11.   ,   20.   ,    7.   ,   80.   ,  300.   ,\n",
       "          3.5  ,   62.   ,    0.411,   43.   ,   32.   ,   13.5  ,\n",
       "         11.5  ,   14.5  ,   -7.5  ,  -35.   , -200.   ,  -20.   ,\n",
       "         15.075,   23.   ,   21.   ,   18.   ,   12.5  ,   16.166,\n",
       "         17.   ,   16.9  ,   16.5  ,   13.   ,   16.1  ,   10.5  ,\n",
       "          7.5  ])"
      ]
     },
     "execution_count": 179,
     "metadata": {},
     "output_type": "execute_result"
    }
   ],
   "source": [
    "df['Contract Volume'].unique()"
   ]
  },
  {
   "cell_type": "markdown",
   "id": "4d855871-d545-48b7-b291-ec395f18ed22",
   "metadata": {
    "jp-MarkdownHeadingCollapsed": true
   },
   "source": [
    "#### Contract Delivery Month"
   ]
  },
  {
   "cell_type": "code",
   "execution_count": 180,
   "id": "c63e34f3-454a-476f-9b8a-9f778d46c912",
   "metadata": {},
   "outputs": [],
   "source": [
    "df['Contract Delivery Month'] = df[\"Contract Delivery Month\"].astype(str)"
   ]
  },
  {
   "cell_type": "code",
   "execution_count": 181,
   "id": "9e3c69b1-d902-4298-b5ca-1a8883fe3913",
   "metadata": {
    "scrolled": true
   },
   "outputs": [
    {
     "data": {
      "text/plain": [
       "array(['2025-01-18 06:00:00', '2025-02-04 06:00:00',\n",
       "       '2025-03-07 06:00:00', '2025-01-31', '2024-12-27', '2025-01-25',\n",
       "       '2025-01-08', '2025-01-01', '01/31/2025', '01/03/2025',\n",
       "       '2025-01-17', 'Jan', 'Feb', '2025-02-25', '2025-02-14',\n",
       "       '2025-01-16', '2025-01-18', '2025-01-06', '2025-01-19',\n",
       "       '2025-02-28', '2025-02-01', '02/28/2025', '01/07/2025',\n",
       "       '01/10/2025', '2025-01-19 06:00:00', '2025-01-20', '2025-03-25',\n",
       "       '2025-01-07', '01/01/2025', '02/01/2025', '2025-06-25',\n",
       "       '2025-05-25', '2025-04-25', '2025-03-01', '2025-06-15',\n",
       "       '2025-05-16', '2025-04-15', '2025-03-31', '2025-01-23',\n",
       "       '2025-04-01', '2025-05-01', '2025-06-01', '2025-03-16',\n",
       "       '01/09/2025', 'Mar', 'Dec', '2025-01-14', '2025-02-14 06:00:00',\n",
       "       '2025-01-22 06:00:00', '01/13/2025', '01/23/2025', '2025-01-22',\n",
       "       '2025-01-24', '2025-01-27 06:00:00', '2025-01-24 06:00:00',\n",
       "       '2025-01-25 06:00:00', '2025-01-26 06:00:00',\n",
       "       '2025-01-29 06:00:00', '2025-02-11 06:00:00',\n",
       "       '2025-02-18 06:00:00', '2025-02-25 06:00:00', '01/15/2025',\n",
       "       '01/14/2025', '2025-01-15', 'Jan - Feb', '03/31/2025',\n",
       "       '2025-02-08 06:00:00', 'AUGUST', 'July', 'SEPTEMBER', 'OCTOBER',\n",
       "       'NOVEMBER', 'DECEMBER', 'JANUARY', 'FEBRUARY', '01/17/2025',\n",
       "       '02/03/2025'], dtype=object)"
      ]
     },
     "execution_count": 181,
     "metadata": {},
     "output_type": "execute_result"
    }
   ],
   "source": [
    "df['Contract Delivery Month'].unique()"
   ]
  },
  {
   "cell_type": "code",
   "execution_count": 182,
   "id": "1bd864cb-ea4d-49be-b30b-606bbefbad37",
   "metadata": {},
   "outputs": [],
   "source": [
    "# for string in df['Contract Delivery Month']:\n",
    "#     print(string)\n",
    "#     str_to_month(string)"
   ]
  },
  {
   "cell_type": "code",
   "execution_count": 183,
   "id": "3830f495-e421-4742-8034-aaa69684a12a",
   "metadata": {},
   "outputs": [],
   "source": [
    "df['Contract Delivery Month'] = df[\"Contract Delivery Month\"].map(lambda string: str_to_month(string))"
   ]
  },
  {
   "cell_type": "code",
   "execution_count": 184,
   "id": "3643800c-c8ac-4005-bf55-8565e4437ed3",
   "metadata": {},
   "outputs": [
    {
     "data": {
      "text/plain": [
       "array(['Jan-2025', 'Feb-2025', 'Mar-2025', 'Dec-2024', 'Jun-2025',\n",
       "       'May-2025', 'Apr-2025', 'Dec-2025', None, 'Aug-2025', 'Jul-2025',\n",
       "       'Sep-2025', 'Oct-2025', 'Nov-2025'], dtype=object)"
      ]
     },
     "execution_count": 184,
     "metadata": {},
     "output_type": "execute_result"
    }
   ],
   "source": [
    "df['Contract Delivery Month'].unique()"
   ]
  },
  {
   "cell_type": "markdown",
   "id": "ff8ad977-d3e4-4a7c-803a-385e31ff3973",
   "metadata": {
    "jp-MarkdownHeadingCollapsed": true
   },
   "source": [
    "#### Delivery Method"
   ]
  },
  {
   "cell_type": "code",
   "execution_count": 185,
   "id": "c8e54a7f-fefd-44ad-9a21-d4e70d47f539",
   "metadata": {},
   "outputs": [
    {
     "data": {
      "text/plain": [
       "array(['Pipeline', 'In-Tank Transfer', 'Kinder Morgan (West Line)',\n",
       "       'In Store Transfer', 'Barge', 'Head of Pipe ', 'In-tank',\n",
       "       'in-tank ',\n",
       "       'by Pipeline, Pumpover, Book, In-Tank Transfer, or PTO as mutually agreed',\n",
       "       'by Pipeline or Book Trnsfr as mutually agreed', 'Bulk', 'Pipe',\n",
       "       'Pipe Only', 'Other (specify) - Bulk',\n",
       "       'in-tank transfer/ pipeline', 'Tank Transfer',\n",
       "       'Kinder Morgan (North Line)', 'Delivered', 'Other (Railcar)',\n",
       "       'Marine Vessel', 'PIPELINE', 'Vessel', 'Pump-Over', 'Marine',\n",
       "       'Other (As Directed)', 'In Tank Transfer',\n",
       "       'By Pipeline,Book Trnsfr,In-tank Trnsfr,or Allocation Trnsfr as mutually agreed',\n",
       "       'by Pipeline,Book Trnsfr,Pumpovr,Barge,Vessel or Intnk Trnsfr as mutually agreed',\n",
       "       'Kinder Morgan (SF Bay Line)', 'Other (Truck)'], dtype=object)"
      ]
     },
     "execution_count": 185,
     "metadata": {},
     "output_type": "execute_result"
    }
   ],
   "source": [
    "df['Delivery Method'].unique()"
   ]
  },
  {
   "cell_type": "code",
   "execution_count": 186,
   "id": "24cacae7-aa62-465a-ac7c-1bfa942fc8c7",
   "metadata": {},
   "outputs": [],
   "source": [
    "df['Delivery Method'] = df[\"Delivery Method\"].astype(str)"
   ]
  },
  {
   "cell_type": "code",
   "execution_count": 187,
   "id": "ff38ae7a-6e66-434a-83e0-01eb6cb4acbd",
   "metadata": {},
   "outputs": [],
   "source": [
    "for key, values in dict_Directory['Delivery Method'].items():\n",
    "    df['Delivery Method'] = df['Delivery Method'].replace(values, key)"
   ]
  },
  {
   "cell_type": "code",
   "execution_count": 188,
   "id": "65e17791-792d-4b8c-9cbb-969561cba5ea",
   "metadata": {},
   "outputs": [
    {
     "data": {
      "text/plain": [
       "False"
      ]
     },
     "execution_count": 188,
     "metadata": {},
     "output_type": "execute_result"
    }
   ],
   "source": [
    "set(df['Delivery Method'].unique()) <= set(dict_Directory['Delivery Method'].keys())"
   ]
  },
  {
   "cell_type": "code",
   "execution_count": 189,
   "id": "f0941ed9-e306-46b9-b249-d84ec9858f5d",
   "metadata": {},
   "outputs": [
    {
     "data": {
      "text/plain": [
       "['in-tank ',\n",
       " 'In Tank Transfer',\n",
       " 'by Pipeline,Book Trnsfr,Pumpovr,Barge,Vessel or Intnk Trnsfr as mutually agreed',\n",
       " 'Marine Vessel',\n",
       " 'Tank Transfer',\n",
       " 'Marine',\n",
       " 'PIPELINE',\n",
       " 'Other (Railcar)',\n",
       " 'In-tank',\n",
       " 'Pump-Over',\n",
       " 'Kinder Morgan (SF Bay Line)',\n",
       " 'Head of Pipe ',\n",
       " 'in-tank transfer/ pipeline',\n",
       " 'Other (specify) - Bulk',\n",
       " 'Pipe',\n",
       " 'Other (Truck)',\n",
       " 'Other (As Directed)']"
      ]
     },
     "execution_count": 189,
     "metadata": {},
     "output_type": "execute_result"
    }
   ],
   "source": [
    "#if not set(df[\"Trading Counterparty Entity\"].unique()) <= set(dict_Directory['Company'].keys()):\n",
    "# Nombres de company que no estan en keys\n",
    "nokey_list = list(set(df['Delivery Method'].unique()) - set(dict_Directory['Delivery Method'].keys()))\n",
    "nokey_list = [str(nokey) for nokey in nokey_list]\n",
    "\n",
    "if \"nan\" in nokey_list:\n",
    "    nokey_list.remove(\"nan\")\n",
    "\n",
    "nokey_list"
   ]
  },
  {
   "cell_type": "code",
   "execution_count": 190,
   "id": "dd63b7bf-639e-4da9-9bcb-8ce802073a22",
   "metadata": {},
   "outputs": [
    {
     "data": {
      "text/plain": [
       "['by Pipeline or Book Trnsfr as mutually agreed',\n",
       " 'by Pipeline, Pumpover, Book, In-Tank Transfer, or PTO as mutually agreed',\n",
       " 'By Pipeline,Book Trnsfr,In-tank Trnsfr,or Allocation Trnsfr as mutually agreed',\n",
       " 'Delivered']"
      ]
     },
     "execution_count": 190,
     "metadata": {},
     "output_type": "execute_result"
    }
   ],
   "source": [
    "dict_Directory['Delivery Method']['Any']"
   ]
  },
  {
   "cell_type": "code",
   "execution_count": 191,
   "id": "f271bf3b-f73b-4bda-a989-df1fd7f86792",
   "metadata": {},
   "outputs": [
    {
     "data": {
      "text/plain": [
       "['Barge',\n",
       " 'Book Transfer',\n",
       " 'Bulk',\n",
       " 'Any',\n",
       " 'by Vessel or Barge',\n",
       " 'In-Tank Transfer',\n",
       " 'Pipeline',\n",
       " 'Railcar',\n",
       " 'Truck',\n",
       " 'Vessel']"
      ]
     },
     "execution_count": 191,
     "metadata": {},
     "output_type": "execute_result"
    }
   ],
   "source": [
    "key_list = list(dict_Directory['Delivery Method'].keys())\n",
    "key_list"
   ]
  },
  {
   "cell_type": "code",
   "execution_count": 192,
   "id": "19277097-4a75-4087-9437-d99fda48482b",
   "metadata": {},
   "outputs": [
    {
     "data": {
      "text/plain": [
       "['Barge',\n",
       " 'Book Transfer',\n",
       " 'Bulk',\n",
       " 'Any',\n",
       " 'by Vessel or Barge',\n",
       " 'In-Tank Transfer',\n",
       " 'Pipeline',\n",
       " 'Railcar',\n",
       " 'Truck',\n",
       " 'Vessel']"
      ]
     },
     "execution_count": 192,
     "metadata": {},
     "output_type": "execute_result"
    }
   ],
   "source": [
    "key_list = list(map(str, key_list))\n",
    "key_list = [clean_string(string) for string in key_list]\n",
    "key_list = [clean_string(string) for string in key_list if string is not None]\n",
    "key_list"
   ]
  },
  {
   "cell_type": "code",
   "execution_count": 193,
   "id": "aabf94fd-4e23-4b6c-84e4-6ad936749578",
   "metadata": {},
   "outputs": [
    {
     "name": "stdout",
     "output_type": "stream",
     "text": [
      "in-tank \n",
      "Any\n",
      "In Tank Transfer\n",
      "In-Tank Transfer\n",
      "by Pipeline,Book Trnsfr,Pumpovr,Barge,Vessel or Intnk Trnsfr as mutually agreed\n",
      "Any\n",
      "Marine Vessel\n",
      "Vessel\n",
      "Tank Transfer\n",
      "In-Tank Transfer\n",
      "Marine\n",
      "Barge\n",
      "PIPELINE\n",
      "Any\n",
      "Other (Railcar)\n",
      "Railcar\n",
      "In-tank\n",
      "Any\n",
      "Pump-Over\n",
      "Pipeline\n",
      "Kinder Morgan (SF Bay Line)\n",
      "Pipeline\n",
      "Head of Pipe \n",
      "Pipeline\n",
      "in-tank transfer/ pipeline\n",
      "Pipeline\n",
      "Other (specify) - Bulk\n",
      "Bulk\n",
      "Pipe\n",
      "Pipeline\n",
      "Other (Truck)\n",
      "Truck\n",
      "Other (As Directed)\n",
      "Pipeline\n"
     ]
    },
    {
     "data": {
      "text/plain": [
       "{'in-tank ': 'Any',\n",
       " 'In Tank Transfer': 'In-Tank Transfer',\n",
       " 'by Pipeline,Book Trnsfr,Pumpovr,Barge,Vessel or Intnk Trnsfr as mutually agreed': 'Any',\n",
       " 'Marine Vessel': 'Vessel',\n",
       " 'Tank Transfer': 'In-Tank Transfer',\n",
       " 'Marine': 'Barge',\n",
       " 'PIPELINE': 'Any',\n",
       " 'Other (Railcar)': 'Railcar',\n",
       " 'In-tank': 'Any',\n",
       " 'Pump-Over': 'Pipeline',\n",
       " 'Kinder Morgan (SF Bay Line)': 'Pipeline',\n",
       " 'Head of Pipe ': 'Pipeline',\n",
       " 'in-tank transfer/ pipeline': 'Pipeline',\n",
       " 'Other (specify) - Bulk': 'Bulk',\n",
       " 'Pipe': 'Pipeline',\n",
       " 'Other (Truck)': 'Truck',\n",
       " 'Other (As Directed)': 'Pipeline'}"
      ]
     },
     "execution_count": 193,
     "metadata": {},
     "output_type": "execute_result"
    }
   ],
   "source": [
    "dictio_ = {}\n",
    "for nokey in nokey_list:\n",
    "    print(nokey)\n",
    "    dict_ = {}\n",
    "    for key in key_list:\n",
    "        value_list = list(dict_Directory['Delivery Method'][key])\n",
    "        dict_[key] = np.max(np.array([round(fuzz.token_set_ratio(value.upper(), nokey.upper()),2) for value in value_list]))\n",
    "            \n",
    "    key_max = max(dict_, key= lambda x: dict_[x])\n",
    "    print(key_max)\n",
    "    dictio_[nokey] = key_max\n",
    "\n",
    "dictio_"
   ]
  },
  {
   "cell_type": "code",
   "execution_count": 194,
   "id": "47475f50-c3de-41d8-a153-adff929111af",
   "metadata": {},
   "outputs": [],
   "source": [
    "# dict_Directory['Delivery Method']"
   ]
  },
  {
   "cell_type": "code",
   "execution_count": 195,
   "id": "bbba9a0e-820a-4e3a-8b38-6cf75f1c6715",
   "metadata": {},
   "outputs": [],
   "source": [
    "df['Delivery Method'] = df['Delivery Method'].replace(dictio_)"
   ]
  },
  {
   "cell_type": "code",
   "execution_count": 196,
   "id": "4352dd11-937f-4cb2-a91e-b7903268464a",
   "metadata": {},
   "outputs": [
    {
     "data": {
      "text/plain": [
       "[]"
      ]
     },
     "execution_count": 196,
     "metadata": {},
     "output_type": "execute_result"
    }
   ],
   "source": [
    "# Nombres de company que no estan en keys\n",
    "nokey_list = list(set(df['Delivery Method'].unique()) - set(dict_Directory['Delivery Method'].keys()))\n",
    "nokey_list"
   ]
  },
  {
   "cell_type": "code",
   "execution_count": 197,
   "id": "f143b9dd-77c5-4f10-81e9-a478d01466c2",
   "metadata": {},
   "outputs": [],
   "source": [
    "df['Delivery Method'] = df[\"Delivery Method\"].map(lambda string: None if string=='nan' else string)"
   ]
  },
  {
   "cell_type": "code",
   "execution_count": 198,
   "id": "667230b0-f670-40ee-9d1c-8384a92353ed",
   "metadata": {},
   "outputs": [
    {
     "data": {
      "text/plain": [
       "array(['Pipeline', 'In-Tank Transfer', 'Barge', 'Any', 'Bulk', 'Railcar',\n",
       "       'Vessel', 'Truck'], dtype=object)"
      ]
     },
     "execution_count": 198,
     "metadata": {},
     "output_type": "execute_result"
    }
   ],
   "source": [
    "df['Delivery Method'].unique()"
   ]
  },
  {
   "cell_type": "markdown",
   "id": "b5a3faa5-d5bc-473d-99c8-c37afa6fa1ca",
   "metadata": {
    "jp-MarkdownHeadingCollapsed": true
   },
   "source": [
    "#### Marine Vessel Name"
   ]
  },
  {
   "cell_type": "code",
   "execution_count": 199,
   "id": "804eb9ec-bc73-49f0-a1c8-c5e82cb661e9",
   "metadata": {},
   "outputs": [
    {
     "data": {
      "text/plain": [
       "array(['', 'n/a', '-', 'NA', 'unavailable', '(Empty)', 'N/A',\n",
       "       'NOT APPLICABLE'], dtype=object)"
      ]
     },
     "execution_count": 199,
     "metadata": {},
     "output_type": "execute_result"
    }
   ],
   "source": [
    "df['Marine Vessel Name'].unique()"
   ]
  },
  {
   "cell_type": "code",
   "execution_count": 200,
   "id": "2301de77-70b3-4ad6-b948-c1760e1f85f6",
   "metadata": {},
   "outputs": [],
   "source": [
    "df['Marine Vessel Name'] = df[\"Marine Vessel Name\"].astype(str)"
   ]
  },
  {
   "cell_type": "code",
   "execution_count": 201,
   "id": "8e3dcdf3-72cd-43b7-bfce-8b06352ff693",
   "metadata": {},
   "outputs": [
    {
     "data": {
      "text/plain": [
       "array(['', 'n/a', '-', 'NA', 'unavailable', '(Empty)', 'N/A',\n",
       "       'NOT APPLICABLE'], dtype=object)"
      ]
     },
     "execution_count": 201,
     "metadata": {},
     "output_type": "execute_result"
    }
   ],
   "source": [
    "df['Marine Vessel Name'].unique()"
   ]
  },
  {
   "cell_type": "code",
   "execution_count": 202,
   "id": "28e1a688-3a71-4c7c-9b59-9ff1e37a52a4",
   "metadata": {},
   "outputs": [],
   "source": [
    "list_nope = ['', 'N/A', 'n/a', 'NA', '(Empty)', 'nan']"
   ]
  },
  {
   "cell_type": "code",
   "execution_count": 203,
   "id": "015b8d97-0fe0-49af-a888-ccbb60c2b32a",
   "metadata": {},
   "outputs": [],
   "source": [
    "df['Marine Vessel Name'] = df[\"Marine Vessel Name\"].map(lambda string: None if string in list_nope else string)"
   ]
  },
  {
   "cell_type": "code",
   "execution_count": 204,
   "id": "81bb1b94-1525-44f6-8616-92cde1342822",
   "metadata": {},
   "outputs": [],
   "source": [
    "df.loc[np.logical_and(df['Delivery Method']==\"Marine Vessel\", df['Marine Vessel Name'].isnull()), 'Marine Vessel Name'] = \"Flag\""
   ]
  },
  {
   "cell_type": "code",
   "execution_count": 205,
   "id": "9b324526-4221-4e6f-80c9-47e7dd2e729c",
   "metadata": {},
   "outputs": [
    {
     "data": {
      "text/plain": [
       "array([None, '-', 'unavailable', 'NOT APPLICABLE'], dtype=object)"
      ]
     },
     "execution_count": 205,
     "metadata": {},
     "output_type": "execute_result"
    }
   ],
   "source": [
    "df['Marine Vessel Name'].unique()"
   ]
  },
  {
   "cell_type": "code",
   "execution_count": 206,
   "id": "575ab1b2-1d7d-46b9-ac6a-891f2ace3f4c",
   "metadata": {},
   "outputs": [],
   "source": [
    "df['Marine Vessel Name'] = df[\"Marine Vessel Name\"].map(lambda string: clean_string(string))"
   ]
  },
  {
   "cell_type": "code",
   "execution_count": 207,
   "id": "a5cf06aa-f78c-4c64-9319-5f7bce229d04",
   "metadata": {},
   "outputs": [
    {
     "data": {
      "text/plain": [
       "array([None, 'unavailable'], dtype=object)"
      ]
     },
     "execution_count": 207,
     "metadata": {},
     "output_type": "execute_result"
    }
   ],
   "source": [
    "df['Marine Vessel Name'].unique()"
   ]
  },
  {
   "cell_type": "markdown",
   "id": "3ab7926e-f41e-4cb2-8819-c2f1db3b3a9b",
   "metadata": {
    "jp-MarkdownHeadingCollapsed": true
   },
   "source": [
    "#### Marine Vessel IMO Number"
   ]
  },
  {
   "cell_type": "code",
   "execution_count": 208,
   "id": "3ae0e005-b155-42f5-b14a-cf058eba1f5d",
   "metadata": {},
   "outputs": [
    {
     "data": {
      "text/plain": [
       "array(['', 'n/a', '-', 'NA', 'unavailable', '(Empty)', 'N/A', 0.0,\n",
       "       'NOT APPLICABLE'], dtype=object)"
      ]
     },
     "execution_count": 208,
     "metadata": {},
     "output_type": "execute_result"
    }
   ],
   "source": [
    "df['Marine Vessel IMO Number'].unique()"
   ]
  },
  {
   "cell_type": "code",
   "execution_count": 209,
   "id": "74544168-87e6-4ac5-91ea-210697b2a0a0",
   "metadata": {},
   "outputs": [],
   "source": [
    "df['Marine Vessel IMO Number'] = df[\"Marine Vessel IMO Number\"].astype(str)"
   ]
  },
  {
   "cell_type": "code",
   "execution_count": 210,
   "id": "52e7c6ce-31e6-4c8a-b229-51b405e254bc",
   "metadata": {},
   "outputs": [
    {
     "data": {
      "text/plain": [
       "array(['', 'n/a', '-', 'NA', 'unavailable', '(Empty)', 'N/A', '0.0',\n",
       "       'NOT APPLICABLE'], dtype=object)"
      ]
     },
     "execution_count": 210,
     "metadata": {},
     "output_type": "execute_result"
    }
   ],
   "source": [
    "df['Marine Vessel IMO Number'].unique()"
   ]
  },
  {
   "cell_type": "code",
   "execution_count": 211,
   "id": "dae060eb-5d3b-4504-b3ef-3f2047cc4145",
   "metadata": {},
   "outputs": [],
   "source": [
    "list_nope = ['', 'N/A', 'n/a', 'NA', '(Empty)', 'nan', '0.0']"
   ]
  },
  {
   "cell_type": "code",
   "execution_count": 212,
   "id": "1ad2cab9-5617-47a4-92cf-b76728edfcbb",
   "metadata": {},
   "outputs": [],
   "source": [
    "df['Marine Vessel IMO Number'] = df[\"Marine Vessel IMO Number\"].map(lambda string: None if string in list_nope else string)"
   ]
  },
  {
   "cell_type": "code",
   "execution_count": 213,
   "id": "fcd962de-7983-4499-a15b-2eefa0fd860a",
   "metadata": {},
   "outputs": [],
   "source": [
    "df.loc[np.logical_and(df['Delivery Method']==\"Marine Vessel\", df['Marine Vessel IMO Number'].isnull()), 'Marine Vessel IMO Number'] = \"Flag\""
   ]
  },
  {
   "cell_type": "code",
   "execution_count": 214,
   "id": "85d988a1-1f8d-407f-9c49-b0c683b1418f",
   "metadata": {},
   "outputs": [
    {
     "data": {
      "text/plain": [
       "array([None, '-', 'unavailable', 'NOT APPLICABLE'], dtype=object)"
      ]
     },
     "execution_count": 214,
     "metadata": {},
     "output_type": "execute_result"
    }
   ],
   "source": [
    "df['Marine Vessel IMO Number'].unique()"
   ]
  },
  {
   "cell_type": "markdown",
   "id": "ee672981-aa7b-42f2-9633-0eae2fda5518",
   "metadata": {
    "jp-MarkdownHeadingCollapsed": true
   },
   "source": [
    "#### Delivery Location"
   ]
  },
  {
   "cell_type": "code",
   "execution_count": 215,
   "id": "c7465f9e-f406-4b67-a4b0-a3072d27e56a",
   "metadata": {},
   "outputs": [
    {
     "data": {
      "text/plain": [
       "array(['TFMARTCA TRA', 'LOS ANGLS,CA', 'Concord CA', 'Watson CA',\n",
       "       'RODEO CA PSX REN RFY ER01', 'SAN FRANCISCO AREA',\n",
       "       'CONCORD CA BUPA', 'LOS ANGELES AREA',\n",
       "       'WATSON, CA - KINDER MORGAN', 'Watson', 'CARSON,CA-RACK-KM',\n",
       "       'CONCORD,CA-BULK-KM', 'WILMINGTON,CA-REF-VLO', 'SWT1, CA (TLC)',\n",
       "       'BAY', 'Portland - KM', 'Los Angeles', 'CONCORD, CA',\n",
       "       'CONCORCA GEN', 'Carson, CA (KM)', 'Carson KMEP CA',\n",
       "       'Watson, CA Terminal Kinder Morgan',\n",
       "       'Carson, CA Terminal Kinder Morgan', 'COLTON,CA-RACK-KM',\n",
       "       'CARSON,CA-BULK-SHELL', 'LONG BEACH,CA',\n",
       "       '#E101 (LOS ANGELES AREA) DEFAULT', 'Long Beach CA PDI Terminal',\n",
       "       'Carson CA KM Watson Station', 'Concord CA KM PL Station',\n",
       "       'Kinder Morgan Watson Station',\n",
       "       'Los Angeles CA LAX Airport Terminal',\n",
       "       'Barstow, CA Terminal Kinder Morgan', 'LOS ANGELES, CA',\n",
       "       'Kinder Morgan LA', 'KMSF', 'KMLA w/LAX Option',\n",
       "       'CARSON, CA - SOPUS', 'Portland - KMW', 'Imperial', 'Phoenix',\n",
       "       'Carson CA KM GATX/SoCal PL Junction', 'Watson, CA (SFPP)',\n",
       "       'Richmond Station, CA (KM)', 'Carson Olympus CA', 'Watson, CA',\n",
       "       'Watson, CA Trm KiM or LAX', 'Concord, CA 3rd Party',\n",
       "       'Richmond, CA 3rd Party', 'Long Beach, CA Terminal Chemoil',\n",
       "       'Carson CA KM GATX Terminal', 'CARSON KMI',\n",
       "       'RICHMOND CA PSX CLN TERM 03HW', 'CONCORD, CA - KM PUMPSTATION',\n",
       "       'Concord', 'Phoenix, AZ', 'Las Vegas, NV', 'RENO',\n",
       "       'Portland-McCall', 'Las Vegas', 'Colton, CA (Shell)',\n",
       "       'Concord, CA', 'KINDER MORGAN - WATSON, CA', 'Reno, NV',\n",
       "       'Phoenix, AZ (SFPP)', 'Phoenix, AZ (CalJet)',\n",
       "       'Concord Station, CA(KM)', 'Long Beach, CA (Olympus)',\n",
       "       'Los Angeles, CA Terminal LAX', 'LAXFUEL',\n",
       "       'Long Beach CA Olympus Terminal', 'Watson, CA-Bulk',\n",
       "       'Concord, CA-Bulk', 'LA Airport (LAX)', 'Colton, CA (SFPP)',\n",
       "       'GATX', 'Richmond CA Chevron Long Wharf', 'COLTON-KM',\n",
       "       'Colton, CA Terminal Kinder Morgan', 'Richmond CA Rfy Chevron',\n",
       "       'OAKLAND INTL. AIRPORT OAK, CA', 'SAN FRANCISCO AIRPORT SFO, CA',\n",
       "       'SACRAMENTO, CA - KINDER MORGAN', 'SAN JOSE, CA - KINDER MORGAN',\n",
       "       'CARSON,CA-BULK-KM WATSON', 'Imperial KMEP CA',\n",
       "       'LONG BEACH CA PDI CMRN TTERM ER03', 'WATSON KMO', 'LA Area'],\n",
       "      dtype=object)"
      ]
     },
     "execution_count": 215,
     "metadata": {},
     "output_type": "execute_result"
    }
   ],
   "source": [
    "df['Delivery Location'].unique()"
   ]
  },
  {
   "cell_type": "code",
   "execution_count": 216,
   "id": "055f41bf-4ec6-4160-af9e-938942618832",
   "metadata": {
    "scrolled": true
   },
   "outputs": [
    {
     "data": {
      "text/plain": [
       "{'Bakersfield': ['BAKERSFIELD CA BUPA',\n",
       "  'BAKERSFIELD CA CRIMSN INV 3PTM A3CO',\n",
       "  'Bakersfield Crimson Plant CA'],\n",
       " 'Bay Area': ['BAY'],\n",
       " 'Benecia': ['Benicia CA', 'BENICIA,CA-REF-VLO'],\n",
       " 'Brisbaca': ['BRISBACA SFP'],\n",
       " 'LA': ['CA LA',\n",
       "  'LA AIRPORT',\n",
       "  'LA Airport (LAX)',\n",
       "  'Los Angeles',\n",
       "  'LOS ANGELES AREA',\n",
       "  'Los Angeles CA',\n",
       "  'LOS ANGELES CA BUPA',\n",
       "  'Los Angeles CA Trm LAX',\n",
       "  'Los Angeles International Airport',\n",
       "  'LOS ANGELES, CA',\n",
       "  'LOS ANGLS,CA'],\n",
       " 'Phoenix': ['CALJET - PHOENIX, AZ', 'Phoenix'],\n",
       " 'Carson': ['CARSO-KINDER',\n",
       "  'Carson CA Trm Kinder Morgan',\n",
       "  'Carson KM Storage, CA',\n",
       "  'Carson KMEP CA',\n",
       "  'CARSON KMI',\n",
       "  'Carson Olympus CA',\n",
       "  'Carson, CA',\n",
       "  'Carson, CA (KM)',\n",
       "  'Carson, CA (Shell)',\n",
       "  'CARSON,CA-BULK-KM WATSON',\n",
       "  'CARSON,CA-BULK-LAX FUELS',\n",
       "  'CARSON,CA-BULK-SHELL',\n",
       "  'CARSON,CA-RACK-KM',\n",
       "  'KINDER MORGAN - CARSON, CA'],\n",
       " 'Cherry Point WA': ['Cherry Point WA'],\n",
       " 'Chico': ['Chico CA Trm Kinder Morgan', 'Chico, CA', 'Chico, CA (SFPP)'],\n",
       " 'Colton': ['COLTON CA TRISTR TRNSLD 3PTM A3DI',\n",
       "  'Colton KMEP CA',\n",
       "  'COLTON,CA-RACK-KM',\n",
       "  'COLTON-KM',\n",
       "  'KINDER MORGAN - COLTON, CA',\n",
       "  'KINDER MORGAN COLTON, CA'],\n",
       " 'Concord': ['CONCORCA GEN',\n",
       "  'Concord CA',\n",
       "  'Concord CA 3rd Party',\n",
       "  'Concord Station, CA(KM)',\n",
       "  'Concord, CA',\n",
       "  'CONCORD,CA-BULK-KM'],\n",
       " 'Fresno': ['Fresno, CA (SFPP)'],\n",
       " 'Harpertown': ['HARPERTOWN-KERN OIL'],\n",
       " 'Imperial': ['Imperial', 'IMPERIAL,CA'],\n",
       " 'Watson': ['KINDER MORGAN - WATSON, CA',\n",
       "  'Watson CA',\n",
       "  'Watson CA Trm KiM or LAX',\n",
       "  'Watson CA Trm Kinder Morgan',\n",
       "  'Watson CA Trm Kinder Morgan or Phoenix, AZ',\n",
       "  'Watson, CA',\n",
       "  'Watson, CA (SFPP)'],\n",
       " 'Mission Valley': ['KM- Mission Valley',\n",
       "  'Mission Valley',\n",
       "  'MISSION VALLEY CA KM INV 3PTM 03DB'],\n",
       " 'Las Vegas': ['Las Vegas', 'Las Vegas, NV (CalNev)'],\n",
       " 'Long Beach': ['Long Beach CA',\n",
       "  'LONG BEACH CA BUPA',\n",
       "  'LONG BEACH CA PDI 3PTM A354',\n",
       "  'Long Beach CA Trm Olympus',\n",
       "  'Long Beach Petro-Diamond CA',\n",
       "  'LONG BEACH,CA',\n",
       "  'OLYMPUS - LONG BEACH, CA'],\n",
       " 'Martinez': ['Martinez Ref (PBF)', 'Martinez, CA (TM)'],\n",
       " 'Orange': ['ORANGE,CA-RACK-KM'],\n",
       " 'Portland': ['Portland'],\n",
       " 'Reno': ['Reno'],\n",
       " 'Richmond': ['RICHMOCA KMP',\n",
       "  'Richmond CA TRM IMTT',\n",
       "  'Richmond Station, CA (KM)',\n",
       "  'RICHMOND-KM'],\n",
       " 'Sacramca': ['SACRAMCA BUC'],\n",
       " 'San Francisco': ['SAN FRANCISCO AREA'],\n",
       " 'San Jose': ['San Jose', 'San Jose, CA (SFPP)'],\n",
       " 'Selby': ['SELBY CA NUS INV 3PTM 03LB'],\n",
       " 'Stockton': ['STOCKTCA NUS',\n",
       "  'STOCKTON CA NUS INV 3PTM 03MH',\n",
       "  'STOCKTON, CA',\n",
       "  'STOCKTON,CA-RACK-NUSTAR'],\n",
       " 'SWT': ['SWT1, CA (TLC)'],\n",
       " 'Tacoma': ['Tacoma'],\n",
       " 'TFMARTCA': ['TFMARTCA TRA'],\n",
       " 'Torrance': ['Torrance Ref (PBF)'],\n",
       " 'Umatilla': ['Umatilla'],\n",
       " 'Wilmington': ['WILMINGTON,CA-REF-VLO']}"
      ]
     },
     "execution_count": 216,
     "metadata": {},
     "output_type": "execute_result"
    }
   ],
   "source": [
    "dict_Directory['Delivery Location']"
   ]
  },
  {
   "cell_type": "code",
   "execution_count": 217,
   "id": "7d97e98c-a70f-4a58-829e-45af2ef1b5a0",
   "metadata": {},
   "outputs": [],
   "source": [
    "for key, values in dict_Directory['Delivery Location'].items():\n",
    "    df['Delivery Location'] = df['Delivery Location'].replace(values, key)"
   ]
  },
  {
   "cell_type": "code",
   "execution_count": 218,
   "id": "b5ba0172-c687-4407-8954-e38e7a1bb2eb",
   "metadata": {},
   "outputs": [
    {
     "data": {
      "text/plain": [
       "False"
      ]
     },
     "execution_count": 218,
     "metadata": {},
     "output_type": "execute_result"
    }
   ],
   "source": [
    "set(df['Delivery Location'].unique()) <= set(dict_Directory['Delivery Location'].keys())"
   ]
  },
  {
   "cell_type": "code",
   "execution_count": 219,
   "id": "668e6958-dde3-4b56-b562-8d54fe008ff9",
   "metadata": {
    "scrolled": true
   },
   "outputs": [
    {
     "data": {
      "text/plain": [
       "['Watson, CA Terminal Kinder Morgan',\n",
       " 'SAN JOSE, CA - KINDER MORGAN',\n",
       " 'Richmond, CA 3rd Party',\n",
       " 'SACRAMENTO, CA - KINDER MORGAN',\n",
       " 'Carson CA KM GATX Terminal',\n",
       " 'Portland-McCall',\n",
       " 'Los Angeles CA LAX Airport Terminal',\n",
       " 'Reno, NV',\n",
       " 'Concord, CA-Bulk',\n",
       " 'Richmond CA Rfy Chevron',\n",
       " 'Long Beach CA PDI Terminal',\n",
       " 'CONCORD, CA',\n",
       " 'Watson, CA-Bulk',\n",
       " 'CONCORD CA BUPA',\n",
       " 'KMSF',\n",
       " 'Long Beach, CA (Olympus)',\n",
       " 'Kinder Morgan Watson Station',\n",
       " 'LAXFUEL',\n",
       " 'Richmond CA Chevron Long Wharf',\n",
       " 'Barstow, CA Terminal Kinder Morgan',\n",
       " 'Phoenix, AZ',\n",
       " 'SAN FRANCISCO AIRPORT SFO, CA',\n",
       " 'Phoenix, AZ (CalJet)',\n",
       " 'Imperial KMEP CA',\n",
       " 'CONCORD, CA - KM PUMPSTATION',\n",
       " 'Watson, CA Trm KiM or LAX',\n",
       " 'Las Vegas, NV',\n",
       " 'RODEO CA PSX REN RFY ER01',\n",
       " 'Portland - KMW',\n",
       " 'Phoenix, AZ (SFPP)',\n",
       " 'Kinder Morgan LA',\n",
       " 'GATX',\n",
       " 'OAKLAND INTL. AIRPORT OAK, CA',\n",
       " 'Carson CA KM GATX/SoCal PL Junction',\n",
       " 'Long Beach CA Olympus Terminal',\n",
       " 'WATSON KMO',\n",
       " 'Colton, CA Terminal Kinder Morgan',\n",
       " 'Carson CA KM Watson Station',\n",
       " 'RENO',\n",
       " 'Los Angeles, CA Terminal LAX',\n",
       " 'Colton, CA (SFPP)',\n",
       " 'Concord CA KM PL Station',\n",
       " 'CARSON, CA - SOPUS',\n",
       " 'Concord, CA 3rd Party',\n",
       " 'LA Area',\n",
       " 'Colton, CA (Shell)',\n",
       " 'Portland - KM',\n",
       " 'Long Beach, CA Terminal Chemoil',\n",
       " 'RICHMOND CA PSX CLN TERM 03HW',\n",
       " 'LONG BEACH CA PDI CMRN TTERM ER03',\n",
       " '#E101 (LOS ANGELES AREA) DEFAULT',\n",
       " 'Carson, CA Terminal Kinder Morgan',\n",
       " 'KMLA w/LAX Option',\n",
       " 'WATSON, CA - KINDER MORGAN']"
      ]
     },
     "execution_count": 219,
     "metadata": {},
     "output_type": "execute_result"
    }
   ],
   "source": [
    "#if not set(df[\"Trading Counterparty Entity\"].unique()) <= set(dict_Directory['Company'].keys()):\n",
    "# Nombres de company que no estan en keys\n",
    "nokey_list = list(set(df['Delivery Location'].unique()) - set(dict_Directory['Delivery Location'].keys()))\n",
    "nokey_list = [str(nokey) for nokey in nokey_list]\n",
    "nokey_list = [clean_string(string) for string in nokey_list]\n",
    "nokey_list = [string for string in nokey_list if string is not None]\n",
    "nokey_list"
   ]
  },
  {
   "cell_type": "code",
   "execution_count": 220,
   "id": "52f9cbec-c1c6-4216-bdb1-2f4443efc46c",
   "metadata": {},
   "outputs": [],
   "source": [
    "key_list = list(dict_Directory['Delivery Location'].keys())\n",
    "key_list = list(map(str, key_list))\n",
    "key_list = [clean_string(string) for string in key_list]\n",
    "key_list = [string for string in key_list if string is not None]"
   ]
  },
  {
   "cell_type": "code",
   "execution_count": 221,
   "id": "4d319b11-6c03-413d-a252-ad3054e01f19",
   "metadata": {},
   "outputs": [],
   "source": [
    "def max_keys(d):\n",
    "    max_value = max(d.values())\n",
    "    return [key for key, value in d.items() if value == max_value]"
   ]
  },
  {
   "cell_type": "code",
   "execution_count": 222,
   "id": "ade1a4af-22e6-4a9b-a5af-b4fef0c20ca4",
   "metadata": {
    "scrolled": true
   },
   "outputs": [],
   "source": [
    "dictio_ = {}\n",
    "for nokey in nokey_list:\n",
    "    # print(nokey)\n",
    "    dict_ = {}\n",
    "    for key in key_list:\n",
    "        # print(key)\n",
    "        value_list = list(dict_Directory['Delivery Location'][key])\n",
    "        dict_[key] = np.max(np.array([round(fuzz.token_set_ratio(value.upper(), nokey.upper()),2) for value in value_list]))\n",
    "            \n",
    "    #key_max = max(dict_, key= lambda x: dict_[x])\n",
    "    key_max = max_keys(dict_)\n",
    "    value_max = max(dict_.values())\n",
    "\n",
    "    dictio_[nokey] = key_max\n",
    "    \n",
    "    if len(key_max)>1:\n",
    "        # 'LA Area': ['LA', 'San Francisco']  ----> 'LA Area': ['LA']\n",
    "        if 'LA' in key_max and 'LA' in nokey.split():\n",
    "            dictio_[nokey] = ['LA']\n",
    "            value_max = 90\n",
    "\n",
    "    elif len(key_max)==1:\n",
    "        for k in [k for k in list(dict_Directory['Delivery Location'].keys()) if len(str(k).split())==1]:\n",
    "            if str(k).upper() in [str(x).upper() for x in nokey.replace(',', '').split()]:\n",
    "                dictio_[nokey] = [k]\n",
    "                value_max = 90\n",
    "\n",
    "    if value_max < 90:\n",
    "        dictio_[nokey] = ['none']  \n",
    "        \n",
    "#    print(nokey)\n",
    "#    print(key_max)\n",
    "#    print(value_max)"
   ]
  },
  {
   "cell_type": "code",
   "execution_count": 223,
   "id": "4f7f5538-bcea-47fa-9842-4d4a07e1eff0",
   "metadata": {
    "scrolled": true
   },
   "outputs": [
    {
     "data": {
      "text/plain": [
       "{'Watson, CA Terminal Kinder Morgan': ['Watson'],\n",
       " 'SAN JOSE, CA - KINDER MORGAN': ['none'],\n",
       " 'Richmond, CA 3rd Party': ['Richmond'],\n",
       " 'SACRAMENTO, CA - KINDER MORGAN': ['none'],\n",
       " 'Carson CA KM GATX Terminal': ['Carson'],\n",
       " 'Portland-McCall': ['none'],\n",
       " 'Los Angeles CA LAX Airport Terminal': ['LA'],\n",
       " 'Reno, NV': ['Reno'],\n",
       " 'Concord, CA-Bulk': ['Concord'],\n",
       " 'Richmond CA Rfy Chevron': ['Richmond'],\n",
       " 'Long Beach CA PDI Terminal': ['Long Beach'],\n",
       " 'CONCORD, CA': ['Concord'],\n",
       " 'Watson, CA-Bulk': ['Watson'],\n",
       " 'CONCORD CA BUPA': ['Concord'],\n",
       " 'KMSF': ['none'],\n",
       " 'Long Beach, CA (Olympus)': ['Long Beach'],\n",
       " 'Kinder Morgan Watson Station': ['Watson'],\n",
       " 'LAXFUEL': ['none'],\n",
       " 'Richmond CA Chevron Long Wharf': ['Richmond'],\n",
       " 'Barstow, CA Terminal Kinder Morgan': ['none'],\n",
       " 'Phoenix, AZ': ['Phoenix', 'Watson'],\n",
       " 'SAN FRANCISCO AIRPORT SFO, CA': ['none'],\n",
       " 'Phoenix, AZ (CalJet)': ['Phoenix'],\n",
       " 'Imperial KMEP CA': ['Imperial'],\n",
       " 'CONCORD, CA - KM PUMPSTATION': ['Concord'],\n",
       " 'Watson, CA Trm KiM or LAX': ['Watson'],\n",
       " 'Las Vegas, NV': ['Las Vegas'],\n",
       " 'RODEO CA PSX REN RFY ER01': ['none'],\n",
       " 'Portland - KMW': ['Portland'],\n",
       " 'Phoenix, AZ (SFPP)': ['none'],\n",
       " 'Kinder Morgan LA': ['none'],\n",
       " 'GATX': ['none'],\n",
       " 'OAKLAND INTL. AIRPORT OAK, CA': ['none'],\n",
       " 'Carson CA KM GATX/SoCal PL Junction': ['Carson'],\n",
       " 'Long Beach CA Olympus Terminal': ['Long Beach'],\n",
       " 'WATSON KMO': ['Watson'],\n",
       " 'Colton, CA Terminal Kinder Morgan': ['Colton'],\n",
       " 'Carson CA KM Watson Station': ['Watson'],\n",
       " 'RENO': ['Reno'],\n",
       " 'Los Angeles, CA Terminal LAX': ['LA'],\n",
       " 'Colton, CA (SFPP)': ['Colton'],\n",
       " 'Concord CA KM PL Station': ['Concord'],\n",
       " 'CARSON, CA - SOPUS': ['Carson'],\n",
       " 'Concord, CA 3rd Party': ['Concord'],\n",
       " 'LA Area': ['LA'],\n",
       " 'Colton, CA (Shell)': ['Colton'],\n",
       " 'Portland - KM': ['Portland'],\n",
       " 'Long Beach, CA Terminal Chemoil': ['none'],\n",
       " 'RICHMOND CA PSX CLN TERM 03HW': ['Richmond'],\n",
       " 'LONG BEACH CA PDI CMRN TTERM ER03': ['Long Beach'],\n",
       " '#E101 (LOS ANGELES AREA) DEFAULT': ['none'],\n",
       " 'Carson, CA Terminal Kinder Morgan': ['Carson'],\n",
       " 'KMLA w/LAX Option': ['none'],\n",
       " 'WATSON, CA - KINDER MORGAN': ['Watson']}"
      ]
     },
     "execution_count": 223,
     "metadata": {},
     "output_type": "execute_result"
    }
   ],
   "source": [
    "dictio_"
   ]
  },
  {
   "cell_type": "code",
   "execution_count": 224,
   "id": "223b777b-d84e-4c66-9372-02e2af5781da",
   "metadata": {},
   "outputs": [
    {
     "data": {
      "text/plain": [
       "55"
      ]
     },
     "execution_count": 224,
     "metadata": {},
     "output_type": "execute_result"
    }
   ],
   "source": [
    "sum([len(x) for x in list(dictio_.values())])"
   ]
  },
  {
   "cell_type": "code",
   "execution_count": 225,
   "id": "b4793e79-c683-43db-8455-214ea8b285c2",
   "metadata": {},
   "outputs": [
    {
     "data": {
      "text/plain": [
       "54"
      ]
     },
     "execution_count": 225,
     "metadata": {},
     "output_type": "execute_result"
    }
   ],
   "source": [
    "len([len(x) for x in list(dictio_.values())])"
   ]
  },
  {
   "cell_type": "code",
   "execution_count": 226,
   "id": "fb3c8cee-7919-493c-84a9-319650c5b4ed",
   "metadata": {},
   "outputs": [],
   "source": [
    "# if sum([len(x) for x in list(dictio_.values())]) == len([len(x) for x in list(dictio_.values())]):\n",
    "dict_ = {}\n",
    "for key, value in dictio_.items():\n",
    "    dict_[key] = value[0]"
   ]
  },
  {
   "cell_type": "code",
   "execution_count": 227,
   "id": "50282da6-6cb0-4c38-886b-0b00c41c3108",
   "metadata": {},
   "outputs": [],
   "source": [
    "df['Delivery Location'] = df['Delivery Location'].replace(dict_)"
   ]
  },
  {
   "cell_type": "code",
   "execution_count": 228,
   "id": "eb1241c4-a620-493a-a194-070ea578630b",
   "metadata": {},
   "outputs": [],
   "source": [
    "df['Delivery Location'] = df[\"Delivery Location\"].map(lambda string: clean_string(string))"
   ]
  },
  {
   "cell_type": "code",
   "execution_count": 229,
   "id": "4593ee77-a4b4-46eb-9598-cc66ff7f00a8",
   "metadata": {},
   "outputs": [
    {
     "data": {
      "text/plain": [
       "array(['TFMARTCA', 'LA', 'Concord', 'Watson', None, 'San Francisco',\n",
       "       'Carson', 'Wilmington', 'SWT', 'Bay Area', 'Portland', 'Colton',\n",
       "       'Long Beach', 'Imperial', 'Phoenix', 'Richmond', 'Las Vegas',\n",
       "       'Reno'], dtype=object)"
      ]
     },
     "execution_count": 229,
     "metadata": {},
     "output_type": "execute_result"
    }
   ],
   "source": [
    "df['Delivery Location'].unique()"
   ]
  },
  {
   "cell_type": "markdown",
   "id": "d741a563-606e-44e8-b3b9-da3fccf574df",
   "metadata": {
    "jp-MarkdownHeadingCollapsed": true
   },
   "source": [
    "#### Pipeline Delivery Sub-cycle"
   ]
  },
  {
   "cell_type": "code",
   "execution_count": 230,
   "id": "b688c8e4-a458-49de-9f3a-d48e70e94239",
   "metadata": {},
   "outputs": [],
   "source": [
    "df['Pipeline Delivery Sub-cycle'] = df[\"Pipeline Delivery Sub-cycle\"].astype(str)"
   ]
  },
  {
   "cell_type": "code",
   "execution_count": 231,
   "id": "7421f7d0-3384-48fc-8575-5a34d77bf367",
   "metadata": {},
   "outputs": [
    {
     "data": {
      "text/plain": [
       "array(['KM North FH', 'KM West Any', '', 'KM Any', 'n/a', 'PLVW-X6-002',\n",
       "       'Any', 'ANY', 'Other (1/17, 1/22, 1/27)', 'Prompt', 'any',\n",
       "       'Other (Jan 18-19)', 'C2', '-', 'Other (1/20-1/31)', 'PLVW-X6-004',\n",
       "       'SHLW-X6-004', 'VALW-H5-302', '02-C1-2025', '02-C2-2025',\n",
       "       '02-C3-2025', '02-C4-2025', '01-C3-2025',\n",
       "       'Other (Januray 2025 - ANY)', 'Other (1/16, 1/17 Loadings)',\n",
       "       'Other (March 2025 - ~165 b per cycle)',\n",
       "       'Other (February 2025 - ~112.5mb per cycle)', 'C3', 'C1', 'C4',\n",
       "       'KMW 2025 - Feb Any', '112.5MB/ Cy', '165 MB/ Cy', 'KMW 2025 - 03',\n",
       "       'KM West C4', 'KM West C3', 'Other (Specify) C3-4', 'Jan',\n",
       "       'Other (Q1 2025 - 25 Jan, 25 Feb, 25 Mar)', '(Empty)',\n",
       "       'KMR 2025 - 03', 'N/A', 'KM North C3',\n",
       "       'Other (February 2025 - ANY)', 'Other (ANY Jan)',\n",
       "       'KMW 2025 - Jan Any', 'KMR 2025 - 04',\n",
       "       'Other (January 2025 - ANY)', 'Other (March 2025 - ANY)',\n",
       "       'Other (2/1-2/10)', 'KM South L3', 'Rateable',\n",
       "       'Other (May 2025 - 100KB any - 300KB c2/3/4 lax only)',\n",
       "       'Other (March 2025 - 100KB any - 300KB c2/3/4 lax only)',\n",
       "       'Other (April 2025 - 100KB any - 300KB c2/3/4 lax only)',\n",
       "       'Other (Janury 2025 - ANY)', 'Other (February 2025 -ANY)', 'C2-C3',\n",
       "       'C2-4', 'FH', 'BH', 'KM WEST ANY', 'Feb Any',\n",
       "       'Other (Specify) C1-2', 'KM WEST - AUG C1', 'KM WEST - AUG C2',\n",
       "       'CAL NEV- JUL C3-4', 'CAL NEV- JUL C3', 'KM WEST - AUG C3',\n",
       "       'KM WEST - AUG C4', 'KM WEST - SEPT C1', 'KM WEST - SEPT C2',\n",
       "       'KM WEST - SEPT C3', 'KM WEST - OCT C1', 'KM WEST - OCT C2',\n",
       "       'KM WEST - OCT C3', 'KM WEST - OCT C4', 'KM WEST - NOV C1',\n",
       "       'KM WEST - NOV C2', 'KM WEST - NOV C3', 'CAL NEV- NOV C3',\n",
       "       'KM WEST - DEC C1', 'KM WEST - DEC C2', 'KM WEST - DEC C3',\n",
       "       'KM WEST - DEC C4', 'KM WEST - JAN C1', 'KM WEST - JAN C2',\n",
       "       'KM WEST - JAN C3', 'KM WEST - JAN C4', 'KM WEST - FEB C1',\n",
       "       'KM WEST - FEB C2', '\"Any\" February'], dtype=object)"
      ]
     },
     "execution_count": 231,
     "metadata": {},
     "output_type": "execute_result"
    }
   ],
   "source": [
    "df['Pipeline Delivery Sub-cycle'].unique()"
   ]
  },
  {
   "cell_type": "markdown",
   "id": "3b668d24-73ef-4420-9194-7767fc583773",
   "metadata": {
    "jp-MarkdownHeadingCollapsed": true
   },
   "source": [
    "#### Delivery Start Date"
   ]
  },
  {
   "cell_type": "code",
   "execution_count": 232,
   "id": "3a1a377c-d36b-405b-b8f0-e9fff72d730f",
   "metadata": {},
   "outputs": [],
   "source": [
    "df['Delivery Start Date'] = df[\"Delivery Start Date\"].astype(str)"
   ]
  },
  {
   "cell_type": "code",
   "execution_count": 233,
   "id": "84bdf5cf-2b6e-41f1-abbe-53d91edc00d3",
   "metadata": {},
   "outputs": [
    {
     "data": {
      "text/plain": [
       "array(['2025-01-15 06:00:00', '2025-02-01 06:00:00',\n",
       "       '2025-03-01 06:00:00', '2025-01-01', '2025-01-03', '01/01/2025',\n",
       "       '01/03/2025', '2025-01-17', '2025-02-01', '2025-01-10',\n",
       "       '2025-01-16', '2025-01-25', '2025-01-06', '2025-01-18',\n",
       "       '02/01/2025', '01/06/2025', '01/09/2025', '2025-01-07 06:00:00',\n",
       "       '2025-01-20', '2025-03-01', '2025-01-07', 'Jan 2025', 'Feb 2025',\n",
       "       '2025-06-01', '2025-05-01', '2025-04-01', '2025-01-08',\n",
       "       '2025-01-22', '', '2025-01-09', '2025-01-23', '2024-12-01',\n",
       "       '2025-01-19', '2025-01-14', '2025-01-13', '2025-01-13 06:00:00',\n",
       "       '01/13/2025', '01/18/2025', '2025-01-14 06:00:00',\n",
       "       '2025-01-22 06:00:00', '2025-02-08 06:00:00',\n",
       "       '2025-02-15 06:00:00', '2025-02-22 06:00:00', '01/15/2025',\n",
       "       '01/14/2025', '2025-01-12', '2025-01-15', 'Mar 2025', '2025-03-12',\n",
       "       '03/01/2025', '2024-08-06', '2024-08-13', '2024-07-28',\n",
       "       '2024-07-29', '2024-08-21', '2024-08-28', '2024-09-05',\n",
       "       '2024-09-13', '2024-09-20', '2024-10-06', '2024-10-13',\n",
       "       '2024-10-21', '2024-10-29', '2024-11-05', '2024-11-13',\n",
       "       '2024-11-20', '2024-11-18', '2024-12-05', '2024-12-13',\n",
       "       '2024-12-21', '2024-12-28', '2025-01-05', '2025-01-21',\n",
       "       '2025-01-28', '2025-02-05', '2025-02-12', 'Approx. 2/1/25',\n",
       "       '01/16/2025', '02/03/2025'], dtype=object)"
      ]
     },
     "execution_count": 233,
     "metadata": {},
     "output_type": "execute_result"
    }
   ],
   "source": [
    "df['Delivery Start Date'].unique()"
   ]
  },
  {
   "cell_type": "code",
   "execution_count": 234,
   "id": "b61e80a6-3d2c-4b27-bc43-1b13c3065e38",
   "metadata": {},
   "outputs": [],
   "source": [
    "df['Delivery Start Date'] = df[\"Delivery Start Date\"].map(lambda x: str_to_date(x))"
   ]
  },
  {
   "cell_type": "code",
   "execution_count": 235,
   "id": "11f45257-4969-4abd-a74f-6fc3adede51a",
   "metadata": {},
   "outputs": [
    {
     "data": {
      "text/plain": [
       "array([datetime.date(2025, 1, 15), datetime.date(2025, 2, 1),\n",
       "       datetime.date(2025, 3, 1), datetime.date(2025, 1, 1),\n",
       "       datetime.date(2025, 1, 3), datetime.date(2025, 1, 17),\n",
       "       datetime.date(2025, 1, 10), datetime.date(2025, 1, 16),\n",
       "       datetime.date(2025, 1, 25), datetime.date(2025, 1, 6),\n",
       "       datetime.date(2025, 1, 18), datetime.date(2025, 1, 9),\n",
       "       datetime.date(2025, 1, 7), datetime.date(2025, 1, 20), NaT,\n",
       "       datetime.date(2025, 6, 1), datetime.date(2025, 5, 1),\n",
       "       datetime.date(2025, 4, 1), datetime.date(2025, 1, 8),\n",
       "       datetime.date(2025, 1, 22), datetime.date(2025, 1, 23),\n",
       "       datetime.date(2024, 12, 1), datetime.date(2025, 1, 19),\n",
       "       datetime.date(2025, 1, 14), datetime.date(2025, 1, 13),\n",
       "       datetime.date(2025, 2, 8), datetime.date(2025, 2, 15),\n",
       "       datetime.date(2025, 2, 22), datetime.date(2025, 1, 12),\n",
       "       datetime.date(2025, 3, 12), datetime.date(2024, 8, 6),\n",
       "       datetime.date(2024, 8, 13), datetime.date(2024, 7, 28),\n",
       "       datetime.date(2024, 7, 29), datetime.date(2024, 8, 21),\n",
       "       datetime.date(2024, 8, 28), datetime.date(2024, 9, 5),\n",
       "       datetime.date(2024, 9, 13), datetime.date(2024, 9, 20),\n",
       "       datetime.date(2024, 10, 6), datetime.date(2024, 10, 13),\n",
       "       datetime.date(2024, 10, 21), datetime.date(2024, 10, 29),\n",
       "       datetime.date(2024, 11, 5), datetime.date(2024, 11, 13),\n",
       "       datetime.date(2024, 11, 20), datetime.date(2024, 11, 18),\n",
       "       datetime.date(2024, 12, 5), datetime.date(2024, 12, 13),\n",
       "       datetime.date(2024, 12, 21), datetime.date(2024, 12, 28),\n",
       "       datetime.date(2025, 1, 5), datetime.date(2025, 1, 21),\n",
       "       datetime.date(2025, 1, 28), datetime.date(2025, 2, 5),\n",
       "       datetime.date(2025, 2, 12), datetime.date(2025, 2, 3)],\n",
       "      dtype=object)"
      ]
     },
     "execution_count": 235,
     "metadata": {},
     "output_type": "execute_result"
    }
   ],
   "source": [
    "df['Delivery Start Date'].unique()"
   ]
  },
  {
   "cell_type": "code",
   "execution_count": 236,
   "id": "c710aab2-97c2-4b35-9a9f-24ba4cc15a1e",
   "metadata": {},
   "outputs": [
    {
     "data": {
      "text/plain": [
       "array([datetime.date(2025, 1, 15), datetime.date(2025, 2, 1),\n",
       "       datetime.date(2025, 3, 1), datetime.date(2025, 1, 1),\n",
       "       datetime.date(2025, 1, 3), datetime.date(2025, 1, 17),\n",
       "       datetime.date(2025, 1, 10), datetime.date(2025, 1, 16),\n",
       "       datetime.date(2025, 1, 25), datetime.date(2025, 1, 6),\n",
       "       datetime.date(2025, 1, 18), datetime.date(2025, 1, 9),\n",
       "       datetime.date(2025, 1, 7), datetime.date(2025, 1, 20), NaT,\n",
       "       datetime.date(2025, 6, 1), datetime.date(2025, 5, 1),\n",
       "       datetime.date(2025, 4, 1), datetime.date(2025, 1, 8),\n",
       "       datetime.date(2025, 1, 22), datetime.date(2025, 1, 23),\n",
       "       datetime.date(2024, 12, 1), datetime.date(2025, 1, 19),\n",
       "       datetime.date(2025, 1, 14), datetime.date(2025, 1, 13),\n",
       "       datetime.date(2025, 2, 8), datetime.date(2025, 2, 15),\n",
       "       datetime.date(2025, 2, 22), datetime.date(2025, 1, 12),\n",
       "       datetime.date(2025, 3, 12), datetime.date(2024, 8, 6),\n",
       "       datetime.date(2024, 8, 13), datetime.date(2024, 7, 28),\n",
       "       datetime.date(2024, 7, 29), datetime.date(2024, 8, 21),\n",
       "       datetime.date(2024, 8, 28), datetime.date(2024, 9, 5),\n",
       "       datetime.date(2024, 9, 13), datetime.date(2024, 9, 20),\n",
       "       datetime.date(2024, 10, 6), datetime.date(2024, 10, 13),\n",
       "       datetime.date(2024, 10, 21), datetime.date(2024, 10, 29),\n",
       "       datetime.date(2024, 11, 5), datetime.date(2024, 11, 13),\n",
       "       datetime.date(2024, 11, 20), datetime.date(2024, 11, 18),\n",
       "       datetime.date(2024, 12, 5), datetime.date(2024, 12, 13),\n",
       "       datetime.date(2024, 12, 21), datetime.date(2024, 12, 28),\n",
       "       datetime.date(2025, 1, 5), datetime.date(2025, 1, 21),\n",
       "       datetime.date(2025, 1, 28), datetime.date(2025, 2, 5),\n",
       "       datetime.date(2025, 2, 12), datetime.date(2025, 2, 3)],\n",
       "      dtype=object)"
      ]
     },
     "execution_count": 236,
     "metadata": {},
     "output_type": "execute_result"
    }
   ],
   "source": [
    "df['Delivery Start Date'].unique()"
   ]
  },
  {
   "cell_type": "markdown",
   "id": "9a59cd5f-e863-4ebd-bfee-6aba32494837",
   "metadata": {
    "jp-MarkdownHeadingCollapsed": true
   },
   "source": [
    "#### Delivery End Date"
   ]
  },
  {
   "cell_type": "code",
   "execution_count": 237,
   "id": "09f7932b-6251-49f6-acf7-b7c4c9030ace",
   "metadata": {},
   "outputs": [],
   "source": [
    "df['Delivery End Date'] = df[\"Delivery End Date\"].astype(str)"
   ]
  },
  {
   "cell_type": "code",
   "execution_count": 238,
   "id": "c9f25d69-28ab-423b-a95f-61698f1e18fe",
   "metadata": {},
   "outputs": [
    {
     "data": {
      "text/plain": [
       "array(['2025-01-22 06:00:00', '2025-02-07 06:00:00',\n",
       "       '2025-03-14 05:00:00', '2025-01-31', '2025-01-07', '01/31/2025',\n",
       "       '01/03/2025', '2025-02-28', '2025-01-17', '2025-01-25',\n",
       "       '2025-01-19', '02/28/2025', '01/07/2025', '01/10/2025',\n",
       "       '2025-02-07', '2025-01-31 06:00:00', '2025-03-31', 'Jan 2025',\n",
       "       'Feb 2025', '2025-06-30', '2025-05-31', '2025-04-30', '2025-01-18',\n",
       "       '2025-01-23', '', '2025-01-24', '2025-01-20', '2024-12-31',\n",
       "       '2025-01-21 06:00:00', '2025-01-21', '2025-01-14', '2025-01-16',\n",
       "       '2025-02-28 06:00:00', '01/23/2025', '2025-02-10',\n",
       "       '2025-02-14 06:00:00', '2025-02-21 06:00:00', '01/15/2025',\n",
       "       '2025-03-07', '2025-01-02', '2025-01-11', '2025-01-12',\n",
       "       '2025-01-15', 'Mar 2025', '2025-03-22', '03/31/2025',\n",
       "       '2025-02-15 06:00:00', '2024-08-06', '2024-08-13', '2024-08-02',\n",
       "       '2024-07-30', '2024-08-21', '2024-08-28', '2024-09-05',\n",
       "       '2024-09-13', '2024-09-20', '2024-10-06', '2024-10-13',\n",
       "       '2024-10-21', '2024-10-29', '2024-11-05', '2024-11-13',\n",
       "       '2024-11-20', '2024-11-18', '2024-12-05', '2024-12-13',\n",
       "       '2024-12-21', '2024-12-28', '2025-01-05', '2025-01-13',\n",
       "       '2025-01-28', '2025-02-05', '2025-02-12', 'Approx. 2/28/25',\n",
       "       '01/17/2025', '02/03/2025'], dtype=object)"
      ]
     },
     "execution_count": 238,
     "metadata": {},
     "output_type": "execute_result"
    }
   ],
   "source": [
    "df['Delivery End Date'].unique()"
   ]
  },
  {
   "cell_type": "code",
   "execution_count": 239,
   "id": "9db9b4b2-503b-4118-acdf-8cdb1ba9b0b9",
   "metadata": {},
   "outputs": [],
   "source": [
    "df['Delivery End Date'] = df[\"Delivery End Date\"].map(lambda x: str_to_date(x))"
   ]
  },
  {
   "cell_type": "code",
   "execution_count": 240,
   "id": "c40fbd4d-3bfe-4b93-a1ef-bb70f17f6e69",
   "metadata": {},
   "outputs": [
    {
     "data": {
      "text/plain": [
       "array([datetime.date(2025, 1, 22), datetime.date(2025, 2, 7),\n",
       "       datetime.date(2025, 3, 14), datetime.date(2025, 1, 31),\n",
       "       datetime.date(2025, 1, 7), datetime.date(2025, 1, 3),\n",
       "       datetime.date(2025, 2, 28), datetime.date(2025, 1, 17),\n",
       "       datetime.date(2025, 1, 25), datetime.date(2025, 1, 19),\n",
       "       datetime.date(2025, 1, 10), datetime.date(2025, 3, 31), NaT,\n",
       "       datetime.date(2025, 6, 30), datetime.date(2025, 5, 31),\n",
       "       datetime.date(2025, 4, 30), datetime.date(2025, 1, 18),\n",
       "       datetime.date(2025, 1, 23), datetime.date(2025, 1, 24),\n",
       "       datetime.date(2025, 1, 20), datetime.date(2024, 12, 31),\n",
       "       datetime.date(2025, 1, 21), datetime.date(2025, 1, 14),\n",
       "       datetime.date(2025, 1, 16), datetime.date(2025, 2, 10),\n",
       "       datetime.date(2025, 2, 14), datetime.date(2025, 2, 21),\n",
       "       datetime.date(2025, 1, 15), datetime.date(2025, 3, 7),\n",
       "       datetime.date(2025, 1, 2), datetime.date(2025, 1, 11),\n",
       "       datetime.date(2025, 1, 12), datetime.date(2025, 3, 22),\n",
       "       datetime.date(2025, 2, 15), datetime.date(2024, 8, 6),\n",
       "       datetime.date(2024, 8, 13), datetime.date(2024, 8, 2),\n",
       "       datetime.date(2024, 7, 30), datetime.date(2024, 8, 21),\n",
       "       datetime.date(2024, 8, 28), datetime.date(2024, 9, 5),\n",
       "       datetime.date(2024, 9, 13), datetime.date(2024, 9, 20),\n",
       "       datetime.date(2024, 10, 6), datetime.date(2024, 10, 13),\n",
       "       datetime.date(2024, 10, 21), datetime.date(2024, 10, 29),\n",
       "       datetime.date(2024, 11, 5), datetime.date(2024, 11, 13),\n",
       "       datetime.date(2024, 11, 20), datetime.date(2024, 11, 18),\n",
       "       datetime.date(2024, 12, 5), datetime.date(2024, 12, 13),\n",
       "       datetime.date(2024, 12, 21), datetime.date(2024, 12, 28),\n",
       "       datetime.date(2025, 1, 5), datetime.date(2025, 1, 13),\n",
       "       datetime.date(2025, 1, 28), datetime.date(2025, 2, 5),\n",
       "       datetime.date(2025, 2, 12), datetime.date(2025, 2, 3)],\n",
       "      dtype=object)"
      ]
     },
     "execution_count": 240,
     "metadata": {},
     "output_type": "execute_result"
    }
   ],
   "source": [
    "df['Delivery End Date'].unique()"
   ]
  },
  {
   "cell_type": "code",
   "execution_count": 241,
   "id": "c1327196-826e-452d-8611-b3efb2a2225b",
   "metadata": {},
   "outputs": [],
   "source": [
    "# def date_to_str(date):\n",
    "#     if pd.isnull(date): return None\n",
    "#     else: return date.strftime(\"%Y-%m-%d\")"
   ]
  },
  {
   "cell_type": "code",
   "execution_count": 242,
   "id": "bcc69e6e-de29-4025-9cd5-f1db40135895",
   "metadata": {},
   "outputs": [],
   "source": [
    "# df['Delivery End Date'] = df[\"Delivery End Date\"].map(lambda date: date_to_str(date))"
   ]
  },
  {
   "cell_type": "code",
   "execution_count": 243,
   "id": "d0bf1bf3-340b-4e46-9105-c186b4a36d4b",
   "metadata": {},
   "outputs": [
    {
     "data": {
      "text/plain": [
       "array([datetime.date(2025, 1, 22), datetime.date(2025, 2, 7),\n",
       "       datetime.date(2025, 3, 14), datetime.date(2025, 1, 31),\n",
       "       datetime.date(2025, 1, 7), datetime.date(2025, 1, 3),\n",
       "       datetime.date(2025, 2, 28), datetime.date(2025, 1, 17),\n",
       "       datetime.date(2025, 1, 25), datetime.date(2025, 1, 19),\n",
       "       datetime.date(2025, 1, 10), datetime.date(2025, 3, 31), NaT,\n",
       "       datetime.date(2025, 6, 30), datetime.date(2025, 5, 31),\n",
       "       datetime.date(2025, 4, 30), datetime.date(2025, 1, 18),\n",
       "       datetime.date(2025, 1, 23), datetime.date(2025, 1, 24),\n",
       "       datetime.date(2025, 1, 20), datetime.date(2024, 12, 31),\n",
       "       datetime.date(2025, 1, 21), datetime.date(2025, 1, 14),\n",
       "       datetime.date(2025, 1, 16), datetime.date(2025, 2, 10),\n",
       "       datetime.date(2025, 2, 14), datetime.date(2025, 2, 21),\n",
       "       datetime.date(2025, 1, 15), datetime.date(2025, 3, 7),\n",
       "       datetime.date(2025, 1, 2), datetime.date(2025, 1, 11),\n",
       "       datetime.date(2025, 1, 12), datetime.date(2025, 3, 22),\n",
       "       datetime.date(2025, 2, 15), datetime.date(2024, 8, 6),\n",
       "       datetime.date(2024, 8, 13), datetime.date(2024, 8, 2),\n",
       "       datetime.date(2024, 7, 30), datetime.date(2024, 8, 21),\n",
       "       datetime.date(2024, 8, 28), datetime.date(2024, 9, 5),\n",
       "       datetime.date(2024, 9, 13), datetime.date(2024, 9, 20),\n",
       "       datetime.date(2024, 10, 6), datetime.date(2024, 10, 13),\n",
       "       datetime.date(2024, 10, 21), datetime.date(2024, 10, 29),\n",
       "       datetime.date(2024, 11, 5), datetime.date(2024, 11, 13),\n",
       "       datetime.date(2024, 11, 20), datetime.date(2024, 11, 18),\n",
       "       datetime.date(2024, 12, 5), datetime.date(2024, 12, 13),\n",
       "       datetime.date(2024, 12, 21), datetime.date(2024, 12, 28),\n",
       "       datetime.date(2025, 1, 5), datetime.date(2025, 1, 13),\n",
       "       datetime.date(2025, 1, 28), datetime.date(2025, 2, 5),\n",
       "       datetime.date(2025, 2, 12), datetime.date(2025, 2, 3)],\n",
       "      dtype=object)"
      ]
     },
     "execution_count": 243,
     "metadata": {},
     "output_type": "execute_result"
    }
   ],
   "source": [
    "df['Delivery End Date'].unique()"
   ]
  },
  {
   "cell_type": "markdown",
   "id": "958a5423-5031-4a09-a5e3-bf63b23079b3",
   "metadata": {
    "jp-MarkdownHeadingCollapsed": true
   },
   "source": [
    "#### Price Basis Method"
   ]
  },
  {
   "cell_type": "code",
   "execution_count": 244,
   "id": "cb382006-4161-42a0-99bb-6ceb7bee6c1c",
   "metadata": {},
   "outputs": [],
   "source": [
    "df['Price Basis Method_'] = df[\"Price Basis Method\"].copy()"
   ]
  },
  {
   "cell_type": "code",
   "execution_count": 245,
   "id": "960bc1db-5ed2-48fe-aa1d-df2c918f903c",
   "metadata": {
    "scrolled": true
   },
   "outputs": [
    {
     "data": {
      "text/plain": [
       "array(['Floating Event', 'Floating', 'EFP', 'Index', 'Dates 111',\n",
       "       'Floating - Event', 'Fixed', 'Other (API_Index Sale with Diff)',\n",
       "       'OPIS 3 Day', 'Floating Deemed', 'Efp', 'Other (Index Sale)',\n",
       "       'Floating - Deemed', 'MPC Formula Tablet',\n",
       "       'MPC EFP Floating Price', 'Deemed Date', 'Fixed Price',\n",
       "       'Index Price with Diff', 'Other (Index Purchase)',\n",
       "       'Floating-Floating', 'OPIS Print', 'Other (Index Sale with Diff)',\n",
       "       'Deemed', 'FLOATING', 'Dates 212', 'TAS', 'Deemed-Floating',\n",
       "       'Dates 003', 'INDEX',\n",
       "       'OPIS LA +0 Index on 3 day wrap from pump date'], dtype=object)"
      ]
     },
     "execution_count": 245,
     "metadata": {},
     "output_type": "execute_result"
    }
   ],
   "source": [
    "df['Price Basis Method'] = df[\"Price Basis Method\"].astype(str)\n",
    "df['Price Basis Method'].unique()"
   ]
  },
  {
   "cell_type": "code",
   "execution_count": 246,
   "id": "26521527-5efb-4422-bef3-eca732248945",
   "metadata": {
    "scrolled": true
   },
   "outputs": [
    {
     "data": {
      "text/plain": [
       "array(['Floating Event', 'Floating', 'EFP', 'Index', 'Dates 111',\n",
       "       'Floating - Event', 'Fixed', 'Other (API_Index Sale with Diff)',\n",
       "       'OPIS 3 Day', 'Floating Deemed', 'Efp', 'Other (Index Sale)',\n",
       "       'Floating - Deemed', 'MPC Formula Tablet',\n",
       "       'MPC EFP Floating Price', 'Deemed Date', 'Fixed Price',\n",
       "       'Index Price with Diff', 'Other (Index Purchase)',\n",
       "       'Floating-Floating', 'OPIS Print', 'Other (Index Sale with Diff)',\n",
       "       'Deemed', 'FLOATING', 'Dates 212', 'TAS', 'Deemed-Floating',\n",
       "       'Dates 003', 'INDEX',\n",
       "       'OPIS LA +0 Index on 3 day wrap from pump date'], dtype=object)"
      ]
     },
     "execution_count": 246,
     "metadata": {},
     "output_type": "execute_result"
    }
   ],
   "source": [
    "df['Price Basis Method'] = df[\"Price Basis Method\"].map(lambda string: clean_string(string))\n",
    "df['Price Basis Method'].unique()"
   ]
  },
  {
   "cell_type": "code",
   "execution_count": 247,
   "id": "8be924d5-a063-4e1f-a265-dd50d858e42c",
   "metadata": {},
   "outputs": [
    {
     "data": {
      "text/plain": [
       "dict_keys(['Company', 'Position Seq. Num.', 'CPID', 'Counterparty Contact', 'TL', 'Sell_Buy', 'Product Type', 'Product', 'Delivery Method', 'Delivery Location', 'Price Basis Method', 'Reference Product'])"
      ]
     },
     "execution_count": 247,
     "metadata": {},
     "output_type": "execute_result"
    }
   ],
   "source": [
    "dict_Directory.keys()"
   ]
  },
  {
   "cell_type": "code",
   "execution_count": 248,
   "id": "2b69d842-ca0b-44d6-a5d7-471922a1b43a",
   "metadata": {},
   "outputs": [
    {
     "data": {
      "text/plain": [
       "dict_keys(['Deemed', 'EFO', 'EFP', 'Fixed', 'Floating-Event', 'Floating-Price', 'Not A Trade', 'OPIS', 'Platts'])"
      ]
     },
     "execution_count": 248,
     "metadata": {},
     "output_type": "execute_result"
    }
   ],
   "source": [
    "dict_Directory['Price Basis Method'].keys()"
   ]
  },
  {
   "cell_type": "code",
   "execution_count": 249,
   "id": "9a395883-86ce-4001-9e7a-0a107bb13092",
   "metadata": {},
   "outputs": [
    {
     "data": {
      "text/html": [
       "<div>\n",
       "<style scoped>\n",
       "    .dataframe tbody tr th:only-of-type {\n",
       "        vertical-align: middle;\n",
       "    }\n",
       "\n",
       "    .dataframe tbody tr th {\n",
       "        vertical-align: top;\n",
       "    }\n",
       "\n",
       "    .dataframe thead th {\n",
       "        text-align: right;\n",
       "    }\n",
       "</style>\n",
       "<table border=\"1\" class=\"dataframe\">\n",
       "  <thead>\n",
       "    <tr style=\"text-align: right;\">\n",
       "      <th></th>\n",
       "      <th>Price Basis Method</th>\n",
       "      <th>KEY CS=True</th>\n",
       "      <th>KEY CS=False</th>\n",
       "    </tr>\n",
       "  </thead>\n",
       "  <tbody>\n",
       "    <tr>\n",
       "      <th>0</th>\n",
       "      <td>Floating Event</td>\n",
       "      <td>None</td>\n",
       "      <td>Floating-Event</td>\n",
       "    </tr>\n",
       "    <tr>\n",
       "      <th>1</th>\n",
       "      <td>Floating</td>\n",
       "      <td>Floating-Event</td>\n",
       "      <td>Floating-Event</td>\n",
       "    </tr>\n",
       "    <tr>\n",
       "      <th>2</th>\n",
       "      <td>EFP</td>\n",
       "      <td>EFP</td>\n",
       "      <td>EFP</td>\n",
       "    </tr>\n",
       "    <tr>\n",
       "      <th>3</th>\n",
       "      <td>Index</td>\n",
       "      <td>None</td>\n",
       "      <td>EFP</td>\n",
       "    </tr>\n",
       "    <tr>\n",
       "      <th>4</th>\n",
       "      <td>Dates 111</td>\n",
       "      <td>Floating-Event</td>\n",
       "      <td>Floating-Event</td>\n",
       "    </tr>\n",
       "    <tr>\n",
       "      <th>5</th>\n",
       "      <td>Floating - Event</td>\n",
       "      <td>Floating-Event</td>\n",
       "      <td>Floating-Event</td>\n",
       "    </tr>\n",
       "    <tr>\n",
       "      <th>6</th>\n",
       "      <td>Fixed</td>\n",
       "      <td>Fixed</td>\n",
       "      <td>Fixed</td>\n",
       "    </tr>\n",
       "    <tr>\n",
       "      <th>7</th>\n",
       "      <td>Other (API_Index Sale with Diff)</td>\n",
       "      <td>EFP</td>\n",
       "      <td>EFP</td>\n",
       "    </tr>\n",
       "    <tr>\n",
       "      <th>8</th>\n",
       "      <td>OPIS 3 Day</td>\n",
       "      <td>OPIS</td>\n",
       "      <td>OPIS</td>\n",
       "    </tr>\n",
       "    <tr>\n",
       "      <th>9</th>\n",
       "      <td>Floating Deemed</td>\n",
       "      <td>None</td>\n",
       "      <td>Deemed</td>\n",
       "    </tr>\n",
       "    <tr>\n",
       "      <th>10</th>\n",
       "      <td>Efp</td>\n",
       "      <td>None</td>\n",
       "      <td>EFP</td>\n",
       "    </tr>\n",
       "    <tr>\n",
       "      <th>11</th>\n",
       "      <td>Other (Index Sale)</td>\n",
       "      <td>EFP</td>\n",
       "      <td>EFP</td>\n",
       "    </tr>\n",
       "    <tr>\n",
       "      <th>12</th>\n",
       "      <td>Floating - Deemed</td>\n",
       "      <td>Deemed</td>\n",
       "      <td>Deemed</td>\n",
       "    </tr>\n",
       "    <tr>\n",
       "      <th>13</th>\n",
       "      <td>MPC Formula Tablet</td>\n",
       "      <td>Fixed</td>\n",
       "      <td>Fixed</td>\n",
       "    </tr>\n",
       "    <tr>\n",
       "      <th>14</th>\n",
       "      <td>MPC EFP Floating Price</td>\n",
       "      <td>Floating-Event</td>\n",
       "      <td>Floating-Event</td>\n",
       "    </tr>\n",
       "    <tr>\n",
       "      <th>15</th>\n",
       "      <td>Deemed Date</td>\n",
       "      <td>Deemed</td>\n",
       "      <td>Deemed</td>\n",
       "    </tr>\n",
       "    <tr>\n",
       "      <th>16</th>\n",
       "      <td>Fixed Price</td>\n",
       "      <td>Fixed</td>\n",
       "      <td>Fixed</td>\n",
       "    </tr>\n",
       "    <tr>\n",
       "      <th>17</th>\n",
       "      <td>Index Price with Diff</td>\n",
       "      <td>EFP</td>\n",
       "      <td>EFP</td>\n",
       "    </tr>\n",
       "    <tr>\n",
       "      <th>18</th>\n",
       "      <td>Other (Index Purchase)</td>\n",
       "      <td>EFP</td>\n",
       "      <td>EFP</td>\n",
       "    </tr>\n",
       "    <tr>\n",
       "      <th>19</th>\n",
       "      <td>Floating-Floating</td>\n",
       "      <td>None</td>\n",
       "      <td>None</td>\n",
       "    </tr>\n",
       "    <tr>\n",
       "      <th>20</th>\n",
       "      <td>OPIS Print</td>\n",
       "      <td>OPIS</td>\n",
       "      <td>OPIS</td>\n",
       "    </tr>\n",
       "    <tr>\n",
       "      <th>21</th>\n",
       "      <td>Other (Index Sale with Diff)</td>\n",
       "      <td>EFP</td>\n",
       "      <td>EFP</td>\n",
       "    </tr>\n",
       "    <tr>\n",
       "      <th>22</th>\n",
       "      <td>Deemed</td>\n",
       "      <td>Deemed</td>\n",
       "      <td>Deemed</td>\n",
       "    </tr>\n",
       "    <tr>\n",
       "      <th>23</th>\n",
       "      <td>FLOATING</td>\n",
       "      <td>None</td>\n",
       "      <td>Floating-Event</td>\n",
       "    </tr>\n",
       "    <tr>\n",
       "      <th>24</th>\n",
       "      <td>Dates 212</td>\n",
       "      <td>Floating-Event</td>\n",
       "      <td>Floating-Event</td>\n",
       "    </tr>\n",
       "    <tr>\n",
       "      <th>25</th>\n",
       "      <td>TAS</td>\n",
       "      <td>EFP</td>\n",
       "      <td>EFP</td>\n",
       "    </tr>\n",
       "    <tr>\n",
       "      <th>26</th>\n",
       "      <td>Deemed-Floating</td>\n",
       "      <td>Deemed</td>\n",
       "      <td>Deemed</td>\n",
       "    </tr>\n",
       "    <tr>\n",
       "      <th>27</th>\n",
       "      <td>Dates 003</td>\n",
       "      <td>Floating-Event</td>\n",
       "      <td>Floating-Event</td>\n",
       "    </tr>\n",
       "    <tr>\n",
       "      <th>28</th>\n",
       "      <td>INDEX</td>\n",
       "      <td>EFP</td>\n",
       "      <td>EFP</td>\n",
       "    </tr>\n",
       "    <tr>\n",
       "      <th>29</th>\n",
       "      <td>OPIS LA +0 Index on 3 day wrap from pump date</td>\n",
       "      <td>OPIS</td>\n",
       "      <td>OPIS</td>\n",
       "    </tr>\n",
       "  </tbody>\n",
       "</table>\n",
       "</div>"
      ],
      "text/plain": [
       "                               Price Basis Method     KEY CS=True  \\\n",
       "0                                  Floating Event            None   \n",
       "1                                        Floating  Floating-Event   \n",
       "2                                             EFP             EFP   \n",
       "3                                           Index            None   \n",
       "4                                       Dates 111  Floating-Event   \n",
       "5                                Floating - Event  Floating-Event   \n",
       "6                                           Fixed           Fixed   \n",
       "7                Other (API_Index Sale with Diff)             EFP   \n",
       "8                                      OPIS 3 Day            OPIS   \n",
       "9                                 Floating Deemed            None   \n",
       "10                                            Efp            None   \n",
       "11                             Other (Index Sale)             EFP   \n",
       "12                              Floating - Deemed          Deemed   \n",
       "13                             MPC Formula Tablet           Fixed   \n",
       "14                         MPC EFP Floating Price  Floating-Event   \n",
       "15                                    Deemed Date          Deemed   \n",
       "16                                    Fixed Price           Fixed   \n",
       "17                          Index Price with Diff             EFP   \n",
       "18                         Other (Index Purchase)             EFP   \n",
       "19                              Floating-Floating            None   \n",
       "20                                     OPIS Print            OPIS   \n",
       "21                   Other (Index Sale with Diff)             EFP   \n",
       "22                                         Deemed          Deemed   \n",
       "23                                       FLOATING            None   \n",
       "24                                      Dates 212  Floating-Event   \n",
       "25                                            TAS             EFP   \n",
       "26                                Deemed-Floating          Deemed   \n",
       "27                                      Dates 003  Floating-Event   \n",
       "28                                          INDEX             EFP   \n",
       "29  OPIS LA +0 Index on 3 day wrap from pump date            OPIS   \n",
       "\n",
       "      KEY CS=False  \n",
       "0   Floating-Event  \n",
       "1   Floating-Event  \n",
       "2              EFP  \n",
       "3              EFP  \n",
       "4   Floating-Event  \n",
       "5   Floating-Event  \n",
       "6            Fixed  \n",
       "7              EFP  \n",
       "8             OPIS  \n",
       "9           Deemed  \n",
       "10             EFP  \n",
       "11             EFP  \n",
       "12          Deemed  \n",
       "13           Fixed  \n",
       "14  Floating-Event  \n",
       "15          Deemed  \n",
       "16           Fixed  \n",
       "17             EFP  \n",
       "18             EFP  \n",
       "19            None  \n",
       "20            OPIS  \n",
       "21             EFP  \n",
       "22          Deemed  \n",
       "23  Floating-Event  \n",
       "24  Floating-Event  \n",
       "25             EFP  \n",
       "26          Deemed  \n",
       "27  Floating-Event  \n",
       "28             EFP  \n",
       "29            OPIS  "
      ]
     },
     "execution_count": 249,
     "metadata": {},
     "output_type": "execute_result"
    }
   ],
   "source": [
    "dictio = dict_Directory['Price Basis Method']\n",
    "df_ = pd.DataFrame(df['Price Basis Method'].unique())\n",
    "df_.columns = ['Price Basis Method']\n",
    "df_['KEY CS=True'] = df_[\"Price Basis Method\"].map(lambda string: match_dictio(string, dictio, case_sensitive=True))\n",
    "df_['KEY CS=False'] = df_[\"Price Basis Method\"].map(lambda string: match_dictio(string, dictio, case_sensitive=False))\n",
    "df_"
   ]
  },
  {
   "cell_type": "code",
   "execution_count": 250,
   "id": "69ea6e6b-60da-4d29-926c-d61f80198623",
   "metadata": {},
   "outputs": [],
   "source": [
    "dictio_ = {}\n",
    "# dictio_max = {}\n",
    "for nokey in df_['Price Basis Method']:\n",
    "    dict_ = {}\n",
    "    for key in list(dict_Directory['Price Basis Method'].keys()):\n",
    "        value_list = list(dict_Directory['Price Basis Method'][key]) + [key]\n",
    "        value_list = [str(value).strip() for value in value_list]\n",
    "        # dict_[key] = np.max(np.array([round(fuzz.token_set_ratio(value.upper(), nokey.upper()),2) for value in value_list]))\n",
    "        # dict_[key] = np.max(np.array([round(fuzz.ratio(value.upper(), nokey.upper()),2) for value in value_list]))\n",
    "        # dict_[key] = np.max(np.array([round(fuzz.partial_ratio(value.upper(), nokey.upper()),2) for value in value_list]))\n",
    "        dict_[key] = np.max(np.array([round(jaro_similarity(str(value).upper(), str(nokey).upper()),2) for value in value_list]))*100\n",
    "        \n",
    "    # key_max = max(dict_, key= lambda x: dict_[x])\n",
    "    # dictio_[nokey] = key_max\n",
    "    # dictio_max[nokey] = max(dict_.values())\n",
    "    if max(dict_.values())>=70:\n",
    "        dictio_[nokey] = [max(dict_, key= lambda x: dict_[x]), max(dict_.values())]"
   ]
  },
  {
   "cell_type": "code",
   "execution_count": 251,
   "id": "327de5e6-3e09-4f3b-9fe1-be11977e8a7d",
   "metadata": {},
   "outputs": [
    {
     "data": {
      "text/plain": [
       "{'Floating Event': ['Floating-Event', 100.0],\n",
       " 'Floating': ['Floating-Event', 100.0],\n",
       " 'EFP': ['EFP', 100.0],\n",
       " 'Index': ['EFP', 100.0],\n",
       " 'Dates 111': ['Floating-Event', 100.0],\n",
       " 'Floating - Event': ['Floating-Event', 100.0],\n",
       " 'Fixed': ['Fixed', 100.0],\n",
       " 'Other (API_Index Sale with Diff)': ['EFP', 100.0],\n",
       " 'OPIS 3 Day': ['OPIS', 100.0],\n",
       " 'Floating Deemed': ['Deemed', 100.0],\n",
       " 'Efp': ['EFP', 100.0],\n",
       " 'Other (Index Sale)': ['EFP', 100.0],\n",
       " 'Floating - Deemed': ['Deemed', 100.0],\n",
       " 'MPC Formula Tablet': ['Fixed', 100.0],\n",
       " 'MPC EFP Floating Price': ['Floating-Event', 100.0],\n",
       " 'Deemed Date': ['Deemed', 100.0],\n",
       " 'Fixed Price': ['Fixed', 100.0],\n",
       " 'Index Price with Diff': ['EFP', 100.0],\n",
       " 'Other (Index Purchase)': ['EFP', 100.0],\n",
       " 'Floating-Floating': ['Floating-Event', 82.0],\n",
       " 'OPIS Print': ['OPIS', 100.0],\n",
       " 'Other (Index Sale with Diff)': ['EFP', 100.0],\n",
       " 'Deemed': ['Deemed', 100.0],\n",
       " 'FLOATING': ['Floating-Event', 100.0],\n",
       " 'Dates 212': ['Floating-Event', 100.0],\n",
       " 'TAS': ['EFP', 100.0],\n",
       " 'Deemed-Floating': ['Deemed', 100.0],\n",
       " 'Dates 003': ['Floating-Event', 100.0],\n",
       " 'INDEX': ['EFP', 100.0],\n",
       " 'OPIS LA +0 Index on 3 day wrap from pump date': ['OPIS', 100.0]}"
      ]
     },
     "execution_count": 251,
     "metadata": {},
     "output_type": "execute_result"
    }
   ],
   "source": [
    "dictio_"
   ]
  },
  {
   "cell_type": "code",
   "execution_count": 252,
   "id": "57b91ecd-edca-41a8-a881-94a6f0f5bcdb",
   "metadata": {},
   "outputs": [
    {
     "data": {
      "text/html": [
       "<div>\n",
       "<style scoped>\n",
       "    .dataframe tbody tr th:only-of-type {\n",
       "        vertical-align: middle;\n",
       "    }\n",
       "\n",
       "    .dataframe tbody tr th {\n",
       "        vertical-align: top;\n",
       "    }\n",
       "\n",
       "    .dataframe thead th {\n",
       "        text-align: right;\n",
       "    }\n",
       "</style>\n",
       "<table border=\"1\" class=\"dataframe\">\n",
       "  <thead>\n",
       "    <tr style=\"text-align: right;\">\n",
       "      <th></th>\n",
       "      <th>Price Basis Method</th>\n",
       "      <th>KEY CS=True</th>\n",
       "      <th>KEY CS=False</th>\n",
       "      <th>KEY Fuzzy</th>\n",
       "    </tr>\n",
       "  </thead>\n",
       "  <tbody>\n",
       "    <tr>\n",
       "      <th>0</th>\n",
       "      <td>Floating Event</td>\n",
       "      <td>None</td>\n",
       "      <td>Floating-Event</td>\n",
       "      <td>Floating-Event</td>\n",
       "    </tr>\n",
       "    <tr>\n",
       "      <th>1</th>\n",
       "      <td>Floating</td>\n",
       "      <td>Floating-Event</td>\n",
       "      <td>Floating-Event</td>\n",
       "      <td>Floating-Event</td>\n",
       "    </tr>\n",
       "    <tr>\n",
       "      <th>2</th>\n",
       "      <td>EFP</td>\n",
       "      <td>EFP</td>\n",
       "      <td>EFP</td>\n",
       "      <td>EFP</td>\n",
       "    </tr>\n",
       "    <tr>\n",
       "      <th>3</th>\n",
       "      <td>Index</td>\n",
       "      <td>None</td>\n",
       "      <td>EFP</td>\n",
       "      <td>EFP</td>\n",
       "    </tr>\n",
       "    <tr>\n",
       "      <th>4</th>\n",
       "      <td>Dates 111</td>\n",
       "      <td>Floating-Event</td>\n",
       "      <td>Floating-Event</td>\n",
       "      <td>Floating-Event</td>\n",
       "    </tr>\n",
       "    <tr>\n",
       "      <th>5</th>\n",
       "      <td>Floating - Event</td>\n",
       "      <td>Floating-Event</td>\n",
       "      <td>Floating-Event</td>\n",
       "      <td>Floating-Event</td>\n",
       "    </tr>\n",
       "    <tr>\n",
       "      <th>6</th>\n",
       "      <td>Fixed</td>\n",
       "      <td>Fixed</td>\n",
       "      <td>Fixed</td>\n",
       "      <td>Fixed</td>\n",
       "    </tr>\n",
       "    <tr>\n",
       "      <th>7</th>\n",
       "      <td>Other (API_Index Sale with Diff)</td>\n",
       "      <td>EFP</td>\n",
       "      <td>EFP</td>\n",
       "      <td>EFP</td>\n",
       "    </tr>\n",
       "    <tr>\n",
       "      <th>8</th>\n",
       "      <td>OPIS 3 Day</td>\n",
       "      <td>OPIS</td>\n",
       "      <td>OPIS</td>\n",
       "      <td>OPIS</td>\n",
       "    </tr>\n",
       "    <tr>\n",
       "      <th>9</th>\n",
       "      <td>Floating Deemed</td>\n",
       "      <td>None</td>\n",
       "      <td>Deemed</td>\n",
       "      <td>Deemed</td>\n",
       "    </tr>\n",
       "    <tr>\n",
       "      <th>10</th>\n",
       "      <td>Efp</td>\n",
       "      <td>None</td>\n",
       "      <td>EFP</td>\n",
       "      <td>EFP</td>\n",
       "    </tr>\n",
       "    <tr>\n",
       "      <th>11</th>\n",
       "      <td>Other (Index Sale)</td>\n",
       "      <td>EFP</td>\n",
       "      <td>EFP</td>\n",
       "      <td>EFP</td>\n",
       "    </tr>\n",
       "    <tr>\n",
       "      <th>12</th>\n",
       "      <td>Floating - Deemed</td>\n",
       "      <td>Deemed</td>\n",
       "      <td>Deemed</td>\n",
       "      <td>Deemed</td>\n",
       "    </tr>\n",
       "    <tr>\n",
       "      <th>13</th>\n",
       "      <td>MPC Formula Tablet</td>\n",
       "      <td>Fixed</td>\n",
       "      <td>Fixed</td>\n",
       "      <td>Fixed</td>\n",
       "    </tr>\n",
       "    <tr>\n",
       "      <th>14</th>\n",
       "      <td>MPC EFP Floating Price</td>\n",
       "      <td>Floating-Event</td>\n",
       "      <td>Floating-Event</td>\n",
       "      <td>Floating-Event</td>\n",
       "    </tr>\n",
       "    <tr>\n",
       "      <th>15</th>\n",
       "      <td>Deemed Date</td>\n",
       "      <td>Deemed</td>\n",
       "      <td>Deemed</td>\n",
       "      <td>Deemed</td>\n",
       "    </tr>\n",
       "    <tr>\n",
       "      <th>16</th>\n",
       "      <td>Fixed Price</td>\n",
       "      <td>Fixed</td>\n",
       "      <td>Fixed</td>\n",
       "      <td>Fixed</td>\n",
       "    </tr>\n",
       "    <tr>\n",
       "      <th>17</th>\n",
       "      <td>Index Price with Diff</td>\n",
       "      <td>EFP</td>\n",
       "      <td>EFP</td>\n",
       "      <td>EFP</td>\n",
       "    </tr>\n",
       "    <tr>\n",
       "      <th>18</th>\n",
       "      <td>Other (Index Purchase)</td>\n",
       "      <td>EFP</td>\n",
       "      <td>EFP</td>\n",
       "      <td>EFP</td>\n",
       "    </tr>\n",
       "    <tr>\n",
       "      <th>19</th>\n",
       "      <td>Floating-Floating</td>\n",
       "      <td>None</td>\n",
       "      <td>None</td>\n",
       "      <td>Floating-Event</td>\n",
       "    </tr>\n",
       "    <tr>\n",
       "      <th>20</th>\n",
       "      <td>OPIS Print</td>\n",
       "      <td>OPIS</td>\n",
       "      <td>OPIS</td>\n",
       "      <td>OPIS</td>\n",
       "    </tr>\n",
       "    <tr>\n",
       "      <th>21</th>\n",
       "      <td>Other (Index Sale with Diff)</td>\n",
       "      <td>EFP</td>\n",
       "      <td>EFP</td>\n",
       "      <td>EFP</td>\n",
       "    </tr>\n",
       "    <tr>\n",
       "      <th>22</th>\n",
       "      <td>Deemed</td>\n",
       "      <td>Deemed</td>\n",
       "      <td>Deemed</td>\n",
       "      <td>Deemed</td>\n",
       "    </tr>\n",
       "    <tr>\n",
       "      <th>23</th>\n",
       "      <td>FLOATING</td>\n",
       "      <td>None</td>\n",
       "      <td>Floating-Event</td>\n",
       "      <td>Floating-Event</td>\n",
       "    </tr>\n",
       "    <tr>\n",
       "      <th>24</th>\n",
       "      <td>Dates 212</td>\n",
       "      <td>Floating-Event</td>\n",
       "      <td>Floating-Event</td>\n",
       "      <td>Floating-Event</td>\n",
       "    </tr>\n",
       "    <tr>\n",
       "      <th>25</th>\n",
       "      <td>TAS</td>\n",
       "      <td>EFP</td>\n",
       "      <td>EFP</td>\n",
       "      <td>EFP</td>\n",
       "    </tr>\n",
       "    <tr>\n",
       "      <th>26</th>\n",
       "      <td>Deemed-Floating</td>\n",
       "      <td>Deemed</td>\n",
       "      <td>Deemed</td>\n",
       "      <td>Deemed</td>\n",
       "    </tr>\n",
       "    <tr>\n",
       "      <th>27</th>\n",
       "      <td>Dates 003</td>\n",
       "      <td>Floating-Event</td>\n",
       "      <td>Floating-Event</td>\n",
       "      <td>Floating-Event</td>\n",
       "    </tr>\n",
       "    <tr>\n",
       "      <th>28</th>\n",
       "      <td>INDEX</td>\n",
       "      <td>EFP</td>\n",
       "      <td>EFP</td>\n",
       "      <td>EFP</td>\n",
       "    </tr>\n",
       "    <tr>\n",
       "      <th>29</th>\n",
       "      <td>OPIS LA +0 Index on 3 day wrap from pump date</td>\n",
       "      <td>OPIS</td>\n",
       "      <td>OPIS</td>\n",
       "      <td>OPIS</td>\n",
       "    </tr>\n",
       "  </tbody>\n",
       "</table>\n",
       "</div>"
      ],
      "text/plain": [
       "                               Price Basis Method     KEY CS=True  \\\n",
       "0                                  Floating Event            None   \n",
       "1                                        Floating  Floating-Event   \n",
       "2                                             EFP             EFP   \n",
       "3                                           Index            None   \n",
       "4                                       Dates 111  Floating-Event   \n",
       "5                                Floating - Event  Floating-Event   \n",
       "6                                           Fixed           Fixed   \n",
       "7                Other (API_Index Sale with Diff)             EFP   \n",
       "8                                      OPIS 3 Day            OPIS   \n",
       "9                                 Floating Deemed            None   \n",
       "10                                            Efp            None   \n",
       "11                             Other (Index Sale)             EFP   \n",
       "12                              Floating - Deemed          Deemed   \n",
       "13                             MPC Formula Tablet           Fixed   \n",
       "14                         MPC EFP Floating Price  Floating-Event   \n",
       "15                                    Deemed Date          Deemed   \n",
       "16                                    Fixed Price           Fixed   \n",
       "17                          Index Price with Diff             EFP   \n",
       "18                         Other (Index Purchase)             EFP   \n",
       "19                              Floating-Floating            None   \n",
       "20                                     OPIS Print            OPIS   \n",
       "21                   Other (Index Sale with Diff)             EFP   \n",
       "22                                         Deemed          Deemed   \n",
       "23                                       FLOATING            None   \n",
       "24                                      Dates 212  Floating-Event   \n",
       "25                                            TAS             EFP   \n",
       "26                                Deemed-Floating          Deemed   \n",
       "27                                      Dates 003  Floating-Event   \n",
       "28                                          INDEX             EFP   \n",
       "29  OPIS LA +0 Index on 3 day wrap from pump date            OPIS   \n",
       "\n",
       "      KEY CS=False       KEY Fuzzy  \n",
       "0   Floating-Event  Floating-Event  \n",
       "1   Floating-Event  Floating-Event  \n",
       "2              EFP             EFP  \n",
       "3              EFP             EFP  \n",
       "4   Floating-Event  Floating-Event  \n",
       "5   Floating-Event  Floating-Event  \n",
       "6            Fixed           Fixed  \n",
       "7              EFP             EFP  \n",
       "8             OPIS            OPIS  \n",
       "9           Deemed          Deemed  \n",
       "10             EFP             EFP  \n",
       "11             EFP             EFP  \n",
       "12          Deemed          Deemed  \n",
       "13           Fixed           Fixed  \n",
       "14  Floating-Event  Floating-Event  \n",
       "15          Deemed          Deemed  \n",
       "16           Fixed           Fixed  \n",
       "17             EFP             EFP  \n",
       "18             EFP             EFP  \n",
       "19            None  Floating-Event  \n",
       "20            OPIS            OPIS  \n",
       "21             EFP             EFP  \n",
       "22          Deemed          Deemed  \n",
       "23  Floating-Event  Floating-Event  \n",
       "24  Floating-Event  Floating-Event  \n",
       "25             EFP             EFP  \n",
       "26          Deemed          Deemed  \n",
       "27  Floating-Event  Floating-Event  \n",
       "28             EFP             EFP  \n",
       "29            OPIS            OPIS  "
      ]
     },
     "execution_count": 252,
     "metadata": {},
     "output_type": "execute_result"
    }
   ],
   "source": [
    "dict_ = {}\n",
    "for key, value in dictio_.items():\n",
    "    dict_[key] = value[0]\n",
    "\n",
    "df_['KEY Fuzzy'] = df_['Price Basis Method'].map(dict_).fillna(\"\")\n",
    "df_['KEY Fuzzy'] = df_[\"KEY Fuzzy\"].map(lambda string: clean_string(string))\n",
    "df_"
   ]
  },
  {
   "cell_type": "code",
   "execution_count": 253,
   "id": "a190c586-d279-4b3a-a3a9-de289d6b74a0",
   "metadata": {},
   "outputs": [
    {
     "data": {
      "text/plain": [
       "{'Floating': 'Floating-Event',\n",
       " 'EFP': 'EFP',\n",
       " 'Dates 111': 'Floating-Event',\n",
       " 'Floating - Event': 'Floating-Event',\n",
       " 'Fixed': 'Fixed',\n",
       " 'Other (API_Index Sale with Diff)': 'EFP',\n",
       " 'OPIS 3 Day': 'OPIS',\n",
       " 'Other (Index Sale)': 'EFP',\n",
       " 'Floating - Deemed': 'Deemed',\n",
       " 'MPC Formula Tablet': 'Fixed',\n",
       " 'MPC EFP Floating Price': 'Floating-Event',\n",
       " 'Deemed Date': 'Deemed',\n",
       " 'Fixed Price': 'Fixed',\n",
       " 'Index Price with Diff': 'EFP',\n",
       " 'Other (Index Purchase)': 'EFP',\n",
       " 'OPIS Print': 'OPIS',\n",
       " 'Other (Index Sale with Diff)': 'EFP',\n",
       " 'Deemed': 'Deemed',\n",
       " 'Dates 212': 'Floating-Event',\n",
       " 'TAS': 'EFP',\n",
       " 'Deemed-Floating': 'Deemed',\n",
       " 'Dates 003': 'Floating-Event',\n",
       " 'INDEX': 'EFP',\n",
       " 'OPIS LA +0 Index on 3 day wrap from pump date': 'OPIS'}"
      ]
     },
     "execution_count": 253,
     "metadata": {},
     "output_type": "execute_result"
    }
   ],
   "source": [
    "dictio_true = dict(zip(df_['Price Basis Method'], df_['KEY CS=True']))\n",
    "dictio_true = {k: v for k, v in dictio_true.items() if v is not None}\n",
    "dictio_true"
   ]
  },
  {
   "cell_type": "code",
   "execution_count": 254,
   "id": "e8a79d8f-3d02-4f69-8b66-5ad10981710d",
   "metadata": {},
   "outputs": [
    {
     "data": {
      "text/plain": [
       "{'Floating Event': 'Floating-Event',\n",
       " 'Floating': 'Floating-Event',\n",
       " 'EFP': 'EFP',\n",
       " 'Index': 'EFP',\n",
       " 'Dates 111': 'Floating-Event',\n",
       " 'Floating - Event': 'Floating-Event',\n",
       " 'Fixed': 'Fixed',\n",
       " 'Other (API_Index Sale with Diff)': 'EFP',\n",
       " 'OPIS 3 Day': 'OPIS',\n",
       " 'Floating Deemed': 'Deemed',\n",
       " 'Efp': 'EFP',\n",
       " 'Other (Index Sale)': 'EFP',\n",
       " 'Floating - Deemed': 'Deemed',\n",
       " 'MPC Formula Tablet': 'Fixed',\n",
       " 'MPC EFP Floating Price': 'Floating-Event',\n",
       " 'Deemed Date': 'Deemed',\n",
       " 'Fixed Price': 'Fixed',\n",
       " 'Index Price with Diff': 'EFP',\n",
       " 'Other (Index Purchase)': 'EFP',\n",
       " 'OPIS Print': 'OPIS',\n",
       " 'Other (Index Sale with Diff)': 'EFP',\n",
       " 'Deemed': 'Deemed',\n",
       " 'FLOATING': 'Floating-Event',\n",
       " 'Dates 212': 'Floating-Event',\n",
       " 'TAS': 'EFP',\n",
       " 'Deemed-Floating': 'Deemed',\n",
       " 'Dates 003': 'Floating-Event',\n",
       " 'INDEX': 'EFP',\n",
       " 'OPIS LA +0 Index on 3 day wrap from pump date': 'OPIS'}"
      ]
     },
     "execution_count": 254,
     "metadata": {},
     "output_type": "execute_result"
    }
   ],
   "source": [
    "dictio_false = dict(zip(df_['Price Basis Method'], df_['KEY CS=False']))\n",
    "dictio_false = {k: v for k, v in dictio_false.items() if v is not None}\n",
    "dictio_false"
   ]
  },
  {
   "cell_type": "code",
   "execution_count": 255,
   "id": "0ea1b4ee-fe14-4bfa-86c7-6fc16fe8e2c4",
   "metadata": {},
   "outputs": [
    {
     "data": {
      "text/plain": [
       "{'Floating Event': 'Floating-Event',\n",
       " 'Floating': 'Floating-Event',\n",
       " 'EFP': 'EFP',\n",
       " 'Index': 'EFP',\n",
       " 'Dates 111': 'Floating-Event',\n",
       " 'Floating - Event': 'Floating-Event',\n",
       " 'Fixed': 'Fixed',\n",
       " 'Other (API_Index Sale with Diff)': 'EFP',\n",
       " 'OPIS 3 Day': 'OPIS',\n",
       " 'Floating Deemed': 'Deemed',\n",
       " 'Efp': 'EFP',\n",
       " 'Other (Index Sale)': 'EFP',\n",
       " 'Floating - Deemed': 'Deemed',\n",
       " 'MPC Formula Tablet': 'Fixed',\n",
       " 'MPC EFP Floating Price': 'Floating-Event',\n",
       " 'Deemed Date': 'Deemed',\n",
       " 'Fixed Price': 'Fixed',\n",
       " 'Index Price with Diff': 'EFP',\n",
       " 'Other (Index Purchase)': 'EFP',\n",
       " 'Floating-Floating': 'Floating-Event',\n",
       " 'OPIS Print': 'OPIS',\n",
       " 'Other (Index Sale with Diff)': 'EFP',\n",
       " 'Deemed': 'Deemed',\n",
       " 'FLOATING': 'Floating-Event',\n",
       " 'Dates 212': 'Floating-Event',\n",
       " 'TAS': 'EFP',\n",
       " 'Deemed-Floating': 'Deemed',\n",
       " 'Dates 003': 'Floating-Event',\n",
       " 'INDEX': 'EFP',\n",
       " 'OPIS LA +0 Index on 3 day wrap from pump date': 'OPIS'}"
      ]
     },
     "execution_count": 255,
     "metadata": {},
     "output_type": "execute_result"
    }
   ],
   "source": [
    "dictio_Fuzzy = dict(zip(df_['Price Basis Method'], df_['KEY Fuzzy']))\n",
    "dictio_Fuzzy = {k: v for k, v in dictio_Fuzzy.items() if v is not None}\n",
    "dictio_Fuzzy"
   ]
  },
  {
   "cell_type": "code",
   "execution_count": 256,
   "id": "688aa2cc-4837-4424-9d85-c2cabbbbdce4",
   "metadata": {},
   "outputs": [],
   "source": [
    "dictio = dict(dictio_Fuzzy)"
   ]
  },
  {
   "cell_type": "code",
   "execution_count": 257,
   "id": "77a14438-0b7a-4db8-8668-1624a2788518",
   "metadata": {},
   "outputs": [],
   "source": [
    "for k, v in dictio.items():\n",
    "    if k in list(dictio_false.keys()):\n",
    "        dictio[k] = dictio_false[k]\n",
    "    if k in list(dictio_true.keys()):\n",
    "        dictio[k] = dictio_true[k]"
   ]
  },
  {
   "cell_type": "code",
   "execution_count": 258,
   "id": "8e124638-9bc7-4856-ad26-151f92dd15d1",
   "metadata": {},
   "outputs": [],
   "source": [
    "df['Price Basis Method'] = df['Price Basis Method'].replace(dictio)"
   ]
  },
  {
   "cell_type": "code",
   "execution_count": 259,
   "id": "65a593fe-df28-4458-bb40-8438764cff26",
   "metadata": {},
   "outputs": [
    {
     "data": {
      "text/plain": [
       "True"
      ]
     },
     "execution_count": 259,
     "metadata": {},
     "output_type": "execute_result"
    }
   ],
   "source": [
    "(set(df['Price Basis Method'].unique()) - {None}) <= set(dict_Directory['Price Basis Method'].keys())"
   ]
  },
  {
   "cell_type": "code",
   "execution_count": 260,
   "id": "da763167-49c3-422e-94d2-95e98d2618c5",
   "metadata": {},
   "outputs": [
    {
     "data": {
      "text/plain": [
       "set()"
      ]
     },
     "execution_count": 260,
     "metadata": {},
     "output_type": "execute_result"
    }
   ],
   "source": [
    "(set(df['Price Basis Method'].unique()) - {None}) - set(dict_Directory['Price Basis Method'].keys())"
   ]
  },
  {
   "cell_type": "markdown",
   "id": "95e8c083-309e-4c07-b2e0-94ee0ccac0f9",
   "metadata": {
    "jp-MarkdownHeadingCollapsed": true
   },
   "source": [
    "#### Reference Product"
   ]
  },
  {
   "cell_type": "code",
   "execution_count": 261,
   "id": "2424354e-1435-432e-94eb-e506d938f821",
   "metadata": {},
   "outputs": [],
   "source": [
    "df['Reference Product'] = df[\"Reference Product\"].astype(str)"
   ]
  },
  {
   "cell_type": "code",
   "execution_count": 262,
   "id": "bda0b2eb-d6d6-4141-bf93-c1226fc26231",
   "metadata": {},
   "outputs": [],
   "source": [
    "df['Reference Product'] = df[\"Reference Product\"].map(lambda string: clean_string(string))"
   ]
  },
  {
   "cell_type": "code",
   "execution_count": 263,
   "id": "689660ad-69cd-4d1f-9e0a-ef02d12600eb",
   "metadata": {
    "scrolled": true
   },
   "outputs": [
    {
     "data": {
      "text/plain": [
       "array(['100% Opis.Suboctane.San Francisc.Spot.M -0.5 Usc/Usg',\n",
       "       '100% Opis.Carbob.Pipeline.Los Angeles.Spot.M', 'OPIS-Sub Octane',\n",
       "       'NYMEX RBOB-R', 'Multiple Multiple Multiple',\n",
       "       'OPIS Spot CARBOB REG BAY AREA',\n",
       "       'NYMEX RB (NYMX) - RBOB GASOLINE FUTURES N/A', 'OPS_LA_AZ_CBG_UNL',\n",
       "       'NYMEX RBOB',\n",
       "       '(1)*OP LA CARB NO2-C + (1)*OP CA CARBON CPG DSL LCFS/CRUDE CI COMBINED-C + (1)*OP CA CAR CARB NO2-C',\n",
       "       'NYMEX RBOB Gasoline', None, 'OPIS WC Spot +  ECA Marine Diesel',\n",
       "       'CARBOB Regular', 'Conventional Regular', 'NYMEX ULSD',\n",
       "       'NYMEX HO (NYMX) - NY HARBOR ULSD FUTURES N/A',\n",
       "       '100% Opis.Carbob.Pipeline.San Francisc.Spot.M',\n",
       "       '100% Opis.Ulsd.Pipeline.San Francisc.Spot.M +0 Usc/Usg',\n",
       "       'Nymex Ho', 'NYMEX HO', 'OPIS WC Spot +  No 2 CARB ULSD 15',\n",
       "       'OPIS CARB No2', 'NYMEX - RBOB',\n",
       "       'CARB Diesel @ USWC LA, CA Carbon Dsl Combi LCFS/Crude @ CA, US Bio RIN @ USA, & CAR Carb Diesel @ USA',\n",
       "       '(1)*OP SF CARBOB UNL-M',\n",
       "       '(1)*OP CA CAR CARB NO2-C + (1)*OP CA CARBON CPG DSL LCFS/CRUDE CI COMBINED-C + (1)*OP LA CARB NO2-C',\n",
       "       '(1)*OP LA CARB NO2-M', '(1)*OP LA SUB OCTANE REG-M',\n",
       "       '(1)*OP LA CARBOB UNL-M', '(1)*OP SF ULSD-M', '(1)*OP LA ULSD-M',\n",
       "       'NYM_RB', 'OPIS CARBOB REG Los Angeles CA + 0.0125 USD/gal',\n",
       "       'OPIS CARBOB PRE Los Angeles CA + 0.0125 USD/gal',\n",
       "       'NYMEX RBOB Gasoline Futures', 'OPIS CARBOB REG Los Angeles CA',\n",
       "       'NYMEX NY Harbor ULSD Futures', 'OPIS - CARBOB-P @ USWC LA',\n",
       "       'NYMEX HEATING OIL', 'RB', 'HO', 'OPS_LA_Clear_UNL', '#2 ULSD',\n",
       "       'OPIS CARBOB REG Los Angeles CA + 0.02 USD/gal',\n",
       "       'OPIS SubOctane Regular Los Angeles CA', 'NYMEX RB',\n",
       "       'OPIS WC Spot +  Jet A', 'Nymex Rbob-R',\n",
       "       '100% Opis.Carbob Pre.Pipeline.San Francisc.Spot.M',\n",
       "       'OPIS AZBOB-R', 'OPIS CARBOB-R', 'NYMEX - Heating Oil',\n",
       "       'OPIS - CARB Diesel @ USWC SF', 'OPIS - Jet LAX @ USWC SF',\n",
       "       'OPIS - AZRBOB-R @ USWC LA',\n",
       "       '100% Opis.Suboctane.San Francisc.Spot.M',\n",
       "       'OPIS Spot CARBOB REG (OPSP) LOS ANGELES (OPSP)',\n",
       "       'OPS_BAY_CarbDiesel', 'OPS_LA_CarbDiesel', 'OPIS - ULSD @ USWC SF',\n",
       "       'OPIS - ULSD @ USWC LA', 'OPIS - Sub-Octane-P @ USWC LA',\n",
       "       'OPIS - CARBOB-R @ USWC LA', 'OPIS-Sub-Octane',\n",
       "       '(1)*OP SF CARBOB PRE-M', '(1)*OP SF SUB OCTANE PRE-M',\n",
       "       'OPIS - PREM CBOB SUB OCTANE @ Los Angeles',\n",
       "       'OPIS - CBOB SUB OCTANE @ Los Angeles', 'OPIS LA EPA',\n",
       "       'OPIS CARBOB-P', 'Conventional Premium', 'ULSD #2',\n",
       "       'OPIS WC Spot +  CARBOB Reg 5.99#',\n",
       "       'OPIS CARBOB REG Los Angeles CA + 0.0325 USD/gal',\n",
       "       'OPIS WC Spot +  RD99', 'OPIS Spot SUB-OCT PRE LOS ANGELES',\n",
       "       'OPIS - PREM CBOB SUB OCTANE @ San Francisco', '(1)*HOG25-25FEB-C',\n",
       "       'LA ULS NO.2', 'OPIS SF EPA', 'OPIS WC Spot +  CBOB Prm 13.5#',\n",
       "       'OPIS WC Spot +  No 2 ULSD 15', 'OPIS Jet Fuel Los Angeles CA',\n",
       "       'OPIS - Jet 54 @ USWC LA', 'NYMEX ULSD/Heating Oil',\n",
       "       '(1)*OP LA SUB OCTANE PRE-M', 'NYMEX +  Jet A',\n",
       "       'OPIS Spot ULSD (OPSP) SAN FRANCISCO (OPSP)',\n",
       "       'OPIS Spot ULSD (OPSP) LOS ANGELES (OPSP)',\n",
       "       'OPIS Spot AZRBOB REG LOS ANGELES',\n",
       "       '100% Opis.Suboctane.San Francisc.Spot.M -1.25 Usc/Usg',\n",
       "       '(1)*OP LA AZ RBOB UNL-M', 'Other - Specify (OPIS Spot ULS#2)',\n",
       "       'OPIS - Sub-Octane-R @ USWC LA',\n",
       "       ' Opis LA Carb Diesel Spot + Opis Cap at the Rack + Opis LCFS at the Rack + Opis Crude CI Deficit ',\n",
       "       'Sub-Oct Reg Gasoline', 'ULSD', 'OPIS-Sub Oct Reg',\n",
       "       'OPIS-Sub Oct Pre', 'EPA ULSD', 'OPIS WC Spot +  CARBOB Prm 12.5#',\n",
       "       'OPIS WC Spot +  CARBOB Reg 12.5#',\n",
       "       'Platts ULSD USGC Pipeline Prompt Cycle + 0.05 USD/gal',\n",
       "       '100% Opis.Carbob Pre.Pipeline.Los Angeles.Spot.M +0.95 Usc/Usg',\n",
       "       'Platts - ULSD @ USGC Pipe', 'OPIS - CARBOB-R @ USWC SF',\n",
       "       'LA ULS NO 2', 'PLT_USWC_LA_Jet_PL', '(1)*OP LA CARBOB PRE-M',\n",
       "       'OPIS AZBOB-P', '100% Opis.Sub Prem 90.San Francisc.Spot.M',\n",
       "       'OPIS Spot AZRBOB PRE LOS ANGELES', 'LA OPIS AZRBOB PREMIUM',\n",
       "       'LA OPIS SUB-OCT- REG', 'LA OPIS SUB-OCT- PREM',\n",
       "       'LA OPIS EPA ULSD', 'OPIS LA EPA ULSD',\n",
       "       'OPIS AZRBOB Reg Los Angeles CA Prompt Cycle + 0.02 USD/gal',\n",
       "       '(1)*OP SF SUB OCTANE REG-M'], dtype=object)"
      ]
     },
     "execution_count": 263,
     "metadata": {},
     "output_type": "execute_result"
    }
   ],
   "source": [
    "df['Reference Product'].unique()"
   ]
  },
  {
   "cell_type": "code",
   "execution_count": 264,
   "id": "0589b16b-d2db-411d-896b-603836dbd422",
   "metadata": {},
   "outputs": [
    {
     "data": {
      "text/plain": [
       "dict_keys(['NYMEX ULSD', 'Platts ULSD', 'OPIS ULS No2', 'OPIS RBOB-R', 'OPIS AZRBOB-R', 'OPIS CARB No2', 'OPIS CARBOB-P', 'OPIS CARBOB-R', 'OPIS JET-A', 'OPIS CBOB-P', 'OPIS CBOB-R', '', 'NYMEX RBOB', 'OPIS AZRBOB-P', 'OPIS ETHANOL'])"
      ]
     },
     "execution_count": 264,
     "metadata": {},
     "output_type": "execute_result"
    }
   ],
   "source": [
    "dict_Directory['Reference Product'].keys()"
   ]
  },
  {
   "cell_type": "code",
   "execution_count": 265,
   "id": "b71796eb-8bc5-46cd-aea8-500acfcb8e1b",
   "metadata": {},
   "outputs": [
    {
     "data": {
      "text/html": [
       "<div>\n",
       "<style scoped>\n",
       "    .dataframe tbody tr th:only-of-type {\n",
       "        vertical-align: middle;\n",
       "    }\n",
       "\n",
       "    .dataframe tbody tr th {\n",
       "        vertical-align: top;\n",
       "    }\n",
       "\n",
       "    .dataframe thead th {\n",
       "        text-align: right;\n",
       "    }\n",
       "</style>\n",
       "<table border=\"1\" class=\"dataframe\">\n",
       "  <thead>\n",
       "    <tr style=\"text-align: right;\">\n",
       "      <th></th>\n",
       "      <th>Reference Product</th>\n",
       "      <th>Reference Product KEY CS=True</th>\n",
       "      <th>Reference Product KEY CS=False</th>\n",
       "    </tr>\n",
       "  </thead>\n",
       "  <tbody>\n",
       "    <tr>\n",
       "      <th>0</th>\n",
       "      <td>100% Opis.Suboctane.San Francisc.Spot.M -0.5 U...</td>\n",
       "      <td>None</td>\n",
       "      <td>OPIS CBOB-R</td>\n",
       "    </tr>\n",
       "    <tr>\n",
       "      <th>1</th>\n",
       "      <td>100% Opis.Carbob.Pipeline.Los Angeles.Spot.M</td>\n",
       "      <td>None</td>\n",
       "      <td>OPIS CARBOB-R</td>\n",
       "    </tr>\n",
       "    <tr>\n",
       "      <th>2</th>\n",
       "      <td>OPIS-Sub Octane</td>\n",
       "      <td>None</td>\n",
       "      <td>None</td>\n",
       "    </tr>\n",
       "    <tr>\n",
       "      <th>3</th>\n",
       "      <td>NYMEX RBOB-R</td>\n",
       "      <td>NYMEX RBOB</td>\n",
       "      <td>NYMEX RBOB</td>\n",
       "    </tr>\n",
       "  </tbody>\n",
       "</table>\n",
       "</div>"
      ],
      "text/plain": [
       "                                   Reference Product  \\\n",
       "0  100% Opis.Suboctane.San Francisc.Spot.M -0.5 U...   \n",
       "1       100% Opis.Carbob.Pipeline.Los Angeles.Spot.M   \n",
       "2                                    OPIS-Sub Octane   \n",
       "3                                       NYMEX RBOB-R   \n",
       "\n",
       "  Reference Product KEY CS=True Reference Product KEY CS=False  \n",
       "0                          None                    OPIS CBOB-R  \n",
       "1                          None                  OPIS CARBOB-R  \n",
       "2                          None                           None  \n",
       "3                    NYMEX RBOB                     NYMEX RBOB  "
      ]
     },
     "execution_count": 265,
     "metadata": {},
     "output_type": "execute_result"
    }
   ],
   "source": [
    "dictio = dict_Directory['Reference Product']\n",
    "df_ = df['Reference Product'].unique()\n",
    "df_ = pd.DataFrame(df['Reference Product'].unique())\n",
    "df_.columns = ['Reference Product']\n",
    "df_['Reference Product KEY CS=True'] = df_[\"Reference Product\"].map(lambda string: match_dictio(string, dictio, case_sensitive=True))\n",
    "df_['Reference Product KEY CS=False'] = df_[\"Reference Product\"].map(lambda string: match_dictio(string, dictio, case_sensitive=False))\n",
    "df_.head(4)"
   ]
  },
  {
   "cell_type": "code",
   "execution_count": 266,
   "id": "f2dc7a08-a69f-4f55-8950-232954e972f8",
   "metadata": {},
   "outputs": [
    {
     "name": "stdout",
     "output_type": "stream",
     "text": [
      "Total: 120\n",
      "Total w.o None: 119\n",
      "Reference Product KEY CS=True: 61\n",
      "Reference Product KEY CS=False: 70\n"
     ]
    }
   ],
   "source": [
    "print('Total:', df_.shape[0])\n",
    "print('Total w.o None:', df_[~df_['Reference Product'].isnull()].shape[0])\n",
    "print('Reference Product KEY CS=True:', df_[~df_['Reference Product KEY CS=True'].isnull()].shape[0])\n",
    "print('Reference Product KEY CS=False:', df_[~df_['Reference Product KEY CS=False'].isnull()].shape[0])"
   ]
  },
  {
   "cell_type": "code",
   "execution_count": 267,
   "id": "43bd1bcf-e653-4194-b770-d0f63ef9e679",
   "metadata": {},
   "outputs": [
    {
     "name": "stdout",
     "output_type": "stream",
     "text": [
      "Total: 663\n",
      "Total w.o None: 617\n"
     ]
    }
   ],
   "source": [
    "print('Total:', df.shape[0])\n",
    "print('Total w.o None:', df[~df['Reference Product'].isnull()].shape[0])"
   ]
  },
  {
   "cell_type": "code",
   "execution_count": 268,
   "id": "18c5cb23-ba8e-4a7c-a3d9-ee3255462d1f",
   "metadata": {
    "scrolled": true
   },
   "outputs": [],
   "source": [
    "dictio_true = dict(zip(df_['Reference Product'], df_['Reference Product KEY CS=True']))\n",
    "for key, value in dictio_true.items():\n",
    "    # print(key, value)\n",
    "    df['Reference Product'] = df['Reference Product'].replace(str(key), str(value))"
   ]
  },
  {
   "cell_type": "code",
   "execution_count": 269,
   "id": "f652fc32-f9f3-4d0f-84f0-b9113d4d0559",
   "metadata": {},
   "outputs": [],
   "source": [
    "df['Reference Product'] = df[\"Reference Product\"].map(lambda string: clean_string(string))"
   ]
  },
  {
   "cell_type": "code",
   "execution_count": 270,
   "id": "67a21ab3-cf79-4b6d-a921-ae7f6442a082",
   "metadata": {},
   "outputs": [],
   "source": [
    "dictio_false = dict(zip(df_['Reference Product'], df_['Reference Product KEY CS=False']))\n",
    "for key, value in dictio_false.items():\n",
    "    if dictio_true[key] is None:\n",
    "        df['Reference Product'] = df['Reference Product'].replace(str(key), str(value))"
   ]
  },
  {
   "cell_type": "code",
   "execution_count": 271,
   "id": "976ef9cf-da6d-4c18-b220-1132f89e6ccb",
   "metadata": {},
   "outputs": [],
   "source": [
    "df['Reference Product'] = df[\"Reference Product\"].map(lambda string: clean_string(string))"
   ]
  },
  {
   "cell_type": "code",
   "execution_count": 272,
   "id": "73083a9a-7afc-4be1-acae-0841ac78244f",
   "metadata": {},
   "outputs": [
    {
     "data": {
      "text/plain": [
       "array([None, 'NYMEX RBOB', 'OPIS CARBOB-R', 'OPIS CBOB-R', 'NYMEX ULSD',\n",
       "       'OPIS CARB No2', 'OPIS ULS No2', 'OPIS CARBOB-P', 'OPIS AZRBOB-R',\n",
       "       'OPIS JET-A', 'OPIS CBOB-P', 'OPIS RBOB-R', 'OPIS AZRBOB-P'],\n",
       "      dtype=object)"
      ]
     },
     "execution_count": 272,
     "metadata": {},
     "output_type": "execute_result"
    }
   ],
   "source": [
    "df['Reference Product'].unique()"
   ]
  },
  {
   "cell_type": "code",
   "execution_count": 273,
   "id": "76906273-adb8-4f05-8891-7a17310f5c4a",
   "metadata": {},
   "outputs": [],
   "source": [
    "df['Reference Product'] = df[\"Reference Product\"].map(lambda string: clean_string(string))"
   ]
  },
  {
   "cell_type": "code",
   "execution_count": 274,
   "id": "1499a652-14b9-427c-85b9-62c0808d6241",
   "metadata": {},
   "outputs": [
    {
     "data": {
      "text/plain": [
       "array([None, 'NYMEX RBOB', 'OPIS CARBOB-R', 'OPIS CBOB-R', 'NYMEX ULSD',\n",
       "       'OPIS CARB No2', 'OPIS ULS No2', 'OPIS CARBOB-P', 'OPIS AZRBOB-R',\n",
       "       'OPIS JET-A', 'OPIS CBOB-P', 'OPIS RBOB-R', 'OPIS AZRBOB-P'],\n",
       "      dtype=object)"
      ]
     },
     "execution_count": 274,
     "metadata": {},
     "output_type": "execute_result"
    }
   ],
   "source": [
    "df['Reference Product'].unique()"
   ]
  },
  {
   "cell_type": "code",
   "execution_count": 275,
   "id": "16bb2462-06e6-41e7-9868-d179dbcc1b77",
   "metadata": {},
   "outputs": [
    {
     "data": {
      "text/plain": [
       "True"
      ]
     },
     "execution_count": 275,
     "metadata": {},
     "output_type": "execute_result"
    }
   ],
   "source": [
    "(set(df['Reference Product'].unique()) - {None}) <= set(dict_Directory['Reference Product'].keys())"
   ]
  },
  {
   "cell_type": "markdown",
   "id": "a53a0ce1-f820-4f9d-954d-546c913d2f90",
   "metadata": {
    "jp-MarkdownHeadingCollapsed": true
   },
   "source": [
    "#### Reference Month"
   ]
  },
  {
   "cell_type": "code",
   "execution_count": 276,
   "id": "97e88413-b920-4d66-8aec-f9412d98b0bc",
   "metadata": {},
   "outputs": [],
   "source": [
    "df['Reference Month'] = df[\"Reference Month\"].astype(str)"
   ]
  },
  {
   "cell_type": "code",
   "execution_count": 277,
   "id": "69e93a71-68bb-490b-970c-a383ad3d9fd2",
   "metadata": {},
   "outputs": [
    {
     "data": {
      "text/plain": [
       "array(['', '2025-02-01', '(blank)', '2025-01', 'February', 'FEB-25',\n",
       "       '(Empty)', 'Jan', 'Feb', 'February-2025', '2025-02-25',\n",
       "       '2025-01-20', '2025-03-01', '2025-02', '1900-01-01', 'MAR-25',\n",
       "       'Mar', 'March', '2025-07-01', '2025-06-01', '2025-05-01',\n",
       "       '2025-04-01', '2025-07-25', '2025-06-25', '2025-05-25', ' ',\n",
       "       '2025-03-25', '2025-04-25', 'FEB', 'Dec', '#Err', 'JAN ',\n",
       "       '2025-03', '2025-01-25', 'Apr', 'N/A', 'NOT APPLICABLE', 'NA'],\n",
       "      dtype=object)"
      ]
     },
     "execution_count": 277,
     "metadata": {},
     "output_type": "execute_result"
    }
   ],
   "source": [
    "df['Reference Month'].unique()"
   ]
  },
  {
   "cell_type": "code",
   "execution_count": 278,
   "id": "78f85fbb-f9a4-464f-82ec-9c710e70183e",
   "metadata": {},
   "outputs": [],
   "source": [
    "df['Reference Month'] = df[\"Reference Month\"].map(lambda string: clean_string(string))"
   ]
  },
  {
   "cell_type": "code",
   "execution_count": 279,
   "id": "c8fdf29d-42ee-447d-835c-68052febef34",
   "metadata": {
    "scrolled": true
   },
   "outputs": [
    {
     "data": {
      "text/plain": [
       "array([None, '2025-02-01', '2025-01', 'February', 'FEB-25', 'Jan', 'Feb',\n",
       "       'February-2025', '2025-02-25', '2025-01-20', '2025-03-01',\n",
       "       '2025-02', '1900-01-01', 'MAR-25', 'Mar', 'March', '2025-07-01',\n",
       "       '2025-06-01', '2025-05-01', '2025-04-01', '2025-07-25',\n",
       "       '2025-06-25', '2025-05-25', '2025-03-25', '2025-04-25', 'FEB',\n",
       "       'Dec', 'JAN ', '2025-03', '2025-01-25', 'Apr'], dtype=object)"
      ]
     },
     "execution_count": 279,
     "metadata": {},
     "output_type": "execute_result"
    }
   ],
   "source": [
    "df['Reference Month'].unique()"
   ]
  },
  {
   "cell_type": "code",
   "execution_count": 280,
   "id": "672096fb-5a1e-4102-adf8-ed50ab63ddda",
   "metadata": {},
   "outputs": [],
   "source": [
    "# for string in df['Reference Month']:\n",
    "#     print(string)\n",
    "#     str_to_month(string)"
   ]
  },
  {
   "cell_type": "code",
   "execution_count": 281,
   "id": "559d6a89-b2a1-457d-b490-2f06bfdf650a",
   "metadata": {},
   "outputs": [],
   "source": [
    "df['Reference Month'] = df[\"Reference Month\"].map(lambda string: str_to_month(string))"
   ]
  },
  {
   "cell_type": "code",
   "execution_count": 282,
   "id": "dad05487-f623-4558-a705-6ed8be939fc0",
   "metadata": {},
   "outputs": [
    {
     "data": {
      "text/plain": [
       "array([None, 'Feb-2025', 'Jan-2025', 'Mar-2025', 'Jan-1900', 'Jul-2025',\n",
       "       'Jun-2025', 'May-2025', 'Apr-2025', 'Dec-2025'], dtype=object)"
      ]
     },
     "execution_count": 282,
     "metadata": {},
     "output_type": "execute_result"
    }
   ],
   "source": [
    "df['Reference Month'].unique()"
   ]
  },
  {
   "cell_type": "markdown",
   "id": "716f2d60-8f05-4c48-8f5f-bbf29eb68cb7",
   "metadata": {
    "jp-MarkdownHeadingCollapsed": true
   },
   "source": [
    "#### Price Differential vs. Reference"
   ]
  },
  {
   "cell_type": "code",
   "execution_count": 283,
   "id": "16468ff0-a507-4104-8e67-89c922f5615a",
   "metadata": {},
   "outputs": [],
   "source": [
    "df['Price Differential vs. Reference'] = df['Price Differential vs. Reference'].astype(str)"
   ]
  },
  {
   "cell_type": "code",
   "execution_count": 284,
   "id": "6ed13481-d2d8-4101-946b-00d36de813a1",
   "metadata": {},
   "outputs": [],
   "source": [
    "df['Price Differential vs. Reference'] = df[\"Price Differential vs. Reference\"].map(lambda x: extract_numbers(x))\n",
    "df['Price Differential vs. Reference'] = df['Price Differential vs. Reference'].map(lambda string: str_to_float(string))"
   ]
  },
  {
   "cell_type": "code",
   "execution_count": 285,
   "id": "abc7b141-74d7-491b-ad32-8609c19208b9",
   "metadata": {},
   "outputs": [],
   "source": [
    "df['Price Differential vs. Reference'] = np.where(np.logical_and(df['Product Type'].isin(['Gasoline', 'Diesel']), df['Price Differential vs. Reference']<1, df['Price Differential vs. Reference']>-1), \n",
    "                                                                     df['Price Differential vs. Reference']*100, \n",
    "                                                                     df['Price Differential vs. Reference'])"
   ]
  },
  {
   "cell_type": "code",
   "execution_count": 286,
   "id": "2c09f554-d8bd-41cf-acd9-76716c240c84",
   "metadata": {},
   "outputs": [
    {
     "data": {
      "text/plain": [
       "array([ -50.    ,       nan,   11.    ,  -35.    ,    0.    ,   11.5   ,\n",
       "         -0.15  ,   10.    ,    7.5   ,   -4.    ,    8.5   ,    4.    ,\n",
       "          6.    ,    5.5   ,   25.    ,   26.    ,  -14.    ,   -0.14  ,\n",
       "          2.    ,    1.    ,    1.25  ,    6.5   ,    3.    ,  -15.    ,\n",
       "          2.7   ,   -9.5   ,   24.    , -400.    , -200.    ,   16.    ,\n",
       "          8.    , -100.    , -300.    ,   -3.    ,    4.5   ,   -1.5   ,\n",
       "          9.    ,  -13.    ,   -2.5   , -450.    ,    5.    ,  -11.    ,\n",
       "          4.06  ,  -11.5   ,   14.    ,    3.25  ,   50.    ,   -0.5   ,\n",
       "         28.    ,    0.75  ,    7.    ,   28.    ,   27.    ,   -1.    ,\n",
       "         12.    ,  -75.    ,    7.    ,    0.01  ,   12.5   ,   13.5   ,\n",
       "         20.    , -125.    ,  -25.    ,   13.    , -150.    ,    3.5   ,\n",
       "         15.    ,   19.    ,    0.0185,   17.    ,   95.    ,   21.    ,\n",
       "          1.85  , -250.    ,   -0.25  ,    3.5   ,  -18.    ,  -10.    ,\n",
       "         -0.04  ,   -7.    ])"
      ]
     },
     "execution_count": 286,
     "metadata": {},
     "output_type": "execute_result"
    }
   ],
   "source": [
    "df['Price Differential vs. Reference'].unique()"
   ]
  },
  {
   "cell_type": "markdown",
   "id": "806a67c7-96fe-4453-86a8-3483463b5d71",
   "metadata": {
    "jp-MarkdownHeadingCollapsed": true
   },
   "source": [
    "#### Pricing Event Type"
   ]
  },
  {
   "cell_type": "code",
   "execution_count": 287,
   "id": "a0d26a1d-e899-4c0a-96f1-9714882761e3",
   "metadata": {
    "scrolled": true
   },
   "outputs": [
    {
     "data": {
      "text/plain": [
       "array(['COP 1-1-1 DAYS SPLIT NORMAL', '3-day wrap (around pump date)', '',\n",
       "       'Index', 'EFP', 'Completion of Pump over', 'Completion of Pump',\n",
       "       'Other (3 Day Wrap (CmpltOP) )', 'N/A', 'Other (Custom)',\n",
       "       'Fixed Dates', '3-day wrap', '3 Days - Completion of Pump', ' ',\n",
       "       'Other (Day Prior to Completion of Discharge)', 'Fixed dates',\n",
       "       'Float', 'Unknown', 'Fixed', 'Other (Cal Month Average (Exclude))',\n",
       "       'Month average', '1/1/1', '3-Day Wrap', '3 DAY WRAP', '(Empty)',\n",
       "       'Other (TBMA - Dates to be Mutually Agreed)',\n",
       "       '1/1/1 (day before, day of, day after)', 'COL', 'COD',\n",
       "       '1 Month - Completion of Pump', 'DEEMED DATES', '3-DAY WRAP',\n",
       "       'Pump completion date'], dtype=object)"
      ]
     },
     "execution_count": 287,
     "metadata": {},
     "output_type": "execute_result"
    }
   ],
   "source": [
    "df[\"Pricing Event Type\"].unique()"
   ]
  },
  {
   "cell_type": "code",
   "execution_count": 288,
   "id": "4e034603-2307-4dfa-b707-806a0b61ac2b",
   "metadata": {},
   "outputs": [],
   "source": [
    "df['Pricing Event Type'] = df['Pricing Event Type'].astype(str)"
   ]
  },
  {
   "cell_type": "code",
   "execution_count": 289,
   "id": "a2e94294-9a10-406c-b365-cb84a33f41f5",
   "metadata": {},
   "outputs": [
    {
     "data": {
      "text/plain": [
       "array(['COP 1-1-1 DAYS SPLIT NORMAL', '3-day wrap (around pump date)', '',\n",
       "       'Index', 'EFP', 'Completion of Pump over', 'Completion of Pump',\n",
       "       'Other (3 Day Wrap (CmpltOP) )', 'N/A', 'Other (Custom)',\n",
       "       'Fixed Dates', '3-day wrap', '3 Days - Completion of Pump', ' ',\n",
       "       'Other (Day Prior to Completion of Discharge)', 'Fixed dates',\n",
       "       'Float', 'Unknown', 'Fixed', 'Other (Cal Month Average (Exclude))',\n",
       "       'Month average', '1/1/1', '3-Day Wrap', '3 DAY WRAP', '(Empty)',\n",
       "       'Other (TBMA - Dates to be Mutually Agreed)',\n",
       "       '1/1/1 (day before, day of, day after)', 'COL', 'COD',\n",
       "       '1 Month - Completion of Pump', 'DEEMED DATES', '3-DAY WRAP',\n",
       "       'Pump completion date'], dtype=object)"
      ]
     },
     "execution_count": 289,
     "metadata": {},
     "output_type": "execute_result"
    }
   ],
   "source": [
    "df[\"Pricing Event Type\"].unique()"
   ]
  },
  {
   "cell_type": "code",
   "execution_count": 290,
   "id": "41cc5715-77cd-4458-a889-dcf77ae1c042",
   "metadata": {},
   "outputs": [],
   "source": [
    "df['Pricing Event Type'] = df['Pricing Event Type'].map(lambda string: clean_string(string))"
   ]
  },
  {
   "cell_type": "code",
   "execution_count": 291,
   "id": "a3d9b14b-db69-41c4-833d-22d5aa80d0c7",
   "metadata": {},
   "outputs": [
    {
     "data": {
      "text/plain": [
       "array(['COP 1-1-1 DAYS SPLIT NORMAL', '3-day wrap (around pump date)',\n",
       "       None, 'Index', 'EFP', 'Completion of Pump over',\n",
       "       'Completion of Pump', 'Other (3 Day Wrap (CmpltOP) )',\n",
       "       'Other (Custom)', 'Fixed Dates', '3-day wrap',\n",
       "       '3 Days - Completion of Pump',\n",
       "       'Other (Day Prior to Completion of Discharge)', 'Fixed dates',\n",
       "       'Float', 'Unknown', 'Fixed', 'Other (Cal Month Average (Exclude))',\n",
       "       'Month average', '1/1/1', '3-Day Wrap', '3 DAY WRAP',\n",
       "       'Other (TBMA - Dates to be Mutually Agreed)',\n",
       "       '1/1/1 (day before, day of, day after)', 'COL', 'COD',\n",
       "       '1 Month - Completion of Pump', 'DEEMED DATES', '3-DAY WRAP',\n",
       "       'Pump completion date'], dtype=object)"
      ]
     },
     "execution_count": 291,
     "metadata": {},
     "output_type": "execute_result"
    }
   ],
   "source": [
    "df[\"Pricing Event Type\"].unique()"
   ]
  },
  {
   "cell_type": "markdown",
   "id": "f9c9fbb7-877f-474c-8ba2-0db5561d4de6",
   "metadata": {
    "jp-MarkdownHeadingCollapsed": true
   },
   "source": [
    "#### Pricing Event Date  "
   ]
  },
  {
   "cell_type": "code",
   "execution_count": 292,
   "id": "d91e4ec2-1177-438e-a563-94288b6dd20d",
   "metadata": {},
   "outputs": [],
   "source": [
    "df['Pricing Event Date'] = df[\"Pricing Event Date\"].astype(str)"
   ]
  },
  {
   "cell_type": "code",
   "execution_count": 293,
   "id": "0a034069-e230-4034-b6b2-677d2d688102",
   "metadata": {
    "scrolled": true
   },
   "outputs": [
    {
     "data": {
      "text/plain": [
       "array(['2025-01-18 06:00:00', '2025-02-04 06:00:00',\n",
       "       '2025-03-07 06:00:00', '', '3/1/2025 to 3/31/2025',\n",
       "       '1/23/2025 to 1/27/2025', '1/7/2025 to 1/9/2025',\n",
       "       '1/3/2025 to 1/3/2025', '2025-01-12', 'unavailable', '(Empty)',\n",
       "       'N/A', '2/3/2025 to 2/28/2025', '1/6/2025 to 1/6/2025',\n",
       "       '1/31/2025 to 1/31/2025', '2025-02-14',\n",
       "       '2025-01-09,2025-01-10,2025-01-13', '2025-01-31', '2025-02-07',\n",
       "       '2025-02-03', '1/7/2025 to 1/7/2025', '3/24/2025 to 3/26/2025',\n",
       "       '01/08/2025', '2025-01-28', '1/8/2025 to 1/8/2025',\n",
       "       '6/30/2025 to 6/30/2025', '5/30/2025 to 5/30/2025',\n",
       "       '4/30/2025 to 4/30/2025', '2/28/2025 to 2/28/2025',\n",
       "       '3/31/2025 to 3/31/2025', '1/1/1900 to 1/1/1900', '2025-03-03',\n",
       "       '2025-01-19', '2025-01-16,2025-01-17,2025-01-21', '2025-02-28',\n",
       "       '2025-01-09', '2025-01-07', '01/16/2025, 01/17/2025, 01/21/2025',\n",
       "       '2025-01-20', '2/24/2025 to 2/24/2025',\n",
       "       '01/17/2025, 01/21/2025, 01/22/2025', '01/16/2025 to 01/25/2025',\n",
       "       '2025-01-13', '2025-01-15', '1/17/2025 to 1/22/2025',\n",
       "       '01/16/2025, 01/17/2025, 01/21/2025 ', '2025-01-17',\n",
       "       '2025-01-14,2025-01-15,2025-01-16', '1/17/2025 - 01/22/25',\n",
       "       '2025-01-14', '1/13/2025 to 1/13/2025', '2025-01-23',\n",
       "       '01/15/2025, 01/16/2025, 01/17/2025',\n",
       "       '2025-01-17,2025-01-21,2025-01-22', '1/14/2025 to 1/14/2025',\n",
       "       '2/24/2025 to 2/26/2025', '2/1/2025 to 2/28/2025',\n",
       "       '1/24/2025 to 1/27/2025', '2025-02-14 06:00:00',\n",
       "       '2025-01-26 06:00:00', '2025-02-11 06:00:00',\n",
       "       '2025-02-18 06:00:00', '2025-02-25 06:00:00', '2025-03-07',\n",
       "       '2025-01-02', '1/23, 1/24, 1/27', '1/15/2025 to 1/15/2025',\n",
       "       '2025-01-16', '01/22/2025, 01/23/2025, 01/24/2025',\n",
       "       '01/23/2025, 01/24/2025, 01/27/2025',\n",
       "       '01/23/25, 01/24/25, & 01/27/25', '2025-02-08 06:00:00',\n",
       "       '2025-02-04,2025-02-05,2025-02-06',\n",
       "       '2025-02-11,2025-02-12,2025-02-13',\n",
       "       '2025-01-23,2025-01-24,2025-01-27', '1/16/2025 to 1/16/2025',\n",
       "       '1/24/2025 to 1/24/2025', '1/30/2025 to 1/30/2025', '2024-08-06',\n",
       "       '2024-08-13', 'NOT APPLICABLE', '2024-08-21', '2024-08-28',\n",
       "       '2024-09-05', '2024-09-13', '2024-09-20', '2024-10-06',\n",
       "       '2024-10-13', '2024-10-21', '2024-10-29', '2024-11-05',\n",
       "       '2024-11-13', '2024-11-20', '2024-12-05', '2024-12-13',\n",
       "       '2024-12-21', '2024-12-28', '2025-01-05', '2025-01-21',\n",
       "       '2025-02-05', '2025-02-12', 'Pump completion date'], dtype=object)"
      ]
     },
     "execution_count": 293,
     "metadata": {},
     "output_type": "execute_result"
    }
   ],
   "source": [
    "df[\"Pricing Event Date\"].unique()"
   ]
  },
  {
   "cell_type": "code",
   "execution_count": 294,
   "id": "c5f6bd1f-1d5d-49b9-8aba-366e4a9f064d",
   "metadata": {
    "scrolled": true
   },
   "outputs": [],
   "source": [
    "# i = 0\n",
    "# for x in df['Pricing Event Date']:\n",
    "#     print(str(i), x)\n",
    "#     print(str_to_date(x))\n",
    "#     i = i + 1"
   ]
  },
  {
   "cell_type": "code",
   "execution_count": 295,
   "id": "89239619-076b-4d4a-a041-f3622620f6d4",
   "metadata": {},
   "outputs": [],
   "source": [
    "df['Pricing Event Date'] = df[\"Pricing Event Date\"].map(lambda x: str_to_date(x))"
   ]
  },
  {
   "cell_type": "code",
   "execution_count": 296,
   "id": "5c244d68-2c08-481c-bdc7-97b136bbbc85",
   "metadata": {
    "scrolled": true
   },
   "outputs": [
    {
     "data": {
      "text/plain": [
       "array([datetime.date(2025, 1, 18), datetime.date(2025, 2, 4),\n",
       "       datetime.date(2025, 3, 7), NaT, datetime.date(2025, 3, 31),\n",
       "       datetime.date(2025, 1, 27), datetime.date(2025, 1, 9),\n",
       "       datetime.date(2025, 1, 3), datetime.date(2025, 1, 12),\n",
       "       datetime.date(2025, 2, 28), datetime.date(2025, 1, 6),\n",
       "       datetime.date(2025, 1, 31), datetime.date(2025, 2, 14),\n",
       "       datetime.date(2025, 2, 7), datetime.date(2025, 2, 3),\n",
       "       datetime.date(2025, 1, 7), datetime.date(2025, 3, 26),\n",
       "       datetime.date(2025, 1, 8), datetime.date(2025, 1, 28),\n",
       "       datetime.date(2025, 6, 30), datetime.date(2025, 5, 30),\n",
       "       datetime.date(2025, 4, 30), datetime.date(1900, 1, 1),\n",
       "       datetime.date(2025, 3, 3), datetime.date(2025, 1, 19),\n",
       "       datetime.date(2025, 1, 20), datetime.date(2025, 2, 24),\n",
       "       datetime.date(2025, 1, 25), datetime.date(2025, 1, 13),\n",
       "       datetime.date(2025, 1, 15), datetime.date(2025, 1, 22),\n",
       "       datetime.date(2025, 1, 17), datetime.date(2025, 1, 14),\n",
       "       datetime.date(2025, 1, 23), datetime.date(2025, 2, 26),\n",
       "       datetime.date(2025, 1, 26), datetime.date(2025, 2, 11),\n",
       "       datetime.date(2025, 2, 18), datetime.date(2025, 2, 25),\n",
       "       datetime.date(2025, 1, 2), datetime.date(2025, 1, 16),\n",
       "       datetime.date(2025, 2, 8), datetime.date(2025, 1, 24),\n",
       "       datetime.date(2025, 1, 30), datetime.date(2024, 8, 6),\n",
       "       datetime.date(2024, 8, 13), datetime.date(2024, 8, 21),\n",
       "       datetime.date(2024, 8, 28), datetime.date(2024, 9, 5),\n",
       "       datetime.date(2024, 9, 13), datetime.date(2024, 9, 20),\n",
       "       datetime.date(2024, 10, 6), datetime.date(2024, 10, 13),\n",
       "       datetime.date(2024, 10, 21), datetime.date(2024, 10, 29),\n",
       "       datetime.date(2024, 11, 5), datetime.date(2024, 11, 13),\n",
       "       datetime.date(2024, 11, 20), datetime.date(2024, 12, 5),\n",
       "       datetime.date(2024, 12, 13), datetime.date(2024, 12, 21),\n",
       "       datetime.date(2024, 12, 28), datetime.date(2025, 1, 5),\n",
       "       datetime.date(2025, 1, 21), datetime.date(2025, 2, 5),\n",
       "       datetime.date(2025, 2, 12)], dtype=object)"
      ]
     },
     "execution_count": 296,
     "metadata": {},
     "output_type": "execute_result"
    }
   ],
   "source": [
    "df[\"Pricing Event Date\"].unique()"
   ]
  },
  {
   "cell_type": "markdown",
   "id": "23ab75fe-3c79-4021-8359-da345f3341d5",
   "metadata": {
    "jp-MarkdownHeadingCollapsed": true
   },
   "source": [
    "#### Pricing Start Date "
   ]
  },
  {
   "cell_type": "code",
   "execution_count": 297,
   "id": "0a3d2707-e149-49db-bb53-d843e02198e8",
   "metadata": {},
   "outputs": [],
   "source": [
    "df['Pricing Start Date'] = df[\"Pricing Start Date\"].astype(str)"
   ]
  },
  {
   "cell_type": "code",
   "execution_count": 298,
   "id": "a26f5553-2227-453d-b7f2-dc414f9ea8cc",
   "metadata": {
    "scrolled": true
   },
   "outputs": [
    {
     "data": {
      "text/plain": [
       "array(['2025-01-16 06:00:00', '2025-02-03 06:00:00',\n",
       "       '2025-03-06 06:00:00', '', '2025-03-01', '2025-01-23',\n",
       "       '2025-01-07', '2025-01-03', '2025-01-10', '(Empty)', 'N/A',\n",
       "       '2025-02-03', '2025-01-06', '2025-01-31', '2025-02-13',\n",
       "       '2025-01-16', '2025-01-09', '01/07/2025', '01/15/2025',\n",
       "       '01/24/2025', '01/13/2025', '01/23/2025', '01/28/2025',\n",
       "       '01/16/2025', '01/08/2025', '2025-02-28', '2025-03-24',\n",
       "       '2025-01-08', '2025-06-30', '2025-05-30', '2025-04-30',\n",
       "       '2025-03-31', '1900-01-01', '2025-03-03', '2025-01-17',\n",
       "       '2025-02-01', '2025-04-01', '2025-05-01', '2025-06-02',\n",
       "       '2025-02-24', '2025-01-30', '2025-02-06', '01/21/2025',\n",
       "       '01/09/2025', '2025-01-25', '2025-01-15', '2025-01-14',\n",
       "       '2025-01-13', '2025-02-28 06:00:00', '2025-01-24',\n",
       "       '2025-02-13 06:00:00', '2025-01-24 06:00:00',\n",
       "       '2025-02-10 06:00:00', '2025-02-14 06:00:00',\n",
       "       '2025-02-24 06:00:00', '2025-01-21', '2024-12-30', '2025-01-02',\n",
       "       '2025-01-12', '2025-01-22', '2025-02-05', '2025-02-06 06:00:00',\n",
       "       '2025-01-31 06:00:00', '2025-02-04', '2025-02-11', '2024-08-05',\n",
       "       '2024-08-12', 'NOT APPLICABLE', '2024-08-20', '2024-08-27',\n",
       "       '2024-09-04', '2024-09-12', '2024-09-19', '2024-10-04',\n",
       "       '2024-10-11', '2024-10-18', '2024-10-28', '2024-11-04',\n",
       "       '2024-11-12', '2024-11-19', '2024-12-04', '2024-12-12',\n",
       "       '2024-12-19', '2024-12-26', '2025-01-27', 'unknown at time of rpt',\n",
       "       '01/17/2025'], dtype=object)"
      ]
     },
     "execution_count": 298,
     "metadata": {},
     "output_type": "execute_result"
    }
   ],
   "source": [
    "df[\"Pricing Start Date\"].unique()"
   ]
  },
  {
   "cell_type": "code",
   "execution_count": 299,
   "id": "5e176f3f-c25a-428e-a970-a071df08e5a2",
   "metadata": {},
   "outputs": [],
   "source": [
    "df['Pricing Start Date'] = df[\"Pricing Start Date\"].map(lambda x: str_to_date(x))"
   ]
  },
  {
   "cell_type": "code",
   "execution_count": 300,
   "id": "af21e052-f3e6-410b-9a10-fc42a6858904",
   "metadata": {
    "scrolled": true
   },
   "outputs": [
    {
     "data": {
      "text/plain": [
       "array([datetime.date(2025, 1, 16), datetime.date(2025, 2, 3),\n",
       "       datetime.date(2025, 3, 6), NaT, datetime.date(2025, 3, 1),\n",
       "       datetime.date(2025, 1, 23), datetime.date(2025, 1, 7),\n",
       "       datetime.date(2025, 1, 3), datetime.date(2025, 1, 10),\n",
       "       datetime.date(2025, 1, 6), datetime.date(2025, 1, 31),\n",
       "       datetime.date(2025, 2, 13), datetime.date(2025, 1, 9),\n",
       "       datetime.date(2025, 1, 15), datetime.date(2025, 1, 24),\n",
       "       datetime.date(2025, 1, 13), datetime.date(2025, 1, 28),\n",
       "       datetime.date(2025, 1, 8), datetime.date(2025, 2, 28),\n",
       "       datetime.date(2025, 3, 24), datetime.date(2025, 6, 30),\n",
       "       datetime.date(2025, 5, 30), datetime.date(2025, 4, 30),\n",
       "       datetime.date(2025, 3, 31), datetime.date(1900, 1, 1),\n",
       "       datetime.date(2025, 3, 3), datetime.date(2025, 1, 17),\n",
       "       datetime.date(2025, 2, 1), datetime.date(2025, 4, 1),\n",
       "       datetime.date(2025, 5, 1), datetime.date(2025, 6, 2),\n",
       "       datetime.date(2025, 2, 24), datetime.date(2025, 1, 30),\n",
       "       datetime.date(2025, 2, 6), datetime.date(2025, 1, 21),\n",
       "       datetime.date(2025, 1, 25), datetime.date(2025, 1, 14),\n",
       "       datetime.date(2025, 2, 10), datetime.date(2025, 2, 14),\n",
       "       datetime.date(2024, 12, 30), datetime.date(2025, 1, 2),\n",
       "       datetime.date(2025, 1, 12), datetime.date(2025, 1, 22),\n",
       "       datetime.date(2025, 2, 5), datetime.date(2025, 2, 4),\n",
       "       datetime.date(2025, 2, 11), datetime.date(2024, 8, 5),\n",
       "       datetime.date(2024, 8, 12), datetime.date(2024, 8, 20),\n",
       "       datetime.date(2024, 8, 27), datetime.date(2024, 9, 4),\n",
       "       datetime.date(2024, 9, 12), datetime.date(2024, 9, 19),\n",
       "       datetime.date(2024, 10, 4), datetime.date(2024, 10, 11),\n",
       "       datetime.date(2024, 10, 18), datetime.date(2024, 10, 28),\n",
       "       datetime.date(2024, 11, 4), datetime.date(2024, 11, 12),\n",
       "       datetime.date(2024, 11, 19), datetime.date(2024, 12, 4),\n",
       "       datetime.date(2024, 12, 12), datetime.date(2024, 12, 19),\n",
       "       datetime.date(2024, 12, 26), datetime.date(2025, 1, 27)],\n",
       "      dtype=object)"
      ]
     },
     "execution_count": 300,
     "metadata": {},
     "output_type": "execute_result"
    }
   ],
   "source": [
    "df[\"Pricing Start Date\"].unique()"
   ]
  },
  {
   "cell_type": "markdown",
   "id": "bdee1c22-8041-4cbc-a38f-39c2fe8be4a9",
   "metadata": {
    "jp-MarkdownHeadingCollapsed": true
   },
   "source": [
    "#### Pricing End Date "
   ]
  },
  {
   "cell_type": "code",
   "execution_count": 301,
   "id": "7d09a06a-406d-424d-bb60-db6c1e0043cc",
   "metadata": {},
   "outputs": [],
   "source": [
    "df['Pricing End Date'] = df[\"Pricing End Date\"].astype(str)"
   ]
  },
  {
   "cell_type": "code",
   "execution_count": 302,
   "id": "33288c5f-ad75-4e17-b69a-032ceb376396",
   "metadata": {
    "scrolled": true
   },
   "outputs": [
    {
     "data": {
      "text/plain": [
       "array(['2025-01-21 06:00:00', '2025-02-05 06:00:00',\n",
       "       '2025-03-10 05:00:00', '', '2025-03-31', '2025-01-27',\n",
       "       '2025-01-09', '2025-01-03', '2025-01-14', '(Empty)', 'N/A',\n",
       "       '2025-02-28', '2025-01-06', '2025-01-31', '2025-02-18',\n",
       "       '2025-01-17', '2025-01-24', '2025-01-13', '01/07/2025',\n",
       "       '01/17/2025', '01/28/2025', '01/14/2025', '01/24/2025',\n",
       "       '01/29/2025', '01/10/2025', '2025-01-07', '2025-03-26',\n",
       "       '01/08/2025', '2025-01-08', '2025-02-03', '2025-06-30',\n",
       "       '2025-05-30', '2025-04-30', '1900-01-01', '2025-03-03',\n",
       "       '2025-01-22', '2025-01-21', '2025-02-24', '2025-02-10',\n",
       "       '01/21/2025', '01/09/2025', '2025-01-26', '2025-01-15',\n",
       "       '2025-01-16', '01/13/2025', '2025-02-28 06:00:00', '2025-02-26',\n",
       "       '2025-02-18 06:00:00', '2025-01-28 06:00:00',\n",
       "       '2025-02-12 06:00:00', '2025-02-19 06:00:00',\n",
       "       '2025-02-26 06:00:00', '01/15/2025', '2025-01-10', '2025-02-07',\n",
       "       '01/27/2025', '2025-02-10 06:00:00', '2025-01-31 06:00:00',\n",
       "       '2025-02-06', '2025-02-13', '2025-01-30', '2024-08-07',\n",
       "       '2024-08-14', 'NOT APPLICABLE', '2024-08-22', '2024-08-29',\n",
       "       '2024-09-06', '2024-09-16', '2024-09-23', '2024-10-08',\n",
       "       '2024-10-16', '2024-10-22', '2024-10-30', '2024-11-06',\n",
       "       '2024-11-14', '2024-11-21', '2024-12-06', '2024-12-16',\n",
       "       '2024-12-23', '2024-12-30', '2025-01-29', 'unknown at time of rpt',\n",
       "       '01/22/2025'], dtype=object)"
      ]
     },
     "execution_count": 302,
     "metadata": {},
     "output_type": "execute_result"
    }
   ],
   "source": [
    "df[\"Pricing End Date\"].unique()"
   ]
  },
  {
   "cell_type": "code",
   "execution_count": 303,
   "id": "2c4489ad-4369-4612-a12e-e97d69ad2350",
   "metadata": {},
   "outputs": [],
   "source": [
    "# for x in df[\"Pricing End Date\"]:\n",
    "#     print(x)\n",
    "#     print(str_to_date(x))"
   ]
  },
  {
   "cell_type": "code",
   "execution_count": 304,
   "id": "0e74e1c9-ae3f-46c9-9424-99bfdd830b80",
   "metadata": {},
   "outputs": [],
   "source": [
    "df['Pricing End Date'] = df[\"Pricing End Date\"].map(lambda x: str_to_date(x))"
   ]
  },
  {
   "cell_type": "code",
   "execution_count": 305,
   "id": "3701af7f-1cc4-46ef-9437-b99dd4ccb58b",
   "metadata": {
    "scrolled": true
   },
   "outputs": [
    {
     "data": {
      "text/plain": [
       "array([datetime.date(2025, 1, 21), datetime.date(2025, 2, 5),\n",
       "       datetime.date(2025, 3, 10), NaT, datetime.date(2025, 3, 31),\n",
       "       datetime.date(2025, 1, 27), datetime.date(2025, 1, 9),\n",
       "       datetime.date(2025, 1, 3), datetime.date(2025, 1, 14),\n",
       "       datetime.date(2025, 2, 28), datetime.date(2025, 1, 6),\n",
       "       datetime.date(2025, 1, 31), datetime.date(2025, 2, 18),\n",
       "       datetime.date(2025, 1, 17), datetime.date(2025, 1, 24),\n",
       "       datetime.date(2025, 1, 13), datetime.date(2025, 1, 7),\n",
       "       datetime.date(2025, 1, 28), datetime.date(2025, 1, 29),\n",
       "       datetime.date(2025, 1, 10), datetime.date(2025, 3, 26),\n",
       "       datetime.date(2025, 1, 8), datetime.date(2025, 2, 3),\n",
       "       datetime.date(2025, 6, 30), datetime.date(2025, 5, 30),\n",
       "       datetime.date(2025, 4, 30), datetime.date(1900, 1, 1),\n",
       "       datetime.date(2025, 3, 3), datetime.date(2025, 1, 22),\n",
       "       datetime.date(2025, 2, 24), datetime.date(2025, 2, 10),\n",
       "       datetime.date(2025, 1, 26), datetime.date(2025, 1, 15),\n",
       "       datetime.date(2025, 1, 16), datetime.date(2025, 2, 26),\n",
       "       datetime.date(2025, 2, 12), datetime.date(2025, 2, 19),\n",
       "       datetime.date(2025, 2, 7), datetime.date(2025, 2, 6),\n",
       "       datetime.date(2025, 2, 13), datetime.date(2025, 1, 30),\n",
       "       datetime.date(2024, 8, 7), datetime.date(2024, 8, 14),\n",
       "       datetime.date(2024, 8, 22), datetime.date(2024, 8, 29),\n",
       "       datetime.date(2024, 9, 6), datetime.date(2024, 9, 16),\n",
       "       datetime.date(2024, 9, 23), datetime.date(2024, 10, 8),\n",
       "       datetime.date(2024, 10, 16), datetime.date(2024, 10, 22),\n",
       "       datetime.date(2024, 10, 30), datetime.date(2024, 11, 6),\n",
       "       datetime.date(2024, 11, 14), datetime.date(2024, 11, 21),\n",
       "       datetime.date(2024, 12, 6), datetime.date(2024, 12, 16),\n",
       "       datetime.date(2024, 12, 23), datetime.date(2024, 12, 30)],\n",
       "      dtype=object)"
      ]
     },
     "execution_count": 305,
     "metadata": {},
     "output_type": "execute_result"
    }
   ],
   "source": [
    "df[\"Pricing End Date\"].unique()"
   ]
  },
  {
   "cell_type": "markdown",
   "id": "f4de35e5-bd9e-413b-88c9-2853fa639668",
   "metadata": {
    "jp-MarkdownHeadingCollapsed": true
   },
   "source": [
    "#### NYMEX Price "
   ]
  },
  {
   "cell_type": "code",
   "execution_count": 306,
   "id": "6e7fe6c1-6b28-4d3d-8254-f25af369bee4",
   "metadata": {},
   "outputs": [],
   "source": [
    "df[\"NYMEX Price\"] = df[\"NYMEX Price\"].astype(str)"
   ]
  },
  {
   "cell_type": "code",
   "execution_count": 307,
   "id": "9e0a57bf-46af-47a3-910c-92db32f80f2c",
   "metadata": {},
   "outputs": [
    {
     "data": {
      "text/plain": [
       "array(['', ' ', '205.0', '0.0', '205.37', '2.2262', '(Empty)',\n",
       "       'FEB RB 1/6', 'REB RB 1/6', 'N/A', '203.55', '235.52', '236.0',\n",
       "       '206.0', '2.3078', '236.63', '234.87', '2.0866', '2.0666',\n",
       "       '2.3663', 'FEB RB 1/7', '201.02', '221.98', '224.47', '226.02',\n",
       "       '203.87', '225.83', '235.07', '201.0', '226.0', '1.9702', '2.0387',\n",
       "       '237.82', '235.8', '227.3', '202.83', '2.78037666666667',\n",
       "       '2.83691', '227.0', '202.5', 'Apr rb 3/3', 'Feb rb 1/10', '210.03',\n",
       "       '213.35', '210.02999999999997', '253.33', '210.46', '252.53',\n",
       "       '254.0', '249.87', '248.0', '252.5', '2.4845', '2.2646', '2.4985',\n",
       "       '218.61', '215.89', '207.49', '2.5549', '246.0', '261.72',\n",
       "       '256.63', '215.25', '212.0', 'NOT APPLICABLE', 'NA'], dtype=object)"
      ]
     },
     "execution_count": 307,
     "metadata": {},
     "output_type": "execute_result"
    }
   ],
   "source": [
    "df[\"NYMEX Price\"].unique()"
   ]
  },
  {
   "cell_type": "code",
   "execution_count": 308,
   "id": "1bd7a880-4df0-47f4-b8ff-c3c7871e16a1",
   "metadata": {},
   "outputs": [],
   "source": [
    "df['NYMEX Price'] = df['NYMEX Price'].map(lambda string: str_to_float(string))"
   ]
  },
  {
   "cell_type": "code",
   "execution_count": 309,
   "id": "d40dad97-2fd9-489b-ae9c-373437c87be0",
   "metadata": {},
   "outputs": [
    {
     "data": {
      "text/plain": [
       "array([         nan, 205.        ,   0.        , 205.37      ,\n",
       "         2.2262    , 203.55      , 235.52      , 236.        ,\n",
       "       206.        ,   2.3078    , 236.63      , 234.87      ,\n",
       "         2.0866    ,   2.0666    ,   2.3663    , 201.02      ,\n",
       "       221.98      , 224.47      , 226.02      , 203.87      ,\n",
       "       225.83      , 235.07      , 201.        , 226.        ,\n",
       "         1.9702    ,   2.0387    , 237.82      , 235.8       ,\n",
       "       227.3       , 202.83      ,   2.78037667,   2.83691   ,\n",
       "       227.        , 202.5       , 210.03      , 213.35      ,\n",
       "       210.03      , 253.33      , 210.46      , 252.53      ,\n",
       "       254.        , 249.87      , 248.        , 252.5       ,\n",
       "         2.4845    ,   2.2646    ,   2.4985    , 218.61      ,\n",
       "       215.89      , 207.49      ,   2.5549    , 246.        ,\n",
       "       261.72      , 256.63      , 215.25      , 212.        ])"
      ]
     },
     "execution_count": 309,
     "metadata": {},
     "output_type": "execute_result"
    }
   ],
   "source": [
    "df[\"NYMEX Price\"].unique()"
   ]
  },
  {
   "cell_type": "code",
   "execution_count": 310,
   "id": "ea021257-85b4-491f-8a6f-9fd8a1d047b1",
   "metadata": {},
   "outputs": [],
   "source": [
    "# NYMEX\n",
    "# If <100 Then *100\n",
    "# 2.53 ------> 253"
   ]
  },
  {
   "cell_type": "code",
   "execution_count": 311,
   "id": "7c50965b-3f76-4534-af1b-3479d0c01276",
   "metadata": {},
   "outputs": [],
   "source": [
    "df['NYMEX Price'] = np.where(df['NYMEX Price']<100, df['NYMEX Price']*100, df['NYMEX Price'])"
   ]
  },
  {
   "cell_type": "code",
   "execution_count": 312,
   "id": "6f76ff67-0574-4205-9bb3-ea3980b9d106",
   "metadata": {
    "scrolled": true
   },
   "outputs": [
    {
     "data": {
      "text/plain": [
       "array([         nan, 205.        ,   0.        , 205.37      ,\n",
       "       222.62      , 203.55      , 235.52      , 236.        ,\n",
       "       206.        , 230.78      , 236.63      , 234.87      ,\n",
       "       208.66      , 206.66      , 201.02      , 221.98      ,\n",
       "       224.47      , 226.02      , 203.87      , 225.83      ,\n",
       "       235.07      , 201.        , 226.        , 197.02      ,\n",
       "       237.82      , 235.8       , 227.3       , 202.83      ,\n",
       "       278.03766667, 283.691     , 227.        , 202.5       ,\n",
       "       210.03      , 213.35      , 210.03      , 253.33      ,\n",
       "       210.46      , 252.53      , 254.        , 249.87      ,\n",
       "       248.        , 252.5       , 248.45      , 226.46      ,\n",
       "       249.85      , 218.61      , 215.89      , 207.49      ,\n",
       "       255.49      , 246.        , 261.72      , 256.63      ,\n",
       "       215.25      , 212.        ])"
      ]
     },
     "execution_count": 312,
     "metadata": {},
     "output_type": "execute_result"
    }
   ],
   "source": [
    "df[\"NYMEX Price\"].unique()"
   ]
  },
  {
   "cell_type": "code",
   "execution_count": 313,
   "id": "6ee363c2-161a-49bc-b1ec-1ac2f3a70bed",
   "metadata": {},
   "outputs": [],
   "source": [
    "df['NYMEX Price'] = np.where(df['NYMEX Price']==0, np.nan, df['NYMEX Price'])"
   ]
  },
  {
   "cell_type": "code",
   "execution_count": 314,
   "id": "d9b884e2-e281-4cfa-a6da-50c983b079fe",
   "metadata": {
    "scrolled": true
   },
   "outputs": [
    {
     "data": {
      "text/plain": [
       "array([         nan, 205.        , 205.37      , 222.62      ,\n",
       "       203.55      , 235.52      , 236.        , 206.        ,\n",
       "       230.78      , 236.63      , 234.87      , 208.66      ,\n",
       "       206.66      , 201.02      , 221.98      , 224.47      ,\n",
       "       226.02      , 203.87      , 225.83      , 235.07      ,\n",
       "       201.        , 226.        , 197.02      , 237.82      ,\n",
       "       235.8       , 227.3       , 202.83      , 278.03766667,\n",
       "       283.691     , 227.        , 202.5       , 210.03      ,\n",
       "       213.35      , 210.03      , 253.33      , 210.46      ,\n",
       "       252.53      , 254.        , 249.87      , 248.        ,\n",
       "       252.5       , 248.45      , 226.46      , 249.85      ,\n",
       "       218.61      , 215.89      , 207.49      , 255.49      ,\n",
       "       246.        , 261.72      , 256.63      , 215.25      ,\n",
       "       212.        ])"
      ]
     },
     "execution_count": 314,
     "metadata": {},
     "output_type": "execute_result"
    }
   ],
   "source": [
    "df[\"NYMEX Price\"].unique()"
   ]
  },
  {
   "cell_type": "code",
   "execution_count": 315,
   "id": "8d243312-c97e-4043-a345-dacab1120990",
   "metadata": {},
   "outputs": [],
   "source": [
    "df[\"NYMEX Price\"] = df[\"NYMEX Price\"].astype(str)"
   ]
  },
  {
   "cell_type": "code",
   "execution_count": 316,
   "id": "277e1b68-34a5-4c71-8c15-5a5e101a02a0",
   "metadata": {},
   "outputs": [],
   "source": [
    "df['NYMEX Price'] = np.where(df['NYMEX Price']=='nan', '', df['NYMEX Price'])"
   ]
  },
  {
   "cell_type": "code",
   "execution_count": 317,
   "id": "23d88ece-5baa-45d3-866e-c00fdcafa5bd",
   "metadata": {
    "scrolled": true
   },
   "outputs": [
    {
     "data": {
      "text/plain": [
       "array(['', '205.0', '205.37', '222.62', '203.55', '235.52', '236.0',\n",
       "       '206.0', '230.77999999999997', '236.63', '234.87',\n",
       "       '208.65999999999997', '206.66000000000003', '201.02', '221.98',\n",
       "       '224.47', '226.02', '203.87', '225.83', '235.07', '201.0', '226.0',\n",
       "       '197.01999999999998', '237.82', '235.8', '227.3', '202.83',\n",
       "       '278.037666666667', '283.69100000000003', '227.0', '202.5',\n",
       "       '210.03', '213.35', '210.02999999999997', '253.33', '210.46',\n",
       "       '252.53', '254.0', '249.87', '248.0', '252.5',\n",
       "       '248.45000000000002', '226.46', '249.85', '218.61', '215.89',\n",
       "       '207.49', '255.49', '246.0', '261.72', '256.63', '215.25', '212.0'],\n",
       "      dtype=object)"
      ]
     },
     "execution_count": 317,
     "metadata": {},
     "output_type": "execute_result"
    }
   ],
   "source": [
    "df[\"NYMEX Price\"].unique()"
   ]
  },
  {
   "cell_type": "markdown",
   "id": "2467885f-1704-4090-a2e7-dc0037b0449b",
   "metadata": {
    "jp-MarkdownHeadingCollapsed": true
   },
   "source": [
    "#### Cash Price (Cents per Gallon)"
   ]
  },
  {
   "cell_type": "code",
   "execution_count": 318,
   "id": "76232130-f44d-48a3-a947-5e900cf0e1b0",
   "metadata": {},
   "outputs": [
    {
     "data": {
      "text/plain": [
       "array(['', ' ', 216.0, 261.767, 213.87, 216.37, 2.2262, 216.87, '219.66',\n",
       "       236.82, 'N/A', 231.28, 207.55, 209.8, 209.55, 241.02, 239.52,\n",
       "       242.02, 240.0, 231.0, 2.3078, 2.5578, 238.63, 236.75, 242.13,\n",
       "       274.64, 239.63, 238.87, 0.0, 210.05, 2.0866, 2.0666, 2.2713, 2.55,\n",
       "       '1/8 FEB HO + .01', 199.02, 237.98, 240.47, 227.87, 233.83, 201.02,\n",
       "       206.0, 205.0, 197.02, 238.45, 234.02, 236.69, 239.07, 235.07,\n",
       "       202.0, 198.0, 201.0, 234.0, 280.0, 281.0, 1.9702, 2.2787, 234.82,\n",
       "       236.32, 242.32, 236.8, 236.3, 278.69, 206.83, 198.33, 218.83,\n",
       "       2.78037666666667, 2.83691, 241.82, '206', '205', 236.0,\n",
       "       '1/2 Feb HO - 11', 'plus fees', '1/2 Feb HO + 0.03',\n",
       "       '1/8 FEB HO - .1150', '1/10 Feb HO +.14', 2.73, 234.41, 241.47,\n",
       "       269.97, 272.99, 311.0, 315.85, 'TBD', 241.35, 239.35, 245.53,\n",
       "       239.56, 314.0, 217.03, 218.03, 235.53, 240.35, 213.02999999999997,\n",
       "       252.33, '313', '316', 316.0, 313.0, 249.87, 253.53, 256.53, 247.45,\n",
       "       248.45, 230.46, 226.46, 222.46, 251.25, 240.45, 251.03, 241.53,\n",
       "       252.5, 253.37, 232.96, 256.03, 250.75, 250.0, 253.87, 261.0,\n",
       "       2.4845, 2.2646, 2.4985, 'FEB rb 1/14', 'Feb RB 1/15',\n",
       "       'March HO 1/14 +.04', 217.79, 210.45, 212.45, 233.79, 256.01,\n",
       "       265.1, 264.6, 231.61, 244.61, 231.89, 237.61, 244.0, 230.0, 265.35,\n",
       "       242.25, 243.76, 247.59, 225.89, 235.61, 243.89, 207.02, 235.35,\n",
       "       212.49, 215.03, 208.96, 214.46, 241.89, 232.89, 238.0, 2.5549,\n",
       "       '238', '244', '230', 265.0, 264.0, 273.0, 243.72, 246.63, 252.63,\n",
       "       242.29, 235.25, 221.0, 314.385, 248.25, 271.75, 227.82,\n",
       "       'NOT APPLICABLE', 'Unknown at time of report', 262.0, 267.0, '300'],\n",
       "      dtype=object)"
      ]
     },
     "execution_count": 318,
     "metadata": {},
     "output_type": "execute_result"
    }
   ],
   "source": [
    "df[\"Cash Price\"].unique()"
   ]
  },
  {
   "cell_type": "code",
   "execution_count": 319,
   "id": "a11a15a9-0e9e-466a-9e75-963cd9994ad8",
   "metadata": {},
   "outputs": [],
   "source": [
    "df[\"Cash Price\"] = df[\"Cash Price\"].map(lambda string: str_to_float(string))"
   ]
  },
  {
   "cell_type": "code",
   "execution_count": 320,
   "id": "806e7b03-939b-4939-bfa0-ed7609bdaa06",
   "metadata": {},
   "outputs": [
    {
     "data": {
      "text/plain": [
       "array([         nan, 216.        , 261.767     , 213.87      ,\n",
       "       216.37      ,   2.2262    , 216.87      , 219.66      ,\n",
       "       236.82      , 231.28      , 207.55      , 209.8       ,\n",
       "       209.55      , 241.02      , 239.52      , 242.02      ,\n",
       "       240.        , 231.        ,   2.3078    ,   2.5578    ,\n",
       "       238.63      , 236.75      , 242.13      , 274.64      ,\n",
       "       239.63      , 238.87      ,   0.        , 210.05      ,\n",
       "         2.0866    ,   2.0666    ,   2.2713    ,   2.55      ,\n",
       "       199.02      , 237.98      , 240.47      , 227.87      ,\n",
       "       233.83      , 201.02      , 206.        , 205.        ,\n",
       "       197.02      , 238.45      , 234.02      , 236.69      ,\n",
       "       239.07      , 235.07      , 202.        , 198.        ,\n",
       "       201.        , 234.        , 280.        , 281.        ,\n",
       "         1.9702    ,   2.2787    , 234.82      , 236.32      ,\n",
       "       242.32      , 236.8       , 236.3       , 278.69      ,\n",
       "       206.83      , 198.33      , 218.83      ,   2.78037667,\n",
       "         2.83691   , 241.82      , 236.        ,   2.73      ,\n",
       "       234.41      , 241.47      , 269.97      , 272.99      ,\n",
       "       311.        , 315.85      , 241.35      , 239.35      ,\n",
       "       245.53      , 239.56      , 314.        , 217.03      ,\n",
       "       218.03      , 235.53      , 240.35      , 213.03      ,\n",
       "       252.33      , 313.        , 316.        , 249.87      ,\n",
       "       253.53      , 256.53      , 247.45      , 248.45      ,\n",
       "       230.46      , 226.46      , 222.46      , 251.25      ,\n",
       "       240.45      , 251.03      , 241.53      , 252.5       ,\n",
       "       253.37      , 232.96      , 256.03      , 250.75      ,\n",
       "       250.        , 253.87      , 261.        ,   2.4845    ,\n",
       "         2.2646    ,   2.4985    , 217.79      , 210.45      ,\n",
       "       212.45      , 233.79      , 256.01      , 265.1       ,\n",
       "       264.6       , 231.61      , 244.61      , 231.89      ,\n",
       "       237.61      , 244.        , 230.        , 265.35      ,\n",
       "       242.25      , 243.76      , 247.59      , 225.89      ,\n",
       "       235.61      , 243.89      , 207.02      , 235.35      ,\n",
       "       212.49      , 215.03      , 208.96      , 214.46      ,\n",
       "       241.89      , 232.89      , 238.        ,   2.5549    ,\n",
       "       265.        , 264.        , 273.        , 243.72      ,\n",
       "       246.63      , 252.63      , 242.29      , 235.25      ,\n",
       "       221.        , 314.385     , 248.25      , 271.75      ,\n",
       "       227.82      , 262.        , 267.        , 300.        ])"
      ]
     },
     "execution_count": 320,
     "metadata": {},
     "output_type": "execute_result"
    }
   ],
   "source": [
    "df[\"Cash Price\"].unique()"
   ]
  },
  {
   "cell_type": "code",
   "execution_count": 321,
   "id": "678dc261-6cb4-464d-9d92-908dffd1d0d1",
   "metadata": {},
   "outputs": [],
   "source": [
    "# if x<100 Then x*100\n",
    "df['Cash Price'] = np.where(df['Cash Price']<100, df['Cash Price']*100 , df['Cash Price'])"
   ]
  },
  {
   "cell_type": "code",
   "execution_count": 322,
   "id": "b7d63dab-6fc5-4c69-8dd4-aa04729b61b2",
   "metadata": {},
   "outputs": [
    {
     "data": {
      "text/plain": [
       "array([         nan, 216.        , 261.767     , 213.87      ,\n",
       "       216.37      , 222.62      , 216.87      , 219.66      ,\n",
       "       236.82      , 231.28      , 207.55      , 209.8       ,\n",
       "       209.55      , 241.02      , 239.52      , 242.02      ,\n",
       "       240.        , 231.        , 230.78      , 255.78      ,\n",
       "       238.63      , 236.75      , 242.13      , 274.64      ,\n",
       "       239.63      , 238.87      ,   0.        , 210.05      ,\n",
       "       208.66      , 206.66      , 227.13      , 255.        ,\n",
       "       199.02      , 237.98      , 240.47      , 227.87      ,\n",
       "       233.83      , 201.02      , 206.        , 205.        ,\n",
       "       197.02      , 238.45      , 234.02      , 236.69      ,\n",
       "       239.07      , 235.07      , 202.        , 198.        ,\n",
       "       201.        , 234.        , 280.        , 281.        ,\n",
       "       197.02      , 234.82      , 236.32      , 242.32      ,\n",
       "       236.8       , 236.3       , 278.69      , 206.83      ,\n",
       "       198.33      , 218.83      , 278.03766667, 283.691     ,\n",
       "       241.82      , 236.        , 273.        , 234.41      ,\n",
       "       241.47      , 269.97      , 272.99      , 311.        ,\n",
       "       315.85      , 241.35      , 239.35      , 245.53      ,\n",
       "       239.56      , 314.        , 217.03      , 218.03      ,\n",
       "       235.53      , 240.35      , 213.03      , 252.33      ,\n",
       "       313.        , 316.        , 249.87      , 253.53      ,\n",
       "       256.53      , 247.45      , 248.45      , 230.46      ,\n",
       "       226.46      , 222.46      , 251.25      , 240.45      ,\n",
       "       251.03      , 241.53      , 252.5       , 253.37      ,\n",
       "       232.96      , 256.03      , 250.75      , 250.        ,\n",
       "       253.87      , 261.        , 248.45      , 249.85      ,\n",
       "       217.79      , 210.45      , 212.45      , 233.79      ,\n",
       "       256.01      , 265.1       , 264.6       , 231.61      ,\n",
       "       244.61      , 231.89      , 237.61      , 244.        ,\n",
       "       230.        , 265.35      , 242.25      , 243.76      ,\n",
       "       247.59      , 225.89      , 235.61      , 243.89      ,\n",
       "       207.02      , 235.35      , 212.49      , 215.03      ,\n",
       "       208.96      , 214.46      , 241.89      , 232.89      ,\n",
       "       238.        , 255.49      , 265.        , 264.        ,\n",
       "       243.72      , 246.63      , 252.63      , 242.29      ,\n",
       "       235.25      , 221.        , 314.385     , 248.25      ,\n",
       "       271.75      , 227.82      , 262.        , 267.        ,\n",
       "       300.        ])"
      ]
     },
     "execution_count": 322,
     "metadata": {},
     "output_type": "execute_result"
    }
   ],
   "source": [
    "df[\"Cash Price\"].unique()"
   ]
  },
  {
   "cell_type": "markdown",
   "id": "a67da6dd-0cad-407c-aea2-6ffcded79632",
   "metadata": {
    "jp-MarkdownHeadingCollapsed": true
   },
   "source": [
    "#### Broker Used Entity\n"
   ]
  },
  {
   "cell_type": "code",
   "execution_count": 323,
   "id": "6c918e6d-765b-400a-bb0a-d0b021deaa07",
   "metadata": {},
   "outputs": [],
   "source": [
    "df[\"Broker Used Entity\"] = df[\"Broker Used Entity\"].astype(str)"
   ]
  },
  {
   "cell_type": "code",
   "execution_count": 324,
   "id": "acefea07-e433-423a-8f42-999fecbdae83",
   "metadata": {
    "scrolled": true
   },
   "outputs": [
    {
     "data": {
      "text/plain": [
       "array(['Ocean Solutions En Us', 'Liquidity Us', 'None',\n",
       "       'SAGE REFINED PRODUCTS, LTD.', 'n/a', '',\n",
       "       'Ocean Solutions Energy LLC', 'IVG', 'OCEAN SOLUTIONS ENERGY LLC',\n",
       "       'SAGE', '(Empty)', 'Ocean Solutions Energy', 'Pacifica Energy',\n",
       "       'Sage Refined Products', 'Ocean Solutions Us', 'Jake Energy Us',\n",
       "       'Sage Refined Products, Ltd.', 'Sage Refined Products Ltd',\n",
       "       'Sage Refined Us', 'Jake Energy, LLC', 'JAKE ENERGY, LLC',\n",
       "       'Ocean Solutions', 'Ocean Solutions, LLC', 'N/A', 'Slo Broker Us',\n",
       "       'Sage Refined Products Ltd - Financial', 'SLO Broker - Financial',\n",
       "       'SLO Broker', 'SLO', 'Jake Energy LLC', 'SLO BROKER',\n",
       "       'SAGE REFINED PRODUCTS, LTD', 'DIRECT', 'OCEAN SOLUTIONS',\n",
       "       'Ocean Solutions Energy LLC - Financial', 'Liquidity Energy LLC',\n",
       "       'Liquidity Energy Us', 'Jake Energy LLC - Financial',\n",
       "       'LIQUIDITY ENERGY', 'NOT APPLICABLE', 'Ocean Solutions LLC',\n",
       "       'Jake Energy'], dtype=object)"
      ]
     },
     "execution_count": 324,
     "metadata": {},
     "output_type": "execute_result"
    }
   ],
   "source": [
    "df[\"Broker Used Entity\"].unique()"
   ]
  },
  {
   "cell_type": "code",
   "execution_count": 325,
   "id": "de3e36fa-7e8f-4935-8524-94f03eff2897",
   "metadata": {},
   "outputs": [],
   "source": [
    "# (Empty) or NA or None: \"\"\n",
    "df[\"Broker Used Entity\"] = df[\"Broker Used Entity\"].map(lambda string: '' if string in ['', '(Empty)', 'n/a', 'None']  else string)"
   ]
  },
  {
   "cell_type": "code",
   "execution_count": 326,
   "id": "8dbbfb95-30da-4090-bfac-3d05aac02414",
   "metadata": {
    "scrolled": true
   },
   "outputs": [
    {
     "data": {
      "text/plain": [
       "array(['Ocean Solutions En Us', 'Liquidity Us', '',\n",
       "       'SAGE REFINED PRODUCTS, LTD.', 'Ocean Solutions Energy LLC', 'IVG',\n",
       "       'OCEAN SOLUTIONS ENERGY LLC', 'SAGE', 'Ocean Solutions Energy',\n",
       "       'Pacifica Energy', 'Sage Refined Products', 'Ocean Solutions Us',\n",
       "       'Jake Energy Us', 'Sage Refined Products, Ltd.',\n",
       "       'Sage Refined Products Ltd', 'Sage Refined Us', 'Jake Energy, LLC',\n",
       "       'JAKE ENERGY, LLC', 'Ocean Solutions', 'Ocean Solutions, LLC',\n",
       "       'N/A', 'Slo Broker Us', 'Sage Refined Products Ltd - Financial',\n",
       "       'SLO Broker - Financial', 'SLO Broker', 'SLO', 'Jake Energy LLC',\n",
       "       'SLO BROKER', 'SAGE REFINED PRODUCTS, LTD', 'DIRECT',\n",
       "       'OCEAN SOLUTIONS', 'Ocean Solutions Energy LLC - Financial',\n",
       "       'Liquidity Energy LLC', 'Liquidity Energy Us',\n",
       "       'Jake Energy LLC - Financial', 'LIQUIDITY ENERGY',\n",
       "       'NOT APPLICABLE', 'Ocean Solutions LLC', 'Jake Energy'],\n",
       "      dtype=object)"
      ]
     },
     "execution_count": 326,
     "metadata": {},
     "output_type": "execute_result"
    }
   ],
   "source": [
    "df[\"Broker Used Entity\"].unique()"
   ]
  },
  {
   "cell_type": "markdown",
   "id": "7a8d0710-4bd5-4594-a210-52ed2565cd52",
   "metadata": {
    "jp-MarkdownHeadingCollapsed": true
   },
   "source": [
    "#### Broker Used Entity Contact Name"
   ]
  },
  {
   "cell_type": "code",
   "execution_count": 327,
   "id": "a689d85d-4b12-45c2-9e37-5374bfb91a54",
   "metadata": {},
   "outputs": [],
   "source": [
    "df[\"Broker Used Entity Contact Name\"] = df[\"Broker Used Entity Contact Name\"].astype(str)"
   ]
  },
  {
   "cell_type": "code",
   "execution_count": 328,
   "id": "b2131946-37b6-42a3-b6d0-7f6fe6df1666",
   "metadata": {},
   "outputs": [
    {
     "data": {
      "text/plain": [
       "array(['Travis Dorsey', 'Anthony Roberts', '', 'n/a', 'unavailable',\n",
       "       '(Empty)', 'N/A', 'Russell Harris', 'Bianca Dumont',\n",
       "       'Jason Aigner', 'Jeff Johnston', 'Russ Harris', 'Jeff Johnson',\n",
       "       'Adam Morley', 'harris', 'morley', 'Marex Spectron',\n",
       "       'Biance Dumont', 'BIANCA DUMONT', 'DORSEY', 'aigner',\n",
       "       'Ocean Solutions Energy', 'DIRECT', 'Jake Energy', 'Dumont',\n",
       "       'ANTHONY ROBERTS', 'NOT APPLICABLE'], dtype=object)"
      ]
     },
     "execution_count": 328,
     "metadata": {},
     "output_type": "execute_result"
    }
   ],
   "source": [
    "df[\"Broker Used Entity Contact Name\"].unique()"
   ]
  },
  {
   "cell_type": "markdown",
   "id": "66693142-33d3-48dc-a970-df9703967420",
   "metadata": {
    "jp-MarkdownHeadingCollapsed": true
   },
   "source": [
    "#### Reported to OPIS"
   ]
  },
  {
   "cell_type": "code",
   "execution_count": 329,
   "id": "f47fed8b-1b4c-4f3b-b572-d1df25c03948",
   "metadata": {},
   "outputs": [],
   "source": [
    "df[\"Reported to OPIS\"] = df[\"Reported to OPIS\"].astype(str)"
   ]
  },
  {
   "cell_type": "code",
   "execution_count": 330,
   "id": "dac135d8-a881-4074-a15f-6130dad6adc8",
   "metadata": {},
   "outputs": [
    {
     "data": {
      "text/plain": [
       "array(['N/A', 'No', 'None', 'Yes', 'No - Not Reported By Shell', 'Broker',\n",
       "       'unavailable', 'Y', 'N', 'unknown', '', 'Not reported by Company',\n",
       "       'No - Not Reported by Shell ', 'No - Not Reported by Shell', 'NO',\n",
       "       ' ', 'y', 'NONE',\n",
       "       'not by NGL; unkown if by broker or counterparty'], dtype=object)"
      ]
     },
     "execution_count": 330,
     "metadata": {},
     "output_type": "execute_result"
    }
   ],
   "source": [
    "df[\"Reported to OPIS\"].unique()"
   ]
  },
  {
   "cell_type": "code",
   "execution_count": null,
   "id": "ebf1356a-7510-4d4c-97b7-7cf1e2705073",
   "metadata": {},
   "outputs": [],
   "source": []
  },
  {
   "cell_type": "markdown",
   "id": "0e399abd-a849-44d5-a4a1-b1268f46e7ca",
   "metadata": {
    "jp-MarkdownHeadingCollapsed": true
   },
   "source": [
    "### Sell to negative"
   ]
  },
  {
   "cell_type": "code",
   "execution_count": 331,
   "id": "706f6ec9-5307-4025-9acc-8c1ed48e3b2d",
   "metadata": {},
   "outputs": [],
   "source": [
    "df['Contract Volume'] = np.where(df['Seller or Buyer']=='Sell', -df['Contract Volume'].abs(), df['Contract Volume'])"
   ]
  },
  {
   "cell_type": "code",
   "execution_count": 332,
   "id": "12f864bc-fcf9-4629-97cb-9e9b8b0a2602",
   "metadata": {},
   "outputs": [],
   "source": [
    "df['Contract Volume'] = np.where(df['Seller or Buyer']=='Buy', df['Contract Volume'].abs(), df['Contract Volume'])"
   ]
  },
  {
   "cell_type": "code",
   "execution_count": 333,
   "id": "a3ccf120-c091-47f6-af67-fcf6cc5a045e",
   "metadata": {},
   "outputs": [
    {
     "data": {
      "text/plain": [
       "array(['Sell', 'Buy', 'In-Tank Transfer'], dtype=object)"
      ]
     },
     "execution_count": 333,
     "metadata": {},
     "output_type": "execute_result"
    }
   ],
   "source": [
    "df['Seller or Buyer'].unique()"
   ]
  },
  {
   "cell_type": "markdown",
   "id": "3f0fb904-c693-481f-b474-b8064ca92b17",
   "metadata": {
    "jp-MarkdownHeadingCollapsed": true
   },
   "source": [
    "### Clean NAs values"
   ]
  },
  {
   "cell_type": "code",
   "execution_count": 334,
   "id": "d77bbed8-6be2-4d39-aa1a-3062d3d0466b",
   "metadata": {},
   "outputs": [],
   "source": [
    "df = df[['timestamps'] + list_order_col]"
   ]
  },
  {
   "cell_type": "code",
   "execution_count": 335,
   "id": "90af02cc-cafd-42a5-a9af-ebc68dc67b99",
   "metadata": {},
   "outputs": [
    {
     "name": "stdout",
     "output_type": "stream",
     "text": [
      "timestamps\n",
      "Report Period\n",
      "Company Name\n",
      "Company ID Number\n",
      "Date Filed\n",
      "Date of Contract\n",
      "Contract ID Number\n",
      "Position Sequence Number\n",
      "CPID\n",
      "Trading Counterparty Entity\n",
      "Trading Counterparty Entity Contact Name\n",
      "Spot Market Trading Location\n",
      "Seller or Buyer\n",
      "Product Type\n",
      "Product Name\n",
      "Contract Volume\n",
      "Contract Delivery Month\n",
      "Delivery Method\n",
      "Marine Vessel Name\n",
      "Marine Vessel IMO Number\n",
      "Delivery Location\n",
      "Pipeline Delivery Sub-cycle\n",
      "Delivery Start Date\n",
      "Delivery End Date\n",
      "Price Basis Method\n",
      "Reference Product\n",
      "Reference Month\n",
      "Price Differential vs. Reference\n",
      "Pricing Event Type\n",
      "Pricing Event Date\n",
      "Pricing Start Date\n",
      "Pricing End Date\n",
      "NYMEX Price\n",
      "Cash Price\n",
      "Broker Used Entity\n",
      "Broker Used Entity Contact Name\n",
      "Reported to OPIS\n",
      "File form\n"
     ]
    }
   ],
   "source": [
    "for col in df.columns:\n",
    "    print(col)\n",
    "    if df[col].dtype==object:\n",
    "        # df[col] = df[col].map(lambda string: None if string in ['NA', 'n/a', '', '(Empty)', 'None', 'nan'] else string)\n",
    "        df[col] = df[col].map(lambda string: clean_string(string))"
   ]
  },
  {
   "cell_type": "code",
   "execution_count": 336,
   "id": "8f29230a-6f3c-47e9-a303-9a9aed2e8a3d",
   "metadata": {},
   "outputs": [
    {
     "data": {
      "text/plain": [
       "array([None, 'No', 'Yes', 'No - Not Reported By Shell', 'Broker',\n",
       "       'unavailable', 'Y', 'N', 'unknown', 'Not reported by Company',\n",
       "       'No - Not Reported by Shell ', 'No - Not Reported by Shell', 'NO',\n",
       "       'y', 'NONE', 'not by NGL; unkown if by broker or counterparty'],\n",
       "      dtype=object)"
      ]
     },
     "execution_count": 336,
     "metadata": {},
     "output_type": "execute_result"
    }
   ],
   "source": [
    "df[\"Reported to OPIS\"].unique()"
   ]
  },
  {
   "cell_type": "code",
   "execution_count": 337,
   "id": "10176639-f968-456f-b041-81bf4dafa3ec",
   "metadata": {
    "scrolled": true
   },
   "outputs": [
    {
     "data": {
      "text/plain": [
       "array(['Travis Dorsey', 'Anthony Roberts', None, 'unavailable',\n",
       "       'Russell Harris', 'Bianca Dumont', 'Jason Aigner', 'Jeff Johnston',\n",
       "       'Russ Harris', 'Jeff Johnson', 'Adam Morley', 'harris', 'morley',\n",
       "       'Marex Spectron', 'Biance Dumont', 'BIANCA DUMONT', 'DORSEY',\n",
       "       'aigner', 'Ocean Solutions Energy', 'DIRECT', 'Jake Energy',\n",
       "       'Dumont', 'ANTHONY ROBERTS'], dtype=object)"
      ]
     },
     "execution_count": 337,
     "metadata": {},
     "output_type": "execute_result"
    }
   ],
   "source": [
    "df[\"Broker Used Entity Contact Name\"].unique()"
   ]
  },
  {
   "cell_type": "markdown",
   "id": "34d772b8-3c87-4870-8e68-0596d07f247c",
   "metadata": {},
   "source": [
    "## 2. Save Files"
   ]
  },
  {
   "cell_type": "markdown",
   "id": "2f790eb8-3b26-42af-a649-94d427795a9b",
   "metadata": {
    "jp-MarkdownHeadingCollapsed": true
   },
   "source": [
    "### Save to csv file"
   ]
  },
  {
   "cell_type": "code",
   "execution_count": 338,
   "id": "c504697e-91e4-4608-bbb6-dbf91660b6e1",
   "metadata": {},
   "outputs": [],
   "source": [
    "filename = \"Trading_Cleaned.csv\"\n",
    "\n",
    "df.to_csv(filename, na_rep='')\n",
    "# df.to_csv(os.path.join(path_CEC_Fernando_D354, filename), na_rep='')\n",
    "\n",
    "df.to_csv(os.path.join(data_path, filename), na_rep='')\n",
    "df.to_csv(os.path.join(path_CEC_Fernando_D354_data, filename), na_rep='')"
   ]
  },
  {
   "cell_type": "markdown",
   "id": "f0cd72b6-fd71-4fdf-94f0-5fff3d6bcfd7",
   "metadata": {
    "jp-MarkdownHeadingCollapsed": true
   },
   "source": [
    "### Save to REPORT"
   ]
  },
  {
   "cell_type": "code",
   "execution_count": 339,
   "id": "67ebdc4e-9b46-4508-b9dd-1eeea69fc510",
   "metadata": {},
   "outputs": [
    {
     "data": {
      "text/plain": [
       "'20250117'"
      ]
     },
     "execution_count": 339,
     "metadata": {},
     "output_type": "execute_result"
    }
   ],
   "source": [
    "yyyymmdd = str(now.year) + \"{:02d}\".format(now.month) + \"{:02d}\".format(now.day)\n",
    "yyyymmdd"
   ]
  },
  {
   "cell_type": "code",
   "execution_count": 340,
   "id": "5b3da6e4-618c-4226-8f97-9ee858b57d40",
   "metadata": {
    "scrolled": true
   },
   "outputs": [
    {
     "data": {
      "text/html": [
       "<div>\n",
       "<style scoped>\n",
       "    .dataframe tbody tr th:only-of-type {\n",
       "        vertical-align: middle;\n",
       "    }\n",
       "\n",
       "    .dataframe tbody tr th {\n",
       "        vertical-align: top;\n",
       "    }\n",
       "\n",
       "    .dataframe thead th {\n",
       "        text-align: right;\n",
       "    }\n",
       "</style>\n",
       "<table border=\"1\" class=\"dataframe\">\n",
       "  <thead>\n",
       "    <tr style=\"text-align: right;\">\n",
       "      <th></th>\n",
       "      <th>N</th>\n",
       "      <th>timestamps</th>\n",
       "      <th>Report Period</th>\n",
       "      <th>Company Name</th>\n",
       "      <th>Company ID Number</th>\n",
       "      <th>Date Filed</th>\n",
       "      <th>Date of Contract</th>\n",
       "      <th>Contract ID Number</th>\n",
       "      <th>Position Sequence Number</th>\n",
       "      <th>CPID</th>\n",
       "      <th>...</th>\n",
       "      <th>Pricing Event Type</th>\n",
       "      <th>Pricing Event Date</th>\n",
       "      <th>Pricing Start Date</th>\n",
       "      <th>Pricing End Date</th>\n",
       "      <th>NYMEX Price</th>\n",
       "      <th>Cash Price</th>\n",
       "      <th>Broker Used Entity</th>\n",
       "      <th>Broker Used Entity Contact Name</th>\n",
       "      <th>Reported to OPIS</th>\n",
       "      <th>File form</th>\n",
       "    </tr>\n",
       "  </thead>\n",
       "  <tbody>\n",
       "    <tr>\n",
       "      <th>0</th>\n",
       "      <td>1</td>\n",
       "      <td>2025-01-06 06:57:22</td>\n",
       "      <td>2025-01-03</td>\n",
       "      <td>bp Products North America Inc.</td>\n",
       "      <td>BPN-0916161800</td>\n",
       "      <td>2025-01-06</td>\n",
       "      <td>2024-12-17 06:00:00</td>\n",
       "      <td>U240060424</td>\n",
       "      <td>2.0</td>\n",
       "      <td>U240060424-2</td>\n",
       "      <td>...</td>\n",
       "      <td>COP 1-1-1 DAYS SPLIT NORMAL</td>\n",
       "      <td>2025-01-18 06:00:00</td>\n",
       "      <td>2025-01-16 06:00:00</td>\n",
       "      <td>2025-01-21 06:00:00</td>\n",
       "      <td></td>\n",
       "      <td></td>\n",
       "      <td>Ocean Solutions En Us</td>\n",
       "      <td>Travis Dorsey</td>\n",
       "      <td>N/A</td>\n",
       "      <td>P:\\ADMIN\\PIIRA\\CEC_PIIRA Student Assistants\\En...</td>\n",
       "    </tr>\n",
       "    <tr>\n",
       "      <th>1</th>\n",
       "      <td>2</td>\n",
       "      <td>2025-01-06 06:57:22</td>\n",
       "      <td>2025-01-03</td>\n",
       "      <td>bp Products North America Inc.</td>\n",
       "      <td>BPN-0916161800</td>\n",
       "      <td>2025-01-06</td>\n",
       "      <td>2025-01-03 06:00:00</td>\n",
       "      <td>U250000527</td>\n",
       "      <td>1.0</td>\n",
       "      <td>U250000527-1</td>\n",
       "      <td>...</td>\n",
       "      <td>COP 1-1-1 DAYS SPLIT NORMAL</td>\n",
       "      <td>2025-02-04 06:00:00</td>\n",
       "      <td>2025-02-03 06:00:00</td>\n",
       "      <td>2025-02-05 06:00:00</td>\n",
       "      <td></td>\n",
       "      <td></td>\n",
       "      <td>Liquidity Us</td>\n",
       "      <td>Anthony Roberts</td>\n",
       "      <td>N/A</td>\n",
       "      <td>P:\\ADMIN\\PIIRA\\CEC_PIIRA Student Assistants\\En...</td>\n",
       "    </tr>\n",
       "    <tr>\n",
       "      <th>2</th>\n",
       "      <td>3</td>\n",
       "      <td>2025-01-06 06:57:22</td>\n",
       "      <td>2025-01-03</td>\n",
       "      <td>bp Products North America Inc.</td>\n",
       "      <td>BPN-0916161800</td>\n",
       "      <td>2025-01-06</td>\n",
       "      <td>2025-01-03 06:00:00</td>\n",
       "      <td>U250000530</td>\n",
       "      <td>1.0</td>\n",
       "      <td>U250000530-1</td>\n",
       "      <td>...</td>\n",
       "      <td>COP 1-1-1 DAYS SPLIT NORMAL</td>\n",
       "      <td>2025-03-07 06:00:00</td>\n",
       "      <td>2025-03-06 06:00:00</td>\n",
       "      <td>2025-03-10 05:00:00</td>\n",
       "      <td></td>\n",
       "      <td></td>\n",
       "      <td>Liquidity Us</td>\n",
       "      <td>Anthony Roberts</td>\n",
       "      <td>N/A</td>\n",
       "      <td>P:\\ADMIN\\PIIRA\\CEC_PIIRA Student Assistants\\En...</td>\n",
       "    </tr>\n",
       "    <tr>\n",
       "      <th>3</th>\n",
       "      <td>4</td>\n",
       "      <td>2025-01-06 07:20:16</td>\n",
       "      <td>1/3 - 1/5/2025</td>\n",
       "      <td>Tartan Oil LLC</td>\n",
       "      <td></td>\n",
       "      <td>2025-01-06</td>\n",
       "      <td>2025-01-03</td>\n",
       "      <td>BPN25TP0008</td>\n",
       "      <td>1.0</td>\n",
       "      <td></td>\n",
       "      <td>...</td>\n",
       "      <td>3-day wrap (around pump date)</td>\n",
       "      <td></td>\n",
       "      <td></td>\n",
       "      <td></td>\n",
       "      <td></td>\n",
       "      <td></td>\n",
       "      <td>None</td>\n",
       "      <td></td>\n",
       "      <td>No</td>\n",
       "      <td>P:\\ADMIN\\PIIRA\\CEC_PIIRA Student Assistants\\En...</td>\n",
       "    </tr>\n",
       "    <tr>\n",
       "      <th>4</th>\n",
       "      <td>5</td>\n",
       "      <td>2025-01-06 07:20:16</td>\n",
       "      <td>1/3 - 1/5/2025</td>\n",
       "      <td>Tartan Oil LLC</td>\n",
       "      <td></td>\n",
       "      <td>2025-01-06</td>\n",
       "      <td>2025-01-03</td>\n",
       "      <td>VAL25PE0003</td>\n",
       "      <td>1.0</td>\n",
       "      <td></td>\n",
       "      <td>...</td>\n",
       "      <td></td>\n",
       "      <td></td>\n",
       "      <td></td>\n",
       "      <td></td>\n",
       "      <td>205.0</td>\n",
       "      <td>216.0</td>\n",
       "      <td>SAGE REFINED PRODUCTS, LTD.</td>\n",
       "      <td></td>\n",
       "      <td>No</td>\n",
       "      <td>P:\\ADMIN\\PIIRA\\CEC_PIIRA Student Assistants\\En...</td>\n",
       "    </tr>\n",
       "    <tr>\n",
       "      <th>...</th>\n",
       "      <td>...</td>\n",
       "      <td>...</td>\n",
       "      <td>...</td>\n",
       "      <td>...</td>\n",
       "      <td>...</td>\n",
       "      <td>...</td>\n",
       "      <td>...</td>\n",
       "      <td>...</td>\n",
       "      <td>...</td>\n",
       "      <td>...</td>\n",
       "      <td>...</td>\n",
       "      <td>...</td>\n",
       "      <td>...</td>\n",
       "      <td>...</td>\n",
       "      <td>...</td>\n",
       "      <td>...</td>\n",
       "      <td>...</td>\n",
       "      <td>...</td>\n",
       "      <td>...</td>\n",
       "      <td>...</td>\n",
       "      <td>...</td>\n",
       "    </tr>\n",
       "    <tr>\n",
       "      <th>658</th>\n",
       "      <td>659</td>\n",
       "      <td>2025-01-17 10:01:10</td>\n",
       "      <td>2025-01-17</td>\n",
       "      <td>Ultramar, Inc. / Valero Refining Co. - California</td>\n",
       "      <td>100100.0</td>\n",
       "      <td>2025-01-16</td>\n",
       "      <td>01/16/2025</td>\n",
       "      <td>8346351-1</td>\n",
       "      <td>unavailable</td>\n",
       "      <td>unavailable</td>\n",
       "      <td>...</td>\n",
       "      <td></td>\n",
       "      <td>unavailable</td>\n",
       "      <td>01/17/2025</td>\n",
       "      <td>01/22/2025</td>\n",
       "      <td></td>\n",
       "      <td></td>\n",
       "      <td>SLO BROKER</td>\n",
       "      <td>unavailable</td>\n",
       "      <td>unavailable</td>\n",
       "      <td>P:\\ADMIN\\PIIRA\\CEC_PIIRA Student Assistants\\En...</td>\n",
       "    </tr>\n",
       "    <tr>\n",
       "      <th>659</th>\n",
       "      <td>660</td>\n",
       "      <td>2025-01-17 10:01:10</td>\n",
       "      <td>2025-01-17</td>\n",
       "      <td>Ultramar, Inc. / Valero Refining Co. - California</td>\n",
       "      <td>100100.0</td>\n",
       "      <td>2025-01-16</td>\n",
       "      <td>01/16/2025</td>\n",
       "      <td>8346473-1</td>\n",
       "      <td>unavailable</td>\n",
       "      <td>unavailable</td>\n",
       "      <td>...</td>\n",
       "      <td></td>\n",
       "      <td>unavailable</td>\n",
       "      <td>01/23/2025</td>\n",
       "      <td>01/27/2025</td>\n",
       "      <td></td>\n",
       "      <td></td>\n",
       "      <td>SLO BROKER</td>\n",
       "      <td>unavailable</td>\n",
       "      <td>unavailable</td>\n",
       "      <td>P:\\ADMIN\\PIIRA\\CEC_PIIRA Student Assistants\\En...</td>\n",
       "    </tr>\n",
       "    <tr>\n",
       "      <th>660</th>\n",
       "      <td>661</td>\n",
       "      <td>2025-01-17 10:01:10</td>\n",
       "      <td>2025-01-17</td>\n",
       "      <td>Ultramar, Inc. / Valero Refining Co. - California</td>\n",
       "      <td>100100.0</td>\n",
       "      <td>2025-01-16</td>\n",
       "      <td>01/16/2025</td>\n",
       "      <td>8346482-1</td>\n",
       "      <td>unavailable</td>\n",
       "      <td>unavailable</td>\n",
       "      <td>...</td>\n",
       "      <td></td>\n",
       "      <td>unavailable</td>\n",
       "      <td></td>\n",
       "      <td></td>\n",
       "      <td></td>\n",
       "      <td>300</td>\n",
       "      <td></td>\n",
       "      <td>unavailable</td>\n",
       "      <td>unavailable</td>\n",
       "      <td>P:\\ADMIN\\PIIRA\\CEC_PIIRA Student Assistants\\En...</td>\n",
       "    </tr>\n",
       "    <tr>\n",
       "      <th>661</th>\n",
       "      <td>662</td>\n",
       "      <td>2025-01-17 10:01:10</td>\n",
       "      <td>2025-01-17</td>\n",
       "      <td>Ultramar, Inc. / Valero Refining Co. - California</td>\n",
       "      <td>100100.0</td>\n",
       "      <td>2025-01-16</td>\n",
       "      <td>01/16/2025</td>\n",
       "      <td>8347606-1</td>\n",
       "      <td>unavailable</td>\n",
       "      <td>unavailable</td>\n",
       "      <td>...</td>\n",
       "      <td></td>\n",
       "      <td>unavailable</td>\n",
       "      <td>01/17/2025</td>\n",
       "      <td>01/22/2025</td>\n",
       "      <td></td>\n",
       "      <td></td>\n",
       "      <td>SLO BROKER</td>\n",
       "      <td>unavailable</td>\n",
       "      <td>unavailable</td>\n",
       "      <td>P:\\ADMIN\\PIIRA\\CEC_PIIRA Student Assistants\\En...</td>\n",
       "    </tr>\n",
       "    <tr>\n",
       "      <th>662</th>\n",
       "      <td>663</td>\n",
       "      <td>2025-01-17 10:01:10</td>\n",
       "      <td>2025-01-17</td>\n",
       "      <td>Ultramar, Inc. / Valero Refining Co. - California</td>\n",
       "      <td>100100.0</td>\n",
       "      <td>2025-01-16</td>\n",
       "      <td>01/16/2025</td>\n",
       "      <td>8347612-1</td>\n",
       "      <td>unavailable</td>\n",
       "      <td>unavailable</td>\n",
       "      <td>...</td>\n",
       "      <td></td>\n",
       "      <td>unavailable</td>\n",
       "      <td></td>\n",
       "      <td></td>\n",
       "      <td></td>\n",
       "      <td></td>\n",
       "      <td>OCEAN SOLUTIONS ENERGY LLC</td>\n",
       "      <td>unavailable</td>\n",
       "      <td>unavailable</td>\n",
       "      <td>P:\\ADMIN\\PIIRA\\CEC_PIIRA Student Assistants\\En...</td>\n",
       "    </tr>\n",
       "  </tbody>\n",
       "</table>\n",
       "<p>663 rows × 39 columns</p>\n",
       "</div>"
      ],
      "text/plain": [
       "       N           timestamps   Report Period  \\\n",
       "0      1  2025-01-06 06:57:22      2025-01-03   \n",
       "1      2  2025-01-06 06:57:22      2025-01-03   \n",
       "2      3  2025-01-06 06:57:22      2025-01-03   \n",
       "3      4  2025-01-06 07:20:16  1/3 - 1/5/2025   \n",
       "4      5  2025-01-06 07:20:16  1/3 - 1/5/2025   \n",
       "..   ...                  ...             ...   \n",
       "658  659  2025-01-17 10:01:10      2025-01-17   \n",
       "659  660  2025-01-17 10:01:10      2025-01-17   \n",
       "660  661  2025-01-17 10:01:10      2025-01-17   \n",
       "661  662  2025-01-17 10:01:10      2025-01-17   \n",
       "662  663  2025-01-17 10:01:10      2025-01-17   \n",
       "\n",
       "                                          Company Name Company ID Number  \\\n",
       "0                       bp Products North America Inc.    BPN-0916161800   \n",
       "1                       bp Products North America Inc.    BPN-0916161800   \n",
       "2                       bp Products North America Inc.    BPN-0916161800   \n",
       "3                                       Tartan Oil LLC                     \n",
       "4                                       Tartan Oil LLC                     \n",
       "..                                                 ...               ...   \n",
       "658  Ultramar, Inc. / Valero Refining Co. - California          100100.0   \n",
       "659  Ultramar, Inc. / Valero Refining Co. - California          100100.0   \n",
       "660  Ultramar, Inc. / Valero Refining Co. - California          100100.0   \n",
       "661  Ultramar, Inc. / Valero Refining Co. - California          100100.0   \n",
       "662  Ultramar, Inc. / Valero Refining Co. - California          100100.0   \n",
       "\n",
       "     Date Filed     Date of Contract Contract ID Number  \\\n",
       "0    2025-01-06  2024-12-17 06:00:00         U240060424   \n",
       "1    2025-01-06  2025-01-03 06:00:00         U250000527   \n",
       "2    2025-01-06  2025-01-03 06:00:00         U250000530   \n",
       "3    2025-01-06           2025-01-03        BPN25TP0008   \n",
       "4    2025-01-06           2025-01-03        VAL25PE0003   \n",
       "..          ...                  ...                ...   \n",
       "658  2025-01-16           01/16/2025          8346351-1   \n",
       "659  2025-01-16           01/16/2025          8346473-1   \n",
       "660  2025-01-16           01/16/2025          8346482-1   \n",
       "661  2025-01-16           01/16/2025          8347606-1   \n",
       "662  2025-01-16           01/16/2025          8347612-1   \n",
       "\n",
       "    Position Sequence Number          CPID  ...  \\\n",
       "0                        2.0  U240060424-2  ...   \n",
       "1                        1.0  U250000527-1  ...   \n",
       "2                        1.0  U250000530-1  ...   \n",
       "3                        1.0                ...   \n",
       "4                        1.0                ...   \n",
       "..                       ...           ...  ...   \n",
       "658              unavailable   unavailable  ...   \n",
       "659              unavailable   unavailable  ...   \n",
       "660              unavailable   unavailable  ...   \n",
       "661              unavailable   unavailable  ...   \n",
       "662              unavailable   unavailable  ...   \n",
       "\n",
       "                Pricing Event Type   Pricing Event Date   Pricing Start Date  \\\n",
       "0      COP 1-1-1 DAYS SPLIT NORMAL  2025-01-18 06:00:00  2025-01-16 06:00:00   \n",
       "1      COP 1-1-1 DAYS SPLIT NORMAL  2025-02-04 06:00:00  2025-02-03 06:00:00   \n",
       "2      COP 1-1-1 DAYS SPLIT NORMAL  2025-03-07 06:00:00  2025-03-06 06:00:00   \n",
       "3    3-day wrap (around pump date)                                             \n",
       "4                                                                              \n",
       "..                             ...                  ...                  ...   \n",
       "658                                         unavailable           01/17/2025   \n",
       "659                                         unavailable           01/23/2025   \n",
       "660                                         unavailable                        \n",
       "661                                         unavailable           01/17/2025   \n",
       "662                                         unavailable                        \n",
       "\n",
       "        Pricing End Date NYMEX Price Cash Price           Broker Used Entity  \\\n",
       "0    2025-01-21 06:00:00                               Ocean Solutions En Us   \n",
       "1    2025-02-05 06:00:00                                        Liquidity Us   \n",
       "2    2025-03-10 05:00:00                                        Liquidity Us   \n",
       "3                                                                       None   \n",
       "4                              205.0      216.0  SAGE REFINED PRODUCTS, LTD.   \n",
       "..                   ...         ...        ...                          ...   \n",
       "658           01/22/2025                                          SLO BROKER   \n",
       "659           01/27/2025                                          SLO BROKER   \n",
       "660                                         300                                \n",
       "661           01/22/2025                                          SLO BROKER   \n",
       "662                                               OCEAN SOLUTIONS ENERGY LLC   \n",
       "\n",
       "    Broker Used Entity Contact Name Reported to OPIS  \\\n",
       "0                     Travis Dorsey              N/A   \n",
       "1                   Anthony Roberts              N/A   \n",
       "2                   Anthony Roberts              N/A   \n",
       "3                                                 No   \n",
       "4                                                 No   \n",
       "..                              ...              ...   \n",
       "658                     unavailable      unavailable   \n",
       "659                     unavailable      unavailable   \n",
       "660                     unavailable      unavailable   \n",
       "661                     unavailable      unavailable   \n",
       "662                     unavailable      unavailable   \n",
       "\n",
       "                                             File form  \n",
       "0    P:\\ADMIN\\PIIRA\\CEC_PIIRA Student Assistants\\En...  \n",
       "1    P:\\ADMIN\\PIIRA\\CEC_PIIRA Student Assistants\\En...  \n",
       "2    P:\\ADMIN\\PIIRA\\CEC_PIIRA Student Assistants\\En...  \n",
       "3    P:\\ADMIN\\PIIRA\\CEC_PIIRA Student Assistants\\En...  \n",
       "4    P:\\ADMIN\\PIIRA\\CEC_PIIRA Student Assistants\\En...  \n",
       "..                                                 ...  \n",
       "658  P:\\ADMIN\\PIIRA\\CEC_PIIRA Student Assistants\\En...  \n",
       "659  P:\\ADMIN\\PIIRA\\CEC_PIIRA Student Assistants\\En...  \n",
       "660  P:\\ADMIN\\PIIRA\\CEC_PIIRA Student Assistants\\En...  \n",
       "661  P:\\ADMIN\\PIIRA\\CEC_PIIRA Student Assistants\\En...  \n",
       "662  P:\\ADMIN\\PIIRA\\CEC_PIIRA Student Assistants\\En...  \n",
       "\n",
       "[663 rows x 39 columns]"
      ]
     },
     "execution_count": 340,
     "metadata": {},
     "output_type": "execute_result"
    }
   ],
   "source": [
    "df_Submitted = df_Submitted.reset_index(drop=True)\n",
    "df_Submitted[\"N\"] = df_Submitted.index\n",
    "first_column = df_Submitted.pop('N') \n",
    "df_Submitted.insert(0, 'N', first_column)\n",
    "df_Submitted['N'] = df_Submitted['N'] + 1\n",
    "df_Submitted"
   ]
  },
  {
   "cell_type": "code",
   "execution_count": 341,
   "id": "93f6f37a-0241-401f-bc66-6f379e7cfd1e",
   "metadata": {},
   "outputs": [],
   "source": [
    "for col in df_Submitted.columns:\n",
    "    df_Submitted[col] = df_Submitted[col].astype(str)"
   ]
  },
  {
   "cell_type": "code",
   "execution_count": 342,
   "id": "5d090f8a-c701-4f08-abbf-598735b1a28c",
   "metadata": {
    "scrolled": true
   },
   "outputs": [
    {
     "data": {
      "text/html": [
       "<div>\n",
       "<style scoped>\n",
       "    .dataframe tbody tr th:only-of-type {\n",
       "        vertical-align: middle;\n",
       "    }\n",
       "\n",
       "    .dataframe tbody tr th {\n",
       "        vertical-align: top;\n",
       "    }\n",
       "\n",
       "    .dataframe thead th {\n",
       "        text-align: right;\n",
       "    }\n",
       "</style>\n",
       "<table border=\"1\" class=\"dataframe\">\n",
       "  <thead>\n",
       "    <tr style=\"text-align: right;\">\n",
       "      <th></th>\n",
       "      <th>N</th>\n",
       "      <th>timestamps</th>\n",
       "      <th>Report Period</th>\n",
       "      <th>Company Name</th>\n",
       "      <th>Company ID Number</th>\n",
       "      <th>Date Filed</th>\n",
       "      <th>Date of Contract</th>\n",
       "      <th>Contract ID Number</th>\n",
       "      <th>Position Sequence Number</th>\n",
       "      <th>CPID</th>\n",
       "      <th>...</th>\n",
       "      <th>Pricing Event Type</th>\n",
       "      <th>Pricing Event Date</th>\n",
       "      <th>Pricing Start Date</th>\n",
       "      <th>Pricing End Date</th>\n",
       "      <th>NYMEX Price</th>\n",
       "      <th>Cash Price</th>\n",
       "      <th>Broker Used Entity</th>\n",
       "      <th>Broker Used Entity Contact Name</th>\n",
       "      <th>Reported to OPIS</th>\n",
       "      <th>File form</th>\n",
       "    </tr>\n",
       "  </thead>\n",
       "  <tbody>\n",
       "    <tr>\n",
       "      <th>0</th>\n",
       "      <td>1</td>\n",
       "      <td>2025-01-06 06:57:22</td>\n",
       "      <td>2025-01-03</td>\n",
       "      <td>BP</td>\n",
       "      <td>BPN-0916161800</td>\n",
       "      <td>2025-01-06</td>\n",
       "      <td>2024-12-17</td>\n",
       "      <td>U240060424</td>\n",
       "      <td>2</td>\n",
       "      <td>U240060424-2</td>\n",
       "      <td>...</td>\n",
       "      <td>COP 1-1-1 DAYS SPLIT NORMAL</td>\n",
       "      <td>2025-01-18</td>\n",
       "      <td>2025-01-16</td>\n",
       "      <td>2025-01-21</td>\n",
       "      <td>None</td>\n",
       "      <td>NaN</td>\n",
       "      <td>Ocean Solutions En Us</td>\n",
       "      <td>Travis Dorsey</td>\n",
       "      <td>None</td>\n",
       "      <td>P:\\ADMIN\\PIIRA\\CEC_PIIRA Student Assistants\\En...</td>\n",
       "    </tr>\n",
       "    <tr>\n",
       "      <th>1</th>\n",
       "      <td>2</td>\n",
       "      <td>2025-01-06 06:57:22</td>\n",
       "      <td>2025-01-03</td>\n",
       "      <td>BP</td>\n",
       "      <td>BPN-0916161800</td>\n",
       "      <td>2025-01-06</td>\n",
       "      <td>2025-01-03</td>\n",
       "      <td>U250000527</td>\n",
       "      <td>1</td>\n",
       "      <td>U250000527-1</td>\n",
       "      <td>...</td>\n",
       "      <td>COP 1-1-1 DAYS SPLIT NORMAL</td>\n",
       "      <td>2025-02-04</td>\n",
       "      <td>2025-02-03</td>\n",
       "      <td>2025-02-05</td>\n",
       "      <td>None</td>\n",
       "      <td>NaN</td>\n",
       "      <td>Liquidity Us</td>\n",
       "      <td>Anthony Roberts</td>\n",
       "      <td>None</td>\n",
       "      <td>P:\\ADMIN\\PIIRA\\CEC_PIIRA Student Assistants\\En...</td>\n",
       "    </tr>\n",
       "    <tr>\n",
       "      <th>2</th>\n",
       "      <td>3</td>\n",
       "      <td>2025-01-06 06:57:22</td>\n",
       "      <td>2025-01-03</td>\n",
       "      <td>BP</td>\n",
       "      <td>BPN-0916161800</td>\n",
       "      <td>2025-01-06</td>\n",
       "      <td>2025-01-03</td>\n",
       "      <td>U250000530</td>\n",
       "      <td>1</td>\n",
       "      <td>U250000530-1</td>\n",
       "      <td>...</td>\n",
       "      <td>COP 1-1-1 DAYS SPLIT NORMAL</td>\n",
       "      <td>2025-03-07</td>\n",
       "      <td>2025-03-06</td>\n",
       "      <td>2025-03-10</td>\n",
       "      <td>None</td>\n",
       "      <td>NaN</td>\n",
       "      <td>Liquidity Us</td>\n",
       "      <td>Anthony Roberts</td>\n",
       "      <td>None</td>\n",
       "      <td>P:\\ADMIN\\PIIRA\\CEC_PIIRA Student Assistants\\En...</td>\n",
       "    </tr>\n",
       "    <tr>\n",
       "      <th>3</th>\n",
       "      <td>4</td>\n",
       "      <td>2025-01-06 07:20:16</td>\n",
       "      <td>2025-01-05</td>\n",
       "      <td>Tartan</td>\n",
       "      <td>None</td>\n",
       "      <td>2025-01-06</td>\n",
       "      <td>2025-01-03</td>\n",
       "      <td>BPN25TP0008</td>\n",
       "      <td>1</td>\n",
       "      <td>None</td>\n",
       "      <td>...</td>\n",
       "      <td>3-day wrap (around pump date)</td>\n",
       "      <td>NaT</td>\n",
       "      <td>NaT</td>\n",
       "      <td>NaT</td>\n",
       "      <td>None</td>\n",
       "      <td>NaN</td>\n",
       "      <td>None</td>\n",
       "      <td>None</td>\n",
       "      <td>No</td>\n",
       "      <td>P:\\ADMIN\\PIIRA\\CEC_PIIRA Student Assistants\\En...</td>\n",
       "    </tr>\n",
       "    <tr>\n",
       "      <th>4</th>\n",
       "      <td>5</td>\n",
       "      <td>2025-01-06 07:20:16</td>\n",
       "      <td>2025-01-05</td>\n",
       "      <td>Tartan</td>\n",
       "      <td>None</td>\n",
       "      <td>2025-01-06</td>\n",
       "      <td>2025-01-03</td>\n",
       "      <td>VAL25PE0003</td>\n",
       "      <td>1</td>\n",
       "      <td>None</td>\n",
       "      <td>...</td>\n",
       "      <td>None</td>\n",
       "      <td>NaT</td>\n",
       "      <td>NaT</td>\n",
       "      <td>NaT</td>\n",
       "      <td>205.0</td>\n",
       "      <td>216.0</td>\n",
       "      <td>SAGE REFINED PRODUCTS, LTD.</td>\n",
       "      <td>None</td>\n",
       "      <td>No</td>\n",
       "      <td>P:\\ADMIN\\PIIRA\\CEC_PIIRA Student Assistants\\En...</td>\n",
       "    </tr>\n",
       "    <tr>\n",
       "      <th>...</th>\n",
       "      <td>...</td>\n",
       "      <td>...</td>\n",
       "      <td>...</td>\n",
       "      <td>...</td>\n",
       "      <td>...</td>\n",
       "      <td>...</td>\n",
       "      <td>...</td>\n",
       "      <td>...</td>\n",
       "      <td>...</td>\n",
       "      <td>...</td>\n",
       "      <td>...</td>\n",
       "      <td>...</td>\n",
       "      <td>...</td>\n",
       "      <td>...</td>\n",
       "      <td>...</td>\n",
       "      <td>...</td>\n",
       "      <td>...</td>\n",
       "      <td>...</td>\n",
       "      <td>...</td>\n",
       "      <td>...</td>\n",
       "      <td>...</td>\n",
       "    </tr>\n",
       "    <tr>\n",
       "      <th>658</th>\n",
       "      <td>659</td>\n",
       "      <td>2025-01-17 10:01:10</td>\n",
       "      <td>2025-01-17</td>\n",
       "      <td>Valero</td>\n",
       "      <td>100100.0</td>\n",
       "      <td>2025-01-16</td>\n",
       "      <td>2025-01-16</td>\n",
       "      <td>8346351-1</td>\n",
       "      <td>No Info.</td>\n",
       "      <td>No Info.</td>\n",
       "      <td>...</td>\n",
       "      <td>None</td>\n",
       "      <td>NaT</td>\n",
       "      <td>2025-01-17</td>\n",
       "      <td>2025-01-22</td>\n",
       "      <td>None</td>\n",
       "      <td>NaN</td>\n",
       "      <td>SLO BROKER</td>\n",
       "      <td>unavailable</td>\n",
       "      <td>unavailable</td>\n",
       "      <td>P:\\ADMIN\\PIIRA\\CEC_PIIRA Student Assistants\\En...</td>\n",
       "    </tr>\n",
       "    <tr>\n",
       "      <th>659</th>\n",
       "      <td>660</td>\n",
       "      <td>2025-01-17 10:01:10</td>\n",
       "      <td>2025-01-17</td>\n",
       "      <td>Valero</td>\n",
       "      <td>100100.0</td>\n",
       "      <td>2025-01-16</td>\n",
       "      <td>2025-01-16</td>\n",
       "      <td>8346473-1</td>\n",
       "      <td>No Info.</td>\n",
       "      <td>No Info.</td>\n",
       "      <td>...</td>\n",
       "      <td>None</td>\n",
       "      <td>NaT</td>\n",
       "      <td>2025-01-23</td>\n",
       "      <td>2025-01-27</td>\n",
       "      <td>None</td>\n",
       "      <td>NaN</td>\n",
       "      <td>SLO BROKER</td>\n",
       "      <td>unavailable</td>\n",
       "      <td>unavailable</td>\n",
       "      <td>P:\\ADMIN\\PIIRA\\CEC_PIIRA Student Assistants\\En...</td>\n",
       "    </tr>\n",
       "    <tr>\n",
       "      <th>660</th>\n",
       "      <td>661</td>\n",
       "      <td>2025-01-17 10:01:10</td>\n",
       "      <td>2025-01-17</td>\n",
       "      <td>Valero</td>\n",
       "      <td>100100.0</td>\n",
       "      <td>2025-01-16</td>\n",
       "      <td>2025-01-16</td>\n",
       "      <td>8346482-1</td>\n",
       "      <td>No Info.</td>\n",
       "      <td>No Info.</td>\n",
       "      <td>...</td>\n",
       "      <td>None</td>\n",
       "      <td>NaT</td>\n",
       "      <td>NaT</td>\n",
       "      <td>NaT</td>\n",
       "      <td>None</td>\n",
       "      <td>300.0</td>\n",
       "      <td>None</td>\n",
       "      <td>unavailable</td>\n",
       "      <td>unavailable</td>\n",
       "      <td>P:\\ADMIN\\PIIRA\\CEC_PIIRA Student Assistants\\En...</td>\n",
       "    </tr>\n",
       "    <tr>\n",
       "      <th>661</th>\n",
       "      <td>662</td>\n",
       "      <td>2025-01-17 10:01:10</td>\n",
       "      <td>2025-01-17</td>\n",
       "      <td>Valero</td>\n",
       "      <td>100100.0</td>\n",
       "      <td>2025-01-16</td>\n",
       "      <td>2025-01-16</td>\n",
       "      <td>8347606-1</td>\n",
       "      <td>No Info.</td>\n",
       "      <td>No Info.</td>\n",
       "      <td>...</td>\n",
       "      <td>None</td>\n",
       "      <td>NaT</td>\n",
       "      <td>2025-01-17</td>\n",
       "      <td>2025-01-22</td>\n",
       "      <td>None</td>\n",
       "      <td>NaN</td>\n",
       "      <td>SLO BROKER</td>\n",
       "      <td>unavailable</td>\n",
       "      <td>unavailable</td>\n",
       "      <td>P:\\ADMIN\\PIIRA\\CEC_PIIRA Student Assistants\\En...</td>\n",
       "    </tr>\n",
       "    <tr>\n",
       "      <th>662</th>\n",
       "      <td>663</td>\n",
       "      <td>2025-01-17 10:01:10</td>\n",
       "      <td>2025-01-17</td>\n",
       "      <td>Valero</td>\n",
       "      <td>100100.0</td>\n",
       "      <td>2025-01-16</td>\n",
       "      <td>2025-01-16</td>\n",
       "      <td>8347612-1</td>\n",
       "      <td>No Info.</td>\n",
       "      <td>No Info.</td>\n",
       "      <td>...</td>\n",
       "      <td>None</td>\n",
       "      <td>NaT</td>\n",
       "      <td>NaT</td>\n",
       "      <td>NaT</td>\n",
       "      <td>None</td>\n",
       "      <td>NaN</td>\n",
       "      <td>OCEAN SOLUTIONS ENERGY LLC</td>\n",
       "      <td>unavailable</td>\n",
       "      <td>unavailable</td>\n",
       "      <td>P:\\ADMIN\\PIIRA\\CEC_PIIRA Student Assistants\\En...</td>\n",
       "    </tr>\n",
       "  </tbody>\n",
       "</table>\n",
       "<p>663 rows × 39 columns</p>\n",
       "</div>"
      ],
      "text/plain": [
       "       N           timestamps Report Period Company Name Company ID Number  \\\n",
       "0      1  2025-01-06 06:57:22    2025-01-03           BP    BPN-0916161800   \n",
       "1      2  2025-01-06 06:57:22    2025-01-03           BP    BPN-0916161800   \n",
       "2      3  2025-01-06 06:57:22    2025-01-03           BP    BPN-0916161800   \n",
       "3      4  2025-01-06 07:20:16    2025-01-05       Tartan              None   \n",
       "4      5  2025-01-06 07:20:16    2025-01-05       Tartan              None   \n",
       "..   ...                  ...           ...          ...               ...   \n",
       "658  659  2025-01-17 10:01:10    2025-01-17       Valero          100100.0   \n",
       "659  660  2025-01-17 10:01:10    2025-01-17       Valero          100100.0   \n",
       "660  661  2025-01-17 10:01:10    2025-01-17       Valero          100100.0   \n",
       "661  662  2025-01-17 10:01:10    2025-01-17       Valero          100100.0   \n",
       "662  663  2025-01-17 10:01:10    2025-01-17       Valero          100100.0   \n",
       "\n",
       "     Date Filed Date of Contract Contract ID Number Position Sequence Number  \\\n",
       "0    2025-01-06       2024-12-17         U240060424                        2   \n",
       "1    2025-01-06       2025-01-03         U250000527                        1   \n",
       "2    2025-01-06       2025-01-03         U250000530                        1   \n",
       "3    2025-01-06       2025-01-03        BPN25TP0008                        1   \n",
       "4    2025-01-06       2025-01-03        VAL25PE0003                        1   \n",
       "..          ...              ...                ...                      ...   \n",
       "658  2025-01-16       2025-01-16          8346351-1                 No Info.   \n",
       "659  2025-01-16       2025-01-16          8346473-1                 No Info.   \n",
       "660  2025-01-16       2025-01-16          8346482-1                 No Info.   \n",
       "661  2025-01-16       2025-01-16          8347606-1                 No Info.   \n",
       "662  2025-01-16       2025-01-16          8347612-1                 No Info.   \n",
       "\n",
       "             CPID  ...             Pricing Event Type Pricing Event Date  \\\n",
       "0    U240060424-2  ...    COP 1-1-1 DAYS SPLIT NORMAL         2025-01-18   \n",
       "1    U250000527-1  ...    COP 1-1-1 DAYS SPLIT NORMAL         2025-02-04   \n",
       "2    U250000530-1  ...    COP 1-1-1 DAYS SPLIT NORMAL         2025-03-07   \n",
       "3            None  ...  3-day wrap (around pump date)                NaT   \n",
       "4            None  ...                           None                NaT   \n",
       "..            ...  ...                            ...                ...   \n",
       "658      No Info.  ...                           None                NaT   \n",
       "659      No Info.  ...                           None                NaT   \n",
       "660      No Info.  ...                           None                NaT   \n",
       "661      No Info.  ...                           None                NaT   \n",
       "662      No Info.  ...                           None                NaT   \n",
       "\n",
       "    Pricing Start Date Pricing End Date NYMEX Price Cash Price  \\\n",
       "0           2025-01-16       2025-01-21        None        NaN   \n",
       "1           2025-02-03       2025-02-05        None        NaN   \n",
       "2           2025-03-06       2025-03-10        None        NaN   \n",
       "3                  NaT              NaT        None        NaN   \n",
       "4                  NaT              NaT       205.0      216.0   \n",
       "..                 ...              ...         ...        ...   \n",
       "658         2025-01-17       2025-01-22        None        NaN   \n",
       "659         2025-01-23       2025-01-27        None        NaN   \n",
       "660                NaT              NaT        None      300.0   \n",
       "661         2025-01-17       2025-01-22        None        NaN   \n",
       "662                NaT              NaT        None        NaN   \n",
       "\n",
       "              Broker Used Entity Broker Used Entity Contact Name  \\\n",
       "0          Ocean Solutions En Us                   Travis Dorsey   \n",
       "1                   Liquidity Us                 Anthony Roberts   \n",
       "2                   Liquidity Us                 Anthony Roberts   \n",
       "3                           None                            None   \n",
       "4    SAGE REFINED PRODUCTS, LTD.                            None   \n",
       "..                           ...                             ...   \n",
       "658                   SLO BROKER                     unavailable   \n",
       "659                   SLO BROKER                     unavailable   \n",
       "660                         None                     unavailable   \n",
       "661                   SLO BROKER                     unavailable   \n",
       "662   OCEAN SOLUTIONS ENERGY LLC                     unavailable   \n",
       "\n",
       "    Reported to OPIS                                          File form  \n",
       "0               None  P:\\ADMIN\\PIIRA\\CEC_PIIRA Student Assistants\\En...  \n",
       "1               None  P:\\ADMIN\\PIIRA\\CEC_PIIRA Student Assistants\\En...  \n",
       "2               None  P:\\ADMIN\\PIIRA\\CEC_PIIRA Student Assistants\\En...  \n",
       "3                 No  P:\\ADMIN\\PIIRA\\CEC_PIIRA Student Assistants\\En...  \n",
       "4                 No  P:\\ADMIN\\PIIRA\\CEC_PIIRA Student Assistants\\En...  \n",
       "..               ...                                                ...  \n",
       "658      unavailable  P:\\ADMIN\\PIIRA\\CEC_PIIRA Student Assistants\\En...  \n",
       "659      unavailable  P:\\ADMIN\\PIIRA\\CEC_PIIRA Student Assistants\\En...  \n",
       "660      unavailable  P:\\ADMIN\\PIIRA\\CEC_PIIRA Student Assistants\\En...  \n",
       "661      unavailable  P:\\ADMIN\\PIIRA\\CEC_PIIRA Student Assistants\\En...  \n",
       "662      unavailable  P:\\ADMIN\\PIIRA\\CEC_PIIRA Student Assistants\\En...  \n",
       "\n",
       "[663 rows x 39 columns]"
      ]
     },
     "execution_count": 342,
     "metadata": {},
     "output_type": "execute_result"
    }
   ],
   "source": [
    "df_cleaned = df.copy()\n",
    "df_cleaned = df_cleaned.reset_index(drop=True)\n",
    "df_cleaned[\"N\"] = df_cleaned.index\n",
    "first_column = df_cleaned.pop('N') \n",
    "df_cleaned.insert(0, 'N', first_column)\n",
    "df_cleaned['N'] = df_cleaned['N'] + 1\n",
    "df_cleaned"
   ]
  },
  {
   "cell_type": "markdown",
   "id": "410c713f-481c-47bf-a67b-cac90d25570c",
   "metadata": {
    "jp-MarkdownHeadingCollapsed": true
   },
   "source": [
    "# Validation"
   ]
  },
  {
   "cell_type": "code",
   "execution_count": 343,
   "id": "45d9bb66-3916-4374-9baa-b2ecdb2e1c21",
   "metadata": {},
   "outputs": [],
   "source": [
    "dict_Trading_validation = {}"
   ]
  },
  {
   "cell_type": "markdown",
   "id": "c1fa9f28-be4e-48c3-bd0a-dd46f8104565",
   "metadata": {
    "jp-MarkdownHeadingCollapsed": true
   },
   "source": [
    "### Marine Vessel Name"
   ]
  },
  {
   "cell_type": "code",
   "execution_count": 344,
   "id": "b2684bb2-052c-4d46-9a90-85f2d4fc844b",
   "metadata": {},
   "outputs": [],
   "source": [
    "list_N = list(df_cleaned[np.logical_and(df_cleaned['Delivery Method']=='Marine Vessel', df_cleaned['Marine Vessel Name'].isnull())]['N'])"
   ]
  },
  {
   "cell_type": "code",
   "execution_count": 345,
   "id": "e85cf19c-86b0-4602-8283-1fa2de853d0d",
   "metadata": {},
   "outputs": [],
   "source": [
    "dict_Trading_validation['Marine Vessel Name'] = list_N"
   ]
  },
  {
   "cell_type": "markdown",
   "id": "94fe0811-7cf1-4d2e-8926-f40e44f457f1",
   "metadata": {
    "jp-MarkdownHeadingCollapsed": true
   },
   "source": [
    "### Marine Vessel IMO Number"
   ]
  },
  {
   "cell_type": "code",
   "execution_count": 346,
   "id": "da958acf-6f9c-488b-a938-e7494ecf24cf",
   "metadata": {},
   "outputs": [],
   "source": [
    "list_N = list(df_cleaned[np.logical_and(df_cleaned['Delivery Method']=='Marine Vessel', df_cleaned['Marine Vessel IMO Number'].isnull())]['N'])"
   ]
  },
  {
   "cell_type": "code",
   "execution_count": 347,
   "id": "cd0acc4b-8c98-4ba7-830a-f895b51269bc",
   "metadata": {},
   "outputs": [],
   "source": [
    "dict_Trading_validation['Marine Vessel IMO Number'] = list_N"
   ]
  },
  {
   "cell_type": "markdown",
   "id": "00626dae-0bd0-4ce5-9f33-5f348eecb438",
   "metadata": {
    "jp-MarkdownHeadingCollapsed": true
   },
   "source": [
    "### Delivery End Date"
   ]
  },
  {
   "cell_type": "code",
   "execution_count": 348,
   "id": "48d47f62-8aef-4f42-a629-02301a93ace7",
   "metadata": {},
   "outputs": [],
   "source": [
    "list_N = list(df_cleaned[np.logical_and(df_cleaned['Pricing Event Type']=='Floating Price', \n",
    "                                        df_cleaned['Delivery End Date'].isnull())]['N'])"
   ]
  },
  {
   "cell_type": "code",
   "execution_count": 349,
   "id": "f36ecb95-f79c-402b-8607-3e28da27249c",
   "metadata": {},
   "outputs": [],
   "source": [
    "dict_Trading_validation['Delivery End Date'] = list_N"
   ]
  },
  {
   "cell_type": "markdown",
   "id": "849b79f6-dd78-4e5c-867f-8e6aaf4ab4b2",
   "metadata": {
    "jp-MarkdownHeadingCollapsed": true
   },
   "source": [
    "### Reference Product"
   ]
  },
  {
   "cell_type": "code",
   "execution_count": 350,
   "id": "f7347382-ae9e-4125-aaff-6d1af082132c",
   "metadata": {},
   "outputs": [],
   "source": [
    "list_N = list(df_cleaned[np.logical_and(df_cleaned['Price Basis Method'].isin(['Floating-Event', 'Fixed', 'Floating-Price']), \n",
    "                                        df_cleaned['Reference Product'].isnull())]['N'])"
   ]
  },
  {
   "cell_type": "code",
   "execution_count": 351,
   "id": "df35a915-9bfd-4e35-9448-459df559e49b",
   "metadata": {},
   "outputs": [],
   "source": [
    "dict_Trading_validation['Reference Product'] = list_N"
   ]
  },
  {
   "cell_type": "markdown",
   "id": "ebd1eb66-bf62-4e1d-816d-5b6e74443f6b",
   "metadata": {
    "jp-MarkdownHeadingCollapsed": true
   },
   "source": [
    "### Reference Month"
   ]
  },
  {
   "cell_type": "code",
   "execution_count": 352,
   "id": "76926e36-3415-4cac-bdc8-85f8082ba98b",
   "metadata": {},
   "outputs": [],
   "source": [
    "list_N = list(df_cleaned[np.logical_and(df_cleaned['Price Basis Method'].isin(['Fixed']), \n",
    "                                        df_cleaned['Reference Month'].isnull())]['N'])"
   ]
  },
  {
   "cell_type": "code",
   "execution_count": 353,
   "id": "30935637-4311-4e2d-8536-3388ca57357d",
   "metadata": {},
   "outputs": [],
   "source": [
    "dict_Trading_validation['Reference Month'] = list_N"
   ]
  },
  {
   "cell_type": "markdown",
   "id": "76f62316-78cf-40ba-8325-887e315903cb",
   "metadata": {
    "jp-MarkdownHeadingCollapsed": true
   },
   "source": [
    "### Pricing Event Type"
   ]
  },
  {
   "cell_type": "code",
   "execution_count": 354,
   "id": "25494145-d776-49aa-93db-90e21962739d",
   "metadata": {},
   "outputs": [],
   "source": [
    "list_N = list(df_cleaned[np.logical_and(df_cleaned['Price Basis Method'].isin(['EFP', 'Fixed']), \n",
    "                                        df_cleaned['Pricing Event Type'].isnull())]['N'])"
   ]
  },
  {
   "cell_type": "code",
   "execution_count": 355,
   "id": "992d1da8-d71d-46dd-8494-b9598ce0d1b4",
   "metadata": {},
   "outputs": [],
   "source": [
    "dict_Trading_validation['Pricing Event Type'] = list_N"
   ]
  },
  {
   "cell_type": "markdown",
   "id": "df3db368-5c0a-48e4-bfbd-98889ee61ed3",
   "metadata": {
    "jp-MarkdownHeadingCollapsed": true
   },
   "source": [
    "### Cash Price"
   ]
  },
  {
   "cell_type": "code",
   "execution_count": 356,
   "id": "6876aab4-89a2-498b-8783-5983995d5bf3",
   "metadata": {},
   "outputs": [],
   "source": [
    "list_N = list(df_cleaned[np.logical_and(df_cleaned['Price Basis Method'].isin(['Floating-Price']), \n",
    "                                        df_cleaned['Cash Price'].isnull())]['N'])"
   ]
  },
  {
   "cell_type": "code",
   "execution_count": 357,
   "id": "dc7cb80b-0a6e-4b1d-9739-df82a84d9272",
   "metadata": {},
   "outputs": [],
   "source": [
    "dict_Trading_validation['Cash Price'] = list_N"
   ]
  },
  {
   "cell_type": "markdown",
   "id": "152976fe-1b75-460b-862c-62d14936e6ca",
   "metadata": {
    "jp-MarkdownHeadingCollapsed": true
   },
   "source": [
    "## Create df_validation"
   ]
  },
  {
   "cell_type": "code",
   "execution_count": 358,
   "id": "fb8ff67d-15e2-40c8-abf7-81fecaca167f",
   "metadata": {},
   "outputs": [],
   "source": [
    "list_var_validations = [ 'Marine Vessel Name', 'Marine Vessel IMO Number', 'Delivery End Date', 'Reference Product',\n",
    "    'Reference Month', 'Pricing Event Type', 'Cash Price']"
   ]
  },
  {
   "cell_type": "code",
   "execution_count": 359,
   "id": "f4382c81-233c-4396-9054-b803aa4b8b37",
   "metadata": {},
   "outputs": [],
   "source": [
    "df_validation = pd.DataFrame()\n",
    "df_validation['N'] = df_cleaned['N'].copy()\n",
    "\n",
    "for var in list_var_validations:\n",
    "    df_validation[var] = None\n",
    "    df_validation[var] = np.where(df_validation['N'].isin(dict_Trading_validation[var]), 'FLAG', df_validation[var])"
   ]
  },
  {
   "cell_type": "markdown",
   "id": "7dae7ac4-cffb-40a2-b180-1cd2337ac720",
   "metadata": {},
   "source": [
    "# Save"
   ]
  },
  {
   "cell_type": "code",
   "execution_count": 360,
   "id": "4a94e7ac-61e2-4d9b-b5cf-007f3cbd7bcc",
   "metadata": {},
   "outputs": [],
   "source": [
    "filename = \"Trading_Validation.csv\"\n",
    "\n",
    "df_validation.to_csv(filename, na_rep='')\n",
    "# df_validation.to_csv(os.path.join(path_CEC_Fernando_D354, filename), na_rep='')\n",
    "\n",
    "df_validation.to_csv(os.path.join(data_path, filename), na_rep='')\n",
    "df_validation.to_csv(os.path.join(path_CEC_Fernando_D354_data, filename), na_rep='')"
   ]
  },
  {
   "cell_type": "code",
   "execution_count": 361,
   "id": "9324f0e2-c4f7-461f-844b-984770f5e427",
   "metadata": {},
   "outputs": [],
   "source": [
    "wb = xw.Book('D354 Clean and Validation Report.xlsx')\n",
    "\n",
    "# Cleaned\n",
    "ws = wb.sheets['Cleaned']\n",
    "ws.clear_contents()\n",
    "ws[\"A1\"].options(pd.DataFrame, header=1, index=False, expand='table').value = df_cleaned\n",
    "\n",
    "# Submitted\n",
    "ws = wb.sheets['Submitted']    \n",
    "ws.clear_contents()\n",
    "ws[\"A1\"].options(pd.DataFrame, header=1, index=False, expand='table').value = df_Submitted\n",
    "\n",
    "# Validation\n",
    "ws = wb.sheets['Validation']\n",
    "ws.clear_contents()\n",
    "ws[\"A1\"].options(pd.DataFrame, header=1, index=False, expand='table').value = df_validation\n",
    "\n",
    "# Files\n",
    "ws = wb.sheets['Files']\n",
    "ws.clear_contents()\n",
    "ws[\"A1\"].options(pd.DataFrame, header=1, index=False, expand='table').value = df_files\n",
    "\n",
    "wb.save()\n",
    "wb.close()"
   ]
  },
  {
   "cell_type": "code",
   "execution_count": 362,
   "id": "f3d093b4-7bb6-4160-ab38-e863ad475e9c",
   "metadata": {},
   "outputs": [
    {
     "data": {
      "text/plain": [
       "'P:\\\\ADMIN\\\\PIIRA\\\\CEC_Fernando\\\\D354\\\\D354 Clean and Validation Report.xlsx'"
      ]
     },
     "execution_count": 362,
     "metadata": {},
     "output_type": "execute_result"
    }
   ],
   "source": [
    "shutil.copy('D354 Clean and Validation Report.xlsx', os.path.join(path_CEC_Fernando_D354, 'D354 Clean and Validation Report.xlsx'))"
   ]
  },
  {
   "cell_type": "code",
   "execution_count": null,
   "id": "7a08261c-01e9-4f3c-be4d-da643de822e3",
   "metadata": {},
   "outputs": [],
   "source": []
  },
  {
   "cell_type": "code",
   "execution_count": 363,
   "id": "33766067-2f2f-4e03-8a4e-5dd9bcef0657",
   "metadata": {},
   "outputs": [
    {
     "name": "stdout",
     "output_type": "stream",
     "text": [
      "report date: 2025-01-17\n",
      "report time: 11:32\n",
      "Total execution time 01:01\n"
     ]
    }
   ],
   "source": [
    "print('report date: '+report_date[:4]+'-'+report_date[4:6]+'-'+report_date[6:9])\n",
    "print('report time: '+str(now.hour).zfill(2)+\":\"+str(now.minute).zfill(2))\n",
    "end_time = time.time()\n",
    "elapsed_time = end_time - start_time\n",
    "print(f\"Total execution time {str(math.trunc(elapsed_time/60)).zfill(2)}:{str(round(elapsed_time-math.trunc(elapsed_time/60)*60)).zfill(2)}\")"
   ]
  },
  {
   "cell_type": "code",
   "execution_count": null,
   "id": "920ca873-2d3b-4e40-823f-a06e88a608b6",
   "metadata": {},
   "outputs": [],
   "source": []
  }
 ],
 "metadata": {
  "kernelspec": {
   "display_name": "Python 3 (ipykernel)",
   "language": "python",
   "name": "python3"
  },
  "language_info": {
   "codemirror_mode": {
    "name": "ipython",
    "version": 3
   },
   "file_extension": ".py",
   "mimetype": "text/x-python",
   "name": "python",
   "nbconvert_exporter": "python",
   "pygments_lexer": "ipython3",
   "version": "3.12.4"
  }
 },
 "nbformat": 4,
 "nbformat_minor": 5
}
